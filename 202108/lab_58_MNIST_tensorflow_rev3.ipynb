{
  "nbformat": 4,
  "nbformat_minor": 0,
  "metadata": {
    "accelerator": "GPU",
    "colab": {
      "name": "lab_58_MNIST_tensorflow_rev3.ipynb",
      "provenance": [],
      "collapsed_sections": [],
      "toc_visible": true
    },
    "kernelspec": {
      "display_name": "Python 3",
      "language": "python",
      "name": "python3"
    },
    "language_info": {
      "codemirror_mode": {
        "name": "ipython",
        "version": 3
      },
      "file_extension": ".py",
      "mimetype": "text/x-python",
      "name": "python",
      "nbconvert_exporter": "python",
      "pygments_lexer": "ipython3",
      "version": "3.8.5"
    },
    "widgets": {
      "application/vnd.jupyter.widget-state+json": {
        "f2ee735fca4f475fb14d27a41b09caf4": {
          "model_module": "@jupyter-widgets/controls",
          "model_name": "HBoxModel",
          "state": {
            "_view_name": "HBoxView",
            "_dom_classes": [],
            "_model_name": "HBoxModel",
            "_view_module": "@jupyter-widgets/controls",
            "_model_module_version": "1.5.0",
            "_view_count": null,
            "_view_module_version": "1.5.0",
            "box_style": "",
            "layout": "IPY_MODEL_2d12182dc63042d88513308680d22987",
            "_model_module": "@jupyter-widgets/controls",
            "children": [
              "IPY_MODEL_318f27b7e6594e26ab3523bcff34656c",
              "IPY_MODEL_35114fd794f94ac089014cc547e8dc1b"
            ]
          }
        },
        "2d12182dc63042d88513308680d22987": {
          "model_module": "@jupyter-widgets/base",
          "model_name": "LayoutModel",
          "state": {
            "_view_name": "LayoutView",
            "grid_template_rows": null,
            "right": null,
            "justify_content": null,
            "_view_module": "@jupyter-widgets/base",
            "overflow": null,
            "_model_module_version": "1.2.0",
            "_view_count": null,
            "flex_flow": null,
            "width": null,
            "min_width": null,
            "border": null,
            "align_items": null,
            "bottom": null,
            "_model_module": "@jupyter-widgets/base",
            "top": null,
            "grid_column": null,
            "overflow_y": null,
            "overflow_x": null,
            "grid_auto_flow": null,
            "grid_area": null,
            "grid_template_columns": null,
            "flex": null,
            "_model_name": "LayoutModel",
            "justify_items": null,
            "grid_row": null,
            "max_height": null,
            "align_content": null,
            "visibility": null,
            "align_self": null,
            "height": null,
            "min_height": null,
            "padding": null,
            "grid_auto_rows": null,
            "grid_gap": null,
            "max_width": null,
            "order": null,
            "_view_module_version": "1.2.0",
            "grid_template_areas": null,
            "object_position": null,
            "object_fit": null,
            "grid_auto_columns": null,
            "margin": null,
            "display": null,
            "left": null
          }
        },
        "318f27b7e6594e26ab3523bcff34656c": {
          "model_module": "@jupyter-widgets/controls",
          "model_name": "FloatProgressModel",
          "state": {
            "_view_name": "ProgressView",
            "style": "IPY_MODEL_54fcacfc75bb4930a4b3158ef2464aef",
            "_dom_classes": [],
            "description": "Dl Completed...: 100%",
            "_model_name": "FloatProgressModel",
            "bar_style": "success",
            "max": 1,
            "_view_module": "@jupyter-widgets/controls",
            "_model_module_version": "1.5.0",
            "value": 1,
            "_view_count": null,
            "_view_module_version": "1.5.0",
            "orientation": "horizontal",
            "min": 0,
            "description_tooltip": null,
            "_model_module": "@jupyter-widgets/controls",
            "layout": "IPY_MODEL_5aab62da755546b78c6ed68c3dcfa223"
          }
        },
        "35114fd794f94ac089014cc547e8dc1b": {
          "model_module": "@jupyter-widgets/controls",
          "model_name": "HTMLModel",
          "state": {
            "_view_name": "HTMLView",
            "style": "IPY_MODEL_80dada5ed5b84f39ac521a42e6888c78",
            "_dom_classes": [],
            "description": "",
            "_model_name": "HTMLModel",
            "placeholder": "​",
            "_view_module": "@jupyter-widgets/controls",
            "_model_module_version": "1.5.0",
            "value": " 2/2 [00:02&lt;00:00,  1.31s/ url]",
            "_view_count": null,
            "_view_module_version": "1.5.0",
            "description_tooltip": null,
            "_model_module": "@jupyter-widgets/controls",
            "layout": "IPY_MODEL_124850aaad0c4f66b78d996554e7ebed"
          }
        },
        "54fcacfc75bb4930a4b3158ef2464aef": {
          "model_module": "@jupyter-widgets/controls",
          "model_name": "ProgressStyleModel",
          "state": {
            "_view_name": "StyleView",
            "_model_name": "ProgressStyleModel",
            "description_width": "initial",
            "_view_module": "@jupyter-widgets/base",
            "_model_module_version": "1.5.0",
            "_view_count": null,
            "_view_module_version": "1.2.0",
            "bar_color": null,
            "_model_module": "@jupyter-widgets/controls"
          }
        },
        "5aab62da755546b78c6ed68c3dcfa223": {
          "model_module": "@jupyter-widgets/base",
          "model_name": "LayoutModel",
          "state": {
            "_view_name": "LayoutView",
            "grid_template_rows": null,
            "right": null,
            "justify_content": null,
            "_view_module": "@jupyter-widgets/base",
            "overflow": null,
            "_model_module_version": "1.2.0",
            "_view_count": null,
            "flex_flow": null,
            "width": null,
            "min_width": null,
            "border": null,
            "align_items": null,
            "bottom": null,
            "_model_module": "@jupyter-widgets/base",
            "top": null,
            "grid_column": null,
            "overflow_y": null,
            "overflow_x": null,
            "grid_auto_flow": null,
            "grid_area": null,
            "grid_template_columns": null,
            "flex": null,
            "_model_name": "LayoutModel",
            "justify_items": null,
            "grid_row": null,
            "max_height": null,
            "align_content": null,
            "visibility": null,
            "align_self": null,
            "height": null,
            "min_height": null,
            "padding": null,
            "grid_auto_rows": null,
            "grid_gap": null,
            "max_width": null,
            "order": null,
            "_view_module_version": "1.2.0",
            "grid_template_areas": null,
            "object_position": null,
            "object_fit": null,
            "grid_auto_columns": null,
            "margin": null,
            "display": null,
            "left": null
          }
        },
        "80dada5ed5b84f39ac521a42e6888c78": {
          "model_module": "@jupyter-widgets/controls",
          "model_name": "DescriptionStyleModel",
          "state": {
            "_view_name": "StyleView",
            "_model_name": "DescriptionStyleModel",
            "description_width": "",
            "_view_module": "@jupyter-widgets/base",
            "_model_module_version": "1.5.0",
            "_view_count": null,
            "_view_module_version": "1.2.0",
            "_model_module": "@jupyter-widgets/controls"
          }
        },
        "124850aaad0c4f66b78d996554e7ebed": {
          "model_module": "@jupyter-widgets/base",
          "model_name": "LayoutModel",
          "state": {
            "_view_name": "LayoutView",
            "grid_template_rows": null,
            "right": null,
            "justify_content": null,
            "_view_module": "@jupyter-widgets/base",
            "overflow": null,
            "_model_module_version": "1.2.0",
            "_view_count": null,
            "flex_flow": null,
            "width": null,
            "min_width": null,
            "border": null,
            "align_items": null,
            "bottom": null,
            "_model_module": "@jupyter-widgets/base",
            "top": null,
            "grid_column": null,
            "overflow_y": null,
            "overflow_x": null,
            "grid_auto_flow": null,
            "grid_area": null,
            "grid_template_columns": null,
            "flex": null,
            "_model_name": "LayoutModel",
            "justify_items": null,
            "grid_row": null,
            "max_height": null,
            "align_content": null,
            "visibility": null,
            "align_self": null,
            "height": null,
            "min_height": null,
            "padding": null,
            "grid_auto_rows": null,
            "grid_gap": null,
            "max_width": null,
            "order": null,
            "_view_module_version": "1.2.0",
            "grid_template_areas": null,
            "object_position": null,
            "object_fit": null,
            "grid_auto_columns": null,
            "margin": null,
            "display": null,
            "left": null
          }
        },
        "6364677b564a40caa192cb15e6ccb4fc": {
          "model_module": "@jupyter-widgets/controls",
          "model_name": "HBoxModel",
          "state": {
            "_view_name": "HBoxView",
            "_dom_classes": [],
            "_model_name": "HBoxModel",
            "_view_module": "@jupyter-widgets/controls",
            "_model_module_version": "1.5.0",
            "_view_count": null,
            "_view_module_version": "1.5.0",
            "box_style": "",
            "layout": "IPY_MODEL_89b0158baa9443c08f2bafa320bf8226",
            "_model_module": "@jupyter-widgets/controls",
            "children": [
              "IPY_MODEL_1aa65c11c5ce41d4bb0f8ddefa13aaf9",
              "IPY_MODEL_047076dc816e4cfa92bbd006c52b405f"
            ]
          }
        },
        "89b0158baa9443c08f2bafa320bf8226": {
          "model_module": "@jupyter-widgets/base",
          "model_name": "LayoutModel",
          "state": {
            "_view_name": "LayoutView",
            "grid_template_rows": null,
            "right": null,
            "justify_content": null,
            "_view_module": "@jupyter-widgets/base",
            "overflow": null,
            "_model_module_version": "1.2.0",
            "_view_count": null,
            "flex_flow": null,
            "width": null,
            "min_width": null,
            "border": null,
            "align_items": null,
            "bottom": null,
            "_model_module": "@jupyter-widgets/base",
            "top": null,
            "grid_column": null,
            "overflow_y": null,
            "overflow_x": null,
            "grid_auto_flow": null,
            "grid_area": null,
            "grid_template_columns": null,
            "flex": null,
            "_model_name": "LayoutModel",
            "justify_items": null,
            "grid_row": null,
            "max_height": null,
            "align_content": null,
            "visibility": null,
            "align_self": null,
            "height": null,
            "min_height": null,
            "padding": null,
            "grid_auto_rows": null,
            "grid_gap": null,
            "max_width": null,
            "order": null,
            "_view_module_version": "1.2.0",
            "grid_template_areas": null,
            "object_position": null,
            "object_fit": null,
            "grid_auto_columns": null,
            "margin": null,
            "display": null,
            "left": null
          }
        },
        "1aa65c11c5ce41d4bb0f8ddefa13aaf9": {
          "model_module": "@jupyter-widgets/controls",
          "model_name": "FloatProgressModel",
          "state": {
            "_view_name": "ProgressView",
            "style": "IPY_MODEL_1476d81ae933417ca7e91635a28578e4",
            "_dom_classes": [],
            "description": "Dl Size...: 100%",
            "_model_name": "FloatProgressModel",
            "bar_style": "success",
            "max": 1,
            "_view_module": "@jupyter-widgets/controls",
            "_model_module_version": "1.5.0",
            "value": 1,
            "_view_count": null,
            "_view_module_version": "1.5.0",
            "orientation": "horizontal",
            "min": 0,
            "description_tooltip": null,
            "_model_module": "@jupyter-widgets/controls",
            "layout": "IPY_MODEL_708098f2f25244d4935653219a808c79"
          }
        },
        "047076dc816e4cfa92bbd006c52b405f": {
          "model_module": "@jupyter-widgets/controls",
          "model_name": "HTMLModel",
          "state": {
            "_view_name": "HTMLView",
            "style": "IPY_MODEL_a6a3448792ed4214a3143dc111e3b031",
            "_dom_classes": [],
            "description": "",
            "_model_name": "HTMLModel",
            "placeholder": "​",
            "_view_module": "@jupyter-widgets/controls",
            "_model_module_version": "1.5.0",
            "value": " 152/152 [00:02&lt;00:00, 58.69 MiB/s]",
            "_view_count": null,
            "_view_module_version": "1.5.0",
            "description_tooltip": null,
            "_model_module": "@jupyter-widgets/controls",
            "layout": "IPY_MODEL_b4337552129e4dfca1b4878b41c59947"
          }
        },
        "1476d81ae933417ca7e91635a28578e4": {
          "model_module": "@jupyter-widgets/controls",
          "model_name": "ProgressStyleModel",
          "state": {
            "_view_name": "StyleView",
            "_model_name": "ProgressStyleModel",
            "description_width": "initial",
            "_view_module": "@jupyter-widgets/base",
            "_model_module_version": "1.5.0",
            "_view_count": null,
            "_view_module_version": "1.2.0",
            "bar_color": null,
            "_model_module": "@jupyter-widgets/controls"
          }
        },
        "708098f2f25244d4935653219a808c79": {
          "model_module": "@jupyter-widgets/base",
          "model_name": "LayoutModel",
          "state": {
            "_view_name": "LayoutView",
            "grid_template_rows": null,
            "right": null,
            "justify_content": null,
            "_view_module": "@jupyter-widgets/base",
            "overflow": null,
            "_model_module_version": "1.2.0",
            "_view_count": null,
            "flex_flow": null,
            "width": null,
            "min_width": null,
            "border": null,
            "align_items": null,
            "bottom": null,
            "_model_module": "@jupyter-widgets/base",
            "top": null,
            "grid_column": null,
            "overflow_y": null,
            "overflow_x": null,
            "grid_auto_flow": null,
            "grid_area": null,
            "grid_template_columns": null,
            "flex": null,
            "_model_name": "LayoutModel",
            "justify_items": null,
            "grid_row": null,
            "max_height": null,
            "align_content": null,
            "visibility": null,
            "align_self": null,
            "height": null,
            "min_height": null,
            "padding": null,
            "grid_auto_rows": null,
            "grid_gap": null,
            "max_width": null,
            "order": null,
            "_view_module_version": "1.2.0",
            "grid_template_areas": null,
            "object_position": null,
            "object_fit": null,
            "grid_auto_columns": null,
            "margin": null,
            "display": null,
            "left": null
          }
        },
        "a6a3448792ed4214a3143dc111e3b031": {
          "model_module": "@jupyter-widgets/controls",
          "model_name": "DescriptionStyleModel",
          "state": {
            "_view_name": "StyleView",
            "_model_name": "DescriptionStyleModel",
            "description_width": "",
            "_view_module": "@jupyter-widgets/base",
            "_model_module_version": "1.5.0",
            "_view_count": null,
            "_view_module_version": "1.2.0",
            "_model_module": "@jupyter-widgets/controls"
          }
        },
        "b4337552129e4dfca1b4878b41c59947": {
          "model_module": "@jupyter-widgets/base",
          "model_name": "LayoutModel",
          "state": {
            "_view_name": "LayoutView",
            "grid_template_rows": null,
            "right": null,
            "justify_content": null,
            "_view_module": "@jupyter-widgets/base",
            "overflow": null,
            "_model_module_version": "1.2.0",
            "_view_count": null,
            "flex_flow": null,
            "width": null,
            "min_width": null,
            "border": null,
            "align_items": null,
            "bottom": null,
            "_model_module": "@jupyter-widgets/base",
            "top": null,
            "grid_column": null,
            "overflow_y": null,
            "overflow_x": null,
            "grid_auto_flow": null,
            "grid_area": null,
            "grid_template_columns": null,
            "flex": null,
            "_model_name": "LayoutModel",
            "justify_items": null,
            "grid_row": null,
            "max_height": null,
            "align_content": null,
            "visibility": null,
            "align_self": null,
            "height": null,
            "min_height": null,
            "padding": null,
            "grid_auto_rows": null,
            "grid_gap": null,
            "max_width": null,
            "order": null,
            "_view_module_version": "1.2.0",
            "grid_template_areas": null,
            "object_position": null,
            "object_fit": null,
            "grid_auto_columns": null,
            "margin": null,
            "display": null,
            "left": null
          }
        },
        "b136760196b1475483adcfcefcc90a11": {
          "model_module": "@jupyter-widgets/controls",
          "model_name": "HBoxModel",
          "state": {
            "_view_name": "HBoxView",
            "_dom_classes": [],
            "_model_name": "HBoxModel",
            "_view_module": "@jupyter-widgets/controls",
            "_model_module_version": "1.5.0",
            "_view_count": null,
            "_view_module_version": "1.5.0",
            "box_style": "",
            "layout": "IPY_MODEL_c1c88011071840e8a1274a3251da63b0",
            "_model_module": "@jupyter-widgets/controls",
            "children": [
              "IPY_MODEL_89ca01d9c820435d8e1d1442ac47632d",
              "IPY_MODEL_12ca967e78994d10b8cab3c32b3dfa03"
            ]
          }
        },
        "c1c88011071840e8a1274a3251da63b0": {
          "model_module": "@jupyter-widgets/base",
          "model_name": "LayoutModel",
          "state": {
            "_view_name": "LayoutView",
            "grid_template_rows": null,
            "right": null,
            "justify_content": null,
            "_view_module": "@jupyter-widgets/base",
            "overflow": null,
            "_model_module_version": "1.2.0",
            "_view_count": null,
            "flex_flow": null,
            "width": null,
            "min_width": null,
            "border": null,
            "align_items": null,
            "bottom": null,
            "_model_module": "@jupyter-widgets/base",
            "top": null,
            "grid_column": null,
            "overflow_y": null,
            "overflow_x": null,
            "grid_auto_flow": null,
            "grid_area": null,
            "grid_template_columns": null,
            "flex": null,
            "_model_name": "LayoutModel",
            "justify_items": null,
            "grid_row": null,
            "max_height": null,
            "align_content": null,
            "visibility": null,
            "align_self": null,
            "height": null,
            "min_height": null,
            "padding": null,
            "grid_auto_rows": null,
            "grid_gap": null,
            "max_width": null,
            "order": null,
            "_view_module_version": "1.2.0",
            "grid_template_areas": null,
            "object_position": null,
            "object_fit": null,
            "grid_auto_columns": null,
            "margin": null,
            "display": null,
            "left": null
          }
        },
        "89ca01d9c820435d8e1d1442ac47632d": {
          "model_module": "@jupyter-widgets/controls",
          "model_name": "FloatProgressModel",
          "state": {
            "_view_name": "ProgressView",
            "style": "IPY_MODEL_5ceeb73edf11466bbffd03689592e9e2",
            "_dom_classes": [],
            "description": "",
            "_model_name": "FloatProgressModel",
            "bar_style": "info",
            "max": 1,
            "_view_module": "@jupyter-widgets/controls",
            "_model_module_version": "1.5.0",
            "value": 1,
            "_view_count": null,
            "_view_module_version": "1.5.0",
            "orientation": "horizontal",
            "min": 0,
            "description_tooltip": null,
            "_model_module": "@jupyter-widgets/controls",
            "layout": "IPY_MODEL_9312754d1229436da998ab799b8309d8"
          }
        },
        "12ca967e78994d10b8cab3c32b3dfa03": {
          "model_module": "@jupyter-widgets/controls",
          "model_name": "HTMLModel",
          "state": {
            "_view_name": "HTMLView",
            "style": "IPY_MODEL_ecddc66544be4bf6bd424bd06e2aa961",
            "_dom_classes": [],
            "description": "",
            "_model_name": "HTMLModel",
            "placeholder": "​",
            "_view_module": "@jupyter-widgets/controls",
            "_model_module_version": "1.5.0",
            "value": " 1027/0 [00:00&lt;00:00, 1353.11 examples/s]",
            "_view_count": null,
            "_view_module_version": "1.5.0",
            "description_tooltip": null,
            "_model_module": "@jupyter-widgets/controls",
            "layout": "IPY_MODEL_9db432ea115a40b59007bf04efc10d19"
          }
        },
        "5ceeb73edf11466bbffd03689592e9e2": {
          "model_module": "@jupyter-widgets/controls",
          "model_name": "ProgressStyleModel",
          "state": {
            "_view_name": "StyleView",
            "_model_name": "ProgressStyleModel",
            "description_width": "initial",
            "_view_module": "@jupyter-widgets/base",
            "_model_module_version": "1.5.0",
            "_view_count": null,
            "_view_module_version": "1.2.0",
            "bar_color": null,
            "_model_module": "@jupyter-widgets/controls"
          }
        },
        "9312754d1229436da998ab799b8309d8": {
          "model_module": "@jupyter-widgets/base",
          "model_name": "LayoutModel",
          "state": {
            "_view_name": "LayoutView",
            "grid_template_rows": null,
            "right": null,
            "justify_content": null,
            "_view_module": "@jupyter-widgets/base",
            "overflow": null,
            "_model_module_version": "1.2.0",
            "_view_count": null,
            "flex_flow": null,
            "width": null,
            "min_width": null,
            "border": null,
            "align_items": null,
            "bottom": null,
            "_model_module": "@jupyter-widgets/base",
            "top": null,
            "grid_column": null,
            "overflow_y": null,
            "overflow_x": null,
            "grid_auto_flow": null,
            "grid_area": null,
            "grid_template_columns": null,
            "flex": null,
            "_model_name": "LayoutModel",
            "justify_items": null,
            "grid_row": null,
            "max_height": null,
            "align_content": null,
            "visibility": null,
            "align_self": null,
            "height": null,
            "min_height": null,
            "padding": null,
            "grid_auto_rows": null,
            "grid_gap": null,
            "max_width": null,
            "order": null,
            "_view_module_version": "1.2.0",
            "grid_template_areas": null,
            "object_position": null,
            "object_fit": null,
            "grid_auto_columns": null,
            "margin": null,
            "display": null,
            "left": null
          }
        },
        "ecddc66544be4bf6bd424bd06e2aa961": {
          "model_module": "@jupyter-widgets/controls",
          "model_name": "DescriptionStyleModel",
          "state": {
            "_view_name": "StyleView",
            "_model_name": "DescriptionStyleModel",
            "description_width": "",
            "_view_module": "@jupyter-widgets/base",
            "_model_module_version": "1.5.0",
            "_view_count": null,
            "_view_module_version": "1.2.0",
            "_model_module": "@jupyter-widgets/controls"
          }
        },
        "9db432ea115a40b59007bf04efc10d19": {
          "model_module": "@jupyter-widgets/base",
          "model_name": "LayoutModel",
          "state": {
            "_view_name": "LayoutView",
            "grid_template_rows": null,
            "right": null,
            "justify_content": null,
            "_view_module": "@jupyter-widgets/base",
            "overflow": null,
            "_model_module_version": "1.2.0",
            "_view_count": null,
            "flex_flow": null,
            "width": null,
            "min_width": null,
            "border": null,
            "align_items": null,
            "bottom": null,
            "_model_module": "@jupyter-widgets/base",
            "top": null,
            "grid_column": null,
            "overflow_y": null,
            "overflow_x": null,
            "grid_auto_flow": null,
            "grid_area": null,
            "grid_template_columns": null,
            "flex": null,
            "_model_name": "LayoutModel",
            "justify_items": null,
            "grid_row": null,
            "max_height": null,
            "align_content": null,
            "visibility": null,
            "align_self": null,
            "height": null,
            "min_height": null,
            "padding": null,
            "grid_auto_rows": null,
            "grid_gap": null,
            "max_width": null,
            "order": null,
            "_view_module_version": "1.2.0",
            "grid_template_areas": null,
            "object_position": null,
            "object_fit": null,
            "grid_auto_columns": null,
            "margin": null,
            "display": null,
            "left": null
          }
        },
        "92c19f8a53084db7a0f5c1352960dccf": {
          "model_module": "@jupyter-widgets/controls",
          "model_name": "HBoxModel",
          "state": {
            "_view_name": "HBoxView",
            "_dom_classes": [],
            "_model_name": "HBoxModel",
            "_view_module": "@jupyter-widgets/controls",
            "_model_module_version": "1.5.0",
            "_view_count": null,
            "_view_module_version": "1.5.0",
            "box_style": "",
            "layout": "IPY_MODEL_d804b043ba0b44d5bd530a45582b01be",
            "_model_module": "@jupyter-widgets/controls",
            "children": [
              "IPY_MODEL_d3ee8d25185c4cf2b74c474975e39b18",
              "IPY_MODEL_d01ace54ad344cf899aecdd1fd0a0817"
            ]
          }
        },
        "d804b043ba0b44d5bd530a45582b01be": {
          "model_module": "@jupyter-widgets/base",
          "model_name": "LayoutModel",
          "state": {
            "_view_name": "LayoutView",
            "grid_template_rows": null,
            "right": null,
            "justify_content": null,
            "_view_module": "@jupyter-widgets/base",
            "overflow": null,
            "_model_module_version": "1.2.0",
            "_view_count": null,
            "flex_flow": null,
            "width": null,
            "min_width": null,
            "border": null,
            "align_items": null,
            "bottom": null,
            "_model_module": "@jupyter-widgets/base",
            "top": null,
            "grid_column": null,
            "overflow_y": null,
            "overflow_x": null,
            "grid_auto_flow": null,
            "grid_area": null,
            "grid_template_columns": null,
            "flex": null,
            "_model_name": "LayoutModel",
            "justify_items": null,
            "grid_row": null,
            "max_height": null,
            "align_content": null,
            "visibility": null,
            "align_self": null,
            "height": null,
            "min_height": null,
            "padding": null,
            "grid_auto_rows": null,
            "grid_gap": null,
            "max_width": null,
            "order": null,
            "_view_module_version": "1.2.0",
            "grid_template_areas": null,
            "object_position": null,
            "object_fit": null,
            "grid_auto_columns": null,
            "margin": null,
            "display": null,
            "left": null
          }
        },
        "d3ee8d25185c4cf2b74c474975e39b18": {
          "model_module": "@jupyter-widgets/controls",
          "model_name": "FloatProgressModel",
          "state": {
            "_view_name": "ProgressView",
            "style": "IPY_MODEL_def41649b7ab4b21a07c78ee59413715",
            "_dom_classes": [],
            "description": " 89%",
            "_model_name": "FloatProgressModel",
            "bar_style": "danger",
            "max": 1027,
            "_view_module": "@jupyter-widgets/controls",
            "_model_module_version": "1.5.0",
            "value": 910,
            "_view_count": null,
            "_view_module_version": "1.5.0",
            "orientation": "horizontal",
            "min": 0,
            "description_tooltip": null,
            "_model_module": "@jupyter-widgets/controls",
            "layout": "IPY_MODEL_9578a7945e194d578ab8149f930a8acb"
          }
        },
        "d01ace54ad344cf899aecdd1fd0a0817": {
          "model_module": "@jupyter-widgets/controls",
          "model_name": "HTMLModel",
          "state": {
            "_view_name": "HTMLView",
            "style": "IPY_MODEL_371e4c249a974238a7019f3937dbedea",
            "_dom_classes": [],
            "description": "",
            "_model_name": "HTMLModel",
            "placeholder": "​",
            "_view_module": "@jupyter-widgets/controls",
            "_model_module_version": "1.5.0",
            "value": " 910/1027 [00:07&lt;00:00, 3274.79 examples/s]",
            "_view_count": null,
            "_view_module_version": "1.5.0",
            "description_tooltip": null,
            "_model_module": "@jupyter-widgets/controls",
            "layout": "IPY_MODEL_10d7d12aaa5844ffae36d59d1b55177f"
          }
        },
        "def41649b7ab4b21a07c78ee59413715": {
          "model_module": "@jupyter-widgets/controls",
          "model_name": "ProgressStyleModel",
          "state": {
            "_view_name": "StyleView",
            "_model_name": "ProgressStyleModel",
            "description_width": "initial",
            "_view_module": "@jupyter-widgets/base",
            "_model_module_version": "1.5.0",
            "_view_count": null,
            "_view_module_version": "1.2.0",
            "bar_color": null,
            "_model_module": "@jupyter-widgets/controls"
          }
        },
        "9578a7945e194d578ab8149f930a8acb": {
          "model_module": "@jupyter-widgets/base",
          "model_name": "LayoutModel",
          "state": {
            "_view_name": "LayoutView",
            "grid_template_rows": null,
            "right": null,
            "justify_content": null,
            "_view_module": "@jupyter-widgets/base",
            "overflow": null,
            "_model_module_version": "1.2.0",
            "_view_count": null,
            "flex_flow": null,
            "width": null,
            "min_width": null,
            "border": null,
            "align_items": null,
            "bottom": null,
            "_model_module": "@jupyter-widgets/base",
            "top": null,
            "grid_column": null,
            "overflow_y": null,
            "overflow_x": null,
            "grid_auto_flow": null,
            "grid_area": null,
            "grid_template_columns": null,
            "flex": null,
            "_model_name": "LayoutModel",
            "justify_items": null,
            "grid_row": null,
            "max_height": null,
            "align_content": null,
            "visibility": null,
            "align_self": null,
            "height": null,
            "min_height": null,
            "padding": null,
            "grid_auto_rows": null,
            "grid_gap": null,
            "max_width": null,
            "order": null,
            "_view_module_version": "1.2.0",
            "grid_template_areas": null,
            "object_position": null,
            "object_fit": null,
            "grid_auto_columns": null,
            "margin": null,
            "display": null,
            "left": null
          }
        },
        "371e4c249a974238a7019f3937dbedea": {
          "model_module": "@jupyter-widgets/controls",
          "model_name": "DescriptionStyleModel",
          "state": {
            "_view_name": "StyleView",
            "_model_name": "DescriptionStyleModel",
            "description_width": "",
            "_view_module": "@jupyter-widgets/base",
            "_model_module_version": "1.5.0",
            "_view_count": null,
            "_view_module_version": "1.2.0",
            "_model_module": "@jupyter-widgets/controls"
          }
        },
        "10d7d12aaa5844ffae36d59d1b55177f": {
          "model_module": "@jupyter-widgets/base",
          "model_name": "LayoutModel",
          "state": {
            "_view_name": "LayoutView",
            "grid_template_rows": null,
            "right": null,
            "justify_content": null,
            "_view_module": "@jupyter-widgets/base",
            "overflow": null,
            "_model_module_version": "1.2.0",
            "_view_count": null,
            "flex_flow": null,
            "width": null,
            "min_width": null,
            "border": null,
            "align_items": null,
            "bottom": null,
            "_model_module": "@jupyter-widgets/base",
            "top": null,
            "grid_column": null,
            "overflow_y": null,
            "overflow_x": null,
            "grid_auto_flow": null,
            "grid_area": null,
            "grid_template_columns": null,
            "flex": null,
            "_model_name": "LayoutModel",
            "justify_items": null,
            "grid_row": null,
            "max_height": null,
            "align_content": null,
            "visibility": null,
            "align_self": null,
            "height": null,
            "min_height": null,
            "padding": null,
            "grid_auto_rows": null,
            "grid_gap": null,
            "max_width": null,
            "order": null,
            "_view_module_version": "1.2.0",
            "grid_template_areas": null,
            "object_position": null,
            "object_fit": null,
            "grid_auto_columns": null,
            "margin": null,
            "display": null,
            "left": null
          }
        },
        "ed04956a0efa47369d12522bbd33210f": {
          "model_module": "@jupyter-widgets/controls",
          "model_name": "HBoxModel",
          "state": {
            "_view_name": "HBoxView",
            "_dom_classes": [],
            "_model_name": "HBoxModel",
            "_view_module": "@jupyter-widgets/controls",
            "_model_module_version": "1.5.0",
            "_view_count": null,
            "_view_module_version": "1.5.0",
            "box_style": "",
            "layout": "IPY_MODEL_3dcb32ff30c04b51acab9187fb2c7dc9",
            "_model_module": "@jupyter-widgets/controls",
            "children": [
              "IPY_MODEL_4eaf9b36e725473598378409e01b5f06",
              "IPY_MODEL_7ef6f651dec54120981ff8d02a3fb2e5"
            ]
          }
        },
        "3dcb32ff30c04b51acab9187fb2c7dc9": {
          "model_module": "@jupyter-widgets/base",
          "model_name": "LayoutModel",
          "state": {
            "_view_name": "LayoutView",
            "grid_template_rows": null,
            "right": null,
            "justify_content": null,
            "_view_module": "@jupyter-widgets/base",
            "overflow": null,
            "_model_module_version": "1.2.0",
            "_view_count": null,
            "flex_flow": null,
            "width": null,
            "min_width": null,
            "border": null,
            "align_items": null,
            "bottom": null,
            "_model_module": "@jupyter-widgets/base",
            "top": null,
            "grid_column": null,
            "overflow_y": null,
            "overflow_x": null,
            "grid_auto_flow": null,
            "grid_area": null,
            "grid_template_columns": null,
            "flex": null,
            "_model_name": "LayoutModel",
            "justify_items": null,
            "grid_row": null,
            "max_height": null,
            "align_content": null,
            "visibility": null,
            "align_self": null,
            "height": null,
            "min_height": null,
            "padding": null,
            "grid_auto_rows": null,
            "grid_gap": null,
            "max_width": null,
            "order": null,
            "_view_module_version": "1.2.0",
            "grid_template_areas": null,
            "object_position": null,
            "object_fit": null,
            "grid_auto_columns": null,
            "margin": null,
            "display": null,
            "left": null
          }
        },
        "4eaf9b36e725473598378409e01b5f06": {
          "model_module": "@jupyter-widgets/controls",
          "model_name": "FloatProgressModel",
          "state": {
            "_view_name": "ProgressView",
            "style": "IPY_MODEL_7dbb3ab142544b5ea01bd756b23ff6af",
            "_dom_classes": [],
            "description": "",
            "_model_name": "FloatProgressModel",
            "bar_style": "info",
            "max": 1,
            "_view_module": "@jupyter-widgets/controls",
            "_model_module_version": "1.5.0",
            "value": 1,
            "_view_count": null,
            "_view_module_version": "1.5.0",
            "orientation": "horizontal",
            "min": 0,
            "description_tooltip": null,
            "_model_module": "@jupyter-widgets/controls",
            "layout": "IPY_MODEL_b6457bd8ac6a4acea16ccf73398888d5"
          }
        },
        "7ef6f651dec54120981ff8d02a3fb2e5": {
          "model_module": "@jupyter-widgets/controls",
          "model_name": "HTMLModel",
          "state": {
            "_view_name": "HTMLView",
            "style": "IPY_MODEL_aabc1ca88e424284ba00ec530c81f7f0",
            "_dom_classes": [],
            "description": "",
            "_model_name": "HTMLModel",
            "placeholder": "​",
            "_view_module": "@jupyter-widgets/controls",
            "_model_module_version": "1.5.0",
            "value": " 256/0 [00:00&lt;00:00, 856.83 examples/s]",
            "_view_count": null,
            "_view_module_version": "1.5.0",
            "description_tooltip": null,
            "_model_module": "@jupyter-widgets/controls",
            "layout": "IPY_MODEL_513169281a714760bb9c80fb64f4e86d"
          }
        },
        "7dbb3ab142544b5ea01bd756b23ff6af": {
          "model_module": "@jupyter-widgets/controls",
          "model_name": "ProgressStyleModel",
          "state": {
            "_view_name": "StyleView",
            "_model_name": "ProgressStyleModel",
            "description_width": "initial",
            "_view_module": "@jupyter-widgets/base",
            "_model_module_version": "1.5.0",
            "_view_count": null,
            "_view_module_version": "1.2.0",
            "bar_color": null,
            "_model_module": "@jupyter-widgets/controls"
          }
        },
        "b6457bd8ac6a4acea16ccf73398888d5": {
          "model_module": "@jupyter-widgets/base",
          "model_name": "LayoutModel",
          "state": {
            "_view_name": "LayoutView",
            "grid_template_rows": null,
            "right": null,
            "justify_content": null,
            "_view_module": "@jupyter-widgets/base",
            "overflow": null,
            "_model_module_version": "1.2.0",
            "_view_count": null,
            "flex_flow": null,
            "width": null,
            "min_width": null,
            "border": null,
            "align_items": null,
            "bottom": null,
            "_model_module": "@jupyter-widgets/base",
            "top": null,
            "grid_column": null,
            "overflow_y": null,
            "overflow_x": null,
            "grid_auto_flow": null,
            "grid_area": null,
            "grid_template_columns": null,
            "flex": null,
            "_model_name": "LayoutModel",
            "justify_items": null,
            "grid_row": null,
            "max_height": null,
            "align_content": null,
            "visibility": null,
            "align_self": null,
            "height": null,
            "min_height": null,
            "padding": null,
            "grid_auto_rows": null,
            "grid_gap": null,
            "max_width": null,
            "order": null,
            "_view_module_version": "1.2.0",
            "grid_template_areas": null,
            "object_position": null,
            "object_fit": null,
            "grid_auto_columns": null,
            "margin": null,
            "display": null,
            "left": null
          }
        },
        "aabc1ca88e424284ba00ec530c81f7f0": {
          "model_module": "@jupyter-widgets/controls",
          "model_name": "DescriptionStyleModel",
          "state": {
            "_view_name": "StyleView",
            "_model_name": "DescriptionStyleModel",
            "description_width": "",
            "_view_module": "@jupyter-widgets/base",
            "_model_module_version": "1.5.0",
            "_view_count": null,
            "_view_module_version": "1.2.0",
            "_model_module": "@jupyter-widgets/controls"
          }
        },
        "513169281a714760bb9c80fb64f4e86d": {
          "model_module": "@jupyter-widgets/base",
          "model_name": "LayoutModel",
          "state": {
            "_view_name": "LayoutView",
            "grid_template_rows": null,
            "right": null,
            "justify_content": null,
            "_view_module": "@jupyter-widgets/base",
            "overflow": null,
            "_model_module_version": "1.2.0",
            "_view_count": null,
            "flex_flow": null,
            "width": null,
            "min_width": null,
            "border": null,
            "align_items": null,
            "bottom": null,
            "_model_module": "@jupyter-widgets/base",
            "top": null,
            "grid_column": null,
            "overflow_y": null,
            "overflow_x": null,
            "grid_auto_flow": null,
            "grid_area": null,
            "grid_template_columns": null,
            "flex": null,
            "_model_name": "LayoutModel",
            "justify_items": null,
            "grid_row": null,
            "max_height": null,
            "align_content": null,
            "visibility": null,
            "align_self": null,
            "height": null,
            "min_height": null,
            "padding": null,
            "grid_auto_rows": null,
            "grid_gap": null,
            "max_width": null,
            "order": null,
            "_view_module_version": "1.2.0",
            "grid_template_areas": null,
            "object_position": null,
            "object_fit": null,
            "grid_auto_columns": null,
            "margin": null,
            "display": null,
            "left": null
          }
        },
        "6f2e689b20d247dcb62b9264fcb23dd9": {
          "model_module": "@jupyter-widgets/controls",
          "model_name": "HBoxModel",
          "state": {
            "_view_name": "HBoxView",
            "_dom_classes": [],
            "_model_name": "HBoxModel",
            "_view_module": "@jupyter-widgets/controls",
            "_model_module_version": "1.5.0",
            "_view_count": null,
            "_view_module_version": "1.5.0",
            "box_style": "",
            "layout": "IPY_MODEL_6f1a755b79ec4d51b662952e9f7e48c8",
            "_model_module": "@jupyter-widgets/controls",
            "children": [
              "IPY_MODEL_541bfc6e4b644720b8dd715f63b76b2e",
              "IPY_MODEL_9a21af88870d45c0b75a755a55d1521d"
            ]
          }
        },
        "6f1a755b79ec4d51b662952e9f7e48c8": {
          "model_module": "@jupyter-widgets/base",
          "model_name": "LayoutModel",
          "state": {
            "_view_name": "LayoutView",
            "grid_template_rows": null,
            "right": null,
            "justify_content": null,
            "_view_module": "@jupyter-widgets/base",
            "overflow": null,
            "_model_module_version": "1.2.0",
            "_view_count": null,
            "flex_flow": null,
            "width": null,
            "min_width": null,
            "border": null,
            "align_items": null,
            "bottom": null,
            "_model_module": "@jupyter-widgets/base",
            "top": null,
            "grid_column": null,
            "overflow_y": null,
            "overflow_x": null,
            "grid_auto_flow": null,
            "grid_area": null,
            "grid_template_columns": null,
            "flex": null,
            "_model_name": "LayoutModel",
            "justify_items": null,
            "grid_row": null,
            "max_height": null,
            "align_content": null,
            "visibility": null,
            "align_self": null,
            "height": null,
            "min_height": null,
            "padding": null,
            "grid_auto_rows": null,
            "grid_gap": null,
            "max_width": null,
            "order": null,
            "_view_module_version": "1.2.0",
            "grid_template_areas": null,
            "object_position": null,
            "object_fit": null,
            "grid_auto_columns": null,
            "margin": null,
            "display": null,
            "left": null
          }
        },
        "541bfc6e4b644720b8dd715f63b76b2e": {
          "model_module": "@jupyter-widgets/controls",
          "model_name": "FloatProgressModel",
          "state": {
            "_view_name": "ProgressView",
            "style": "IPY_MODEL_784a2ef28915461fb6c9f04bd20770c5",
            "_dom_classes": [],
            "description": "  0%",
            "_model_name": "FloatProgressModel",
            "bar_style": "danger",
            "max": 256,
            "_view_module": "@jupyter-widgets/controls",
            "_model_module_version": "1.5.0",
            "value": 0,
            "_view_count": null,
            "_view_module_version": "1.5.0",
            "orientation": "horizontal",
            "min": 0,
            "description_tooltip": null,
            "_model_module": "@jupyter-widgets/controls",
            "layout": "IPY_MODEL_c1ecdafbca2041debb8d9181672c1052"
          }
        },
        "9a21af88870d45c0b75a755a55d1521d": {
          "model_module": "@jupyter-widgets/controls",
          "model_name": "HTMLModel",
          "state": {
            "_view_name": "HTMLView",
            "style": "IPY_MODEL_5e41fb7d0cfa421c97d1d9d75514292c",
            "_dom_classes": [],
            "description": "",
            "_model_name": "HTMLModel",
            "placeholder": "​",
            "_view_module": "@jupyter-widgets/controls",
            "_model_module_version": "1.5.0",
            "value": " 0/256 [00:07&lt;?, ? examples/s]",
            "_view_count": null,
            "_view_module_version": "1.5.0",
            "description_tooltip": null,
            "_model_module": "@jupyter-widgets/controls",
            "layout": "IPY_MODEL_b4347ea86eda46a5a92a6e8143edca15"
          }
        },
        "784a2ef28915461fb6c9f04bd20770c5": {
          "model_module": "@jupyter-widgets/controls",
          "model_name": "ProgressStyleModel",
          "state": {
            "_view_name": "StyleView",
            "_model_name": "ProgressStyleModel",
            "description_width": "initial",
            "_view_module": "@jupyter-widgets/base",
            "_model_module_version": "1.5.0",
            "_view_count": null,
            "_view_module_version": "1.2.0",
            "bar_color": null,
            "_model_module": "@jupyter-widgets/controls"
          }
        },
        "c1ecdafbca2041debb8d9181672c1052": {
          "model_module": "@jupyter-widgets/base",
          "model_name": "LayoutModel",
          "state": {
            "_view_name": "LayoutView",
            "grid_template_rows": null,
            "right": null,
            "justify_content": null,
            "_view_module": "@jupyter-widgets/base",
            "overflow": null,
            "_model_module_version": "1.2.0",
            "_view_count": null,
            "flex_flow": null,
            "width": null,
            "min_width": null,
            "border": null,
            "align_items": null,
            "bottom": null,
            "_model_module": "@jupyter-widgets/base",
            "top": null,
            "grid_column": null,
            "overflow_y": null,
            "overflow_x": null,
            "grid_auto_flow": null,
            "grid_area": null,
            "grid_template_columns": null,
            "flex": null,
            "_model_name": "LayoutModel",
            "justify_items": null,
            "grid_row": null,
            "max_height": null,
            "align_content": null,
            "visibility": null,
            "align_self": null,
            "height": null,
            "min_height": null,
            "padding": null,
            "grid_auto_rows": null,
            "grid_gap": null,
            "max_width": null,
            "order": null,
            "_view_module_version": "1.2.0",
            "grid_template_areas": null,
            "object_position": null,
            "object_fit": null,
            "grid_auto_columns": null,
            "margin": null,
            "display": null,
            "left": null
          }
        },
        "5e41fb7d0cfa421c97d1d9d75514292c": {
          "model_module": "@jupyter-widgets/controls",
          "model_name": "DescriptionStyleModel",
          "state": {
            "_view_name": "StyleView",
            "_model_name": "DescriptionStyleModel",
            "description_width": "",
            "_view_module": "@jupyter-widgets/base",
            "_model_module_version": "1.5.0",
            "_view_count": null,
            "_view_module_version": "1.2.0",
            "_model_module": "@jupyter-widgets/controls"
          }
        },
        "b4347ea86eda46a5a92a6e8143edca15": {
          "model_module": "@jupyter-widgets/base",
          "model_name": "LayoutModel",
          "state": {
            "_view_name": "LayoutView",
            "grid_template_rows": null,
            "right": null,
            "justify_content": null,
            "_view_module": "@jupyter-widgets/base",
            "overflow": null,
            "_model_module_version": "1.2.0",
            "_view_count": null,
            "flex_flow": null,
            "width": null,
            "min_width": null,
            "border": null,
            "align_items": null,
            "bottom": null,
            "_model_module": "@jupyter-widgets/base",
            "top": null,
            "grid_column": null,
            "overflow_y": null,
            "overflow_x": null,
            "grid_auto_flow": null,
            "grid_area": null,
            "grid_template_columns": null,
            "flex": null,
            "_model_name": "LayoutModel",
            "justify_items": null,
            "grid_row": null,
            "max_height": null,
            "align_content": null,
            "visibility": null,
            "align_self": null,
            "height": null,
            "min_height": null,
            "padding": null,
            "grid_auto_rows": null,
            "grid_gap": null,
            "max_width": null,
            "order": null,
            "_view_module_version": "1.2.0",
            "grid_template_areas": null,
            "object_position": null,
            "object_fit": null,
            "grid_auto_columns": null,
            "margin": null,
            "display": null,
            "left": null
          }
        }
      }
    }
  },
  "cells": [
    {
      "cell_type": "markdown",
      "metadata": {
        "id": "RnFl97xDe3VJ"
      },
      "source": [
        "# MNIST with RandomForest"
      ]
    },
    {
      "cell_type": "code",
      "metadata": {
        "colab": {
          "base_uri": "https://localhost:8080/"
        },
        "id": "XVZE1bRSe2kq",
        "outputId": "edbac539-d261-4faf-8372-d685c6447a59"
      },
      "source": [
        "import tensorflow as tf\n",
        "from tensorflow.keras.datasets import mnist\n",
        "from tensorflow.keras import utils\n",
        "import matplotlib.pyplot as plt\n",
        "\n",
        "(X_train, Y_class_train), (X_test, Y_class_test) = mnist.load_data() #train 훈련데이터 6만, test 테스트 데이터 1만\n",
        "X_train.shape, Y_class_test.shape"
      ],
      "execution_count": 1,
      "outputs": [
        {
          "output_type": "stream",
          "text": [
            "Downloading data from https://storage.googleapis.com/tensorflow/tf-keras-datasets/mnist.npz\n",
            "11493376/11490434 [==============================] - 0s 0us/step\n"
          ],
          "name": "stdout"
        },
        {
          "output_type": "execute_result",
          "data": {
            "text/plain": [
              "((60000, 28, 28), (10000,))"
            ]
          },
          "metadata": {
            "tags": []
          },
          "execution_count": 1
        }
      ]
    },
    {
      "cell_type": "code",
      "metadata": {
        "colab": {
          "base_uri": "https://localhost:8080/"
        },
        "id": "wX1DFS8rfEqI",
        "outputId": "a2124b77-5165-49fd-dad6-bf180ba3a3d0"
      },
      "source": [
        "import pandas as pd\n",
        "from sklearn.ensemble import RandomForestClassifier\n",
        "\n",
        "rfc = RandomForestClassifier(n_estimators=50)\n",
        "rfc.fit(X_train.reshape(X_train.shape[0], 28*28), Y_class_train) # 3차원 to 2차원 reshape"
      ],
      "execution_count": 2,
      "outputs": [
        {
          "output_type": "execute_result",
          "data": {
            "text/plain": [
              "RandomForestClassifier(bootstrap=True, ccp_alpha=0.0, class_weight=None,\n",
              "                       criterion='gini', max_depth=None, max_features='auto',\n",
              "                       max_leaf_nodes=None, max_samples=None,\n",
              "                       min_impurity_decrease=0.0, min_impurity_split=None,\n",
              "                       min_samples_leaf=1, min_samples_split=2,\n",
              "                       min_weight_fraction_leaf=0.0, n_estimators=50,\n",
              "                       n_jobs=None, oob_score=False, random_state=None,\n",
              "                       verbose=0, warm_start=False)"
            ]
          },
          "metadata": {
            "tags": []
          },
          "execution_count": 2
        }
      ]
    },
    {
      "cell_type": "code",
      "metadata": {
        "colab": {
          "base_uri": "https://localhost:8080/"
        },
        "id": "weKrrGH05yHv",
        "outputId": "16582dbb-9f2e-4272-b152-361fd397217b"
      },
      "source": [
        "rfc.score(X_test.reshape(X_test.shape[0], 28*28), Y_class_test)"
      ],
      "execution_count": 3,
      "outputs": [
        {
          "output_type": "execute_result",
          "data": {
            "text/plain": [
              "0.9692"
            ]
          },
          "metadata": {
            "tags": []
          },
          "execution_count": 3
        }
      ]
    },
    {
      "cell_type": "markdown",
      "metadata": {
        "id": "zmAUXjRjaKl3"
      },
      "source": [
        "# MNIST with Tensorflow 2.0 (version 1)\n",
        "- from internet\n",
        "- Multi-class logistic regression (simple MLP without hidden layer)\n",
        "- https://builtin.com/data-science/guide-logistic-regression-tensorflow-20\n",
        "\n",
        "\n"
      ]
    },
    {
      "cell_type": "code",
      "metadata": {
        "id": "XRcyJVVi7xoj"
      },
      "source": [
        "# step 1: importing modules\n",
        "\n",
        "import tensorflow as tf\n",
        "import numpy as np"
      ],
      "execution_count": 4,
      "outputs": []
    },
    {
      "cell_type": "code",
      "metadata": {
        "id": "ePnKX-lG_giE"
      },
      "source": [
        "# step 2: loading and preparing mnist dataset\n",
        "\n",
        "from tensorflow.keras.datasets import mnist\n",
        "num_classes = 10        # 0 to 9 digits\n",
        "num_features = 28 * 28\n",
        "(x_train, y_train), (x_test, y_test) = mnist.load_data() \n",
        "x_train, x_test = np.array(x_train, np.float32), np.array(x_test, np.float32)\n",
        "x_train, x_test = x_train.reshape([-1, num_features]), x_test.reshape([-1, num_features])\n",
        "x_train, x_test = x_train / 255., x_test / 255."
      ],
      "execution_count": 5,
      "outputs": []
    },
    {
      "cell_type": "code",
      "metadata": {
        "colab": {
          "base_uri": "https://localhost:8080/"
        },
        "id": "PE3PPsCGFFTt",
        "outputId": "2be4a50a-e0cb-4535-adf0-cd1bc3d7cbe3"
      },
      "source": [
        "x_train.shape, x_test.shape, y_train.shape, y_test.shape"
      ],
      "execution_count": 6,
      "outputs": [
        {
          "output_type": "execute_result",
          "data": {
            "text/plain": [
              "((60000, 784), (10000, 784), (60000,), (10000,))"
            ]
          },
          "metadata": {
            "tags": []
          },
          "execution_count": 6
        }
      ]
    },
    {
      "cell_type": "code",
      "metadata": {
        "id": "dFr4-k3q7xos"
      },
      "source": [
        "# step 3: setting up hyperparameters and dataset parameters\n",
        "\n",
        "learning_rate = 0.01\n",
        "training_steps = 2000\n",
        "batch_size = 256\n",
        "display_step = 50"
      ],
      "execution_count": 7,
      "outputs": []
    },
    {
      "cell_type": "code",
      "metadata": {
        "id": "32ndi_Kp7xoy"
      },
      "source": [
        "# step 4: shuffling and batching the dataset\n",
        "# - Prefetching overlaps the preprocessing and model execution of a training step. \n",
        "#   While the model is executing training step s, the input pipeline is reading \n",
        "#   the data for step s+1. Doing so reduces the step time to the maximum (as \n",
        "#   opposed to the sum) of the training and the time it takes to extract the data.\n",
        "\n",
        "train_data=tf.data.Dataset.from_tensor_slices((x_train,y_train))\n",
        "# train_data=train_data.repeat().shuffle(5000).batch(batch_size).prefetch(1)\n",
        "train_data=train_data.repeat().shuffle(5000).batch(batch_size)"
      ],
      "execution_count": 8,
      "outputs": []
    },
    {
      "cell_type": "code",
      "metadata": {
        "colab": {
          "base_uri": "https://localhost:8080/"
        },
        "id": "42RtscNxHJDV",
        "outputId": "ccb47619-d1d5-45d7-cbb8-17462aeec217"
      },
      "source": [
        "train_data"
      ],
      "execution_count": 9,
      "outputs": [
        {
          "output_type": "execute_result",
          "data": {
            "text/plain": [
              "<BatchDataset shapes: ((None, 784), (None,)), types: (tf.float32, tf.uint8)>"
            ]
          },
          "metadata": {
            "tags": []
          },
          "execution_count": 9
        }
      ]
    },
    {
      "cell_type": "code",
      "metadata": {
        "colab": {
          "base_uri": "https://localhost:8080/"
        },
        "id": "T94WY4on7xo_",
        "outputId": "e72e8e4a-f8ef-4373-ae45-ad64b498a8ac"
      },
      "source": [
        "# step 5: initializing weights and biases\n",
        "\n",
        "W = tf.Variable(tf.random.normal([num_features, num_classes]), name=\"weight\") # (784,10), 노말 분포\n",
        "b = tf.Variable(tf.random.normal([num_classes]), name=\"bias\") #출력층 노드 개수만큼만 # (10,)\n",
        "W, b"
      ],
      "execution_count": 10,
      "outputs": [
        {
          "output_type": "execute_result",
          "data": {
            "text/plain": [
              "(<tf.Variable 'weight:0' shape=(784, 10) dtype=float32, numpy=\n",
              " array([[-1.6388385 , -1.0081203 , -0.33400688, ..., -1.1769398 ,\n",
              "         -0.03336881, -1.1535281 ],\n",
              "        [-0.31917036, -0.37527564,  0.6387759 , ...,  1.326     ,\n",
              "          0.74896514, -0.07930751],\n",
              "        [ 1.0300881 ,  0.9649778 , -1.3790841 , ...,  1.5388576 ,\n",
              "          1.4686604 , -1.1762335 ],\n",
              "        ...,\n",
              "        [ 0.6827585 ,  0.49045488, -0.14316382, ..., -1.3179761 ,\n",
              "          1.4865668 ,  0.5089297 ],\n",
              "        [ 1.3426342 ,  0.2912484 ,  1.1016221 , ..., -0.38806742,\n",
              "         -1.0980614 , -0.6301167 ],\n",
              "        [-2.503138  , -1.0924969 ,  0.04612686, ...,  2.0710416 ,\n",
              "          2.184527  , -1.1183193 ]], dtype=float32)>,\n",
              " <tf.Variable 'bias:0' shape=(10,) dtype=float32, numpy=\n",
              " array([-0.2615742 ,  0.37619638, -1.6447321 ,  0.10459359, -1.0276524 ,\n",
              "        -1.7056078 , -0.07811056,  0.63330024,  0.33623305, -1.6314455 ],\n",
              "       dtype=float32)>)"
            ]
          },
          "metadata": {
            "tags": []
          },
          "execution_count": 10
        }
      ]
    },
    {
      "cell_type": "code",
      "metadata": {
        "id": "vgclHQQP7xpT"
      },
      "source": [
        "# step 6: defining logistic regression and cost function\n",
        "\n",
        "def logistic_regression(x):\n",
        "    return tf.nn.softmax(tf.matmul(x, W) + b)\n",
        "\n",
        "def cross_entropy(y_pred, y_true):\n",
        "    y_true = tf.one_hot(y_true, depth=num_classes)\n",
        "    y_pred = tf.clip_by_value(y_pred, 1e-9, 1.)  # to avoid log(0) error\n",
        "    ce1 = tf.reduce_mean(-tf.reduce_sum(y_true * tf.math.log(y_pred), axis=1))\n",
        "    ce0 = tf.reduce_mean(-tf.reduce_sum(y_true * tf.math.log(y_pred)))       # wrong\n",
        "    ce2 = tf.reduce_mean(tf.losses.categorical_crossentropy(y_true, y_pred)) # function\n",
        "    return ce1"
      ],
      "execution_count": 11,
      "outputs": []
    },
    {
      "cell_type": "code",
      "metadata": {
        "id": "pxMJa11nC0H1"
      },
      "source": [
        "# step 7: defining optimizers and accuracy metrics\n",
        "\n",
        "def accuracy(y_pred, y_true):\n",
        "    correct_prediction = tf.equal(tf.argmax(y_pred, 1), tf.cast(y_true, tf.int64)) # axis=1\n",
        "    return tf.reduce_mean(tf.cast(correct_prediction, tf.float32))\n",
        "\n",
        "optimizer = tf.optimizers.Adam(learning_rate)"
      ],
      "execution_count": 12,
      "outputs": []
    },
    {
      "cell_type": "code",
      "metadata": {
        "id": "zhGalATXDTc1"
      },
      "source": [
        "# step 8: optimization process and updating weights and biases\n",
        "\n",
        "def run_optimization(x, y):\n",
        "    \n",
        "    with tf.GradientTape() as tape:\n",
        "        y_pred = logistic_regression(x)\n",
        "        loss = cross_entropy(y_pred, y)\n",
        "\n",
        "    gradients = tape.gradient(loss, [W, b])\n",
        "    optimizer.apply_gradients(zip(gradients, [W, b]))  # updates"
      ],
      "execution_count": 13,
      "outputs": []
    },
    {
      "cell_type": "code",
      "metadata": {
        "colab": {
          "base_uri": "https://localhost:8080/"
        },
        "id": "62y8TcyGD5J0",
        "outputId": "637ca26b-6aa3-4ac8-8050-4935d68101ff"
      },
      "source": [
        "# step 9: the training loop\n",
        "# dataset.take(c): Creates a Dataset with at most c elements from this dataset.\n",
        "# batch_size 만큼씩  c 번 뽑는다.\n",
        "\n",
        "for step, (batch_x, batch_y) in enumerate(train_data.take(training_steps), 1): #step 0~2000,  \n",
        "\n",
        "    # print(batch_x.shape, batch_y.shape)   # (256,784), (256,)\n",
        "    run_optimization(batch_x, batch_y)\n",
        "\n",
        "    if step % display_step == 0:\n",
        "        pred = logistic_regression(batch_x)\n",
        "        loss = cross_entropy(pred, batch_y)\n",
        "        acc = accuracy(pred, batch_y)\n",
        "        print(\"step: %i, loss: %f, accuracy: %f\" % (step, loss, acc))"
      ],
      "execution_count": 14,
      "outputs": [
        {
          "output_type": "stream",
          "text": [
            "step: 50, loss: 2.167188, accuracy: 0.601562\n",
            "step: 100, loss: 1.166916, accuracy: 0.742188\n",
            "step: 150, loss: 1.100942, accuracy: 0.757812\n",
            "step: 200, loss: 0.556079, accuracy: 0.878906\n",
            "step: 250, loss: 0.543280, accuracy: 0.847656\n",
            "step: 300, loss: 0.681974, accuracy: 0.843750\n",
            "step: 350, loss: 0.741707, accuracy: 0.867188\n",
            "step: 400, loss: 0.510099, accuracy: 0.855469\n",
            "step: 450, loss: 0.668315, accuracy: 0.871094\n",
            "step: 500, loss: 0.554349, accuracy: 0.875000\n",
            "step: 550, loss: 0.528492, accuracy: 0.875000\n",
            "step: 600, loss: 0.753248, accuracy: 0.863281\n",
            "step: 650, loss: 0.625911, accuracy: 0.847656\n",
            "step: 700, loss: 0.394659, accuracy: 0.914062\n",
            "step: 750, loss: 0.618785, accuracy: 0.855469\n",
            "step: 800, loss: 0.279014, accuracy: 0.917969\n",
            "step: 850, loss: 0.422946, accuracy: 0.886719\n",
            "step: 900, loss: 0.305377, accuracy: 0.914062\n",
            "step: 950, loss: 0.547062, accuracy: 0.890625\n",
            "step: 1000, loss: 0.406617, accuracy: 0.890625\n",
            "step: 1050, loss: 0.366728, accuracy: 0.929688\n",
            "step: 1100, loss: 0.365628, accuracy: 0.910156\n",
            "step: 1150, loss: 0.301587, accuracy: 0.906250\n",
            "step: 1200, loss: 0.446342, accuracy: 0.882812\n",
            "step: 1250, loss: 0.500548, accuracy: 0.882812\n",
            "step: 1300, loss: 0.359552, accuracy: 0.910156\n",
            "step: 1350, loss: 0.470315, accuracy: 0.890625\n",
            "step: 1400, loss: 0.336803, accuracy: 0.937500\n",
            "step: 1450, loss: 0.393866, accuracy: 0.906250\n",
            "step: 1500, loss: 0.297497, accuracy: 0.910156\n",
            "step: 1550, loss: 0.194696, accuracy: 0.953125\n",
            "step: 1600, loss: 0.366637, accuracy: 0.910156\n",
            "step: 1650, loss: 0.300991, accuracy: 0.921875\n",
            "step: 1700, loss: 0.316670, accuracy: 0.917969\n",
            "step: 1750, loss: 0.319564, accuracy: 0.886719\n",
            "step: 1800, loss: 0.360083, accuracy: 0.890625\n",
            "step: 1850, loss: 0.354883, accuracy: 0.890625\n",
            "step: 1900, loss: 0.222792, accuracy: 0.941406\n",
            "step: 1950, loss: 0.297728, accuracy: 0.917969\n",
            "step: 2000, loss: 0.303593, accuracy: 0.906250\n"
          ],
          "name": "stdout"
        }
      ]
    },
    {
      "cell_type": "code",
      "metadata": {
        "colab": {
          "base_uri": "https://localhost:8080/"
        },
        "id": "TOld6mf8Ec79",
        "outputId": "71c1a939-425a-455c-80b3-848b18b039ba"
      },
      "source": [
        "# step 10: testing model accuracy using the test data\n",
        "\n",
        "pred = logistic_regression(x_test)\n",
        "print(\"Test Accuracy: %f\" % accuracy(pred, y_test))"
      ],
      "execution_count": 15,
      "outputs": [
        {
          "output_type": "stream",
          "text": [
            "Test Accuracy: 0.914800\n"
          ],
          "name": "stdout"
        }
      ]
    },
    {
      "cell_type": "code",
      "metadata": {
        "colab": {
          "base_uri": "https://localhost:8080/",
          "height": 1000
        },
        "id": "7MUcmw5HVDev",
        "outputId": "89cd2129-6ab8-4439-e2ce-5d94fc0a2bdf"
      },
      "source": [
        "# step 11: visualizing the classification result\n",
        "\n",
        "import matplotlib.pyplot as plt\n",
        "\n",
        "n_images = 5\n",
        "test_images = x_test[:n_images]\n",
        "predictions = logistic_regression(test_images)\n",
        "\n",
        "for i in range(n_images):\n",
        "    plt.imshow(np.reshape(test_images[i], [28,28]), cmap='gray')\n",
        "    plt.show()\n",
        "    print('model prediction: %i' %np.argmax(predictions.numpy()[i]))"
      ],
      "execution_count": 16,
      "outputs": [
        {
          "output_type": "display_data",
          "data": {
            "image/png": "[encoded data removed]",
            "text/plain": [
              "<Figure size 432x288 with 1 Axes>"
            ]
          },
          "metadata": {
            "tags": [],
            "needs_background": "light"
          }
        },
        {
          "output_type": "stream",
          "text": [
            "model prediction: 7\n"
          ],
          "name": "stdout"
        },
        {
          "output_type": "display_data",
          "data": {
            "image/png": "[encoded data removed]",
            "text/plain": [
              "<Figure size 432x288 with 1 Axes>"
            ]
          },
          "metadata": {
            "tags": [],
            "needs_background": "light"
          }
        },
        {
          "output_type": "stream",
          "text": [
            "model prediction: 2\n"
          ],
          "name": "stdout"
        },
        {
          "output_type": "display_data",
          "data": {
            "image/png": "[encoded data removed]",
            "text/plain": [
              "<Figure size 432x288 with 1 Axes>"
            ]
          },
          "metadata": {
            "tags": [],
            "needs_background": "light"
          }
        },
        {
          "output_type": "stream",
          "text": [
            "model prediction: 1\n"
          ],
          "name": "stdout"
        },
        {
          "output_type": "display_data",
          "data": {
            "image/png": "[encoded data removed]",
            "text/plain": [
              "<Figure size 432x288 with 1 Axes>"
            ]
          },
          "metadata": {
            "tags": [],
            "needs_background": "light"
          }
        },
        {
          "output_type": "stream",
          "text": [
            "model prediction: 0\n"
          ],
          "name": "stdout"
        },
        {
          "output_type": "display_data",
          "data": {
            "image/png": "[encoded data removed]",
            "text/plain": [
              "<Figure size 432x288 with 1 Axes>"
            ]
          },
          "metadata": {
            "tags": [],
            "needs_background": "light"
          }
        },
        {
          "output_type": "stream",
          "text": [
            "model prediction: 4\n"
          ],
          "name": "stdout"
        }
      ]
    },
    {
      "cell_type": "markdown",
      "metadata": {
        "id": "vXm3p3lIaA6p"
      },
      "source": [
        "# MNIST with tensorflow 2.0 (version 2)\n",
        "- all in one code routine (for easy migration from the simpler regression code)\n",
        "- my version"
      ]
    },
    {
      "cell_type": "code",
      "metadata": {
        "id": "VjiF4k_hadWN"
      },
      "source": [
        "from tensorflow.keras.datasets import mnist\n",
        "num_classes = 10        # 0 to 9 digits\n",
        "num_features = 28 * 28\n",
        "(x_train, y_train), (x_test, y_test) = mnist.load_data()\n",
        "x_train, x_test = np.array(x_train, np.float32), np.array(x_test, np.float32)\n",
        "x_train, x_test = x_train.reshape([-1, num_features]), x_test.reshape([-1, num_features])\n",
        "x_train, x_test = x_train / 255., x_test / 255."
      ],
      "execution_count": 17,
      "outputs": []
    },
    {
      "cell_type": "code",
      "metadata": {
        "id": "m2pYh2nYag15"
      },
      "source": [
        "input_size = 784\n",
        "num_classes = 10\n",
        "batch_size = 300\n",
        "num_epochs = 10\n",
        "learning_rate = 0.01"
      ],
      "execution_count": 18,
      "outputs": []
    },
    {
      "cell_type": "code",
      "metadata": {
        "id": "T7b177eQakHp"
      },
      "source": [
        "train_data=tf.data.Dataset.from_tensor_slices((x_train,y_train))\n",
        "train_data=train_data.shuffle(5000).batch(batch_size)"
      ],
      "execution_count": 19,
      "outputs": []
    },
    {
      "cell_type": "code",
      "metadata": {
        "id": "On28C_ANamzZ"
      },
      "source": [
        "W = tf.Variable(tf.random.normal([input_size, num_classes])) # (784,10)\n",
        "b = tf.Variable(tf.random.normal([num_classes]))             # (10,)"
      ],
      "execution_count": 20,
      "outputs": []
    },
    {
      "cell_type": "code",
      "metadata": {
        "colab": {
          "base_uri": "https://localhost:8080/"
        },
        "id": "SPlVk0xsaqAV",
        "outputId": "d03b9a6f-ea79-4d94-a5a0-da5d4ec11548"
      },
      "source": [
        "# Training\n",
        "for e in range( num_epochs ):\n",
        "    for step, (batch_x, batch_y) in enumerate(train_data, 1):\n",
        "        with tf.GradientTape() as tape:\n",
        "            y_pred = tf.nn.softmax(tf.matmul(batch_x, W) + b)\n",
        "            y_pred = tf.clip_by_value(y_pred, 1e-9, 1.)\n",
        "            batch_y_ohe = tf.one_hot(batch_y, depth = 10)\n",
        "            loss = tf.reduce_mean(tf.losses.categorical_crossentropy( batch_y_ohe , y_pred ))\n",
        "            # loss = tf.reduce_mean(-tf.reduce_sum(batch_y * tf.math.log(y_pred), axis=1))\n",
        "\n",
        "        grads = tape.gradient(loss, [W, b])\n",
        "        optimizer = tf.optimizers.Adam( learning_rate )\n",
        "        # Adam 과 SGD 비교해 보면 좋음.\n",
        "        optimizer.apply_gradients(zip(grads, [W,b]))\n",
        "\n",
        "        corr_predict = tf.equal(tf.argmax(y_pred, 1), tf.cast(batch_y, tf.int64))\n",
        "        acc = tf.reduce_mean(tf.cast(corr_predict, tf.float32))\n",
        "\n",
        "        if step % 50 == 0: \n",
        "           print(\"epoch: %i, step: %i, loss: %f, acc: %f\" % (e, step, loss, acc))\n",
        "    \n",
        "    # print(\"epoch: %i, loss: %f, accuracy: %f\" % (e, loss, acc))\n",
        "\n",
        "# Testing\n",
        "test_y_pred = tf.nn.softmax(tf.matmul(x_test, W) + b)\n",
        "test_pred = tf.equal(tf.argmax(test_y_pred, 1), tf.cast(y_test, tf.int64))\n",
        "test_acc = tf.reduce_mean(tf.cast(test_pred, tf.float32))\n",
        "\n",
        "print(\"Test accuracy: %f\" % test_acc)"
      ],
      "execution_count": 21,
      "outputs": [
        {
          "output_type": "stream",
          "text": [
            "epoch: 0, step: 50, loss: 3.859847, acc: 0.586667\n",
            "epoch: 0, step: 100, loss: 2.922501, acc: 0.700000\n",
            "epoch: 0, step: 150, loss: 1.016312, acc: 0.813333\n",
            "epoch: 0, step: 200, loss: 0.584574, acc: 0.870000\n",
            "epoch: 1, step: 50, loss: 0.482095, acc: 0.893333\n",
            "epoch: 1, step: 100, loss: 0.512320, acc: 0.900000\n",
            "epoch: 1, step: 150, loss: 0.761855, acc: 0.860000\n",
            "epoch: 1, step: 200, loss: 0.422723, acc: 0.896667\n",
            "epoch: 2, step: 50, loss: 0.671202, acc: 0.866667\n",
            "epoch: 2, step: 100, loss: 0.623572, acc: 0.876667\n",
            "epoch: 2, step: 150, loss: 0.515117, acc: 0.906667\n",
            "epoch: 2, step: 200, loss: 0.563360, acc: 0.910000\n",
            "epoch: 3, step: 50, loss: 0.555986, acc: 0.896667\n",
            "epoch: 3, step: 100, loss: 0.513258, acc: 0.903333\n",
            "epoch: 3, step: 150, loss: 0.460912, acc: 0.916667\n",
            "epoch: 3, step: 200, loss: 0.430684, acc: 0.910000\n",
            "epoch: 4, step: 50, loss: 0.481658, acc: 0.910000\n",
            "epoch: 4, step: 100, loss: 0.684269, acc: 0.880000\n",
            "epoch: 4, step: 150, loss: 0.548943, acc: 0.906667\n",
            "epoch: 4, step: 200, loss: 0.397795, acc: 0.936667\n",
            "epoch: 5, step: 50, loss: 0.465710, acc: 0.916667\n",
            "epoch: 5, step: 100, loss: 0.589890, acc: 0.883333\n",
            "epoch: 5, step: 150, loss: 0.599865, acc: 0.916667\n",
            "epoch: 5, step: 200, loss: 0.270016, acc: 0.913333\n",
            "epoch: 6, step: 50, loss: 0.522533, acc: 0.903333\n",
            "epoch: 6, step: 100, loss: 0.592793, acc: 0.903333\n",
            "epoch: 6, step: 150, loss: 0.485510, acc: 0.923333\n",
            "epoch: 6, step: 200, loss: 0.467237, acc: 0.923333\n",
            "epoch: 7, step: 50, loss: 0.514635, acc: 0.906667\n",
            "epoch: 7, step: 100, loss: 0.485714, acc: 0.916667\n",
            "epoch: 7, step: 150, loss: 0.604689, acc: 0.903333\n",
            "epoch: 7, step: 200, loss: 0.447300, acc: 0.920000\n",
            "epoch: 8, step: 50, loss: 0.487235, acc: 0.906667\n",
            "epoch: 8, step: 100, loss: 0.425060, acc: 0.930000\n",
            "epoch: 8, step: 150, loss: 0.742663, acc: 0.886667\n",
            "epoch: 8, step: 200, loss: 0.345278, acc: 0.933333\n",
            "epoch: 9, step: 50, loss: 0.527913, acc: 0.936667\n",
            "epoch: 9, step: 100, loss: 0.425397, acc: 0.923333\n",
            "epoch: 9, step: 150, loss: 0.520534, acc: 0.920000\n",
            "epoch: 9, step: 200, loss: 0.316938, acc: 0.936667\n",
            "Test accuracy: 0.918400\n"
          ],
          "name": "stdout"
        }
      ]
    },
    {
      "cell_type": "markdown",
      "metadata": {
        "id": "CaC9Tf5apB88"
      },
      "source": [
        "# MNIST tensorflow 2.0 (version 3)\n",
        "- function define"
      ]
    },
    {
      "cell_type": "code",
      "metadata": {
        "colab": {
          "base_uri": "https://localhost:8080/"
        },
        "id": "U3wG34F9pJiE",
        "outputId": "55726c66-ca18-4f77-bf9c-b3c467917b71"
      },
      "source": [
        "import tensorflow as tf\n",
        "import numpy as np\n",
        "from tensorflow.keras.datasets import mnist\n",
        "num_classes = 10        # 0 to 9 digits\n",
        "num_features = 28 * 28\n",
        "(x_train, y_train), (x_test, y_test) = mnist.load_data()\n",
        "x_train, x_test = np.array(x_train, np.float32), np.array(x_test, np.float32)\n",
        "x_train, x_test = x_train.reshape([-1, num_features]), x_test.reshape([-1, num_features])\n",
        "x_train, x_test = x_train / 255., x_test / 255.\n",
        "\n",
        "input_size = 784\n",
        "num_classes = 10\n",
        "batch_size = 300\n",
        "num_epochs = 10\n",
        "learning_rate = 0.01\n",
        "\n",
        "train_data=tf.data.Dataset.from_tensor_slices((x_train,y_train))\n",
        "train_data=train_data.shuffle(5000).batch(batch_size)\n",
        "\n",
        "W = tf.Variable(tf.random.normal([input_size, num_classes])) # (784,10)\n",
        "b = tf.Variable(tf.random.normal([num_classes]))             # (10,)\n",
        "\n",
        "def model(X):\n",
        "    return tf.nn.softmax(tf.matmul(X, W) + b)\n",
        "\n",
        "def loss_fn(y_pred, y_true):\n",
        "    y_pred = tf.clip_by_value(y_pred, 1e-9, 1.)\n",
        "    y_true_ohe = tf.one_hot(batch_y, depth = 10)\n",
        "    return tf.reduce_mean(tf.losses.categorical_crossentropy(y_true_ohe, y_pred))\n",
        "\n",
        "optimizer = tf.optimizers.Adam( learning_rate )\n",
        "\n",
        "def train_step (x, y):\n",
        "\n",
        "    with tf.GradientTape() as tape:\n",
        "        y_pred = model(x)\n",
        "        loss = loss_fn (y_pred, y)\n",
        "    grads = tape.gradient(loss, [W, b])\n",
        "    optimizer.apply_gradients(zip(grads, [W,b]))\n",
        "\n",
        "def accuracy(y_pred, y_true):\n",
        "    corr_predict = tf.equal(tf.argmax(y_pred, 1), tf.cast(y_true, tf.int64))\n",
        "    return tf.reduce_mean(tf.cast(corr_predict, tf.float32))\n",
        "\n",
        "# Training\n",
        "for e in range( num_epochs ):\n",
        "    for step, (batch_x, batch_y) in enumerate(train_data, 1):\n",
        "        with tf.GradientTape() as tape:\n",
        "            train_step(batch_x, batch_y)\n",
        "\n",
        "        if step % 50 == 0: \n",
        "            pred = model(batch_x)\n",
        "            loss = loss_fn (pred, batch_y)\n",
        "            acc = accuracy(pred, batch_y)\n",
        "            print(\"epoch: %i, step: %i, loss: %f, acc: %f\" % (e, step, loss, acc))\n",
        "\n",
        "# Testing\n",
        "test_y_pred = model(x_test)\n",
        "test_acc = accuracy(test_y_pred, y_test)\n",
        "print(\"Test accuracy: %f\" % test_acc)"
      ],
      "execution_count": 22,
      "outputs": [
        {
          "output_type": "stream",
          "text": [
            "epoch: 0, step: 50, loss: 2.584238, acc: 0.593333\n",
            "epoch: 0, step: 100, loss: 1.480817, acc: 0.730000\n",
            "epoch: 0, step: 150, loss: 0.988141, acc: 0.786667\n",
            "epoch: 0, step: 200, loss: 0.589417, acc: 0.886667\n",
            "epoch: 1, step: 50, loss: 0.699707, acc: 0.823333\n",
            "epoch: 1, step: 100, loss: 0.650788, acc: 0.866667\n",
            "epoch: 1, step: 150, loss: 0.664216, acc: 0.860000\n",
            "epoch: 1, step: 200, loss: 0.632637, acc: 0.886667\n",
            "epoch: 2, step: 50, loss: 0.750525, acc: 0.876667\n",
            "epoch: 2, step: 100, loss: 0.542807, acc: 0.886667\n",
            "epoch: 2, step: 150, loss: 0.513809, acc: 0.880000\n",
            "epoch: 2, step: 200, loss: 0.379882, acc: 0.900000\n",
            "epoch: 3, step: 50, loss: 0.468182, acc: 0.893333\n",
            "epoch: 3, step: 100, loss: 0.511587, acc: 0.896667\n",
            "epoch: 3, step: 150, loss: 0.659477, acc: 0.893333\n",
            "epoch: 3, step: 200, loss: 0.203000, acc: 0.956667\n",
            "epoch: 4, step: 50, loss: 0.251269, acc: 0.920000\n",
            "epoch: 4, step: 100, loss: 0.467976, acc: 0.883333\n",
            "epoch: 4, step: 150, loss: 0.349056, acc: 0.900000\n",
            "epoch: 4, step: 200, loss: 0.235635, acc: 0.946667\n",
            "epoch: 5, step: 50, loss: 0.327988, acc: 0.916667\n",
            "epoch: 5, step: 100, loss: 0.550742, acc: 0.880000\n",
            "epoch: 5, step: 150, loss: 0.360865, acc: 0.920000\n",
            "epoch: 5, step: 200, loss: 0.324430, acc: 0.936667\n",
            "epoch: 6, step: 50, loss: 0.498386, acc: 0.906667\n",
            "epoch: 6, step: 100, loss: 0.332616, acc: 0.900000\n",
            "epoch: 6, step: 150, loss: 0.308904, acc: 0.893333\n",
            "epoch: 6, step: 200, loss: 0.365695, acc: 0.910000\n",
            "epoch: 7, step: 50, loss: 0.256931, acc: 0.916667\n",
            "epoch: 7, step: 100, loss: 0.277323, acc: 0.926667\n",
            "epoch: 7, step: 150, loss: 0.437153, acc: 0.903333\n",
            "epoch: 7, step: 200, loss: 0.203371, acc: 0.943333\n",
            "epoch: 8, step: 50, loss: 0.350699, acc: 0.910000\n",
            "epoch: 8, step: 100, loss: 0.351363, acc: 0.906667\n",
            "epoch: 8, step: 150, loss: 0.208422, acc: 0.933333\n",
            "epoch: 8, step: 200, loss: 0.352994, acc: 0.930000\n",
            "epoch: 9, step: 50, loss: 0.249398, acc: 0.946667\n",
            "epoch: 9, step: 100, loss: 0.285756, acc: 0.923333\n",
            "epoch: 9, step: 150, loss: 0.250528, acc: 0.940000\n",
            "epoch: 9, step: 200, loss: 0.209366, acc: 0.930000\n",
            "Test accuracy: 0.914900\n"
          ],
          "name": "stdout"
        }
      ]
    },
    {
      "cell_type": "markdown",
      "metadata": {
        "id": "I8sIJgJ6nByz"
      },
      "source": [
        "# 연습"
      ]
    },
    {
      "cell_type": "markdown",
      "metadata": {
        "id": "gCCYLHc3oSv6"
      },
      "source": [
        "- dataset\n",
        "- as_numpy_iterator(): returns an iterator which converts all elements of the dataset to numpy.\n",
        "- Use this function to inspect the content of your dataset. \n",
        "- To see element shapes and types, print dataset elements directly instead of using as_numpy_iterator."
      ]
    },
    {
      "cell_type": "code",
      "metadata": {
        "colab": {
          "base_uri": "https://localhost:8080/"
        },
        "id": "9XR9506CnDhb",
        "outputId": "3016c3b2-5118-4732-9e9c-01049f46bd1d"
      },
      "source": [
        "dataset = tf.data.Dataset.from_tensor_slices([1, 2, 3])\n",
        "for element in dataset:\n",
        "    print(element)"
      ],
      "execution_count": 23,
      "outputs": [
        {
          "output_type": "stream",
          "text": [
            "tf.Tensor(1, shape=(), dtype=int32)\n",
            "tf.Tensor(2, shape=(), dtype=int32)\n",
            "tf.Tensor(3, shape=(), dtype=int32)\n"
          ],
          "name": "stdout"
        }
      ]
    },
    {
      "cell_type": "code",
      "metadata": {
        "colab": {
          "base_uri": "https://localhost:8080/"
        },
        "id": "Q-IqIMf6oo8p",
        "outputId": "69dea15e-2a71-41c9-ebff-73db7ceecfd8"
      },
      "source": [
        "print(list(dataset.as_numpy_iterator()))"
      ],
      "execution_count": 24,
      "outputs": [
        {
          "output_type": "stream",
          "text": [
            "[1, 2, 3]\n"
          ],
          "name": "stdout"
        }
      ]
    },
    {
      "cell_type": "code",
      "metadata": {
        "colab": {
          "base_uri": "https://localhost:8080/"
        },
        "id": "PW7QaYN5ndRL",
        "outputId": "a8377006-be53-477a-b36a-de513e54e527"
      },
      "source": [
        "dataset = tf.data.Dataset.from_tensor_slices([1, 2, 3])\n",
        "dataset = dataset.map(lambda x: x*2)\n",
        "list(dataset.as_numpy_iterator())"
      ],
      "execution_count": 25,
      "outputs": [
        {
          "output_type": "execute_result",
          "data": {
            "text/plain": [
              "[2, 4, 6]"
            ]
          },
          "metadata": {
            "tags": []
          },
          "execution_count": 25
        }
      ]
    },
    {
      "cell_type": "code",
      "metadata": {
        "colab": {
          "base_uri": "https://localhost:8080/"
        },
        "id": "NKjMDUy3o3bM",
        "outputId": "3821c476-c318-4e32-f3c9-a741891908ee"
      },
      "source": [
        "dataset = tf.data.Dataset.range(8)\n",
        "[i.numpy() for i in dataset]"
      ],
      "execution_count": 26,
      "outputs": [
        {
          "output_type": "execute_result",
          "data": {
            "text/plain": [
              "[0, 1, 2, 3, 4, 5, 6, 7]"
            ]
          },
          "metadata": {
            "tags": []
          },
          "execution_count": 26
        }
      ]
    },
    {
      "cell_type": "code",
      "metadata": {
        "colab": {
          "base_uri": "https://localhost:8080/"
        },
        "id": "-ShAbXAdpCMF",
        "outputId": "71cec60e-4431-4b32-d7d4-c2020bce3a5a"
      },
      "source": [
        "dataset = tf.data.Dataset.range(8)\n",
        "dataset = dataset.shuffle(10).batch(3)\n",
        "print(dataset)\n",
        "print(dataset.as_numpy_iterator())\n",
        "for i in dataset:\n",
        "    print (i)\n",
        "for i in dataset.as_numpy_iterator():\n",
        "    print (i)"
      ],
      "execution_count": 27,
      "outputs": [
        {
          "output_type": "stream",
          "text": [
            "<BatchDataset shapes: (None,), types: tf.int64>\n",
            "<tensorflow.python.data.ops.dataset_ops._NumpyIterator object at 0x7f5316095510>\n",
            "tf.Tensor([7 5 2], shape=(3,), dtype=int64)\n",
            "tf.Tensor([4 1 0], shape=(3,), dtype=int64)\n",
            "tf.Tensor([6 3], shape=(2,), dtype=int64)\n",
            "[0 5 3]\n",
            "[4 2 6]\n",
            "[1 7]\n"
          ],
          "name": "stdout"
        }
      ]
    },
    {
      "cell_type": "code",
      "metadata": {
        "colab": {
          "base_uri": "https://localhost:8080/"
        },
        "id": "O7GEJaMQoHQ7",
        "outputId": "4508620a-a716-40d1-d83b-0c65db757ae9"
      },
      "source": [
        "dataset = tf.data.Dataset.from_tensor_slices([1, 2, 3])\n",
        "\n",
        "for element in enumerate(dataset):\n",
        "    print(element)\n",
        "for element in enumerate(dataset.as_numpy_iterator()):\n",
        "    print( element)"
      ],
      "execution_count": 28,
      "outputs": [
        {
          "output_type": "stream",
          "text": [
            "(0, <tf.Tensor: shape=(), dtype=int32, numpy=1>)\n",
            "(1, <tf.Tensor: shape=(), dtype=int32, numpy=2>)\n",
            "(2, <tf.Tensor: shape=(), dtype=int32, numpy=3>)\n",
            "(0, 1)\n",
            "(1, 2)\n",
            "(2, 3)\n"
          ],
          "name": "stdout"
        }
      ]
    },
    {
      "cell_type": "code",
      "metadata": {
        "colab": {
          "base_uri": "https://localhost:8080/"
        },
        "id": "8x-H27jOqZEz",
        "outputId": "04614cfb-8adf-4367-d6b0-853c57824862"
      },
      "source": [
        "dataset = tf.data.Dataset.from_tensor_slices([(7, 8), (9, 10)])\n",
        "dataset = dataset.enumerate()\n",
        "for element in dataset.as_numpy_iterator():\n",
        "  print(element)"
      ],
      "execution_count": 29,
      "outputs": [
        {
          "output_type": "stream",
          "text": [
            "(0, array([7, 8], dtype=int32))\n",
            "(1, array([ 9, 10], dtype=int32))\n"
          ],
          "name": "stdout"
        }
      ]
    },
    {
      "cell_type": "code",
      "metadata": {
        "colab": {
          "base_uri": "https://localhost:8080/"
        },
        "id": "Baq5cjKYw4d0",
        "outputId": "0a2d800a-901e-41b2-bbad-d60eb62cb8c6"
      },
      "source": [
        "dataset = tf.data.Dataset.range(10)\n",
        "dataset = dataset.shuffle(buffer_size=5).batch(3)\n",
        "\n",
        "for element in dataset.as_numpy_iterator():\n",
        "    print(element)"
      ],
      "execution_count": 30,
      "outputs": [
        {
          "output_type": "stream",
          "text": [
            "[4 0 6]\n",
            "[3 7 8]\n",
            "[2 9 1]\n",
            "[5]\n"
          ],
          "name": "stdout"
        }
      ]
    },
    {
      "cell_type": "code",
      "metadata": {
        "colab": {
          "base_uri": "https://localhost:8080/"
        },
        "id": "vwcvJHt2xvvt",
        "outputId": "e8ebefe7-f66d-4157-f5a7-400884395753"
      },
      "source": [
        "# dataset.take(count): Creates a Dataset with at most count elements from this dataset.\n",
        "dataset = tf.data.Dataset.range(10)\n",
        "dataset = dataset.take(3)\n",
        "[ i for i in dataset.as_numpy_iterator()]"
      ],
      "execution_count": 31,
      "outputs": [
        {
          "output_type": "execute_result",
          "data": {
            "text/plain": [
              "[0, 1, 2]"
            ]
          },
          "metadata": {
            "tags": []
          },
          "execution_count": 31
        }
      ]
    },
    {
      "cell_type": "code",
      "metadata": {
        "colab": {
          "base_uri": "https://localhost:8080/"
        },
        "id": "fG2cqV6GJn95",
        "outputId": "c3dd56c6-5003-4b6f-9c4f-d209a9a9a583"
      },
      "source": [
        "dataset = tf.data.Dataset.range(10)\n",
        "dataset = dataset.take(4)\n",
        "list(dataset.as_numpy_iterator())"
      ],
      "execution_count": 32,
      "outputs": [
        {
          "output_type": "execute_result",
          "data": {
            "text/plain": [
              "[0, 1, 2, 3]"
            ]
          },
          "metadata": {
            "tags": []
          },
          "execution_count": 32
        }
      ]
    },
    {
      "cell_type": "code",
      "metadata": {
        "colab": {
          "base_uri": "https://localhost:8080/"
        },
        "id": "pko6oq2zPqa8",
        "outputId": "bcb7c90d-84f8-4ef0-ed86-e8afce1fcc4e"
      },
      "source": [
        "dataset = tf.data.Dataset.range(7)\n",
        "print(list(dataset.as_numpy_iterator()))\n",
        "[i for i in dataset.take(5)]"
      ],
      "execution_count": 33,
      "outputs": [
        {
          "output_type": "stream",
          "text": [
            "[0, 1, 2, 3, 4, 5, 6]\n"
          ],
          "name": "stdout"
        },
        {
          "output_type": "execute_result",
          "data": {
            "text/plain": [
              "[<tf.Tensor: shape=(), dtype=int64, numpy=0>,\n",
              " <tf.Tensor: shape=(), dtype=int64, numpy=1>,\n",
              " <tf.Tensor: shape=(), dtype=int64, numpy=2>,\n",
              " <tf.Tensor: shape=(), dtype=int64, numpy=3>,\n",
              " <tf.Tensor: shape=(), dtype=int64, numpy=4>]"
            ]
          },
          "metadata": {
            "tags": []
          },
          "execution_count": 33
        }
      ]
    },
    {
      "cell_type": "code",
      "metadata": {
        "colab": {
          "base_uri": "https://localhost:8080/"
        },
        "id": "whcdrWLCRLK3",
        "outputId": "0549ae01-fc91-439d-dd25-fc8fecc8ea6d"
      },
      "source": [
        "dataset = tf.data.Dataset.range(20)   # batch size 만큼 8 번 take\n",
        "dataset = dataset.repeat().batch(3)\n",
        "for x in dataset.take(8):\n",
        "    print (x.numpy())"
      ],
      "execution_count": 34,
      "outputs": [
        {
          "output_type": "stream",
          "text": [
            "[0 1 2]\n",
            "[3 4 5]\n",
            "[6 7 8]\n",
            "[ 9 10 11]\n",
            "[12 13 14]\n",
            "[15 16 17]\n",
            "[18 19  0]\n",
            "[1 2 3]\n"
          ],
          "name": "stdout"
        }
      ]
    },
    {
      "cell_type": "code",
      "metadata": {
        "colab": {
          "base_uri": "https://localhost:8080/"
        },
        "id": "Cq-nC1o_Q01L",
        "outputId": "601e546c-edf1-4e82-f0dc-9c37dd1c4559"
      },
      "source": [
        "dataset = tf.data.Dataset.range(20)   # shuffle\n",
        "dataset = dataset.shuffle(50).batch(3)\n",
        "for x in dataset.take(8):\n",
        "    print (x.numpy())"
      ],
      "execution_count": 35,
      "outputs": [
        {
          "output_type": "stream",
          "text": [
            "[ 0  4 15]\n",
            "[ 2 16 11]\n",
            "[17  5  7]\n",
            "[ 3  1 13]\n",
            "[18 10 12]\n",
            "[19 14  6]\n",
            "[8 9]\n"
          ],
          "name": "stdout"
        }
      ]
    },
    {
      "cell_type": "code",
      "metadata": {
        "colab": {
          "base_uri": "https://localhost:8080/"
        },
        "id": "EeV9CNjkRDXm",
        "outputId": "1b6c89e4-5261-42d3-b151-3d3086020e8b"
      },
      "source": [
        "dataset = tf.data.Dataset.range(20)   # shuffle & repeat\n",
        "dataset = dataset.repeat().shuffle(50).batch(3)\n",
        "for x in dataset.take(8):\n",
        "    print (x.numpy())"
      ],
      "execution_count": 36,
      "outputs": [
        {
          "output_type": "stream",
          "text": [
            "[11 13  1]\n",
            "[19  6  1]\n",
            "[15 19  9]\n",
            "[14 18 15]\n",
            "[ 1 16 14]\n",
            "[2 4 5]\n",
            "[15 18  2]\n",
            "[6 1 0]\n"
          ],
          "name": "stdout"
        }
      ]
    },
    {
      "cell_type": "markdown",
      "metadata": {
        "id": "L7kD-skObUjp"
      },
      "source": [
        "- dataset (for my exercise)"
      ]
    },
    {
      "cell_type": "code",
      "metadata": {
        "colab": {
          "base_uri": "https://localhost:8080/",
          "height": 335,
          "referenced_widgets": [
            "f2ee735fca4f475fb14d27a41b09caf4",
            "2d12182dc63042d88513308680d22987",
            "318f27b7e6594e26ab3523bcff34656c",
            "35114fd794f94ac089014cc547e8dc1b",
            "54fcacfc75bb4930a4b3158ef2464aef",
            "5aab62da755546b78c6ed68c3dcfa223",
            "80dada5ed5b84f39ac521a42e6888c78",
            "124850aaad0c4f66b78d996554e7ebed",
            "6364677b564a40caa192cb15e6ccb4fc",
            "89b0158baa9443c08f2bafa320bf8226",
            "1aa65c11c5ce41d4bb0f8ddefa13aaf9",
            "047076dc816e4cfa92bbd006c52b405f",
            "1476d81ae933417ca7e91635a28578e4",
            "708098f2f25244d4935653219a808c79",
            "a6a3448792ed4214a3143dc111e3b031",
            "b4337552129e4dfca1b4878b41c59947",
            "b136760196b1475483adcfcefcc90a11",
            "c1c88011071840e8a1274a3251da63b0",
            "89ca01d9c820435d8e1d1442ac47632d",
            "12ca967e78994d10b8cab3c32b3dfa03",
            "5ceeb73edf11466bbffd03689592e9e2",
            "9312754d1229436da998ab799b8309d8",
            "ecddc66544be4bf6bd424bd06e2aa961",
            "9db432ea115a40b59007bf04efc10d19",
            "92c19f8a53084db7a0f5c1352960dccf",
            "d804b043ba0b44d5bd530a45582b01be",
            "d3ee8d25185c4cf2b74c474975e39b18",
            "d01ace54ad344cf899aecdd1fd0a0817",
            "def41649b7ab4b21a07c78ee59413715",
            "9578a7945e194d578ab8149f930a8acb",
            "371e4c249a974238a7019f3937dbedea",
            "10d7d12aaa5844ffae36d59d1b55177f",
            "ed04956a0efa47369d12522bbd33210f",
            "3dcb32ff30c04b51acab9187fb2c7dc9",
            "4eaf9b36e725473598378409e01b5f06",
            "7ef6f651dec54120981ff8d02a3fb2e5",
            "7dbb3ab142544b5ea01bd756b23ff6af",
            "b6457bd8ac6a4acea16ccf73398888d5",
            "aabc1ca88e424284ba00ec530c81f7f0",
            "513169281a714760bb9c80fb64f4e86d",
            "6f2e689b20d247dcb62b9264fcb23dd9",
            "6f1a755b79ec4d51b662952e9f7e48c8",
            "541bfc6e4b644720b8dd715f63b76b2e",
            "9a21af88870d45c0b75a755a55d1521d",
            "784a2ef28915461fb6c9f04bd20770c5",
            "c1ecdafbca2041debb8d9181672c1052",
            "5e41fb7d0cfa421c97d1d9d75514292c",
            "b4347ea86eda46a5a92a6e8143edca15"
          ]
        },
        "id": "0J5IDQ7KbZVZ",
        "outputId": "e81ecd7e-99bd-4d16-dfd7-a3f74cd0a1f3"
      },
      "source": [
        "import tensorflow as tf\n",
        "import tensorflow_datasets as tfds\n",
        "\n",
        "output_classes = 3\n",
        "batch_size = 200\n",
        "learning_rate = 0.001\n",
        "\n",
        "dataset = tfds.load( name='horses_or_humans' , split=tfds.Split.TRAIN )\n",
        "print(dataset)\n",
        "dataset = dataset.shuffle( 1024 ).batch( batch_size )\n",
        "print(dataset)"
      ],
      "execution_count": 37,
      "outputs": [
        {
          "output_type": "stream",
          "text": [
            "\u001b[1mDownloading and preparing dataset horses_or_humans/3.0.0 (download: 153.59 MiB, generated: Unknown size, total: 153.59 MiB) to /root/tensorflow_datasets/horses_or_humans/3.0.0...\u001b[0m\n"
          ],
          "name": "stdout"
        },
        {
          "output_type": "display_data",
          "data": {
            "application/vnd.jupyter.widget-view+json": {
              "model_id": "f2ee735fca4f475fb14d27a41b09caf4",
              "version_minor": 0,
              "version_major": 2
            },
            "text/plain": [
              "HBox(children=(FloatProgress(value=1.0, bar_style='info', description='Dl Completed...', max=1.0, style=Progre…"
            ]
          },
          "metadata": {
            "tags": []
          }
        },
        {
          "output_type": "display_data",
          "data": {
            "application/vnd.jupyter.widget-view+json": {
              "model_id": "6364677b564a40caa192cb15e6ccb4fc",
              "version_minor": 0,
              "version_major": 2
            },
            "text/plain": [
              "HBox(children=(FloatProgress(value=1.0, bar_style='info', description='Dl Size...', max=1.0, style=ProgressSty…"
            ]
          },
          "metadata": {
            "tags": []
          }
        },
        {
          "output_type": "stream",
          "text": [
            "\n",
            "\n",
            "\n",
            "\n"
          ],
          "name": "stdout"
        },
        {
          "output_type": "display_data",
          "data": {
            "application/vnd.jupyter.widget-view+json": {
              "model_id": "b136760196b1475483adcfcefcc90a11",
              "version_minor": 0,
              "version_major": 2
            },
            "text/plain": [
              "HBox(children=(FloatProgress(value=1.0, bar_style='info', max=1.0), HTML(value='')))"
            ]
          },
          "metadata": {
            "tags": []
          }
        },
        {
          "output_type": "stream",
          "text": [
            "\rShuffling and writing examples to /root/tensorflow_datasets/horses_or_humans/3.0.0.incompleteURRKYE/horses_or_humans-train.tfrecord\n"
          ],
          "name": "stdout"
        },
        {
          "output_type": "display_data",
          "data": {
            "application/vnd.jupyter.widget-view+json": {
              "model_id": "92c19f8a53084db7a0f5c1352960dccf",
              "version_minor": 0,
              "version_major": 2
            },
            "text/plain": [
              "HBox(children=(FloatProgress(value=0.0, max=1027.0), HTML(value='')))"
            ]
          },
          "metadata": {
            "tags": []
          }
        },
        {
          "output_type": "display_data",
          "data": {
            "application/vnd.jupyter.widget-view+json": {
              "model_id": "ed04956a0efa47369d12522bbd33210f",
              "version_minor": 0,
              "version_major": 2
            },
            "text/plain": [
              "HBox(children=(FloatProgress(value=1.0, bar_style='info', max=1.0), HTML(value='')))"
            ]
          },
          "metadata": {
            "tags": []
          }
        },
        {
          "output_type": "stream",
          "text": [
            "Shuffling and writing examples to /root/tensorflow_datasets/horses_or_humans/3.0.0.incompleteURRKYE/horses_or_humans-test.tfrecord\n"
          ],
          "name": "stdout"
        },
        {
          "output_type": "display_data",
          "data": {
            "application/vnd.jupyter.widget-view+json": {
              "model_id": "6f2e689b20d247dcb62b9264fcb23dd9",
              "version_minor": 0,
              "version_major": 2
            },
            "text/plain": [
              "HBox(children=(FloatProgress(value=0.0, max=256.0), HTML(value='')))"
            ]
          },
          "metadata": {
            "tags": []
          }
        },
        {
          "output_type": "stream",
          "text": [
            "\u001b[1mDataset horses_or_humans downloaded and prepared to /root/tensorflow_datasets/horses_or_humans/3.0.0. Subsequent calls will reuse this data.\u001b[0m\n",
            "<PrefetchDataset shapes: {image: (300, 300, 3), label: ()}, types: {image: tf.uint8, label: tf.int64}>\n",
            "<BatchDataset shapes: {image: (None, 300, 300, 3), label: (None,)}, types: {image: tf.uint8, label: tf.int64}>\n"
          ],
          "name": "stdout"
        }
      ]
    },
    {
      "cell_type": "code",
      "metadata": {
        "colab": {
          "base_uri": "https://localhost:8080/"
        },
        "id": "O1ecFoRbbdyp",
        "outputId": "7e20ec46-00c0-4a28-f813-488ef33ca6ea"
      },
      "source": [
        "for features in dataset:\n",
        "    print(features['image'].shape, features['label'].shape)"
      ],
      "execution_count": 38,
      "outputs": [
        {
          "output_type": "stream",
          "text": [
            "(200, 300, 300, 3) (200,)\n",
            "(200, 300, 300, 3) (200,)\n",
            "(200, 300, 300, 3) (200,)\n",
            "(200, 300, 300, 3) (200,)\n",
            "(200, 300, 300, 3) (200,)\n",
            "(27, 300, 300, 3) (27,)\n"
          ],
          "name": "stdout"
        }
      ]
    },
    {
      "cell_type": "code",
      "metadata": {
        "colab": {
          "base_uri": "https://localhost:8080/"
        },
        "id": "WRZZsFzlbiyR",
        "outputId": "fe6117b8-516f-40a7-bc8d-cf32025b2675"
      },
      "source": [
        "for features in iter(dataset):\n",
        "    print(features['image'].shape, features['label'].shape)"
      ],
      "execution_count": 39,
      "outputs": [
        {
          "output_type": "stream",
          "text": [
            "(200, 300, 300, 3) (200,)\n",
            "(200, 300, 300, 3) (200,)\n",
            "(200, 300, 300, 3) (200,)\n",
            "(200, 300, 300, 3) (200,)\n",
            "(200, 300, 300, 3) (200,)\n",
            "(27, 300, 300, 3) (27,)\n"
          ],
          "name": "stdout"
        }
      ]
    },
    {
      "cell_type": "code",
      "metadata": {
        "colab": {
          "base_uri": "https://localhost:8080/"
        },
        "id": "1MZIGaxYbmTq",
        "outputId": "1aae5231-83ae-49b2-eb5f-a89ea1dbd222"
      },
      "source": [
        "(x_train, y_train), (x_test, y_test) = mnist.load_data()\n",
        "train_data=tf.data.Dataset.from_tensor_slices((x_train,y_train))\n",
        "train_data=train_data.repeat().shuffle(5000).batch(1000)\n",
        "train_data"
      ],
      "execution_count": 40,
      "outputs": [
        {
          "output_type": "execute_result",
          "data": {
            "text/plain": [
              "<BatchDataset shapes: ((None, 28, 28), (None,)), types: (tf.uint8, tf.uint8)>"
            ]
          },
          "metadata": {
            "tags": []
          },
          "execution_count": 40
        }
      ]
    },
    {
      "cell_type": "code",
      "metadata": {
        "colab": {
          "base_uri": "https://localhost:8080/"
        },
        "id": "okoVOaX4SC6s",
        "outputId": "5e67280b-3fea-4bbc-f781-7af51e26fbb0"
      },
      "source": [
        "x_train.shape, y_train.shape"
      ],
      "execution_count": 41,
      "outputs": [
        {
          "output_type": "execute_result",
          "data": {
            "text/plain": [
              "((60000, 28, 28), (60000,))"
            ]
          },
          "metadata": {
            "tags": []
          },
          "execution_count": 41
        }
      ]
    },
    {
      "cell_type": "code",
      "metadata": {
        "colab": {
          "base_uri": "https://localhost:8080/"
        },
        "id": "MHoUvCs6bqjo",
        "outputId": "5a7bec70-976b-4285-b4a4-4a0021aebb7f"
      },
      "source": [
        "i=0\n",
        "for batch_x, batch_y in iter(train_data):\n",
        "    print(batch_x.shape, batch_y.shape)\n",
        "    i +=1\n",
        "    if i == 5: break"
      ],
      "execution_count": 42,
      "outputs": [
        {
          "output_type": "stream",
          "text": [
            "(1000, 28, 28) (1000,)\n",
            "(1000, 28, 28) (1000,)\n",
            "(1000, 28, 28) (1000,)\n",
            "(1000, 28, 28) (1000,)\n",
            "(1000, 28, 28) (1000,)\n"
          ],
          "name": "stdout"
        }
      ]
    },
    {
      "cell_type": "markdown",
      "metadata": {
        "id": "6_4xWgC_btWQ"
      },
      "source": [
        "- softmax (categorical) cross entropy"
      ]
    },
    {
      "cell_type": "code",
      "metadata": {
        "colab": {
          "base_uri": "https://localhost:8080/"
        },
        "id": "NmQsj8a_br_5",
        "outputId": "3c1bf1eb-8aa9-400b-e376-d8992255c6d4"
      },
      "source": [
        "y_true = [[0, 1, 0], [0, 0, 1]]\n",
        "y_pred = [[0.05, 0.95, 0], [0.1, 0.8, 0.1]]\n",
        "ce = tf.losses.categorical_crossentropy(y_true, y_pred)\n",
        "assert ce.shape == (2,)\n",
        "tf.reduce_mean(ce)"
      ],
      "execution_count": 43,
      "outputs": [
        {
          "output_type": "execute_result",
          "data": {
            "text/plain": [
              "<tf.Tensor: shape=(), dtype=float32, numpy=1.1769392>"
            ]
          },
          "metadata": {
            "tags": []
          },
          "execution_count": 43
        }
      ]
    },
    {
      "cell_type": "code",
      "metadata": {
        "colab": {
          "base_uri": "https://localhost:8080/"
        },
        "id": "2_1Di-f-b055",
        "outputId": "796a7ff1-843a-4c3a-c1fa-c83ab1d6e9e9"
      },
      "source": [
        "y_pred = tf.clip_by_value(y_pred, 1e-9, 1.)\n",
        "y_true * tf.math.log(y_pred)"
      ],
      "execution_count": 44,
      "outputs": [
        {
          "output_type": "execute_result",
          "data": {
            "text/plain": [
              "<tf.Tensor: shape=(2, 3), dtype=float32, numpy=\n",
              "array([[-0.        , -0.05129331, -0.        ],\n",
              "       [-0.        , -0.        , -2.3025851 ]], dtype=float32)>"
            ]
          },
          "metadata": {
            "tags": []
          },
          "execution_count": 44
        }
      ]
    },
    {
      "cell_type": "code",
      "metadata": {
        "colab": {
          "base_uri": "https://localhost:8080/"
        },
        "id": "eiTodpEZb3Zb",
        "outputId": "dc63b886-6db7-4edb-c068-804c65725f47"
      },
      "source": [
        "-tf.reduce_sum(y_true * tf.math.log(y_pred), axis=1)"
      ],
      "execution_count": 45,
      "outputs": [
        {
          "output_type": "execute_result",
          "data": {
            "text/plain": [
              "<tf.Tensor: shape=(2,), dtype=float32, numpy=array([0.05129331, 2.3025851 ], dtype=float32)>"
            ]
          },
          "metadata": {
            "tags": []
          },
          "execution_count": 45
        }
      ]
    },
    {
      "cell_type": "code",
      "metadata": {
        "colab": {
          "base_uri": "https://localhost:8080/"
        },
        "id": "WoMnGB1cb7FJ",
        "outputId": "c4653df5-e270-4bbf-f9e9-dfb4d51c1f0b"
      },
      "source": [
        "tf.reduce_mean(-tf.reduce_sum(y_true * tf.math.log(y_pred), axis=1))"
      ],
      "execution_count": 46,
      "outputs": [
        {
          "output_type": "execute_result",
          "data": {
            "text/plain": [
              "<tf.Tensor: shape=(), dtype=float32, numpy=1.1769392>"
            ]
          },
          "metadata": {
            "tags": []
          },
          "execution_count": 46
        }
      ]
    },
    {
      "cell_type": "code",
      "metadata": {
        "colab": {
          "base_uri": "https://localhost:8080/"
        },
        "id": "7S308fKsb-AB",
        "outputId": "3e2fcd88-4fbb-48aa-ec6f-a5801a102c6b"
      },
      "source": [
        "tf.reduce_mean(-tf.reduce_sum(y_true * tf.math.log(y_pred)))  # wrong"
      ],
      "execution_count": 47,
      "outputs": [
        {
          "output_type": "stream",
          "text": [
            "\r"
          ],
          "name": "stdout"
        },
        {
          "output_type": "execute_result",
          "data": {
            "text/plain": [
              "<tf.Tensor: shape=(), dtype=float32, numpy=2.3538785>"
            ]
          },
          "metadata": {
            "tags": []
          },
          "execution_count": 47
        }
      ]
    },
    {
      "cell_type": "markdown",
      "metadata": {
        "id": "idUTRIKma9Dh"
      },
      "source": [
        "- matrix multiplication (matmul)"
      ]
    },
    {
      "cell_type": "code",
      "metadata": {
        "colab": {
          "base_uri": "https://localhost:8080/"
        },
        "id": "1KG4X5PUa6gB",
        "outputId": "a7f9cdb1-3fac-4bf2-f02b-d6694ee57223"
      },
      "source": [
        "a = tf.constant([1, 2, 3, 4, 5, 6], shape=[2, 3])\n",
        "b = tf.constant([7, 8, 9, 10, 11, 12], shape=[3, 2])\n",
        "c = tf.matmul(a, b)\n",
        "a, b, c, a.shape, b.shape, c.shape"
      ],
      "execution_count": 48,
      "outputs": [
        {
          "output_type": "execute_result",
          "data": {
            "text/plain": [
              "(<tf.Tensor: shape=(2, 3), dtype=int32, numpy=\n",
              " array([[1, 2, 3],\n",
              "        [4, 5, 6]], dtype=int32)>,\n",
              " <tf.Tensor: shape=(3, 2), dtype=int32, numpy=\n",
              " array([[ 7,  8],\n",
              "        [ 9, 10],\n",
              "        [11, 12]], dtype=int32)>,\n",
              " <tf.Tensor: shape=(2, 2), dtype=int32, numpy=\n",
              " array([[ 58,  64],\n",
              "        [139, 154]], dtype=int32)>,\n",
              " TensorShape([2, 3]),\n",
              " TensorShape([3, 2]),\n",
              " TensorShape([2, 2]))"
            ]
          },
          "metadata": {
            "tags": []
          },
          "execution_count": 48
        }
      ]
    },
    {
      "cell_type": "code",
      "metadata": {
        "colab": {
          "base_uri": "https://localhost:8080/"
        },
        "id": "hBoTif-rbFlU",
        "outputId": "d1460e7d-272d-41e0-df98-68660b463283"
      },
      "source": [
        "import numpy as np\n",
        "# 3-D tensor `a`\n",
        "# [[[ 1,  2,  3],\n",
        "#   [ 4,  5,  6]],\n",
        "#  [[ 7,  8,  9],\n",
        "#   [10, 11, 12]]]\n",
        "a = tf.constant(np.arange(1, 13, dtype=np.int32),\n",
        "                shape=[2, 2, 3])\n",
        "\n",
        "# 3-D tensor `b`\n",
        "# [[[13, 14],\n",
        "#   [15, 16],\n",
        "#   [17, 18]],\n",
        "#  [[19, 20],\n",
        "#   [21, 22],\n",
        "#   [23, 24]]]\n",
        "b = tf.constant(np.arange(13, 25, dtype=np.int32),\n",
        "                shape=[2, 3, 2])\n",
        "\n",
        "# `a` * `b`\n",
        "# [[[ 94, 100],\n",
        "#   [229, 244]],\n",
        "#  [[508, 532],\n",
        "#   [697, 730]]]\n",
        "c = tf.matmul(a, b)\n",
        "a, b, c, a.shape, b.shape, c.shape"
      ],
      "execution_count": 49,
      "outputs": [
        {
          "output_type": "execute_result",
          "data": {
            "text/plain": [
              "(<tf.Tensor: shape=(2, 2, 3), dtype=int32, numpy=\n",
              " array([[[ 1,  2,  3],\n",
              "         [ 4,  5,  6]],\n",
              " \n",
              "        [[ 7,  8,  9],\n",
              "         [10, 11, 12]]], dtype=int32)>,\n",
              " <tf.Tensor: shape=(2, 3, 2), dtype=int32, numpy=\n",
              " array([[[13, 14],\n",
              "         [15, 16],\n",
              "         [17, 18]],\n",
              " \n",
              "        [[19, 20],\n",
              "         [21, 22],\n",
              "         [23, 24]]], dtype=int32)>,\n",
              " <tf.Tensor: shape=(2, 2, 2), dtype=int32, numpy=\n",
              " array([[[ 94, 100],\n",
              "         [229, 244]],\n",
              " \n",
              "        [[508, 532],\n",
              "         [697, 730]]], dtype=int32)>,\n",
              " TensorShape([2, 2, 3]),\n",
              " TensorShape([2, 3, 2]),\n",
              " TensorShape([2, 2, 2]))"
            ]
          },
          "metadata": {
            "tags": []
          },
          "execution_count": 49
        }
      ]
    },
    {
      "cell_type": "code",
      "metadata": {
        "colab": {
          "base_uri": "https://localhost:8080/"
        },
        "id": "M9UmvuhbbIv-",
        "outputId": "29f87416-2a6e-43e3-c64b-65769c1b7193"
      },
      "source": [
        "A = tf.Variable(tf.random.normal([5, 4, 10, 2, 3]))\n",
        "B = tf.Variable(tf.random.normal([5, 4, 10, 3, 7]))\n",
        "C = tf.matmul(A, B)\n",
        "\n",
        "# tf.matmul(3차원 이상의 텐서 사이의 행렬 곱은 행렬의 차원을 나타내는 마지막 두 개의 \n",
        "# 차원(2x3, 3x7) 사이에 행렬 곱이 가능하고 행렬 앞에 있는 차원(5x4x10)이 같으면 가능하다.\n",
        "A.shape, B.shape, C.shape"
      ],
      "execution_count": 50,
      "outputs": [
        {
          "output_type": "execute_result",
          "data": {
            "text/plain": [
              "(TensorShape([5, 4, 10, 2, 3]),\n",
              " TensorShape([5, 4, 10, 3, 7]),\n",
              " TensorShape([5, 4, 10, 2, 7]))"
            ]
          },
          "metadata": {
            "tags": []
          },
          "execution_count": 50
        }
      ]
    }
  ]
}