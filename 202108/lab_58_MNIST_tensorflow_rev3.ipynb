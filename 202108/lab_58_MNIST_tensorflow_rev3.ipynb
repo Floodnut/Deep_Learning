{
  "nbformat": 4,
  "nbformat_minor": 0,
  "metadata": {
    "accelerator": "GPU",
    "colab": {
      "name": "lab_58_MNIST_tensorflow_rev3.ipynb",
      "provenance": [],
      "collapsed_sections": [],
      "toc_visible": true,
      "include_colab_link": true
    },
    "kernelspec": {
      "display_name": "Python 3",
      "language": "python",
      "name": "python3"
    },
    "language_info": {
      "codemirror_mode": {
        "name": "ipython",
        "version": 3
      },
      "file_extension": ".py",
      "mimetype": "text/x-python",
      "name": "python",
      "nbconvert_exporter": "python",
      "pygments_lexer": "ipython3",
      "version": "3.8.5"
    },
    "widgets": {
      "application/vnd.jupyter.widget-state+json": {
        "ed5e36f069224e2581ccdd08c76a3bc4": {
          "model_module": "@jupyter-widgets/controls",
          "model_name": "HBoxModel",
          "state": {
            "_view_name": "HBoxView",
            "_dom_classes": [],
            "_model_name": "HBoxModel",
            "_view_module": "@jupyter-widgets/controls",
            "_model_module_version": "1.5.0",
            "_view_count": null,
            "_view_module_version": "1.5.0",
            "box_style": "",
            "layout": "IPY_MODEL_665019a138994b8c838a8963a0658a41",
            "_model_module": "@jupyter-widgets/controls",
            "children": [
              "IPY_MODEL_f50d9c1558a1403e83f80a8a0bfdaee6",
              "IPY_MODEL_ed8854b877d04e8fb0630fb1129290c9"
            ]
          }
        },
        "665019a138994b8c838a8963a0658a41": {
          "model_module": "@jupyter-widgets/base",
          "model_name": "LayoutModel",
          "state": {
            "_view_name": "LayoutView",
            "grid_template_rows": null,
            "right": null,
            "justify_content": null,
            "_view_module": "@jupyter-widgets/base",
            "overflow": null,
            "_model_module_version": "1.2.0",
            "_view_count": null,
            "flex_flow": null,
            "width": null,
            "min_width": null,
            "border": null,
            "align_items": null,
            "bottom": null,
            "_model_module": "@jupyter-widgets/base",
            "top": null,
            "grid_column": null,
            "overflow_y": null,
            "overflow_x": null,
            "grid_auto_flow": null,
            "grid_area": null,
            "grid_template_columns": null,
            "flex": null,
            "_model_name": "LayoutModel",
            "justify_items": null,
            "grid_row": null,
            "max_height": null,
            "align_content": null,
            "visibility": null,
            "align_self": null,
            "height": null,
            "min_height": null,
            "padding": null,
            "grid_auto_rows": null,
            "grid_gap": null,
            "max_width": null,
            "order": null,
            "_view_module_version": "1.2.0",
            "grid_template_areas": null,
            "object_position": null,
            "object_fit": null,
            "grid_auto_columns": null,
            "margin": null,
            "display": null,
            "left": null
          }
        },
        "f50d9c1558a1403e83f80a8a0bfdaee6": {
          "model_module": "@jupyter-widgets/controls",
          "model_name": "FloatProgressModel",
          "state": {
            "_view_name": "ProgressView",
            "style": "IPY_MODEL_da9a479d097a410ab7b809f7bc6028d0",
            "_dom_classes": [],
            "description": "Dl Completed...: 100%",
            "_model_name": "FloatProgressModel",
            "bar_style": "success",
            "max": 1,
            "_view_module": "@jupyter-widgets/controls",
            "_model_module_version": "1.5.0",
            "value": 1,
            "_view_count": null,
            "_view_module_version": "1.5.0",
            "orientation": "horizontal",
            "min": 0,
            "description_tooltip": null,
            "_model_module": "@jupyter-widgets/controls",
            "layout": "IPY_MODEL_ce02222556704317a8af6d08cca13b0a"
          }
        },
        "ed8854b877d04e8fb0630fb1129290c9": {
          "model_module": "@jupyter-widgets/controls",
          "model_name": "HTMLModel",
          "state": {
            "_view_name": "HTMLView",
            "style": "IPY_MODEL_e3e94048c8694c3587f69446b0fa4274",
            "_dom_classes": [],
            "description": "",
            "_model_name": "HTMLModel",
            "placeholder": "​",
            "_view_module": "@jupyter-widgets/controls",
            "_model_module_version": "1.5.0",
            "value": " 2/2 [00:04&lt;00:00,  2.42s/ url]",
            "_view_count": null,
            "_view_module_version": "1.5.0",
            "description_tooltip": null,
            "_model_module": "@jupyter-widgets/controls",
            "layout": "IPY_MODEL_0842884c6edb4fbe97fb69d5e359ad06"
          }
        },
        "da9a479d097a410ab7b809f7bc6028d0": {
          "model_module": "@jupyter-widgets/controls",
          "model_name": "ProgressStyleModel",
          "state": {
            "_view_name": "StyleView",
            "_model_name": "ProgressStyleModel",
            "description_width": "initial",
            "_view_module": "@jupyter-widgets/base",
            "_model_module_version": "1.5.0",
            "_view_count": null,
            "_view_module_version": "1.2.0",
            "bar_color": null,
            "_model_module": "@jupyter-widgets/controls"
          }
        },
        "ce02222556704317a8af6d08cca13b0a": {
          "model_module": "@jupyter-widgets/base",
          "model_name": "LayoutModel",
          "state": {
            "_view_name": "LayoutView",
            "grid_template_rows": null,
            "right": null,
            "justify_content": null,
            "_view_module": "@jupyter-widgets/base",
            "overflow": null,
            "_model_module_version": "1.2.0",
            "_view_count": null,
            "flex_flow": null,
            "width": null,
            "min_width": null,
            "border": null,
            "align_items": null,
            "bottom": null,
            "_model_module": "@jupyter-widgets/base",
            "top": null,
            "grid_column": null,
            "overflow_y": null,
            "overflow_x": null,
            "grid_auto_flow": null,
            "grid_area": null,
            "grid_template_columns": null,
            "flex": null,
            "_model_name": "LayoutModel",
            "justify_items": null,
            "grid_row": null,
            "max_height": null,
            "align_content": null,
            "visibility": null,
            "align_self": null,
            "height": null,
            "min_height": null,
            "padding": null,
            "grid_auto_rows": null,
            "grid_gap": null,
            "max_width": null,
            "order": null,
            "_view_module_version": "1.2.0",
            "grid_template_areas": null,
            "object_position": null,
            "object_fit": null,
            "grid_auto_columns": null,
            "margin": null,
            "display": null,
            "left": null
          }
        },
        "e3e94048c8694c3587f69446b0fa4274": {
          "model_module": "@jupyter-widgets/controls",
          "model_name": "DescriptionStyleModel",
          "state": {
            "_view_name": "StyleView",
            "_model_name": "DescriptionStyleModel",
            "description_width": "",
            "_view_module": "@jupyter-widgets/base",
            "_model_module_version": "1.5.0",
            "_view_count": null,
            "_view_module_version": "1.2.0",
            "_model_module": "@jupyter-widgets/controls"
          }
        },
        "0842884c6edb4fbe97fb69d5e359ad06": {
          "model_module": "@jupyter-widgets/base",
          "model_name": "LayoutModel",
          "state": {
            "_view_name": "LayoutView",
            "grid_template_rows": null,
            "right": null,
            "justify_content": null,
            "_view_module": "@jupyter-widgets/base",
            "overflow": null,
            "_model_module_version": "1.2.0",
            "_view_count": null,
            "flex_flow": null,
            "width": null,
            "min_width": null,
            "border": null,
            "align_items": null,
            "bottom": null,
            "_model_module": "@jupyter-widgets/base",
            "top": null,
            "grid_column": null,
            "overflow_y": null,
            "overflow_x": null,
            "grid_auto_flow": null,
            "grid_area": null,
            "grid_template_columns": null,
            "flex": null,
            "_model_name": "LayoutModel",
            "justify_items": null,
            "grid_row": null,
            "max_height": null,
            "align_content": null,
            "visibility": null,
            "align_self": null,
            "height": null,
            "min_height": null,
            "padding": null,
            "grid_auto_rows": null,
            "grid_gap": null,
            "max_width": null,
            "order": null,
            "_view_module_version": "1.2.0",
            "grid_template_areas": null,
            "object_position": null,
            "object_fit": null,
            "grid_auto_columns": null,
            "margin": null,
            "display": null,
            "left": null
          }
        },
        "bb8178e39f5b4679bbcde03b7d40f01e": {
          "model_module": "@jupyter-widgets/controls",
          "model_name": "HBoxModel",
          "state": {
            "_view_name": "HBoxView",
            "_dom_classes": [],
            "_model_name": "HBoxModel",
            "_view_module": "@jupyter-widgets/controls",
            "_model_module_version": "1.5.0",
            "_view_count": null,
            "_view_module_version": "1.5.0",
            "box_style": "",
            "layout": "IPY_MODEL_7083beea1f2746d0b25ed2470053943b",
            "_model_module": "@jupyter-widgets/controls",
            "children": [
              "IPY_MODEL_e49c5c2752794e42865a1d2562134cdb",
              "IPY_MODEL_84f74f2921ab414eb49a12414fc0c02c"
            ]
          }
        },
        "7083beea1f2746d0b25ed2470053943b": {
          "model_module": "@jupyter-widgets/base",
          "model_name": "LayoutModel",
          "state": {
            "_view_name": "LayoutView",
            "grid_template_rows": null,
            "right": null,
            "justify_content": null,
            "_view_module": "@jupyter-widgets/base",
            "overflow": null,
            "_model_module_version": "1.2.0",
            "_view_count": null,
            "flex_flow": null,
            "width": null,
            "min_width": null,
            "border": null,
            "align_items": null,
            "bottom": null,
            "_model_module": "@jupyter-widgets/base",
            "top": null,
            "grid_column": null,
            "overflow_y": null,
            "overflow_x": null,
            "grid_auto_flow": null,
            "grid_area": null,
            "grid_template_columns": null,
            "flex": null,
            "_model_name": "LayoutModel",
            "justify_items": null,
            "grid_row": null,
            "max_height": null,
            "align_content": null,
            "visibility": null,
            "align_self": null,
            "height": null,
            "min_height": null,
            "padding": null,
            "grid_auto_rows": null,
            "grid_gap": null,
            "max_width": null,
            "order": null,
            "_view_module_version": "1.2.0",
            "grid_template_areas": null,
            "object_position": null,
            "object_fit": null,
            "grid_auto_columns": null,
            "margin": null,
            "display": null,
            "left": null
          }
        },
        "e49c5c2752794e42865a1d2562134cdb": {
          "model_module": "@jupyter-widgets/controls",
          "model_name": "FloatProgressModel",
          "state": {
            "_view_name": "ProgressView",
            "style": "IPY_MODEL_c7aa8634738d4f9da546b2e4f7476b73",
            "_dom_classes": [],
            "description": "Dl Size...: 100%",
            "_model_name": "FloatProgressModel",
            "bar_style": "success",
            "max": 1,
            "_view_module": "@jupyter-widgets/controls",
            "_model_module_version": "1.5.0",
            "value": 1,
            "_view_count": null,
            "_view_module_version": "1.5.0",
            "orientation": "horizontal",
            "min": 0,
            "description_tooltip": null,
            "_model_module": "@jupyter-widgets/controls",
            "layout": "IPY_MODEL_2493b20778bd4b05991518cd1b2e10c1"
          }
        },
        "84f74f2921ab414eb49a12414fc0c02c": {
          "model_module": "@jupyter-widgets/controls",
          "model_name": "HTMLModel",
          "state": {
            "_view_name": "HTMLView",
            "style": "IPY_MODEL_35f2dcc4a747423db487a5a01c40ded9",
            "_dom_classes": [],
            "description": "",
            "_model_name": "HTMLModel",
            "placeholder": "​",
            "_view_module": "@jupyter-widgets/controls",
            "_model_module_version": "1.5.0",
            "value": " 152/152 [00:04&lt;00:00, 31.66 MiB/s]",
            "_view_count": null,
            "_view_module_version": "1.5.0",
            "description_tooltip": null,
            "_model_module": "@jupyter-widgets/controls",
            "layout": "IPY_MODEL_acfe54b7437b410bac2e99820acc7f7a"
          }
        },
        "c7aa8634738d4f9da546b2e4f7476b73": {
          "model_module": "@jupyter-widgets/controls",
          "model_name": "ProgressStyleModel",
          "state": {
            "_view_name": "StyleView",
            "_model_name": "ProgressStyleModel",
            "description_width": "initial",
            "_view_module": "@jupyter-widgets/base",
            "_model_module_version": "1.5.0",
            "_view_count": null,
            "_view_module_version": "1.2.0",
            "bar_color": null,
            "_model_module": "@jupyter-widgets/controls"
          }
        },
        "2493b20778bd4b05991518cd1b2e10c1": {
          "model_module": "@jupyter-widgets/base",
          "model_name": "LayoutModel",
          "state": {
            "_view_name": "LayoutView",
            "grid_template_rows": null,
            "right": null,
            "justify_content": null,
            "_view_module": "@jupyter-widgets/base",
            "overflow": null,
            "_model_module_version": "1.2.0",
            "_view_count": null,
            "flex_flow": null,
            "width": null,
            "min_width": null,
            "border": null,
            "align_items": null,
            "bottom": null,
            "_model_module": "@jupyter-widgets/base",
            "top": null,
            "grid_column": null,
            "overflow_y": null,
            "overflow_x": null,
            "grid_auto_flow": null,
            "grid_area": null,
            "grid_template_columns": null,
            "flex": null,
            "_model_name": "LayoutModel",
            "justify_items": null,
            "grid_row": null,
            "max_height": null,
            "align_content": null,
            "visibility": null,
            "align_self": null,
            "height": null,
            "min_height": null,
            "padding": null,
            "grid_auto_rows": null,
            "grid_gap": null,
            "max_width": null,
            "order": null,
            "_view_module_version": "1.2.0",
            "grid_template_areas": null,
            "object_position": null,
            "object_fit": null,
            "grid_auto_columns": null,
            "margin": null,
            "display": null,
            "left": null
          }
        },
        "35f2dcc4a747423db487a5a01c40ded9": {
          "model_module": "@jupyter-widgets/controls",
          "model_name": "DescriptionStyleModel",
          "state": {
            "_view_name": "StyleView",
            "_model_name": "DescriptionStyleModel",
            "description_width": "",
            "_view_module": "@jupyter-widgets/base",
            "_model_module_version": "1.5.0",
            "_view_count": null,
            "_view_module_version": "1.2.0",
            "_model_module": "@jupyter-widgets/controls"
          }
        },
        "acfe54b7437b410bac2e99820acc7f7a": {
          "model_module": "@jupyter-widgets/base",
          "model_name": "LayoutModel",
          "state": {
            "_view_name": "LayoutView",
            "grid_template_rows": null,
            "right": null,
            "justify_content": null,
            "_view_module": "@jupyter-widgets/base",
            "overflow": null,
            "_model_module_version": "1.2.0",
            "_view_count": null,
            "flex_flow": null,
            "width": null,
            "min_width": null,
            "border": null,
            "align_items": null,
            "bottom": null,
            "_model_module": "@jupyter-widgets/base",
            "top": null,
            "grid_column": null,
            "overflow_y": null,
            "overflow_x": null,
            "grid_auto_flow": null,
            "grid_area": null,
            "grid_template_columns": null,
            "flex": null,
            "_model_name": "LayoutModel",
            "justify_items": null,
            "grid_row": null,
            "max_height": null,
            "align_content": null,
            "visibility": null,
            "align_self": null,
            "height": null,
            "min_height": null,
            "padding": null,
            "grid_auto_rows": null,
            "grid_gap": null,
            "max_width": null,
            "order": null,
            "_view_module_version": "1.2.0",
            "grid_template_areas": null,
            "object_position": null,
            "object_fit": null,
            "grid_auto_columns": null,
            "margin": null,
            "display": null,
            "left": null
          }
        },
        "92759369f6bc46c88feb855c67c6242e": {
          "model_module": "@jupyter-widgets/controls",
          "model_name": "HBoxModel",
          "state": {
            "_view_name": "HBoxView",
            "_dom_classes": [],
            "_model_name": "HBoxModel",
            "_view_module": "@jupyter-widgets/controls",
            "_model_module_version": "1.5.0",
            "_view_count": null,
            "_view_module_version": "1.5.0",
            "box_style": "",
            "layout": "IPY_MODEL_9bce511c6e3f4f12a2f72652f47d2887",
            "_model_module": "@jupyter-widgets/controls",
            "children": [
              "IPY_MODEL_ea6265f007c643bda385bb79d3c3c315",
              "IPY_MODEL_bf12b6209fce4e40afc4921be46f56d1"
            ]
          }
        },
        "9bce511c6e3f4f12a2f72652f47d2887": {
          "model_module": "@jupyter-widgets/base",
          "model_name": "LayoutModel",
          "state": {
            "_view_name": "LayoutView",
            "grid_template_rows": null,
            "right": null,
            "justify_content": null,
            "_view_module": "@jupyter-widgets/base",
            "overflow": null,
            "_model_module_version": "1.2.0",
            "_view_count": null,
            "flex_flow": null,
            "width": null,
            "min_width": null,
            "border": null,
            "align_items": null,
            "bottom": null,
            "_model_module": "@jupyter-widgets/base",
            "top": null,
            "grid_column": null,
            "overflow_y": null,
            "overflow_x": null,
            "grid_auto_flow": null,
            "grid_area": null,
            "grid_template_columns": null,
            "flex": null,
            "_model_name": "LayoutModel",
            "justify_items": null,
            "grid_row": null,
            "max_height": null,
            "align_content": null,
            "visibility": null,
            "align_self": null,
            "height": null,
            "min_height": null,
            "padding": null,
            "grid_auto_rows": null,
            "grid_gap": null,
            "max_width": null,
            "order": null,
            "_view_module_version": "1.2.0",
            "grid_template_areas": null,
            "object_position": null,
            "object_fit": null,
            "grid_auto_columns": null,
            "margin": null,
            "display": null,
            "left": null
          }
        },
        "ea6265f007c643bda385bb79d3c3c315": {
          "model_module": "@jupyter-widgets/controls",
          "model_name": "FloatProgressModel",
          "state": {
            "_view_name": "ProgressView",
            "style": "IPY_MODEL_6c78d0a5858a4d93b9faa5ad1daaabd1",
            "_dom_classes": [],
            "description": "",
            "_model_name": "FloatProgressModel",
            "bar_style": "info",
            "max": 1,
            "_view_module": "@jupyter-widgets/controls",
            "_model_module_version": "1.5.0",
            "value": 1,
            "_view_count": null,
            "_view_module_version": "1.5.0",
            "orientation": "horizontal",
            "min": 0,
            "description_tooltip": null,
            "_model_module": "@jupyter-widgets/controls",
            "layout": "IPY_MODEL_bc97c042f05347b5954e27bf9cc3f477"
          }
        },
        "bf12b6209fce4e40afc4921be46f56d1": {
          "model_module": "@jupyter-widgets/controls",
          "model_name": "HTMLModel",
          "state": {
            "_view_name": "HTMLView",
            "style": "IPY_MODEL_505febf687ba4ac6858cb71dffeac47e",
            "_dom_classes": [],
            "description": "",
            "_model_name": "HTMLModel",
            "placeholder": "​",
            "_view_module": "@jupyter-widgets/controls",
            "_model_module_version": "1.5.0",
            "value": " 1027/0 [00:00&lt;00:00, 1035.77 examples/s]",
            "_view_count": null,
            "_view_module_version": "1.5.0",
            "description_tooltip": null,
            "_model_module": "@jupyter-widgets/controls",
            "layout": "IPY_MODEL_90885f3b608c41d787c4b09ec9ea9185"
          }
        },
        "6c78d0a5858a4d93b9faa5ad1daaabd1": {
          "model_module": "@jupyter-widgets/controls",
          "model_name": "ProgressStyleModel",
          "state": {
            "_view_name": "StyleView",
            "_model_name": "ProgressStyleModel",
            "description_width": "initial",
            "_view_module": "@jupyter-widgets/base",
            "_model_module_version": "1.5.0",
            "_view_count": null,
            "_view_module_version": "1.2.0",
            "bar_color": null,
            "_model_module": "@jupyter-widgets/controls"
          }
        },
        "bc97c042f05347b5954e27bf9cc3f477": {
          "model_module": "@jupyter-widgets/base",
          "model_name": "LayoutModel",
          "state": {
            "_view_name": "LayoutView",
            "grid_template_rows": null,
            "right": null,
            "justify_content": null,
            "_view_module": "@jupyter-widgets/base",
            "overflow": null,
            "_model_module_version": "1.2.0",
            "_view_count": null,
            "flex_flow": null,
            "width": null,
            "min_width": null,
            "border": null,
            "align_items": null,
            "bottom": null,
            "_model_module": "@jupyter-widgets/base",
            "top": null,
            "grid_column": null,
            "overflow_y": null,
            "overflow_x": null,
            "grid_auto_flow": null,
            "grid_area": null,
            "grid_template_columns": null,
            "flex": null,
            "_model_name": "LayoutModel",
            "justify_items": null,
            "grid_row": null,
            "max_height": null,
            "align_content": null,
            "visibility": null,
            "align_self": null,
            "height": null,
            "min_height": null,
            "padding": null,
            "grid_auto_rows": null,
            "grid_gap": null,
            "max_width": null,
            "order": null,
            "_view_module_version": "1.2.0",
            "grid_template_areas": null,
            "object_position": null,
            "object_fit": null,
            "grid_auto_columns": null,
            "margin": null,
            "display": null,
            "left": null
          }
        },
        "505febf687ba4ac6858cb71dffeac47e": {
          "model_module": "@jupyter-widgets/controls",
          "model_name": "DescriptionStyleModel",
          "state": {
            "_view_name": "StyleView",
            "_model_name": "DescriptionStyleModel",
            "description_width": "",
            "_view_module": "@jupyter-widgets/base",
            "_model_module_version": "1.5.0",
            "_view_count": null,
            "_view_module_version": "1.2.0",
            "_model_module": "@jupyter-widgets/controls"
          }
        },
        "90885f3b608c41d787c4b09ec9ea9185": {
          "model_module": "@jupyter-widgets/base",
          "model_name": "LayoutModel",
          "state": {
            "_view_name": "LayoutView",
            "grid_template_rows": null,
            "right": null,
            "justify_content": null,
            "_view_module": "@jupyter-widgets/base",
            "overflow": null,
            "_model_module_version": "1.2.0",
            "_view_count": null,
            "flex_flow": null,
            "width": null,
            "min_width": null,
            "border": null,
            "align_items": null,
            "bottom": null,
            "_model_module": "@jupyter-widgets/base",
            "top": null,
            "grid_column": null,
            "overflow_y": null,
            "overflow_x": null,
            "grid_auto_flow": null,
            "grid_area": null,
            "grid_template_columns": null,
            "flex": null,
            "_model_name": "LayoutModel",
            "justify_items": null,
            "grid_row": null,
            "max_height": null,
            "align_content": null,
            "visibility": null,
            "align_self": null,
            "height": null,
            "min_height": null,
            "padding": null,
            "grid_auto_rows": null,
            "grid_gap": null,
            "max_width": null,
            "order": null,
            "_view_module_version": "1.2.0",
            "grid_template_areas": null,
            "object_position": null,
            "object_fit": null,
            "grid_auto_columns": null,
            "margin": null,
            "display": null,
            "left": null
          }
        },
        "34d9619d351543aaa78e51ca4e765d5e": {
          "model_module": "@jupyter-widgets/controls",
          "model_name": "HBoxModel",
          "state": {
            "_view_name": "HBoxView",
            "_dom_classes": [],
            "_model_name": "HBoxModel",
            "_view_module": "@jupyter-widgets/controls",
            "_model_module_version": "1.5.0",
            "_view_count": null,
            "_view_module_version": "1.5.0",
            "box_style": "",
            "layout": "IPY_MODEL_c4cf3561ee4743b2ad40b2f7fbe539ed",
            "_model_module": "@jupyter-widgets/controls",
            "children": [
              "IPY_MODEL_6f539348cf7d444b8286e6c20761b7d6",
              "IPY_MODEL_6a55bfb4655245908796ccc34e07c44e"
            ]
          }
        },
        "c4cf3561ee4743b2ad40b2f7fbe539ed": {
          "model_module": "@jupyter-widgets/base",
          "model_name": "LayoutModel",
          "state": {
            "_view_name": "LayoutView",
            "grid_template_rows": null,
            "right": null,
            "justify_content": null,
            "_view_module": "@jupyter-widgets/base",
            "overflow": null,
            "_model_module_version": "1.2.0",
            "_view_count": null,
            "flex_flow": null,
            "width": null,
            "min_width": null,
            "border": null,
            "align_items": null,
            "bottom": null,
            "_model_module": "@jupyter-widgets/base",
            "top": null,
            "grid_column": null,
            "overflow_y": null,
            "overflow_x": null,
            "grid_auto_flow": null,
            "grid_area": null,
            "grid_template_columns": null,
            "flex": null,
            "_model_name": "LayoutModel",
            "justify_items": null,
            "grid_row": null,
            "max_height": null,
            "align_content": null,
            "visibility": null,
            "align_self": null,
            "height": null,
            "min_height": null,
            "padding": null,
            "grid_auto_rows": null,
            "grid_gap": null,
            "max_width": null,
            "order": null,
            "_view_module_version": "1.2.0",
            "grid_template_areas": null,
            "object_position": null,
            "object_fit": null,
            "grid_auto_columns": null,
            "margin": null,
            "display": null,
            "left": null
          }
        },
        "6f539348cf7d444b8286e6c20761b7d6": {
          "model_module": "@jupyter-widgets/controls",
          "model_name": "FloatProgressModel",
          "state": {
            "_view_name": "ProgressView",
            "style": "IPY_MODEL_2b51b429726142d1a75b5e10a014356c",
            "_dom_classes": [],
            "description": " 88%",
            "_model_name": "FloatProgressModel",
            "bar_style": "danger",
            "max": 1027,
            "_view_module": "@jupyter-widgets/controls",
            "_model_module_version": "1.5.0",
            "value": 900,
            "_view_count": null,
            "_view_module_version": "1.5.0",
            "orientation": "horizontal",
            "min": 0,
            "description_tooltip": null,
            "_model_module": "@jupyter-widgets/controls",
            "layout": "IPY_MODEL_059b76e74ecd43d0aac25842459e8ec2"
          }
        },
        "6a55bfb4655245908796ccc34e07c44e": {
          "model_module": "@jupyter-widgets/controls",
          "model_name": "HTMLModel",
          "state": {
            "_view_name": "HTMLView",
            "style": "IPY_MODEL_833bac469b714bf2a08c8d3be506a719",
            "_dom_classes": [],
            "description": "",
            "_model_name": "HTMLModel",
            "placeholder": "​",
            "_view_module": "@jupyter-widgets/controls",
            "_model_module_version": "1.5.0",
            "value": " 900/1027 [00:20&lt;00:00, 2721.61 examples/s]",
            "_view_count": null,
            "_view_module_version": "1.5.0",
            "description_tooltip": null,
            "_model_module": "@jupyter-widgets/controls",
            "layout": "IPY_MODEL_37f99c36011a4c468e8bdecac7b39044"
          }
        },
        "2b51b429726142d1a75b5e10a014356c": {
          "model_module": "@jupyter-widgets/controls",
          "model_name": "ProgressStyleModel",
          "state": {
            "_view_name": "StyleView",
            "_model_name": "ProgressStyleModel",
            "description_width": "initial",
            "_view_module": "@jupyter-widgets/base",
            "_model_module_version": "1.5.0",
            "_view_count": null,
            "_view_module_version": "1.2.0",
            "bar_color": null,
            "_model_module": "@jupyter-widgets/controls"
          }
        },
        "059b76e74ecd43d0aac25842459e8ec2": {
          "model_module": "@jupyter-widgets/base",
          "model_name": "LayoutModel",
          "state": {
            "_view_name": "LayoutView",
            "grid_template_rows": null,
            "right": null,
            "justify_content": null,
            "_view_module": "@jupyter-widgets/base",
            "overflow": null,
            "_model_module_version": "1.2.0",
            "_view_count": null,
            "flex_flow": null,
            "width": null,
            "min_width": null,
            "border": null,
            "align_items": null,
            "bottom": null,
            "_model_module": "@jupyter-widgets/base",
            "top": null,
            "grid_column": null,
            "overflow_y": null,
            "overflow_x": null,
            "grid_auto_flow": null,
            "grid_area": null,
            "grid_template_columns": null,
            "flex": null,
            "_model_name": "LayoutModel",
            "justify_items": null,
            "grid_row": null,
            "max_height": null,
            "align_content": null,
            "visibility": null,
            "align_self": null,
            "height": null,
            "min_height": null,
            "padding": null,
            "grid_auto_rows": null,
            "grid_gap": null,
            "max_width": null,
            "order": null,
            "_view_module_version": "1.2.0",
            "grid_template_areas": null,
            "object_position": null,
            "object_fit": null,
            "grid_auto_columns": null,
            "margin": null,
            "display": null,
            "left": null
          }
        },
        "833bac469b714bf2a08c8d3be506a719": {
          "model_module": "@jupyter-widgets/controls",
          "model_name": "DescriptionStyleModel",
          "state": {
            "_view_name": "StyleView",
            "_model_name": "DescriptionStyleModel",
            "description_width": "",
            "_view_module": "@jupyter-widgets/base",
            "_model_module_version": "1.5.0",
            "_view_count": null,
            "_view_module_version": "1.2.0",
            "_model_module": "@jupyter-widgets/controls"
          }
        },
        "37f99c36011a4c468e8bdecac7b39044": {
          "model_module": "@jupyter-widgets/base",
          "model_name": "LayoutModel",
          "state": {
            "_view_name": "LayoutView",
            "grid_template_rows": null,
            "right": null,
            "justify_content": null,
            "_view_module": "@jupyter-widgets/base",
            "overflow": null,
            "_model_module_version": "1.2.0",
            "_view_count": null,
            "flex_flow": null,
            "width": null,
            "min_width": null,
            "border": null,
            "align_items": null,
            "bottom": null,
            "_model_module": "@jupyter-widgets/base",
            "top": null,
            "grid_column": null,
            "overflow_y": null,
            "overflow_x": null,
            "grid_auto_flow": null,
            "grid_area": null,
            "grid_template_columns": null,
            "flex": null,
            "_model_name": "LayoutModel",
            "justify_items": null,
            "grid_row": null,
            "max_height": null,
            "align_content": null,
            "visibility": null,
            "align_self": null,
            "height": null,
            "min_height": null,
            "padding": null,
            "grid_auto_rows": null,
            "grid_gap": null,
            "max_width": null,
            "order": null,
            "_view_module_version": "1.2.0",
            "grid_template_areas": null,
            "object_position": null,
            "object_fit": null,
            "grid_auto_columns": null,
            "margin": null,
            "display": null,
            "left": null
          }
        },
        "47a8faa953264c94bc0d65d6ea321deb": {
          "model_module": "@jupyter-widgets/controls",
          "model_name": "HBoxModel",
          "state": {
            "_view_name": "HBoxView",
            "_dom_classes": [],
            "_model_name": "HBoxModel",
            "_view_module": "@jupyter-widgets/controls",
            "_model_module_version": "1.5.0",
            "_view_count": null,
            "_view_module_version": "1.5.0",
            "box_style": "",
            "layout": "IPY_MODEL_eefd2b76fd924c6881b8f69dabb95995",
            "_model_module": "@jupyter-widgets/controls",
            "children": [
              "IPY_MODEL_84ad1a896ffa48318af6a4664a576f05",
              "IPY_MODEL_f34a788873cd4d43af3ee71303293354"
            ]
          }
        },
        "eefd2b76fd924c6881b8f69dabb95995": {
          "model_module": "@jupyter-widgets/base",
          "model_name": "LayoutModel",
          "state": {
            "_view_name": "LayoutView",
            "grid_template_rows": null,
            "right": null,
            "justify_content": null,
            "_view_module": "@jupyter-widgets/base",
            "overflow": null,
            "_model_module_version": "1.2.0",
            "_view_count": null,
            "flex_flow": null,
            "width": null,
            "min_width": null,
            "border": null,
            "align_items": null,
            "bottom": null,
            "_model_module": "@jupyter-widgets/base",
            "top": null,
            "grid_column": null,
            "overflow_y": null,
            "overflow_x": null,
            "grid_auto_flow": null,
            "grid_area": null,
            "grid_template_columns": null,
            "flex": null,
            "_model_name": "LayoutModel",
            "justify_items": null,
            "grid_row": null,
            "max_height": null,
            "align_content": null,
            "visibility": null,
            "align_self": null,
            "height": null,
            "min_height": null,
            "padding": null,
            "grid_auto_rows": null,
            "grid_gap": null,
            "max_width": null,
            "order": null,
            "_view_module_version": "1.2.0",
            "grid_template_areas": null,
            "object_position": null,
            "object_fit": null,
            "grid_auto_columns": null,
            "margin": null,
            "display": null,
            "left": null
          }
        },
        "84ad1a896ffa48318af6a4664a576f05": {
          "model_module": "@jupyter-widgets/controls",
          "model_name": "FloatProgressModel",
          "state": {
            "_view_name": "ProgressView",
            "style": "IPY_MODEL_59533bbc0a6a44a68fc27d2bdb20ef32",
            "_dom_classes": [],
            "description": "",
            "_model_name": "FloatProgressModel",
            "bar_style": "info",
            "max": 1,
            "_view_module": "@jupyter-widgets/controls",
            "_model_module_version": "1.5.0",
            "value": 1,
            "_view_count": null,
            "_view_module_version": "1.5.0",
            "orientation": "horizontal",
            "min": 0,
            "description_tooltip": null,
            "_model_module": "@jupyter-widgets/controls",
            "layout": "IPY_MODEL_e14cdd084eaf465187e60f07a7d26859"
          }
        },
        "f34a788873cd4d43af3ee71303293354": {
          "model_module": "@jupyter-widgets/controls",
          "model_name": "HTMLModel",
          "state": {
            "_view_name": "HTMLView",
            "style": "IPY_MODEL_0e23719916844f5c8266c7764a137c22",
            "_dom_classes": [],
            "description": "",
            "_model_name": "HTMLModel",
            "placeholder": "​",
            "_view_module": "@jupyter-widgets/controls",
            "_model_module_version": "1.5.0",
            "value": " 256/0 [00:00&lt;00:00, 610.22 examples/s]",
            "_view_count": null,
            "_view_module_version": "1.5.0",
            "description_tooltip": null,
            "_model_module": "@jupyter-widgets/controls",
            "layout": "IPY_MODEL_488a2d4a8a6146fda513055fec3dc32e"
          }
        },
        "59533bbc0a6a44a68fc27d2bdb20ef32": {
          "model_module": "@jupyter-widgets/controls",
          "model_name": "ProgressStyleModel",
          "state": {
            "_view_name": "StyleView",
            "_model_name": "ProgressStyleModel",
            "description_width": "initial",
            "_view_module": "@jupyter-widgets/base",
            "_model_module_version": "1.5.0",
            "_view_count": null,
            "_view_module_version": "1.2.0",
            "bar_color": null,
            "_model_module": "@jupyter-widgets/controls"
          }
        },
        "e14cdd084eaf465187e60f07a7d26859": {
          "model_module": "@jupyter-widgets/base",
          "model_name": "LayoutModel",
          "state": {
            "_view_name": "LayoutView",
            "grid_template_rows": null,
            "right": null,
            "justify_content": null,
            "_view_module": "@jupyter-widgets/base",
            "overflow": null,
            "_model_module_version": "1.2.0",
            "_view_count": null,
            "flex_flow": null,
            "width": null,
            "min_width": null,
            "border": null,
            "align_items": null,
            "bottom": null,
            "_model_module": "@jupyter-widgets/base",
            "top": null,
            "grid_column": null,
            "overflow_y": null,
            "overflow_x": null,
            "grid_auto_flow": null,
            "grid_area": null,
            "grid_template_columns": null,
            "flex": null,
            "_model_name": "LayoutModel",
            "justify_items": null,
            "grid_row": null,
            "max_height": null,
            "align_content": null,
            "visibility": null,
            "align_self": null,
            "height": null,
            "min_height": null,
            "padding": null,
            "grid_auto_rows": null,
            "grid_gap": null,
            "max_width": null,
            "order": null,
            "_view_module_version": "1.2.0",
            "grid_template_areas": null,
            "object_position": null,
            "object_fit": null,
            "grid_auto_columns": null,
            "margin": null,
            "display": null,
            "left": null
          }
        },
        "0e23719916844f5c8266c7764a137c22": {
          "model_module": "@jupyter-widgets/controls",
          "model_name": "DescriptionStyleModel",
          "state": {
            "_view_name": "StyleView",
            "_model_name": "DescriptionStyleModel",
            "description_width": "",
            "_view_module": "@jupyter-widgets/base",
            "_model_module_version": "1.5.0",
            "_view_count": null,
            "_view_module_version": "1.2.0",
            "_model_module": "@jupyter-widgets/controls"
          }
        },
        "488a2d4a8a6146fda513055fec3dc32e": {
          "model_module": "@jupyter-widgets/base",
          "model_name": "LayoutModel",
          "state": {
            "_view_name": "LayoutView",
            "grid_template_rows": null,
            "right": null,
            "justify_content": null,
            "_view_module": "@jupyter-widgets/base",
            "overflow": null,
            "_model_module_version": "1.2.0",
            "_view_count": null,
            "flex_flow": null,
            "width": null,
            "min_width": null,
            "border": null,
            "align_items": null,
            "bottom": null,
            "_model_module": "@jupyter-widgets/base",
            "top": null,
            "grid_column": null,
            "overflow_y": null,
            "overflow_x": null,
            "grid_auto_flow": null,
            "grid_area": null,
            "grid_template_columns": null,
            "flex": null,
            "_model_name": "LayoutModel",
            "justify_items": null,
            "grid_row": null,
            "max_height": null,
            "align_content": null,
            "visibility": null,
            "align_self": null,
            "height": null,
            "min_height": null,
            "padding": null,
            "grid_auto_rows": null,
            "grid_gap": null,
            "max_width": null,
            "order": null,
            "_view_module_version": "1.2.0",
            "grid_template_areas": null,
            "object_position": null,
            "object_fit": null,
            "grid_auto_columns": null,
            "margin": null,
            "display": null,
            "left": null
          }
        },
        "632698ecb71b4684a4965d32e47bc595": {
          "model_module": "@jupyter-widgets/controls",
          "model_name": "HBoxModel",
          "state": {
            "_view_name": "HBoxView",
            "_dom_classes": [],
            "_model_name": "HBoxModel",
            "_view_module": "@jupyter-widgets/controls",
            "_model_module_version": "1.5.0",
            "_view_count": null,
            "_view_module_version": "1.5.0",
            "box_style": "",
            "layout": "IPY_MODEL_7cfe4080f9454e3f8b1bc276bb5975f3",
            "_model_module": "@jupyter-widgets/controls",
            "children": [
              "IPY_MODEL_f22cf87affca41dfa78bea3f7a3995dc",
              "IPY_MODEL_09964b906caf4bcaaf49d3b64df19fa6"
            ]
          }
        },
        "7cfe4080f9454e3f8b1bc276bb5975f3": {
          "model_module": "@jupyter-widgets/base",
          "model_name": "LayoutModel",
          "state": {
            "_view_name": "LayoutView",
            "grid_template_rows": null,
            "right": null,
            "justify_content": null,
            "_view_module": "@jupyter-widgets/base",
            "overflow": null,
            "_model_module_version": "1.2.0",
            "_view_count": null,
            "flex_flow": null,
            "width": null,
            "min_width": null,
            "border": null,
            "align_items": null,
            "bottom": null,
            "_model_module": "@jupyter-widgets/base",
            "top": null,
            "grid_column": null,
            "overflow_y": null,
            "overflow_x": null,
            "grid_auto_flow": null,
            "grid_area": null,
            "grid_template_columns": null,
            "flex": null,
            "_model_name": "LayoutModel",
            "justify_items": null,
            "grid_row": null,
            "max_height": null,
            "align_content": null,
            "visibility": null,
            "align_self": null,
            "height": null,
            "min_height": null,
            "padding": null,
            "grid_auto_rows": null,
            "grid_gap": null,
            "max_width": null,
            "order": null,
            "_view_module_version": "1.2.0",
            "grid_template_areas": null,
            "object_position": null,
            "object_fit": null,
            "grid_auto_columns": null,
            "margin": null,
            "display": null,
            "left": null
          }
        },
        "f22cf87affca41dfa78bea3f7a3995dc": {
          "model_module": "@jupyter-widgets/controls",
          "model_name": "FloatProgressModel",
          "state": {
            "_view_name": "ProgressView",
            "style": "IPY_MODEL_4dab6bdb9bc14ca89939d69a74f39e71",
            "_dom_classes": [],
            "description": "  0%",
            "_model_name": "FloatProgressModel",
            "bar_style": "danger",
            "max": 256,
            "_view_module": "@jupyter-widgets/controls",
            "_model_module_version": "1.5.0",
            "value": 0,
            "_view_count": null,
            "_view_module_version": "1.5.0",
            "orientation": "horizontal",
            "min": 0,
            "description_tooltip": null,
            "_model_module": "@jupyter-widgets/controls",
            "layout": "IPY_MODEL_385c08a0f5574d0f82bab943b1ef114b"
          }
        },
        "09964b906caf4bcaaf49d3b64df19fa6": {
          "model_module": "@jupyter-widgets/controls",
          "model_name": "HTMLModel",
          "state": {
            "_view_name": "HTMLView",
            "style": "IPY_MODEL_69f9251425de42e0917906add487b4a5",
            "_dom_classes": [],
            "description": "",
            "_model_name": "HTMLModel",
            "placeholder": "​",
            "_view_module": "@jupyter-widgets/controls",
            "_model_module_version": "1.5.0",
            "value": " 0/256 [00:00&lt;?, ? examples/s]",
            "_view_count": null,
            "_view_module_version": "1.5.0",
            "description_tooltip": null,
            "_model_module": "@jupyter-widgets/controls",
            "layout": "IPY_MODEL_123fff17aa254e5fb0d2a3b9f5758c06"
          }
        },
        "4dab6bdb9bc14ca89939d69a74f39e71": {
          "model_module": "@jupyter-widgets/controls",
          "model_name": "ProgressStyleModel",
          "state": {
            "_view_name": "StyleView",
            "_model_name": "ProgressStyleModel",
            "description_width": "initial",
            "_view_module": "@jupyter-widgets/base",
            "_model_module_version": "1.5.0",
            "_view_count": null,
            "_view_module_version": "1.2.0",
            "bar_color": null,
            "_model_module": "@jupyter-widgets/controls"
          }
        },
        "385c08a0f5574d0f82bab943b1ef114b": {
          "model_module": "@jupyter-widgets/base",
          "model_name": "LayoutModel",
          "state": {
            "_view_name": "LayoutView",
            "grid_template_rows": null,
            "right": null,
            "justify_content": null,
            "_view_module": "@jupyter-widgets/base",
            "overflow": null,
            "_model_module_version": "1.2.0",
            "_view_count": null,
            "flex_flow": null,
            "width": null,
            "min_width": null,
            "border": null,
            "align_items": null,
            "bottom": null,
            "_model_module": "@jupyter-widgets/base",
            "top": null,
            "grid_column": null,
            "overflow_y": null,
            "overflow_x": null,
            "grid_auto_flow": null,
            "grid_area": null,
            "grid_template_columns": null,
            "flex": null,
            "_model_name": "LayoutModel",
            "justify_items": null,
            "grid_row": null,
            "max_height": null,
            "align_content": null,
            "visibility": null,
            "align_self": null,
            "height": null,
            "min_height": null,
            "padding": null,
            "grid_auto_rows": null,
            "grid_gap": null,
            "max_width": null,
            "order": null,
            "_view_module_version": "1.2.0",
            "grid_template_areas": null,
            "object_position": null,
            "object_fit": null,
            "grid_auto_columns": null,
            "margin": null,
            "display": null,
            "left": null
          }
        },
        "69f9251425de42e0917906add487b4a5": {
          "model_module": "@jupyter-widgets/controls",
          "model_name": "DescriptionStyleModel",
          "state": {
            "_view_name": "StyleView",
            "_model_name": "DescriptionStyleModel",
            "description_width": "",
            "_view_module": "@jupyter-widgets/base",
            "_model_module_version": "1.5.0",
            "_view_count": null,
            "_view_module_version": "1.2.0",
            "_model_module": "@jupyter-widgets/controls"
          }
        },
        "123fff17aa254e5fb0d2a3b9f5758c06": {
          "model_module": "@jupyter-widgets/base",
          "model_name": "LayoutModel",
          "state": {
            "_view_name": "LayoutView",
            "grid_template_rows": null,
            "right": null,
            "justify_content": null,
            "_view_module": "@jupyter-widgets/base",
            "overflow": null,
            "_model_module_version": "1.2.0",
            "_view_count": null,
            "flex_flow": null,
            "width": null,
            "min_width": null,
            "border": null,
            "align_items": null,
            "bottom": null,
            "_model_module": "@jupyter-widgets/base",
            "top": null,
            "grid_column": null,
            "overflow_y": null,
            "overflow_x": null,
            "grid_auto_flow": null,
            "grid_area": null,
            "grid_template_columns": null,
            "flex": null,
            "_model_name": "LayoutModel",
            "justify_items": null,
            "grid_row": null,
            "max_height": null,
            "align_content": null,
            "visibility": null,
            "align_self": null,
            "height": null,
            "min_height": null,
            "padding": null,
            "grid_auto_rows": null,
            "grid_gap": null,
            "max_width": null,
            "order": null,
            "_view_module_version": "1.2.0",
            "grid_template_areas": null,
            "object_position": null,
            "object_fit": null,
            "grid_auto_columns": null,
            "margin": null,
            "display": null,
            "left": null
          }
        }
      }
    }
  },
  "cells": [
    {
      "cell_type": "markdown",
      "metadata": {
        "id": "view-in-github",
        "colab_type": "text"
      },
      "source": [
        "<a href=\"https://colab.research.google.com/github/Floodnut/Deep_Learning/blob/main/202108/lab_58_MNIST_tensorflow_rev3.ipynb\" target=\"_parent\"><img src=\"https://colab.research.google.com/assets/colab-badge.svg\" alt=\"Open In Colab\"/></a>"
      ]
    },
    {
      "cell_type": "markdown",
      "metadata": {
        "id": "RnFl97xDe3VJ"
      },
      "source": [
        "# MNIST with RandomForest"
      ]
    },
    {
      "cell_type": "code",
      "metadata": {
        "colab": {
          "base_uri": "https://localhost:8080/"
        },
        "id": "XVZE1bRSe2kq",
        "outputId": "213b4e96-831d-4739-fa32-83d9e899ea56"
      },
      "source": [
        "import tensorflow as tf\n",
        "from tensorflow.keras.datasets import mnist\n",
        "from tensorflow.keras import utils\n",
        "import matplotlib.pyplot as plt\n",
        "\n",
        "(X_train, Y_class_train), (X_test, Y_class_test) = mnist.load_data()\n",
        "X_train.shape, Y_class_test.shape"
      ],
      "execution_count": null,
      "outputs": [
        {
          "output_type": "stream",
          "text": [
            "Downloading data from https://storage.googleapis.com/tensorflow/tf-keras-datasets/mnist.npz\n",
            "11493376/11490434 [==============================] - 0s 0us/step\n"
          ],
          "name": "stdout"
        },
        {
          "output_type": "execute_result",
          "data": {
            "text/plain": [
              "((60000, 28, 28), (10000,))"
            ]
          },
          "metadata": {
            "tags": []
          },
          "execution_count": 1
        }
      ]
    },
    {
      "cell_type": "code",
      "metadata": {
        "colab": {
          "base_uri": "https://localhost:8080/"
        },
        "id": "wX1DFS8rfEqI",
        "outputId": "81e2d7ef-51ec-486f-c590-929f22a17693"
      },
      "source": [
        "import pandas as pd\n",
        "from sklearn.ensemble import RandomForestClassifier\n",
        "rfc = RandomForestClassifier(n_estimators=50)\n",
        "rfc.fit(X_train.reshape(X_train.shape[0], 28*28), Y_class_train)\n",
        "rfc.score(X_test.reshape(X_test.shape[0], 28*28), Y_class_test)"
      ],
      "execution_count": null,
      "outputs": [
        {
          "output_type": "execute_result",
          "data": {
            "text/plain": [
              "0.9673"
            ]
          },
          "metadata": {
            "tags": []
          },
          "execution_count": 2
        }
      ]
    },
    {
      "cell_type": "markdown",
      "metadata": {
        "id": "zmAUXjRjaKl3"
      },
      "source": [
        "# MNIST with Tensorflow 2.0 (version 1)\n",
        "- from internet\n",
        "- Multi-class logistic regression (simple MLP without hidden layer)\n",
        "- https://builtin.com/data-science/guide-logistic-regression-tensorflow-20\n",
        "\n",
        "\n"
      ]
    },
    {
      "cell_type": "code",
      "metadata": {
        "id": "XRcyJVVi7xoj"
      },
      "source": [
        "# step 1: importing modules\n",
        "\n",
        "import tensorflow as tf\n",
        "import numpy as np"
      ],
      "execution_count": null,
      "outputs": []
    },
    {
      "cell_type": "code",
      "metadata": {
        "id": "ePnKX-lG_giE"
      },
      "source": [
        "# step 2: loading and preparing mnist dataset\n",
        "\n",
        "from tensorflow.keras.datasets import mnist\n",
        "num_classes = 10        # 0 to 9 digits\n",
        "num_features = 28 * 28\n",
        "(x_train, y_train), (x_test, y_test) = mnist.load_data()\n",
        "x_train, x_test = np.array(x_train, np.float32), np.array(x_test, np.float32)\n",
        "x_train, x_test = x_train.reshape([-1, num_features]), x_test.reshape([-1, num_features])\n",
        "x_train, x_test = x_train / 255., x_test / 255."
      ],
      "execution_count": null,
      "outputs": []
    },
    {
      "cell_type": "code",
      "metadata": {
        "colab": {
          "base_uri": "https://localhost:8080/"
        },
        "id": "PE3PPsCGFFTt",
        "outputId": "caee2cef-20fe-4c90-c6cb-17ef6b6ee33d"
      },
      "source": [
        "x_train.shape, x_test.shape, y_train.shape, y_test.shape"
      ],
      "execution_count": null,
      "outputs": [
        {
          "output_type": "execute_result",
          "data": {
            "text/plain": [
              "((60000, 784), (10000, 784), (60000,), (10000,))"
            ]
          },
          "metadata": {
            "tags": []
          },
          "execution_count": 5
        }
      ]
    },
    {
      "cell_type": "code",
      "metadata": {
        "id": "dFr4-k3q7xos"
      },
      "source": [
        "# step 3: setting up hyperparameters and dataset parameters\n",
        "\n",
        "learning_rate = 0.01\n",
        "training_steps = 2000\n",
        "batch_size = 256\n",
        "display_step = 50"
      ],
      "execution_count": null,
      "outputs": []
    },
    {
      "cell_type": "code",
      "metadata": {
        "id": "32ndi_Kp7xoy"
      },
      "source": [
        "# step 4: shuffling and batching the dataset\n",
        "# - Prefetching overlaps the preprocessing and model execution of a training step. \n",
        "#   While the model is executing training step s, the input pipeline is reading \n",
        "#   the data for step s+1. Doing so reduces the step time to the maximum (as \n",
        "#   opposed to the sum) of the training and the time it takes to extract the data.\n",
        "\n",
        "train_data=tf.data.Dataset.from_tensor_slices((x_train,y_train))\n",
        "# train_data=train_data.repeat().shuffle(5000).batch(batch_size).prefetch(1)\n",
        "train_data=train_data.repeat().shuffle(5000).batch(batch_size)"
      ],
      "execution_count": null,
      "outputs": []
    },
    {
      "cell_type": "code",
      "metadata": {
        "colab": {
          "base_uri": "https://localhost:8080/"
        },
        "id": "42RtscNxHJDV",
        "outputId": "5b051e5f-01c0-4088-afa5-199338baf22a"
      },
      "source": [
        "train_data"
      ],
      "execution_count": null,
      "outputs": [
        {
          "output_type": "execute_result",
          "data": {
            "text/plain": [
              "<BatchDataset shapes: ((None, 784), (None,)), types: (tf.float32, tf.uint8)>"
            ]
          },
          "metadata": {
            "tags": []
          },
          "execution_count": 8
        }
      ]
    },
    {
      "cell_type": "code",
      "metadata": {
        "colab": {
          "base_uri": "https://localhost:8080/"
        },
        "id": "T94WY4on7xo_",
        "outputId": "0d8548cb-ba30-42f9-e284-d80ab95bf248"
      },
      "source": [
        "# step 5: initializing weights and biases\n",
        "\n",
        "W = tf.Variable(tf.random.normal([num_features, num_classes]), name=\"weight\") # (784,10)\n",
        "b = tf.Variable(tf.random.normal([num_classes]), name=\"bias\")                # (10,)\n",
        "W, b"
      ],
      "execution_count": null,
      "outputs": [
        {
          "output_type": "execute_result",
          "data": {
            "text/plain": [
              "(<tf.Variable 'weight:0' shape=(784, 10) dtype=float32, numpy=\n",
              " array([[-1.7492515 ,  0.43506742,  0.24408351, ...,  0.35425797,\n",
              "          0.82126224,  1.1639957 ],\n",
              "        [ 1.1516315 , -0.01422132,  0.217782  , ...,  1.4870563 ,\n",
              "          0.58964723,  0.35184997],\n",
              "        [ 0.10296072, -0.84835875,  1.3802586 , ...,  0.08225807,\n",
              "          0.31596437, -0.94875634],\n",
              "        ...,\n",
              "        [ 0.12569301,  0.9350728 ,  1.4006798 , ...,  1.25111   ,\n",
              "          1.0219148 ,  0.9458212 ],\n",
              "        [ 0.08961567, -1.5261424 , -0.5720204 , ...,  0.11562731,\n",
              "         -0.3437411 ,  1.1037972 ],\n",
              "        [-0.17801782,  0.636573  , -0.6636278 , ..., -0.59746253,\n",
              "          0.26132643,  0.05156935]], dtype=float32)>,\n",
              " <tf.Variable 'bias:0' shape=(10,) dtype=float32, numpy=\n",
              " array([-0.76497006,  0.55202156, -1.964297  , -0.11233003, -2.6362698 ,\n",
              "        -0.32429746,  1.188272  , -0.20051867,  1.4313276 ,  0.09225704],\n",
              "       dtype=float32)>)"
            ]
          },
          "metadata": {
            "tags": []
          },
          "execution_count": 9
        }
      ]
    },
    {
      "cell_type": "code",
      "metadata": {
        "id": "vgclHQQP7xpT"
      },
      "source": [
        "# step 6: defining logistic regression and cost function\n",
        "\n",
        "def logistic_regression(x):\n",
        "    return tf.nn.softmax(tf.matmul(x, W) + b)\n",
        "\n",
        "def cross_entropy(y_pred, y_true):\n",
        "    y_true = tf.one_hot(y_true, depth=num_classes)\n",
        "    y_pred = tf.clip_by_value(y_pred, 1e-9, 1.)  # to avoid log(0) error\n",
        "    ce1 = tf.reduce_mean(-tf.reduce_sum(y_true * tf.math.log(y_pred), axis=1))\n",
        "    ce0 = tf.reduce_mean(-tf.reduce_sum(y_true * tf.math.log(y_pred)))       # wrong\n",
        "    ce2 = tf.reduce_mean(tf.losses.categorical_crossentropy(y_true, y_pred)) # function\n",
        "    return ce1"
      ],
      "execution_count": null,
      "outputs": []
    },
    {
      "cell_type": "code",
      "metadata": {
        "id": "pxMJa11nC0H1"
      },
      "source": [
        "# step 7: defining optimizers and accuracy metrics\n",
        "\n",
        "def accuracy(y_pred, y_true):\n",
        "    correct_prediction = tf.equal(tf.argmax(y_pred, 1), tf.cast(y_true, tf.int64)) # axis=1\n",
        "    return tf.reduce_mean(tf.cast(correct_prediction, tf.float32))\n",
        "\n",
        "optimizer = tf.optimizers.Adam(learning_rate)"
      ],
      "execution_count": null,
      "outputs": []
    },
    {
      "cell_type": "code",
      "metadata": {
        "id": "zhGalATXDTc1"
      },
      "source": [
        "# step 8: optimization process and updating weights and biases\n",
        "\n",
        "def run_optimization(x, y):\n",
        "    \n",
        "    with tf.GradientTape() as tape:\n",
        "        y_pred = logistic_regression(x)\n",
        "        loss = cross_entropy(y_pred, y)\n",
        "\n",
        "    gradients = tape.gradient(loss, [W, b])\n",
        "    optimizer.apply_gradients(zip(gradients, [W, b]))  # updates"
      ],
      "execution_count": null,
      "outputs": []
    },
    {
      "cell_type": "code",
      "metadata": {
        "colab": {
          "base_uri": "https://localhost:8080/"
        },
        "id": "62y8TcyGD5J0",
        "outputId": "6137409b-0425-4771-d7a0-a15f1f1d130d"
      },
      "source": [
        "# step 9: the training loop\n",
        "# dataset.take(c): Creates a Dataset with at most c elements from this dataset.\n",
        "# batch_size 만큼씩  c 번 뽑는다.\n",
        "\n",
        "for step, (batch_x, batch_y) in enumerate(train_data.take(training_steps), 1):\n",
        "\n",
        "    # print(batch_x.shape, batch_y.shape)   # (256,784), (256,)\n",
        "    run_optimization(batch_x, batch_y)\n",
        "\n",
        "    if step % display_step == 0:\n",
        "        pred = logistic_regression(batch_x)\n",
        "        loss = cross_entropy(pred, batch_y)\n",
        "        acc = accuracy(pred, batch_y)\n",
        "        print(\"step: %i, loss: %f, accuracy: %f\" % (step, loss, acc))"
      ],
      "execution_count": null,
      "outputs": [
        {
          "output_type": "stream",
          "text": [
            "step: 50, loss: 2.471370, accuracy: 0.644531\n",
            "step: 100, loss: 1.076135, accuracy: 0.777344\n",
            "step: 150, loss: 1.089618, accuracy: 0.785156\n",
            "step: 200, loss: 0.876027, accuracy: 0.828125\n",
            "step: 250, loss: 0.531103, accuracy: 0.882812\n",
            "step: 300, loss: 0.516839, accuracy: 0.855469\n",
            "step: 350, loss: 0.677861, accuracy: 0.839844\n",
            "step: 400, loss: 0.464262, accuracy: 0.875000\n",
            "step: 450, loss: 0.546093, accuracy: 0.894531\n",
            "step: 500, loss: 0.573479, accuracy: 0.882812\n",
            "step: 550, loss: 0.515236, accuracy: 0.914062\n",
            "step: 600, loss: 0.422419, accuracy: 0.894531\n",
            "step: 650, loss: 0.552586, accuracy: 0.875000\n",
            "step: 700, loss: 0.178513, accuracy: 0.941406\n",
            "step: 750, loss: 0.400797, accuracy: 0.886719\n",
            "step: 800, loss: 0.357729, accuracy: 0.886719\n",
            "step: 850, loss: 0.677487, accuracy: 0.886719\n",
            "step: 900, loss: 0.364644, accuracy: 0.894531\n",
            "step: 950, loss: 0.314574, accuracy: 0.910156\n",
            "step: 1000, loss: 0.554440, accuracy: 0.890625\n",
            "step: 1050, loss: 0.376212, accuracy: 0.917969\n",
            "step: 1100, loss: 0.468099, accuracy: 0.882812\n",
            "step: 1150, loss: 0.457037, accuracy: 0.906250\n",
            "step: 1200, loss: 0.329066, accuracy: 0.886719\n",
            "step: 1250, loss: 0.488822, accuracy: 0.882812\n",
            "step: 1300, loss: 0.265091, accuracy: 0.917969\n",
            "step: 1350, loss: 0.432075, accuracy: 0.886719\n",
            "step: 1400, loss: 0.311488, accuracy: 0.929688\n",
            "step: 1450, loss: 0.421537, accuracy: 0.910156\n",
            "step: 1500, loss: 0.257469, accuracy: 0.917969\n",
            "step: 1550, loss: 0.429645, accuracy: 0.882812\n",
            "step: 1600, loss: 0.571310, accuracy: 0.882812\n",
            "step: 1650, loss: 0.274628, accuracy: 0.933594\n",
            "step: 1700, loss: 0.357821, accuracy: 0.894531\n",
            "step: 1750, loss: 0.251087, accuracy: 0.945312\n",
            "step: 1800, loss: 0.445076, accuracy: 0.882812\n",
            "step: 1850, loss: 0.284863, accuracy: 0.945312\n",
            "step: 1900, loss: 0.222256, accuracy: 0.929688\n",
            "step: 1950, loss: 0.357504, accuracy: 0.910156\n",
            "step: 2000, loss: 0.222897, accuracy: 0.914062\n"
          ],
          "name": "stdout"
        }
      ]
    },
    {
      "cell_type": "code",
      "metadata": {
        "colab": {
          "base_uri": "https://localhost:8080/"
        },
        "id": "TOld6mf8Ec79",
        "outputId": "310fbf1d-7a2e-42c1-dd31-27e1c699e35c"
      },
      "source": [
        "# step 10: testing model accuracy using the test data\n",
        "\n",
        "pred = logistic_regression(x_test)\n",
        "print(\"Test Accuracy: %f\" % accuracy(pred, y_test))"
      ],
      "execution_count": null,
      "outputs": [
        {
          "output_type": "stream",
          "text": [
            "Test Accuracy: 0.916200\n"
          ],
          "name": "stdout"
        }
      ]
    },
    {
      "cell_type": "code",
      "metadata": {
        "colab": {
          "base_uri": "https://localhost:8080/",
          "height": 1000
        },
        "id": "7MUcmw5HVDev",
        "outputId": "2ff3a0d7-8805-4d04-e890-e7bb5cb18a17"
      },
      "source": [
        "# step 11: visualizing the classification result\n",
        "\n",
        "import matplotlib.pyplot as plt\n",
        "\n",
        "n_images = 5\n",
        "test_images = x_test[:n_images]\n",
        "predictions = logistic_regression(test_images)\n",
        "\n",
        "for i in range(n_images):\n",
        "    plt.imshow(np.reshape(test_images[i], [28,28]), cmap='gray')\n",
        "    plt.show()\n",
        "    print('model prediction: %i' %np.argmax(predictions.numpy()[i]))"
      ],
      "execution_count": null,
      "outputs": [
        {
          "output_type": "display_data",
          "data": {
            "image/png": "[encoded data removed]",
            "text/plain": [
              "<Figure size 432x288 with 1 Axes>"
            ]
          },
          "metadata": {
            "tags": [],
            "needs_background": "light"
          }
        },
        {
          "output_type": "stream",
          "text": [
            "model prediction: 7\n"
          ],
          "name": "stdout"
        },
        {
          "output_type": "display_data",
          "data": {
            "image/png": "[encoded data removed]",
            "text/plain": [
              "<Figure size 432x288 with 1 Axes>"
            ]
          },
          "metadata": {
            "tags": [],
            "needs_background": "light"
          }
        },
        {
          "output_type": "stream",
          "text": [
            "model prediction: 2\n"
          ],
          "name": "stdout"
        },
        {
          "output_type": "display_data",
          "data": {
            "image/png": "[encoded data removed]",
            "text/plain": [
              "<Figure size 432x288 with 1 Axes>"
            ]
          },
          "metadata": {
            "tags": [],
            "needs_background": "light"
          }
        },
        {
          "output_type": "stream",
          "text": [
            "model prediction: 1\n"
          ],
          "name": "stdout"
        },
        {
          "output_type": "display_data",
          "data": {
            "image/png": "[encoded data removed]",
            "text/plain": [
              "<Figure size 432x288 with 1 Axes>"
            ]
          },
          "metadata": {
            "tags": [],
            "needs_background": "light"
          }
        },
        {
          "output_type": "stream",
          "text": [
            "model prediction: 0\n"
          ],
          "name": "stdout"
        },
        {
          "output_type": "display_data",
          "data": {
            "image/png": "[encoded data removed]",
            "text/plain": [
              "<Figure size 432x288 with 1 Axes>"
            ]
          },
          "metadata": {
            "tags": [],
            "needs_background": "light"
          }
        },
        {
          "output_type": "stream",
          "text": [
            "model prediction: 4\n"
          ],
          "name": "stdout"
        }
      ]
    },
    {
      "cell_type": "markdown",
      "metadata": {
        "id": "vXm3p3lIaA6p"
      },
      "source": [
        "# MNIST with tensorflow 2.0 (version 2)\n",
        "- all in one code routine (for easy migration from the simpler regression code)\n",
        "- my version"
      ]
    },
    {
      "cell_type": "code",
      "metadata": {
        "id": "VjiF4k_hadWN"
      },
      "source": [
        "from tensorflow.keras.datasets import mnist\n",
        "num_classes = 10        # 0 to 9 digits\n",
        "num_features = 28 * 28\n",
        "(x_train, y_train), (x_test, y_test) = mnist.load_data()\n",
        "x_train, x_test = np.array(x_train, np.float32), np.array(x_test, np.float32)\n",
        "x_train, x_test = x_train.reshape([-1, num_features]), x_test.reshape([-1, num_features])\n",
        "x_train, x_test = x_train / 255., x_test / 255."
      ],
      "execution_count": null,
      "outputs": []
    },
    {
      "cell_type": "code",
      "metadata": {
        "id": "m2pYh2nYag15"
      },
      "source": [
        "input_size = 784\n",
        "num_classes = 10\n",
        "batch_size = 300\n",
        "num_epochs = 10\n",
        "learning_rate = 0.01"
      ],
      "execution_count": null,
      "outputs": []
    },
    {
      "cell_type": "code",
      "metadata": {
        "id": "T7b177eQakHp"
      },
      "source": [
        "train_data=tf.data.Dataset.from_tensor_slices((x_train,y_train))\n",
        "train_data=train_data.shuffle(5000).batch(batch_size)"
      ],
      "execution_count": null,
      "outputs": []
    },
    {
      "cell_type": "code",
      "metadata": {
        "id": "On28C_ANamzZ"
      },
      "source": [
        "W = tf.Variable(tf.random.normal([input_size, num_classes])) # (784,10)\n",
        "b = tf.Variable(tf.random.normal([num_classes]))             # (10,)"
      ],
      "execution_count": null,
      "outputs": []
    },
    {
      "cell_type": "code",
      "metadata": {
        "colab": {
          "base_uri": "https://localhost:8080/"
        },
        "id": "SPlVk0xsaqAV",
        "outputId": "9f9a4be4-5d42-44bb-b8e8-27329a2835bb"
      },
      "source": [
        "# Training\n",
        "for e in range( num_epochs ):\n",
        "    for step, (batch_x, batch_y) in enumerate(train_data, 1):\n",
        "        with tf.GradientTape() as tape:\n",
        "            y_pred = tf.nn.softmax(tf.matmul(batch_x, W) + b)\n",
        "            y_pred = tf.clip_by_value(y_pred, 1e-9, 1.)\n",
        "            batch_y_ohe = tf.one_hot(batch_y, depth = 10)\n",
        "            loss = tf.reduce_mean(tf.losses.categorical_crossentropy( batch_y_ohe , y_pred ))\n",
        "            # loss = tf.reduce_mean(-tf.reduce_sum(batch_y * tf.math.log(y_pred), axis=1))\n",
        "\n",
        "        grads = tape.gradient(loss, [W, b])\n",
        "        optimizer = tf.optimizers.Adam( learning_rate )\n",
        "        # Adam 과 SGD 비교해 보면 좋음.\n",
        "        optimizer.apply_gradients(zip(grads, [W,b]))\n",
        "\n",
        "        corr_predict = tf.equal(tf.argmax(y_pred, 1), tf.cast(batch_y, tf.int64))\n",
        "        acc = tf.reduce_mean(tf.cast(corr_predict, tf.float32))\n",
        "\n",
        "        if step % 50 == 0: \n",
        "           print(\"epoch: %i, step: %i, loss: %f, acc: %f\" % (e, step, loss, acc))\n",
        "    \n",
        "    # print(\"epoch: %i, loss: %f, accuracy: %f\" % (e, loss, acc))\n",
        "\n",
        "# Testing\n",
        "test_y_pred = tf.nn.softmax(tf.matmul(x_test, W) + b)\n",
        "test_pred = tf.equal(tf.argmax(test_y_pred, 1), tf.cast(y_test, tf.int64))\n",
        "test_acc = tf.reduce_mean(tf.cast(test_pred, tf.float32))\n",
        "\n",
        "print(\"Test accuracy: %f\" % test_acc)"
      ],
      "execution_count": null,
      "outputs": [
        {
          "output_type": "stream",
          "text": [
            "epoch: 0, step: 50, loss: 1.984009, acc: 0.676667\n",
            "epoch: 0, step: 100, loss: 1.657289, acc: 0.753333\n",
            "epoch: 0, step: 150, loss: 0.709410, acc: 0.863333\n",
            "epoch: 0, step: 200, loss: 0.833557, acc: 0.860000\n",
            "epoch: 1, step: 50, loss: 0.546954, acc: 0.890000\n",
            "epoch: 1, step: 100, loss: 0.682011, acc: 0.873333\n",
            "epoch: 1, step: 150, loss: 0.745240, acc: 0.873333\n",
            "epoch: 1, step: 200, loss: 0.380748, acc: 0.910000\n",
            "epoch: 2, step: 50, loss: 0.635946, acc: 0.903333\n",
            "epoch: 2, step: 100, loss: 0.641439, acc: 0.906667\n",
            "epoch: 2, step: 150, loss: 0.675430, acc: 0.880000\n",
            "epoch: 2, step: 200, loss: 0.473745, acc: 0.920000\n",
            "epoch: 3, step: 50, loss: 0.395909, acc: 0.933333\n",
            "epoch: 3, step: 100, loss: 0.570281, acc: 0.910000\n",
            "epoch: 3, step: 150, loss: 0.446418, acc: 0.896667\n",
            "epoch: 3, step: 200, loss: 0.276639, acc: 0.926667\n",
            "epoch: 4, step: 50, loss: 0.413534, acc: 0.916667\n",
            "epoch: 4, step: 100, loss: 0.402798, acc: 0.906667\n",
            "epoch: 4, step: 150, loss: 0.508028, acc: 0.903333\n",
            "epoch: 4, step: 200, loss: 0.368843, acc: 0.940000\n",
            "epoch: 5, step: 50, loss: 0.613309, acc: 0.883333\n",
            "epoch: 5, step: 100, loss: 0.446396, acc: 0.910000\n",
            "epoch: 5, step: 150, loss: 0.522418, acc: 0.906667\n",
            "epoch: 5, step: 200, loss: 0.398811, acc: 0.953333\n",
            "epoch: 6, step: 50, loss: 0.409072, acc: 0.936667\n",
            "epoch: 6, step: 100, loss: 0.579584, acc: 0.893333\n",
            "epoch: 6, step: 150, loss: 0.607803, acc: 0.906667\n",
            "epoch: 6, step: 200, loss: 0.414298, acc: 0.936667\n",
            "epoch: 7, step: 50, loss: 0.366364, acc: 0.913333\n",
            "epoch: 7, step: 100, loss: 0.356596, acc: 0.920000\n",
            "epoch: 7, step: 150, loss: 0.602803, acc: 0.893333\n",
            "epoch: 7, step: 200, loss: 0.342132, acc: 0.940000\n",
            "epoch: 8, step: 50, loss: 0.346617, acc: 0.933333\n",
            "epoch: 8, step: 100, loss: 0.651586, acc: 0.906667\n",
            "epoch: 8, step: 150, loss: 0.475727, acc: 0.926667\n",
            "epoch: 8, step: 200, loss: 0.392460, acc: 0.936667\n",
            "epoch: 9, step: 50, loss: 0.447908, acc: 0.923333\n",
            "epoch: 9, step: 100, loss: 0.579657, acc: 0.913333\n",
            "epoch: 9, step: 150, loss: 0.621807, acc: 0.883333\n",
            "epoch: 9, step: 200, loss: 0.261991, acc: 0.940000\n",
            "Test accuracy: 0.915500\n"
          ],
          "name": "stdout"
        }
      ]
    },
    {
      "cell_type": "markdown",
      "metadata": {
        "id": "CaC9Tf5apB88"
      },
      "source": [
        "# MNIST tensorflow 2.0 (version 3)\n",
        "- function define"
      ]
    },
    {
      "cell_type": "code",
      "metadata": {
        "colab": {
          "base_uri": "https://localhost:8080/"
        },
        "id": "U3wG34F9pJiE",
        "outputId": "f0a595ba-17a4-4926-fe4d-ecdc1b26ac75"
      },
      "source": [
        "import tensorflow as tf\n",
        "import numpy as np\n",
        "from tensorflow.keras.datasets import mnist\n",
        "num_classes = 10        # 0 to 9 digits\n",
        "num_features = 28 * 28\n",
        "(x_train, y_train), (x_test, y_test) = mnist.load_data()\n",
        "x_train, x_test = np.array(x_train, np.float32), np.array(x_test, np.float32)\n",
        "x_train, x_test = x_train.reshape([-1, num_features]), x_test.reshape([-1, num_features])\n",
        "x_train, x_test = x_train / 255., x_test / 255.\n",
        "\n",
        "input_size = 784\n",
        "num_classes = 10\n",
        "batch_size = 300\n",
        "num_epochs = 10\n",
        "learning_rate = 0.01\n",
        "\n",
        "train_data=tf.data.Dataset.from_tensor_slices((x_train,y_train))\n",
        "train_data=train_data.shuffle(5000).batch(batch_size)\n",
        "\n",
        "W = tf.Variable(tf.random.normal([input_size, num_classes])) # (784,10)\n",
        "b = tf.Variable(tf.random.normal([num_classes]))             # (10,)\n",
        "\n",
        "def model(X):\n",
        "    return tf.nn.softmax(tf.matmul(X, W) + b)\n",
        "\n",
        "def loss_fn(y_pred, y_true):\n",
        "    y_pred = tf.clip_by_value(y_pred, 1e-9, 1.)\n",
        "    y_true_ohe = tf.one_hot(batch_y, depth = 10)\n",
        "    return tf.reduce_mean(tf.losses.categorical_crossentropy(y_true_ohe, y_pred))\n",
        "\n",
        "optimizer = tf.optimizers.Adam( learning_rate )\n",
        "\n",
        "def train_step (x, y):\n",
        "\n",
        "    with tf.GradientTape() as tape:\n",
        "        y_pred = model(x)\n",
        "        loss = loss_fn (y_pred, y)\n",
        "    grads = tape.gradient(loss, [W, b])\n",
        "    optimizer.apply_gradients(zip(grads, [W,b]))\n",
        "\n",
        "def accuracy(y_pred, y_true):\n",
        "    corr_predict = tf.equal(tf.argmax(y_pred, 1), tf.cast(y_true, tf.int64))\n",
        "    return tf.reduce_mean(tf.cast(corr_predict, tf.float32))\n",
        "\n",
        "# Training\n",
        "for e in range( num_epochs ):\n",
        "    for step, (batch_x, batch_y) in enumerate(train_data, 1):\n",
        "        with tf.GradientTape() as tape:\n",
        "            train_step(batch_x, batch_y)\n",
        "\n",
        "        if step % 50 == 0: \n",
        "            pred = model(batch_x)\n",
        "            loss = loss_fn (pred, batch_y)\n",
        "            acc = accuracy(pred, batch_y)\n",
        "            print(\"epoch: %i, step: %i, loss: %f, acc: %f\" % (e, step, loss, acc))\n",
        "\n",
        "# Testing\n",
        "test_y_pred = model(x_test)\n",
        "test_acc = accuracy(test_y_pred, y_test)\n",
        "print(\"Test accuracy: %f\" % test_acc)"
      ],
      "execution_count": null,
      "outputs": [
        {
          "output_type": "stream",
          "text": [
            "epoch: 0, step: 50, loss: 2.263271, acc: 0.630000\n",
            "epoch: 0, step: 100, loss: 1.172943, acc: 0.783333\n",
            "epoch: 0, step: 150, loss: 0.813581, acc: 0.816667\n",
            "epoch: 0, step: 200, loss: 0.672647, acc: 0.863333\n",
            "epoch: 1, step: 50, loss: 0.622483, acc: 0.856667\n",
            "epoch: 1, step: 100, loss: 0.449097, acc: 0.900000\n",
            "epoch: 1, step: 150, loss: 0.723137, acc: 0.863333\n",
            "epoch: 1, step: 200, loss: 0.539639, acc: 0.900000\n",
            "epoch: 2, step: 50, loss: 0.559083, acc: 0.870000\n",
            "epoch: 2, step: 100, loss: 0.536660, acc: 0.880000\n",
            "epoch: 2, step: 150, loss: 0.557043, acc: 0.893333\n",
            "epoch: 2, step: 200, loss: 0.385836, acc: 0.910000\n",
            "epoch: 3, step: 50, loss: 0.455158, acc: 0.893333\n",
            "epoch: 3, step: 100, loss: 0.357644, acc: 0.926667\n",
            "epoch: 3, step: 150, loss: 0.382530, acc: 0.870000\n",
            "epoch: 3, step: 200, loss: 0.368344, acc: 0.903333\n",
            "epoch: 4, step: 50, loss: 0.417893, acc: 0.906667\n",
            "epoch: 4, step: 100, loss: 0.381598, acc: 0.880000\n",
            "epoch: 4, step: 150, loss: 0.215886, acc: 0.933333\n",
            "epoch: 4, step: 200, loss: 0.222810, acc: 0.940000\n",
            "epoch: 5, step: 50, loss: 0.196285, acc: 0.943333\n",
            "epoch: 5, step: 100, loss: 0.356947, acc: 0.913333\n",
            "epoch: 5, step: 150, loss: 0.295770, acc: 0.933333\n",
            "epoch: 5, step: 200, loss: 0.319265, acc: 0.926667\n",
            "epoch: 6, step: 50, loss: 0.336738, acc: 0.933333\n",
            "epoch: 6, step: 100, loss: 0.451446, acc: 0.890000\n",
            "epoch: 6, step: 150, loss: 0.443470, acc: 0.913333\n",
            "epoch: 6, step: 200, loss: 0.262361, acc: 0.930000\n",
            "epoch: 7, step: 50, loss: 0.340434, acc: 0.913333\n",
            "epoch: 7, step: 100, loss: 0.376408, acc: 0.900000\n",
            "epoch: 7, step: 150, loss: 0.464528, acc: 0.906667\n",
            "epoch: 7, step: 200, loss: 0.384462, acc: 0.920000\n",
            "epoch: 8, step: 50, loss: 0.395091, acc: 0.910000\n",
            "epoch: 8, step: 100, loss: 0.295641, acc: 0.910000\n",
            "epoch: 8, step: 150, loss: 0.367566, acc: 0.906667\n",
            "epoch: 8, step: 200, loss: 0.368617, acc: 0.923333\n",
            "epoch: 9, step: 50, loss: 0.295573, acc: 0.933333\n",
            "epoch: 9, step: 100, loss: 0.306420, acc: 0.906667\n",
            "epoch: 9, step: 150, loss: 0.441525, acc: 0.883333\n",
            "epoch: 9, step: 200, loss: 0.268147, acc: 0.920000\n",
            "Test accuracy: 0.913500\n"
          ],
          "name": "stdout"
        }
      ]
    },
    {
      "cell_type": "markdown",
      "metadata": {
        "id": "I8sIJgJ6nByz"
      },
      "source": [
        "# 연습"
      ]
    },
    {
      "cell_type": "markdown",
      "metadata": {
        "id": "gCCYLHc3oSv6"
      },
      "source": [
        "- dataset\n",
        "- as_numpy_iterator(): returns an iterator which converts all elements of the dataset to numpy.\n",
        "- Use this function to inspect the content of your dataset. \n",
        "- To see element shapes and types, print dataset elements directly instead of using as_numpy_iterator."
      ]
    },
    {
      "cell_type": "code",
      "metadata": {
        "colab": {
          "base_uri": "https://localhost:8080/"
        },
        "id": "9XR9506CnDhb",
        "outputId": "9c60dd68-c9b0-49d8-c859-22ab27607911"
      },
      "source": [
        "dataset = tf.data.Dataset.from_tensor_slices([1, 2, 3])\n",
        "for element in dataset:\n",
        "    print(element)"
      ],
      "execution_count": null,
      "outputs": [
        {
          "output_type": "stream",
          "text": [
            "tf.Tensor(1, shape=(), dtype=int32)\n",
            "tf.Tensor(2, shape=(), dtype=int32)\n",
            "tf.Tensor(3, shape=(), dtype=int32)\n"
          ],
          "name": "stdout"
        }
      ]
    },
    {
      "cell_type": "code",
      "metadata": {
        "colab": {
          "base_uri": "https://localhost:8080/"
        },
        "id": "Q-IqIMf6oo8p",
        "outputId": "32bb2849-7453-4c4c-8db0-e03579e53b14"
      },
      "source": [
        "print(list(dataset.as_numpy_iterator()))"
      ],
      "execution_count": null,
      "outputs": [
        {
          "output_type": "stream",
          "text": [
            "[1, 2, 3]\n"
          ],
          "name": "stdout"
        }
      ]
    },
    {
      "cell_type": "code",
      "metadata": {
        "colab": {
          "base_uri": "https://localhost:8080/"
        },
        "id": "PW7QaYN5ndRL",
        "outputId": "112fc41f-217d-4374-b767-9cac72e63b1d"
      },
      "source": [
        "dataset = tf.data.Dataset.from_tensor_slices([1, 2, 3])\n",
        "dataset = dataset.map(lambda x: x*2)\n",
        "list(dataset.as_numpy_iterator())"
      ],
      "execution_count": null,
      "outputs": [
        {
          "output_type": "execute_result",
          "data": {
            "text/plain": [
              "[2, 4, 6]"
            ]
          },
          "metadata": {
            "tags": []
          },
          "execution_count": 24
        }
      ]
    },
    {
      "cell_type": "code",
      "metadata": {
        "colab": {
          "base_uri": "https://localhost:8080/"
        },
        "id": "NKjMDUy3o3bM",
        "outputId": "e947ad79-c122-4a0c-9c06-6b81d5ba181b"
      },
      "source": [
        "dataset = tf.data.Dataset.range(8)\n",
        "[i.numpy() for i in dataset]"
      ],
      "execution_count": null,
      "outputs": [
        {
          "output_type": "execute_result",
          "data": {
            "text/plain": [
              "[0, 1, 2, 3, 4, 5, 6, 7]"
            ]
          },
          "metadata": {
            "tags": []
          },
          "execution_count": 25
        }
      ]
    },
    {
      "cell_type": "code",
      "metadata": {
        "colab": {
          "base_uri": "https://localhost:8080/"
        },
        "id": "-ShAbXAdpCMF",
        "outputId": "bd5a0687-e3aa-4d6a-e21c-c354ec340a3f"
      },
      "source": [
        "dataset = tf.data.Dataset.range(8)\n",
        "dataset = dataset.shuffle(10).batch(3)\n",
        "print(dataset)\n",
        "print(dataset.as_numpy_iterator())\n",
        "for i in dataset:\n",
        "    print (i)\n",
        "for i in dataset.as_numpy_iterator():\n",
        "    print (i)"
      ],
      "execution_count": null,
      "outputs": [
        {
          "output_type": "stream",
          "text": [
            "<BatchDataset shapes: (None,), types: tf.int64>\n",
            "<tensorflow.python.data.ops.dataset_ops._NumpyIterator object at 0x7fb12c88c210>\n",
            "tf.Tensor([2 3 1], shape=(3,), dtype=int64)\n",
            "tf.Tensor([6 7 5], shape=(3,), dtype=int64)\n",
            "tf.Tensor([4 0], shape=(2,), dtype=int64)\n",
            "[7 5 2]\n",
            "[0 1 3]\n",
            "[6 4]\n"
          ],
          "name": "stdout"
        }
      ]
    },
    {
      "cell_type": "code",
      "metadata": {
        "colab": {
          "base_uri": "https://localhost:8080/"
        },
        "id": "O7GEJaMQoHQ7",
        "outputId": "c842e74b-f884-4e2c-a57a-a04ddac09f99"
      },
      "source": [
        "dataset = tf.data.Dataset.from_tensor_slices([1, 2, 3])\n",
        "\n",
        "for element in enumerate(dataset):\n",
        "    print(element)\n",
        "for element in enumerate(dataset.as_numpy_iterator()):\n",
        "    print( element)"
      ],
      "execution_count": null,
      "outputs": [
        {
          "output_type": "stream",
          "text": [
            "(0, <tf.Tensor: shape=(), dtype=int32, numpy=1>)\n",
            "(1, <tf.Tensor: shape=(), dtype=int32, numpy=2>)\n",
            "(2, <tf.Tensor: shape=(), dtype=int32, numpy=3>)\n",
            "(0, 1)\n",
            "(1, 2)\n",
            "(2, 3)\n"
          ],
          "name": "stdout"
        }
      ]
    },
    {
      "cell_type": "code",
      "metadata": {
        "colab": {
          "base_uri": "https://localhost:8080/"
        },
        "id": "8x-H27jOqZEz",
        "outputId": "b11e8770-96c3-4b25-9315-245814d1add1"
      },
      "source": [
        "dataset = tf.data.Dataset.from_tensor_slices([(7, 8), (9, 10)])\n",
        "dataset = dataset.enumerate()\n",
        "for element in dataset.as_numpy_iterator():\n",
        "  print(element)"
      ],
      "execution_count": null,
      "outputs": [
        {
          "output_type": "stream",
          "text": [
            "(0, array([7, 8], dtype=int32))\n",
            "(1, array([ 9, 10], dtype=int32))\n"
          ],
          "name": "stdout"
        }
      ]
    },
    {
      "cell_type": "code",
      "metadata": {
        "colab": {
          "base_uri": "https://localhost:8080/"
        },
        "id": "Baq5cjKYw4d0",
        "outputId": "b576e5c7-bcb5-4a4a-9a7c-e24983e9e761"
      },
      "source": [
        "dataset = tf.data.Dataset.range(10)\n",
        "dataset = dataset.shuffle(buffer_size=5).batch(3)\n",
        "\n",
        "for element in dataset.as_numpy_iterator():\n",
        "    print(element)"
      ],
      "execution_count": null,
      "outputs": [
        {
          "output_type": "stream",
          "text": [
            "[0 2 5]\n",
            "[3 6 8]\n",
            "[1 9 4]\n",
            "[7]\n"
          ],
          "name": "stdout"
        }
      ]
    },
    {
      "cell_type": "code",
      "metadata": {
        "colab": {
          "base_uri": "https://localhost:8080/"
        },
        "id": "vwcvJHt2xvvt",
        "outputId": "04735496-8b3b-4ea3-fa19-03f2a02bfb17"
      },
      "source": [
        "# dataset.take(count): Creates a Dataset with at most count elements from this dataset.\n",
        "dataset = tf.data.Dataset.range(10)\n",
        "dataset = dataset.take(3)\n",
        "[ i for i in dataset.as_numpy_iterator()]"
      ],
      "execution_count": null,
      "outputs": [
        {
          "output_type": "execute_result",
          "data": {
            "text/plain": [
              "[0, 1, 2]"
            ]
          },
          "metadata": {
            "tags": []
          },
          "execution_count": 30
        }
      ]
    },
    {
      "cell_type": "code",
      "metadata": {
        "colab": {
          "base_uri": "https://localhost:8080/"
        },
        "id": "fG2cqV6GJn95",
        "outputId": "55ee48cd-337e-4ad7-a164-d0411d7db9f6"
      },
      "source": [
        "dataset = tf.data.Dataset.range(10)\n",
        "dataset = dataset.take(4)\n",
        "list(dataset.as_numpy_iterator())"
      ],
      "execution_count": null,
      "outputs": [
        {
          "output_type": "execute_result",
          "data": {
            "text/plain": [
              "[0, 1, 2, 3]"
            ]
          },
          "metadata": {
            "tags": []
          },
          "execution_count": 31
        }
      ]
    },
    {
      "cell_type": "code",
      "metadata": {
        "colab": {
          "base_uri": "https://localhost:8080/"
        },
        "id": "pko6oq2zPqa8",
        "outputId": "7ce2aa69-afbe-49e0-f2c9-800959780961"
      },
      "source": [
        "dataset = tf.data.Dataset.range(7)\n",
        "print(list(dataset.as_numpy_iterator()))\n",
        "[i for i in dataset.take(5)]"
      ],
      "execution_count": null,
      "outputs": [
        {
          "output_type": "stream",
          "text": [
            "[0, 1, 2, 3, 4, 5, 6]\n"
          ],
          "name": "stdout"
        },
        {
          "output_type": "execute_result",
          "data": {
            "text/plain": [
              "[<tf.Tensor: shape=(), dtype=int64, numpy=0>,\n",
              " <tf.Tensor: shape=(), dtype=int64, numpy=1>,\n",
              " <tf.Tensor: shape=(), dtype=int64, numpy=2>,\n",
              " <tf.Tensor: shape=(), dtype=int64, numpy=3>,\n",
              " <tf.Tensor: shape=(), dtype=int64, numpy=4>]"
            ]
          },
          "metadata": {
            "tags": []
          },
          "execution_count": 32
        }
      ]
    },
    {
      "cell_type": "code",
      "metadata": {
        "colab": {
          "base_uri": "https://localhost:8080/"
        },
        "id": "whcdrWLCRLK3",
        "outputId": "7a2ba411-2c3e-48b5-bc9f-1229443d97f2"
      },
      "source": [
        "dataset = tf.data.Dataset.range(20)   # batch size 만큼 8 번 take\n",
        "dataset = dataset.repeat().batch(3)\n",
        "for x in dataset.take(8):\n",
        "    print (x.numpy())"
      ],
      "execution_count": null,
      "outputs": [
        {
          "output_type": "stream",
          "text": [
            "[0 1 2]\n",
            "[3 4 5]\n",
            "[6 7 8]\n",
            "[ 9 10 11]\n",
            "[12 13 14]\n",
            "[15 16 17]\n",
            "[18 19  0]\n",
            "[1 2 3]\n"
          ],
          "name": "stdout"
        }
      ]
    },
    {
      "cell_type": "code",
      "metadata": {
        "colab": {
          "base_uri": "https://localhost:8080/"
        },
        "id": "Cq-nC1o_Q01L",
        "outputId": "39004543-65e0-449a-e4cf-7fad833caf3e"
      },
      "source": [
        "dataset = tf.data.Dataset.range(20)   # shuffle\n",
        "dataset = dataset.shuffle(50).batch(3)\n",
        "for x in dataset.take(8):\n",
        "    print (x.numpy())"
      ],
      "execution_count": null,
      "outputs": [
        {
          "output_type": "stream",
          "text": [
            "[7 4 1]\n",
            "[ 3 15  9]\n",
            "[ 8 14  6]\n",
            "[10 12 11]\n",
            "[19 13  2]\n",
            "[ 0 18  5]\n",
            "[16 17]\n"
          ],
          "name": "stdout"
        }
      ]
    },
    {
      "cell_type": "code",
      "metadata": {
        "colab": {
          "base_uri": "https://localhost:8080/"
        },
        "id": "EeV9CNjkRDXm",
        "outputId": "baeadfd9-942e-41c2-c16e-d30fc94ea4ca"
      },
      "source": [
        "dataset = tf.data.Dataset.range(20)   # shuffle & repeat\n",
        "dataset = dataset.repeat().shuffle(50).batch(3)\n",
        "for x in dataset.take(8):\n",
        "    print (x.numpy())"
      ],
      "execution_count": null,
      "outputs": [
        {
          "output_type": "stream",
          "text": [
            "[18  5 18]\n",
            "[0 6 9]\n",
            "[4 7 1]\n",
            "[ 4 10  6]\n",
            "[19 13  5]\n",
            "[6 1 2]\n",
            "[13 14  0]\n",
            "[ 6 10 14]\n"
          ],
          "name": "stdout"
        }
      ]
    },
    {
      "cell_type": "markdown",
      "metadata": {
        "id": "L7kD-skObUjp"
      },
      "source": [
        "- dataset (for my exercise)"
      ]
    },
    {
      "cell_type": "code",
      "metadata": {
        "colab": {
          "base_uri": "https://localhost:8080/",
          "height": 335,
          "referenced_widgets": [
            "ed5e36f069224e2581ccdd08c76a3bc4",
            "665019a138994b8c838a8963a0658a41",
            "f50d9c1558a1403e83f80a8a0bfdaee6",
            "ed8854b877d04e8fb0630fb1129290c9",
            "da9a479d097a410ab7b809f7bc6028d0",
            "ce02222556704317a8af6d08cca13b0a",
            "e3e94048c8694c3587f69446b0fa4274",
            "0842884c6edb4fbe97fb69d5e359ad06",
            "bb8178e39f5b4679bbcde03b7d40f01e",
            "7083beea1f2746d0b25ed2470053943b",
            "e49c5c2752794e42865a1d2562134cdb",
            "84f74f2921ab414eb49a12414fc0c02c",
            "c7aa8634738d4f9da546b2e4f7476b73",
            "2493b20778bd4b05991518cd1b2e10c1",
            "35f2dcc4a747423db487a5a01c40ded9",
            "acfe54b7437b410bac2e99820acc7f7a",
            "92759369f6bc46c88feb855c67c6242e",
            "9bce511c6e3f4f12a2f72652f47d2887",
            "ea6265f007c643bda385bb79d3c3c315",
            "bf12b6209fce4e40afc4921be46f56d1",
            "6c78d0a5858a4d93b9faa5ad1daaabd1",
            "bc97c042f05347b5954e27bf9cc3f477",
            "505febf687ba4ac6858cb71dffeac47e",
            "90885f3b608c41d787c4b09ec9ea9185",
            "34d9619d351543aaa78e51ca4e765d5e",
            "c4cf3561ee4743b2ad40b2f7fbe539ed",
            "6f539348cf7d444b8286e6c20761b7d6",
            "6a55bfb4655245908796ccc34e07c44e",
            "2b51b429726142d1a75b5e10a014356c",
            "059b76e74ecd43d0aac25842459e8ec2",
            "833bac469b714bf2a08c8d3be506a719",
            "37f99c36011a4c468e8bdecac7b39044",
            "47a8faa953264c94bc0d65d6ea321deb",
            "eefd2b76fd924c6881b8f69dabb95995",
            "84ad1a896ffa48318af6a4664a576f05",
            "f34a788873cd4d43af3ee71303293354",
            "59533bbc0a6a44a68fc27d2bdb20ef32",
            "e14cdd084eaf465187e60f07a7d26859",
            "0e23719916844f5c8266c7764a137c22",
            "488a2d4a8a6146fda513055fec3dc32e",
            "632698ecb71b4684a4965d32e47bc595",
            "7cfe4080f9454e3f8b1bc276bb5975f3",
            "f22cf87affca41dfa78bea3f7a3995dc",
            "09964b906caf4bcaaf49d3b64df19fa6",
            "4dab6bdb9bc14ca89939d69a74f39e71",
            "385c08a0f5574d0f82bab943b1ef114b",
            "69f9251425de42e0917906add487b4a5",
            "123fff17aa254e5fb0d2a3b9f5758c06"
          ]
        },
        "id": "0J5IDQ7KbZVZ",
        "outputId": "a20b75c4-8039-4ef6-95bb-215833d8174d"
      },
      "source": [
        "import tensorflow as tf\n",
        "import tensorflow_datasets as tfds\n",
        "\n",
        "output_classes = 3\n",
        "batch_size = 200\n",
        "learning_rate = 0.001\n",
        "\n",
        "dataset = tfds.load( name='horses_or_humans' , split=tfds.Split.TRAIN )\n",
        "print(dataset)\n",
        "dataset = dataset.shuffle( 1024 ).batch( batch_size )\n",
        "print(dataset)"
      ],
      "execution_count": null,
      "outputs": [
        {
          "output_type": "stream",
          "text": [
            "\u001b[1mDownloading and preparing dataset horses_or_humans/3.0.0 (download: 153.59 MiB, generated: Unknown size, total: 153.59 MiB) to /root/tensorflow_datasets/horses_or_humans/3.0.0...\u001b[0m\n"
          ],
          "name": "stdout"
        },
        {
          "output_type": "display_data",
          "data": {
            "application/vnd.jupyter.widget-view+json": {
              "model_id": "ed5e36f069224e2581ccdd08c76a3bc4",
              "version_minor": 0,
              "version_major": 2
            },
            "text/plain": [
              "HBox(children=(FloatProgress(value=1.0, bar_style='info', description='Dl Completed...', max=1.0, style=Progre…"
            ]
          },
          "metadata": {
            "tags": []
          }
        },
        {
          "output_type": "display_data",
          "data": {
            "application/vnd.jupyter.widget-view+json": {
              "model_id": "bb8178e39f5b4679bbcde03b7d40f01e",
              "version_minor": 0,
              "version_major": 2
            },
            "text/plain": [
              "HBox(children=(FloatProgress(value=1.0, bar_style='info', description='Dl Size...', max=1.0, style=ProgressSty…"
            ]
          },
          "metadata": {
            "tags": []
          }
        },
        {
          "output_type": "stream",
          "text": [
            "\n",
            "\n",
            "\n",
            "\n"
          ],
          "name": "stdout"
        },
        {
          "output_type": "display_data",
          "data": {
            "application/vnd.jupyter.widget-view+json": {
              "model_id": "92759369f6bc46c88feb855c67c6242e",
              "version_minor": 0,
              "version_major": 2
            },
            "text/plain": [
              "HBox(children=(FloatProgress(value=1.0, bar_style='info', max=1.0), HTML(value='')))"
            ]
          },
          "metadata": {
            "tags": []
          }
        },
        {
          "output_type": "stream",
          "text": [
            "\rShuffling and writing examples to /root/tensorflow_datasets/horses_or_humans/3.0.0.incompleteKCHVL4/horses_or_humans-train.tfrecord\n"
          ],
          "name": "stdout"
        },
        {
          "output_type": "display_data",
          "data": {
            "application/vnd.jupyter.widget-view+json": {
              "model_id": "34d9619d351543aaa78e51ca4e765d5e",
              "version_minor": 0,
              "version_major": 2
            },
            "text/plain": [
              "HBox(children=(FloatProgress(value=0.0, max=1027.0), HTML(value='')))"
            ]
          },
          "metadata": {
            "tags": []
          }
        },
        {
          "output_type": "display_data",
          "data": {
            "application/vnd.jupyter.widget-view+json": {
              "model_id": "47a8faa953264c94bc0d65d6ea321deb",
              "version_minor": 0,
              "version_major": 2
            },
            "text/plain": [
              "HBox(children=(FloatProgress(value=1.0, bar_style='info', max=1.0), HTML(value='')))"
            ]
          },
          "metadata": {
            "tags": []
          }
        },
        {
          "output_type": "stream",
          "text": [
            "Shuffling and writing examples to /root/tensorflow_datasets/horses_or_humans/3.0.0.incompleteKCHVL4/horses_or_humans-test.tfrecord\n"
          ],
          "name": "stdout"
        },
        {
          "output_type": "display_data",
          "data": {
            "application/vnd.jupyter.widget-view+json": {
              "model_id": "632698ecb71b4684a4965d32e47bc595",
              "version_minor": 0,
              "version_major": 2
            },
            "text/plain": [
              "HBox(children=(FloatProgress(value=0.0, max=256.0), HTML(value='')))"
            ]
          },
          "metadata": {
            "tags": []
          }
        },
        {
          "output_type": "stream",
          "text": [
            "\u001b[1mDataset horses_or_humans downloaded and prepared to /root/tensorflow_datasets/horses_or_humans/3.0.0. Subsequent calls will reuse this data.\u001b[0m\n",
            "<PrefetchDataset shapes: {image: (300, 300, 3), label: ()}, types: {image: tf.uint8, label: tf.int64}>\n",
            "<BatchDataset shapes: {image: (None, 300, 300, 3), label: (None,)}, types: {image: tf.uint8, label: tf.int64}>\n"
          ],
          "name": "stdout"
        }
      ]
    },
    {
      "cell_type": "code",
      "metadata": {
        "colab": {
          "base_uri": "https://localhost:8080/"
        },
        "id": "O1ecFoRbbdyp",
        "outputId": "b39dc988-7f0d-481e-a323-a75d09fd7656"
      },
      "source": [
        "for features in dataset:\n",
        "    print(features['image'].shape, features['label'].shape)"
      ],
      "execution_count": null,
      "outputs": [
        {
          "output_type": "stream",
          "text": [
            "(200, 300, 300, 3) (200,)\n",
            "(200, 300, 300, 3) (200,)\n",
            "(200, 300, 300, 3) (200,)\n",
            "(200, 300, 300, 3) (200,)\n",
            "(200, 300, 300, 3) (200,)\n",
            "(27, 300, 300, 3) (27,)\n"
          ],
          "name": "stdout"
        }
      ]
    },
    {
      "cell_type": "code",
      "metadata": {
        "colab": {
          "base_uri": "https://localhost:8080/"
        },
        "id": "WRZZsFzlbiyR",
        "outputId": "3bf5d73a-b892-4a7c-e84d-67b4e456cb50"
      },
      "source": [
        "for features in iter(dataset):\n",
        "    print(features['image'].shape, features['label'].shape)"
      ],
      "execution_count": null,
      "outputs": [
        {
          "output_type": "stream",
          "text": [
            "(200, 300, 300, 3) (200,)\n",
            "(200, 300, 300, 3) (200,)\n",
            "(200, 300, 300, 3) (200,)\n",
            "(200, 300, 300, 3) (200,)\n",
            "(200, 300, 300, 3) (200,)\n",
            "(27, 300, 300, 3) (27,)\n"
          ],
          "name": "stdout"
        }
      ]
    },
    {
      "cell_type": "code",
      "metadata": {
        "colab": {
          "base_uri": "https://localhost:8080/"
        },
        "id": "1MZIGaxYbmTq",
        "outputId": "a4d9c279-3cff-4ef0-f36b-c86a06c6a5af"
      },
      "source": [
        "(x_train, y_train), (x_test, y_test) = mnist.load_data()\n",
        "train_data=tf.data.Dataset.from_tensor_slices((x_train,y_train))\n",
        "train_data=train_data.repeat().shuffle(5000).batch(1000)\n",
        "train_data"
      ],
      "execution_count": null,
      "outputs": [
        {
          "output_type": "execute_result",
          "data": {
            "text/plain": [
              "<BatchDataset shapes: ((None, 28, 28), (None,)), types: (tf.uint8, tf.uint8)>"
            ]
          },
          "metadata": {
            "tags": []
          },
          "execution_count": 39
        }
      ]
    },
    {
      "cell_type": "code",
      "metadata": {
        "colab": {
          "base_uri": "https://localhost:8080/"
        },
        "id": "okoVOaX4SC6s",
        "outputId": "68b45066-5ded-486b-b13d-be59dd298dc3"
      },
      "source": [
        "x_train.shape, y_train.shape"
      ],
      "execution_count": null,
      "outputs": [
        {
          "output_type": "execute_result",
          "data": {
            "text/plain": [
              "((60000, 28, 28), (60000,))"
            ]
          },
          "metadata": {
            "tags": []
          },
          "execution_count": 40
        }
      ]
    },
    {
      "cell_type": "code",
      "metadata": {
        "colab": {
          "base_uri": "https://localhost:8080/"
        },
        "id": "MHoUvCs6bqjo",
        "outputId": "b9bf7e5f-9cec-4428-e3e2-3dbca662de49"
      },
      "source": [
        "i=0\n",
        "for batch_x, batch_y in iter(train_data):\n",
        "    print(batch_x.shape, batch_y.shape)\n",
        "    i +=1\n",
        "    if i == 5: break"
      ],
      "execution_count": null,
      "outputs": [
        {
          "output_type": "stream",
          "text": [
            "(1000, 28, 28) (1000,)\n",
            "(1000, 28, 28) (1000,)\n",
            "(1000, 28, 28) (1000,)\n",
            "(1000, 28, 28) (1000,)\n",
            "(1000, 28, 28) (1000,)\n"
          ],
          "name": "stdout"
        }
      ]
    },
    {
      "cell_type": "markdown",
      "metadata": {
        "id": "6_4xWgC_btWQ"
      },
      "source": [
        "- softmax (categorical) cross entropy"
      ]
    },
    {
      "cell_type": "code",
      "metadata": {
        "colab": {
          "base_uri": "https://localhost:8080/"
        },
        "id": "NmQsj8a_br_5",
        "outputId": "d2e3e844-b6c8-410b-c701-40ae9d8f6bae"
      },
      "source": [
        "y_true = [[0, 1, 0], [0, 0, 1]]\n",
        "y_pred = [[0.05, 0.95, 0], [0.1, 0.8, 0.1]]\n",
        "ce = tf.losses.categorical_crossentropy(y_true, y_pred)\n",
        "assert ce.shape == (2,)\n",
        "tf.reduce_mean(ce)"
      ],
      "execution_count": null,
      "outputs": [
        {
          "output_type": "execute_result",
          "data": {
            "text/plain": [
              "<tf.Tensor: shape=(), dtype=float32, numpy=1.1769392>"
            ]
          },
          "metadata": {
            "tags": []
          },
          "execution_count": 42
        }
      ]
    },
    {
      "cell_type": "code",
      "metadata": {
        "colab": {
          "base_uri": "https://localhost:8080/"
        },
        "id": "2_1Di-f-b055",
        "outputId": "5f920cfb-f533-4e7f-95a1-d31d3c6fb1d9"
      },
      "source": [
        "y_pred = tf.clip_by_value(y_pred, 1e-9, 1.)\n",
        "y_true * tf.math.log(y_pred)"
      ],
      "execution_count": null,
      "outputs": [
        {
          "output_type": "execute_result",
          "data": {
            "text/plain": [
              "<tf.Tensor: shape=(2, 3), dtype=float32, numpy=\n",
              "array([[-0.        , -0.05129331, -0.        ],\n",
              "       [-0.        , -0.        , -2.3025851 ]], dtype=float32)>"
            ]
          },
          "metadata": {
            "tags": []
          },
          "execution_count": 43
        }
      ]
    },
    {
      "cell_type": "code",
      "metadata": {
        "colab": {
          "base_uri": "https://localhost:8080/"
        },
        "id": "eiTodpEZb3Zb",
        "outputId": "b8d87c52-b945-48b2-a968-a07f376c52d3"
      },
      "source": [
        "-tf.reduce_sum(y_true * tf.math.log(y_pred), axis=1)"
      ],
      "execution_count": null,
      "outputs": [
        {
          "output_type": "execute_result",
          "data": {
            "text/plain": [
              "<tf.Tensor: shape=(2,), dtype=float32, numpy=array([0.05129331, 2.3025851 ], dtype=float32)>"
            ]
          },
          "metadata": {
            "tags": []
          },
          "execution_count": 44
        }
      ]
    },
    {
      "cell_type": "code",
      "metadata": {
        "colab": {
          "base_uri": "https://localhost:8080/"
        },
        "id": "WoMnGB1cb7FJ",
        "outputId": "81fb335a-0710-497a-a970-11e3e8dd46f4"
      },
      "source": [
        "tf.reduce_mean(-tf.reduce_sum(y_true * tf.math.log(y_pred), axis=1))"
      ],
      "execution_count": null,
      "outputs": [
        {
          "output_type": "execute_result",
          "data": {
            "text/plain": [
              "<tf.Tensor: shape=(), dtype=float32, numpy=1.1769392>"
            ]
          },
          "metadata": {
            "tags": []
          },
          "execution_count": 45
        }
      ]
    },
    {
      "cell_type": "code",
      "metadata": {
        "colab": {
          "base_uri": "https://localhost:8080/"
        },
        "id": "7S308fKsb-AB",
        "outputId": "e19d7bde-2a60-42ab-fe3a-5677e5f5d29e"
      },
      "source": [
        "tf.reduce_mean(-tf.reduce_sum(y_true * tf.math.log(y_pred)))  # wrong"
      ],
      "execution_count": null,
      "outputs": [
        {
          "output_type": "execute_result",
          "data": {
            "text/plain": [
              "<tf.Tensor: shape=(), dtype=float32, numpy=2.3538785>"
            ]
          },
          "metadata": {
            "tags": []
          },
          "execution_count": 46
        }
      ]
    },
    {
      "cell_type": "markdown",
      "metadata": {
        "id": "idUTRIKma9Dh"
      },
      "source": [
        "- matrix multiplication (matmul)"
      ]
    },
    {
      "cell_type": "code",
      "metadata": {
        "colab": {
          "base_uri": "https://localhost:8080/"
        },
        "id": "1KG4X5PUa6gB",
        "outputId": "40aee3f5-31e2-4fd8-fcba-b0370c7b3cb5"
      },
      "source": [
        "a = tf.constant([1, 2, 3, 4, 5, 6], shape=[2, 3])\n",
        "b = tf.constant([7, 8, 9, 10, 11, 12], shape=[3, 2])\n",
        "c = tf.matmul(a, b)\n",
        "a, b, c, a.shape, b.shape, c.shape"
      ],
      "execution_count": null,
      "outputs": [
        {
          "output_type": "execute_result",
          "data": {
            "text/plain": [
              "(<tf.Tensor: shape=(2, 3), dtype=int32, numpy=\n",
              " array([[1, 2, 3],\n",
              "        [4, 5, 6]], dtype=int32)>,\n",
              " <tf.Tensor: shape=(3, 2), dtype=int32, numpy=\n",
              " array([[ 7,  8],\n",
              "        [ 9, 10],\n",
              "        [11, 12]], dtype=int32)>,\n",
              " <tf.Tensor: shape=(2, 2), dtype=int32, numpy=\n",
              " array([[ 58,  64],\n",
              "        [139, 154]], dtype=int32)>,\n",
              " TensorShape([2, 3]),\n",
              " TensorShape([3, 2]),\n",
              " TensorShape([2, 2]))"
            ]
          },
          "metadata": {
            "tags": []
          },
          "execution_count": 47
        }
      ]
    },
    {
      "cell_type": "code",
      "metadata": {
        "colab": {
          "base_uri": "https://localhost:8080/"
        },
        "id": "hBoTif-rbFlU",
        "outputId": "150687f5-7de7-49fe-e83c-9a496f3cea5d"
      },
      "source": [
        "import numpy as np\n",
        "# 3-D tensor `a`\n",
        "# [[[ 1,  2,  3],\n",
        "#   [ 4,  5,  6]],\n",
        "#  [[ 7,  8,  9],\n",
        "#   [10, 11, 12]]]\n",
        "a = tf.constant(np.arange(1, 13, dtype=np.int32),\n",
        "                shape=[2, 2, 3])\n",
        "\n",
        "# 3-D tensor `b`\n",
        "# [[[13, 14],\n",
        "#   [15, 16],\n",
        "#   [17, 18]],\n",
        "#  [[19, 20],\n",
        "#   [21, 22],\n",
        "#   [23, 24]]]\n",
        "b = tf.constant(np.arange(13, 25, dtype=np.int32),\n",
        "                shape=[2, 3, 2])\n",
        "\n",
        "# `a` * `b`\n",
        "# [[[ 94, 100],\n",
        "#   [229, 244]],\n",
        "#  [[508, 532],\n",
        "#   [697, 730]]]\n",
        "c = tf.matmul(a, b)\n",
        "a, b, c, a.shape, b.shape, c.shape"
      ],
      "execution_count": null,
      "outputs": [
        {
          "output_type": "execute_result",
          "data": {
            "text/plain": [
              "(<tf.Tensor: shape=(2, 2, 3), dtype=int32, numpy=\n",
              " array([[[ 1,  2,  3],\n",
              "         [ 4,  5,  6]],\n",
              " \n",
              "        [[ 7,  8,  9],\n",
              "         [10, 11, 12]]], dtype=int32)>,\n",
              " <tf.Tensor: shape=(2, 3, 2), dtype=int32, numpy=\n",
              " array([[[13, 14],\n",
              "         [15, 16],\n",
              "         [17, 18]],\n",
              " \n",
              "        [[19, 20],\n",
              "         [21, 22],\n",
              "         [23, 24]]], dtype=int32)>,\n",
              " <tf.Tensor: shape=(2, 2, 2), dtype=int32, numpy=\n",
              " array([[[ 94, 100],\n",
              "         [229, 244]],\n",
              " \n",
              "        [[508, 532],\n",
              "         [697, 730]]], dtype=int32)>,\n",
              " TensorShape([2, 2, 3]),\n",
              " TensorShape([2, 3, 2]),\n",
              " TensorShape([2, 2, 2]))"
            ]
          },
          "metadata": {
            "tags": []
          },
          "execution_count": 48
        }
      ]
    },
    {
      "cell_type": "code",
      "metadata": {
        "colab": {
          "base_uri": "https://localhost:8080/"
        },
        "id": "M9UmvuhbbIv-",
        "outputId": "6ab79767-0fa6-459e-aa92-134b14616b62"
      },
      "source": [
        "A = tf.Variable(tf.random.normal([5, 4, 10, 2, 3]))\n",
        "B = tf.Variable(tf.random.normal([5, 4, 10, 3, 7]))\n",
        "C = tf.matmul(A, B)\n",
        "\n",
        "# tf.matmul(3차원 이상의 텐서 사이의 행렬 곱은 행렬의 차원을 나타내는 마지막 두 개의 \n",
        "# 차원(2x3, 3x7) 사이에 행렬 곱이 가능하고 행렬 앞에 있는 차원(5x4x10)이 같으면 가능하다.\n",
        "A.shape, B.shape, C.shape"
      ],
      "execution_count": null,
      "outputs": [
        {
          "output_type": "execute_result",
          "data": {
            "text/plain": [
              "(TensorShape([5, 4, 10, 2, 3]),\n",
              " TensorShape([5, 4, 10, 3, 7]),\n",
              " TensorShape([5, 4, 10, 2, 7]))"
            ]
          },
          "metadata": {
            "tags": []
          },
          "execution_count": 49
        }
      ]
    }
  ]
}