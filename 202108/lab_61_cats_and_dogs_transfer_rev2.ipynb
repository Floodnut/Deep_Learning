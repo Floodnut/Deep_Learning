{
  "nbformat": 4,
  "nbformat_minor": 0,
  "metadata": {
    "accelerator": "GPU",
    "colab": {
      "name": "lab_61_cats_and_dogs_transfer_rev2.ipynb",
      "provenance": [],
      "collapsed_sections": []
    },
    "kernelspec": {
      "display_name": "Python 3",
      "language": "python",
      "name": "python3"
    },
    "language_info": {
      "codemirror_mode": {
        "name": "ipython",
        "version": 3
      },
      "file_extension": ".py",
      "mimetype": "text/x-python",
      "name": "python",
      "nbconvert_exporter": "python",
      "pygments_lexer": "ipython3",
      "version": "3.6.8"
    }
  },
  "cells": [
    {
      "cell_type": "markdown",
      "metadata": {
        "id": "YHK6DyunSbs4"
      },
      "source": [
        "# 전이학습 고양이 강아지 구분\n",
        "> - https://subinium.github.io/Keras-5-2/\n",
        "\n",
        "## 전이 학습에 많이 사용되는 세 가지 모델은 다음과 같습니다.\n",
        "- VGG (예 : VGG16 또는 VGG19).\n",
        "- GoogLeNet (예 : InceptionV3).\n",
        "- residual Network (예 : ResNet50).\n",
        "- 이러한 모델은 성능 때문에 전이 학습에 널리 사용되지만 VGG (일관성 및 반복 구조), 시작 모듈 (GoogLeNet) 및 잔여 모듈 (ResNet)과 같은 특정 아키텍처 혁신을 도입 한 에제임.\n",
        "\n",
        "## VGG16 (2014)\n",
        "- 이미지넷으로 사전 훈련된 네트워크를 사용\n",
        "- 1000개의 객체를 구분하는 모델이나, 여기서는 고양이, 강아지 구분에 사용  \n",
        "\n",
        "## 1) 특성추출 방식\n",
        "- 합성곱 필터링 영역(convolutional base)를 그대로 사용\n",
        "- 공통되는 특성만 추출하여 사용한다\n",
        "- 전결합망 부분은 새로운 데이터 (고양이/강아지)로 학습을 다시 시킨다\n",
        "\n",
        "\n",
        "## 2) 미세 조정 방식\n"
      ]
    },
    {
      "cell_type": "markdown",
      "metadata": {
        "id": "UY6KJV6z6l7_"
      },
      "source": [
        "# 데이터 다운로드"
      ]
    },
    {
      "cell_type": "code",
      "metadata": {
        "id": "BintRJjr1QvS"
      },
      "source": [
        "import os, os.path, shutil\n",
        "import zipfile\n",
        "%matplotlib inline\n",
        "\n",
        "import matplotlib.pyplot as plt\n",
        "import matplotlib.image as mpimg\n",
        "from tensorflow.keras.applications import VGG16, ResNet101V2"
      ],
      "execution_count": 2,
      "outputs": []
    },
    {
      "cell_type": "markdown",
      "metadata": {
        "id": "mxOElr1tG82n"
      },
      "source": [
        "# VGG16으로 사전학습된 가중치 가져오기\n",
        "- include_top은 기존의 1000개 전결합망 분류기를 포함할지를 선택"
      ]
    },
    {
      "cell_type": "markdown",
      "metadata": {
        "id": "Eg9Sbm0xOFY8"
      },
      "source": [
        "- VGG-16은 ImageNet 데이터베이스의 1백만 개가 넘는 이미지에 대해 훈련된 컨벌루션 신경망입니다. \n",
        "- 이 네트워크에는 16개의 계층이 있으며, 이미지를 키보드, 마우스, 연필, 각종 동물 등 1,000가지 사물 범주로 분류할 수 있습니다. \n",
        "- 그 결과 이 네트워크는 다양한 이미지를 대표하는 다양한 특징을 학습했습니다. 네트워크의 이미지 입력 크기는 224x224입니다."
      ]
    },
    {
      "cell_type": "code",
      "metadata": {
        "id": "39bxJu-BGL9N",
        "colab": {
          "base_uri": "https://localhost:8080/"
        },
        "outputId": "11dd244d-d024-4094-f33b-826187dc1d62"
      },
      "source": [
        "conv_base = VGG16(weights = 'imagenet',   # loading 할 weights\n",
        "                 include_top=False,\n",
        "                 input_shape=(150, 150, 3))"
      ],
      "execution_count": 3,
      "outputs": [
        {
          "output_type": "stream",
          "text": [
            "Downloading data from https://storage.googleapis.com/tensorflow/keras-applications/vgg16/vgg16_weights_tf_dim_ordering_tf_kernels_notop.h5\n",
            "58892288/58889256 [==============================] - 1s 0us/step\n"
          ],
          "name": "stdout"
        }
      ]
    },
    {
      "cell_type": "code",
      "metadata": {
        "id": "84MocF__GLuw",
        "colab": {
          "base_uri": "https://localhost:8080/"
        },
        "outputId": "0cd83232-e457-4ad7-f908-8b4e7f865be5"
      },
      "source": [
        "conv_base.summary()"
      ],
      "execution_count": 4,
      "outputs": [
        {
          "output_type": "stream",
          "text": [
            "Model: \"vgg16\"\n",
            "_________________________________________________________________\n",
            "Layer (type)                 Output Shape              Param #   \n",
            "=================================================================\n",
            "input_1 (InputLayer)         [(None, 150, 150, 3)]     0         \n",
            "_________________________________________________________________\n",
            "block1_conv1 (Conv2D)        (None, 150, 150, 64)      1792      \n",
            "_________________________________________________________________\n",
            "block1_conv2 (Conv2D)        (None, 150, 150, 64)      36928     \n",
            "_________________________________________________________________\n",
            "block1_pool (MaxPooling2D)   (None, 75, 75, 64)        0         \n",
            "_________________________________________________________________\n",
            "block2_conv1 (Conv2D)        (None, 75, 75, 128)       73856     \n",
            "_________________________________________________________________\n",
            "block2_conv2 (Conv2D)        (None, 75, 75, 128)       147584    \n",
            "_________________________________________________________________\n",
            "block2_pool (MaxPooling2D)   (None, 37, 37, 128)       0         \n",
            "_________________________________________________________________\n",
            "block3_conv1 (Conv2D)        (None, 37, 37, 256)       295168    \n",
            "_________________________________________________________________\n",
            "block3_conv2 (Conv2D)        (None, 37, 37, 256)       590080    \n",
            "_________________________________________________________________\n",
            "block3_conv3 (Conv2D)        (None, 37, 37, 256)       590080    \n",
            "_________________________________________________________________\n",
            "block3_pool (MaxPooling2D)   (None, 18, 18, 256)       0         \n",
            "_________________________________________________________________\n",
            "block4_conv1 (Conv2D)        (None, 18, 18, 512)       1180160   \n",
            "_________________________________________________________________\n",
            "block4_conv2 (Conv2D)        (None, 18, 18, 512)       2359808   \n",
            "_________________________________________________________________\n",
            "block4_conv3 (Conv2D)        (None, 18, 18, 512)       2359808   \n",
            "_________________________________________________________________\n",
            "block4_pool (MaxPooling2D)   (None, 9, 9, 512)         0         \n",
            "_________________________________________________________________\n",
            "block5_conv1 (Conv2D)        (None, 9, 9, 512)         2359808   \n",
            "_________________________________________________________________\n",
            "block5_conv2 (Conv2D)        (None, 9, 9, 512)         2359808   \n",
            "_________________________________________________________________\n",
            "block5_conv3 (Conv2D)        (None, 9, 9, 512)         2359808   \n",
            "_________________________________________________________________\n",
            "block5_pool (MaxPooling2D)   (None, 4, 4, 512)         0         \n",
            "=================================================================\n",
            "Total params: 14,714,688\n",
            "Trainable params: 14,714,688\n",
            "Non-trainable params: 0\n",
            "_________________________________________________________________\n"
          ],
          "name": "stdout"
        }
      ]
    },
    {
      "cell_type": "markdown",
      "metadata": {
        "id": "wLStHmXaMqja"
      },
      "source": [
        "## 특성 추출 방법\n",
        "### 1) 합성곱 기반을 통과한 출력을 저장한 후 이를 전결합망에 통과\n",
        "- 데이터 확장은 사용할 수 없다\n",
        "- 실행이 빠르다\n",
        "\n",
        "### 2) 모델에 Dense망을 추가하고 학습을 수행\n",
        "- 데이터 확장을 사용할 수 있다.\n",
        "- 비용이 많이 든다\n",
        "\n",
        "\n",
        "##  Fine Tuning (세부조정) 방법\n"
      ]
    },
    {
      "cell_type": "markdown",
      "metadata": {
        "id": "kkMqucDvN0Qy"
      },
      "source": [
        "# 데이터 읽기"
      ]
    },
    {
      "cell_type": "code",
      "metadata": {
        "id": "JHHE2t4yxpMU",
        "colab": {
          "base_uri": "https://localhost:8080/"
        },
        "outputId": "4987d706-4373-422e-84f0-7ae64c411eb2"
      },
      "source": [
        "!curl -L \\\n",
        "    https://storage.googleapis.com/mledu-datasets/cats_and_dogs_filtered.zip \\\n",
        "    -o ./cats_and_dogs_filtered.zip"
      ],
      "execution_count": 5,
      "outputs": [
        {
          "output_type": "stream",
          "text": [
            "  % Total    % Received % Xferd  Average Speed   Time    Time     Time  Current\n",
            "                                 Dload  Upload   Total   Spent    Left  Speed\n",
            "100 65.4M  100 65.4M    0     0  16.9M      0  0:00:03  0:00:03 --:--:-- 16.9M\n"
          ],
          "name": "stdout"
        }
      ]
    },
    {
      "cell_type": "code",
      "metadata": {
        "id": "PLy3pthUS0D2"
      },
      "source": [
        "!unzip -q cats_and_dogs_filtered.zip"
      ],
      "execution_count": 6,
      "outputs": []
    },
    {
      "cell_type": "code",
      "metadata": {
        "id": "VeJd7lxOy26s",
        "colab": {
          "base_uri": "https://localhost:8080/"
        },
        "outputId": "3d4f8077-bd1a-4814-c85e-d051cb30cc21"
      },
      "source": [
        "!apt-get install tree"
      ],
      "execution_count": 7,
      "outputs": [
        {
          "output_type": "stream",
          "text": [
            "Reading package lists... Done\n",
            "Building dependency tree       \n",
            "Reading state information... Done\n",
            "The following NEW packages will be installed:\n",
            "  tree\n",
            "0 upgraded, 1 newly installed, 0 to remove and 40 not upgraded.\n",
            "Need to get 40.7 kB of archives.\n",
            "After this operation, 105 kB of additional disk space will be used.\n",
            "Get:1 http://archive.ubuntu.com/ubuntu bionic/universe amd64 tree amd64 1.7.0-5 [40.7 kB]\n",
            "Fetched 40.7 kB in 0s (841 kB/s)\n",
            "Selecting previously unselected package tree.\n",
            "(Reading database ... 160837 files and directories currently installed.)\n",
            "Preparing to unpack .../tree_1.7.0-5_amd64.deb ...\n",
            "Unpacking tree (1.7.0-5) ...\n",
            "Setting up tree (1.7.0-5) ...\n",
            "Processing triggers for man-db (2.8.3-2ubuntu0.1) ...\n"
          ],
          "name": "stdout"
        }
      ]
    },
    {
      "cell_type": "code",
      "metadata": {
        "id": "eKBizBLr0M8w",
        "colab": {
          "base_uri": "https://localhost:8080/"
        },
        "outputId": "c35af0f4-db23-4f6f-c3a4-5e9290edbc55"
      },
      "source": [
        "!tree -d ."
      ],
      "execution_count": 8,
      "outputs": [
        {
          "output_type": "stream",
          "text": [
            ".\n",
            "├── cats_and_dogs_filtered\n",
            "│   ├── train\n",
            "│   │   ├── cats\n",
            "│   │   └── dogs\n",
            "│   └── validation\n",
            "│       ├── cats\n",
            "│       └── dogs\n",
            "└── sample_data\n",
            "\n",
            "8 directories\n"
          ],
          "name": "stdout"
        }
      ]
    },
    {
      "cell_type": "code",
      "metadata": {
        "id": "MLZKVtE0dSfk"
      },
      "source": [
        "base_dir = './cats_and_dogs_filtered'\n",
        "train_dir = os.path.join(base_dir, 'train')\n",
        "validation_dir = os.path.join(base_dir, 'validation')"
      ],
      "execution_count": 9,
      "outputs": []
    },
    {
      "cell_type": "code",
      "metadata": {
        "id": "I-gqmVtXI1If",
        "colab": {
          "base_uri": "https://localhost:8080/",
          "height": 37
        },
        "outputId": "e554bfeb-0b15-4da6-b847-0e413516b059"
      },
      "source": [
        "train_dir"
      ],
      "execution_count": 10,
      "outputs": [
        {
          "output_type": "execute_result",
          "data": {
            "application/vnd.google.colaboratory.intrinsic+json": {
              "type": "string"
            },
            "text/plain": [
              "'./cats_and_dogs_filtered/train'"
            ]
          },
          "metadata": {
            "tags": []
          },
          "execution_count": 10
        }
      ]
    },
    {
      "cell_type": "markdown",
      "metadata": {
        "id": "5oqBkNBJmtUv"
      },
      "source": [
        "# 특성추출만 사용한 모델 (1)\n",
        "- 데이터 증식은 사용하지 않음\n",
        "- conv_base layers: 일반적인 학습정보\n",
        "- final FC layers: 특정한 클라스를 분류하는 기능\n",
        "- ImageDataGenerator를 사용하여 이미지와 레이블을 생성\n",
        "- conv_base 모델의 predict를 사용하여 이미지의 특성을 추출\n",
        "- 마지막 출력의 크기가 (4, 4, 512)이다.\n"
      ]
    },
    {
      "cell_type": "code",
      "metadata": {
        "id": "IYVLSfbsbf9K"
      },
      "source": [
        "from tensorflow.keras import layers\n",
        "from tensorflow.keras import models\n",
        "from tensorflow.keras import optimizers\n",
        "from tensorflow.keras.preprocessing import image\n",
        "from tensorflow.keras.preprocessing.image import ImageDataGenerator\n",
        "import numpy as np "
      ],
      "execution_count": 11,
      "outputs": []
    },
    {
      "cell_type": "code",
      "metadata": {
        "id": "zKpFv6lSGmtR"
      },
      "source": [
        "img_width = 150\n",
        "img_height = 150\n",
        "batch_size=20\n",
        "\n",
        "datagen = ImageDataGenerator(rescale = 1./255)\n",
        "\n",
        "def extract_features(directory, sample_count):\n",
        "    features = np.zeros(shape=(sample_count, 4, 4, 512)) # output shape of conv_base\n",
        "    labels = np.zeros(shape=(sample_count))\n",
        "    generator = datagen.flow_from_directory( \n",
        "                    directory,\n",
        "                    target_size=(img_width,img_height),\n",
        "                    class_mode='binary',\n",
        "                    batch_size=batch_size)\n",
        "    \n",
        "    i=0\n",
        "    for inputs_batch, labels_batch in generator:\n",
        "        features_batch = conv_base.predict(inputs_batch)  # get features\n",
        "        features[i*batch_size:(i+1)*batch_size] = features_batch\n",
        "        labels[i*batch_size:(i+1)*batch_size] = labels_batch\n",
        "        i += 1\n",
        "        if i* batch_size >= sample_count:\n",
        "            break\n",
        "\n",
        "    print(features.shape, labels.shape)       \n",
        "    return features, labels"
      ],
      "execution_count": 12,
      "outputs": []
    },
    {
      "cell_type": "code",
      "metadata": {
        "id": "QppRAKXMOFa4",
        "colab": {
          "base_uri": "https://localhost:8080/"
        },
        "outputId": "122ff26f-ac4e-442a-cbb3-f8b1b63a4381"
      },
      "source": [
        "train_features, train_labels = extract_features(train_dir, 2000)\n",
        "validation_features, validation_labels = extract_features(validation_dir, 1000)"
      ],
      "execution_count": 13,
      "outputs": [
        {
          "output_type": "stream",
          "text": [
            "Found 2000 images belonging to 2 classes.\n",
            "(2000, 4, 4, 512) (2000,)\n",
            "Found 1000 images belonging to 2 classes.\n",
            "(1000, 4, 4, 512) (1000,)\n"
          ],
          "name": "stdout"
        }
      ]
    },
    {
      "cell_type": "code",
      "metadata": {
        "id": "BV1zFml4tOQg",
        "colab": {
          "base_uri": "https://localhost:8080/"
        },
        "outputId": "edc8a915-162d-42b6-b488-9d65173ffdee"
      },
      "source": [
        "train_features.shape, validation_features.shape"
      ],
      "execution_count": 14,
      "outputs": [
        {
          "output_type": "execute_result",
          "data": {
            "text/plain": [
              "((2000, 4, 4, 512), (1000, 4, 4, 512))"
            ]
          },
          "metadata": {
            "tags": []
          },
          "execution_count": 14
        }
      ]
    },
    {
      "cell_type": "markdown",
      "metadata": {
        "id": "k0BcfXNXmMgj"
      },
      "source": [
        "- 추출된 특성의 크기는 (samples, 4, 4, 512)입니다. 완전 연결 분류기에 주입하기 위해서 먼저 (samples, 8192) 크기로 펼칩니다:"
      ]
    },
    {
      "cell_type": "code",
      "metadata": {
        "id": "V7GC0Nk9OFa-",
        "colab": {
          "base_uri": "https://localhost:8080/"
        },
        "outputId": "51a40254-0465-4d83-e5e0-68120d3084cb"
      },
      "source": [
        "train_features = np.reshape(train_features, (2000, 4*4*512))  # 평탄화\n",
        "validation_features = np.reshape(validation_features, (1000, 4*4*512))\n",
        "\n",
        "model = models.Sequential()\n",
        "\n",
        "model.add(layers.Dense(512, activation='relu', input_dim= 4*4*512))\n",
        "model.add(layers.Dropout(0.5))\n",
        "model.add(layers.Dense(1, activation='sigmoid'))\n",
        "\n",
        "model.summary()"
      ],
      "execution_count": 15,
      "outputs": [
        {
          "output_type": "stream",
          "text": [
            "Model: \"sequential\"\n",
            "_________________________________________________________________\n",
            "Layer (type)                 Output Shape              Param #   \n",
            "=================================================================\n",
            "dense (Dense)                (None, 512)               4194816   \n",
            "_________________________________________________________________\n",
            "dropout (Dropout)            (None, 512)               0         \n",
            "_________________________________________________________________\n",
            "dense_1 (Dense)              (None, 1)                 513       \n",
            "=================================================================\n",
            "Total params: 4,195,329\n",
            "Trainable params: 4,195,329\n",
            "Non-trainable params: 0\n",
            "_________________________________________________________________\n"
          ],
          "name": "stdout"
        }
      ]
    },
    {
      "cell_type": "code",
      "metadata": {
        "id": "hxITBhxQDwkd",
        "colab": {
          "base_uri": "https://localhost:8080/"
        },
        "outputId": "4b2e8ec9-52c9-4abd-8b15-4baee2b4ff08"
      },
      "source": [
        "model.compile(loss='binary_crossentropy',\n",
        "              optimizer=optimizers.RMSprop(lr=2e-5),\n",
        "              metrics=['acc'])\n",
        "history = model.fit(train_features, train_labels,\n",
        "                    epochs=30,\n",
        "                    validation_data= (validation_features, validation_labels),\n",
        "                    batch_size=batch_size)"
      ],
      "execution_count": 16,
      "outputs": [
        {
          "output_type": "stream",
          "text": [
            "Epoch 1/30\n"
          ],
          "name": "stdout"
        },
        {
          "output_type": "stream",
          "text": [
            "/usr/local/lib/python3.7/dist-packages/tensorflow/python/keras/optimizer_v2/optimizer_v2.py:375: UserWarning: The `lr` argument is deprecated, use `learning_rate` instead.\n",
            "  \"The `lr` argument is deprecated, use `learning_rate` instead.\")\n"
          ],
          "name": "stderr"
        },
        {
          "output_type": "stream",
          "text": [
            "100/100 [==============================] - 2s 8ms/step - loss: 0.5818 - acc: 0.6795 - val_loss: 0.3960 - val_acc: 0.8450\n",
            "Epoch 2/30\n",
            "100/100 [==============================] - 1s 7ms/step - loss: 0.3849 - acc: 0.8295 - val_loss: 0.3316 - val_acc: 0.8570\n",
            "Epoch 3/30\n",
            "100/100 [==============================] - 1s 7ms/step - loss: 0.3117 - acc: 0.8695 - val_loss: 0.3049 - val_acc: 0.8700\n",
            "Epoch 4/30\n",
            "100/100 [==============================] - 1s 7ms/step - loss: 0.2770 - acc: 0.8820 - val_loss: 0.2951 - val_acc: 0.8750\n",
            "Epoch 5/30\n",
            "100/100 [==============================] - 1s 6ms/step - loss: 0.2569 - acc: 0.8985 - val_loss: 0.2846 - val_acc: 0.8830\n",
            "Epoch 6/30\n",
            "100/100 [==============================] - 1s 7ms/step - loss: 0.2281 - acc: 0.9110 - val_loss: 0.2709 - val_acc: 0.8850\n",
            "Epoch 7/30\n",
            "100/100 [==============================] - 1s 6ms/step - loss: 0.2225 - acc: 0.9190 - val_loss: 0.2694 - val_acc: 0.8790\n",
            "Epoch 8/30\n",
            "100/100 [==============================] - 1s 7ms/step - loss: 0.1980 - acc: 0.9285 - val_loss: 0.2645 - val_acc: 0.8810\n",
            "Epoch 9/30\n",
            "100/100 [==============================] - 1s 7ms/step - loss: 0.1865 - acc: 0.9300 - val_loss: 0.2650 - val_acc: 0.8870\n",
            "Epoch 10/30\n",
            "100/100 [==============================] - 1s 6ms/step - loss: 0.1744 - acc: 0.9380 - val_loss: 0.2598 - val_acc: 0.8790\n",
            "Epoch 11/30\n",
            "100/100 [==============================] - 1s 6ms/step - loss: 0.1593 - acc: 0.9470 - val_loss: 0.2578 - val_acc: 0.8790\n",
            "Epoch 12/30\n",
            "100/100 [==============================] - 1s 7ms/step - loss: 0.1517 - acc: 0.9450 - val_loss: 0.2575 - val_acc: 0.8800\n",
            "Epoch 13/30\n",
            "100/100 [==============================] - 1s 6ms/step - loss: 0.1468 - acc: 0.9490 - val_loss: 0.2691 - val_acc: 0.8790\n",
            "Epoch 14/30\n",
            "100/100 [==============================] - 1s 7ms/step - loss: 0.1372 - acc: 0.9515 - val_loss: 0.2579 - val_acc: 0.8830\n",
            "Epoch 15/30\n",
            "100/100 [==============================] - 1s 7ms/step - loss: 0.1305 - acc: 0.9560 - val_loss: 0.2601 - val_acc: 0.8890\n",
            "Epoch 16/30\n",
            "100/100 [==============================] - 1s 6ms/step - loss: 0.1220 - acc: 0.9620 - val_loss: 0.2572 - val_acc: 0.8870\n",
            "Epoch 17/30\n",
            "100/100 [==============================] - 1s 6ms/step - loss: 0.1129 - acc: 0.9625 - val_loss: 0.2674 - val_acc: 0.8840\n",
            "Epoch 18/30\n",
            "100/100 [==============================] - 1s 7ms/step - loss: 0.1102 - acc: 0.9640 - val_loss: 0.2581 - val_acc: 0.8850\n",
            "Epoch 19/30\n",
            "100/100 [==============================] - 1s 7ms/step - loss: 0.1045 - acc: 0.9680 - val_loss: 0.2579 - val_acc: 0.8810\n",
            "Epoch 20/30\n",
            "100/100 [==============================] - 1s 7ms/step - loss: 0.0979 - acc: 0.9675 - val_loss: 0.2598 - val_acc: 0.8860\n",
            "Epoch 21/30\n",
            "100/100 [==============================] - 1s 7ms/step - loss: 0.0888 - acc: 0.9755 - val_loss: 0.2856 - val_acc: 0.8840\n",
            "Epoch 22/30\n",
            "100/100 [==============================] - 1s 7ms/step - loss: 0.0882 - acc: 0.9710 - val_loss: 0.2644 - val_acc: 0.8950\n",
            "Epoch 23/30\n",
            "100/100 [==============================] - 1s 7ms/step - loss: 0.0828 - acc: 0.9745 - val_loss: 0.2638 - val_acc: 0.8950\n",
            "Epoch 24/30\n",
            "100/100 [==============================] - 1s 7ms/step - loss: 0.0827 - acc: 0.9710 - val_loss: 0.2663 - val_acc: 0.8860\n",
            "Epoch 25/30\n",
            "100/100 [==============================] - 1s 7ms/step - loss: 0.0755 - acc: 0.9770 - val_loss: 0.2637 - val_acc: 0.8850\n",
            "Epoch 26/30\n",
            "100/100 [==============================] - 1s 7ms/step - loss: 0.0714 - acc: 0.9805 - val_loss: 0.2799 - val_acc: 0.8830\n",
            "Epoch 27/30\n",
            "100/100 [==============================] - 1s 7ms/step - loss: 0.0678 - acc: 0.9795 - val_loss: 0.2661 - val_acc: 0.8880\n",
            "Epoch 28/30\n",
            "100/100 [==============================] - 1s 7ms/step - loss: 0.0631 - acc: 0.9865 - val_loss: 0.2689 - val_acc: 0.8880\n",
            "Epoch 29/30\n",
            "100/100 [==============================] - 1s 7ms/step - loss: 0.0618 - acc: 0.9820 - val_loss: 0.2675 - val_acc: 0.8870\n",
            "Epoch 30/30\n",
            "100/100 [==============================] - 1s 7ms/step - loss: 0.0579 - acc: 0.9850 - val_loss: 0.2697 - val_acc: 0.8870\n"
          ],
          "name": "stdout"
        }
      ]
    },
    {
      "cell_type": "markdown",
      "metadata": {
        "id": "HNo4tHvHJ-pz"
      },
      "source": [
        "-  두 개의 Dense 층만 처리하면 되기 떄문에 학습이 매우 빠르다."
      ]
    },
    {
      "cell_type": "markdown",
      "metadata": {
        "id": "Q5Vulban4ZrD"
      },
      "source": [
        "#### 성능 확인"
      ]
    },
    {
      "cell_type": "code",
      "metadata": {
        "id": "0oj0gTIy4k60",
        "colab": {
          "base_uri": "https://localhost:8080/",
          "height": 562
        },
        "outputId": "87f9c78b-5644-4178-c6c0-dbc07e19a1b9"
      },
      "source": [
        "acc = history.history['acc']\n",
        "val_acc = history.history['val_acc']\n",
        "\n",
        "loss = history.history['loss']\n",
        "val_loss = history.history['val_loss']\n",
        "\n",
        "epochs = range(len(acc))\n",
        "\n",
        "plt.plot(epochs, acc, '--')\n",
        "plt.plot(epochs, val_acc)\n",
        "plt.title('Training(--) and validation accuracy')\n",
        "\n",
        "plt.figure()\n",
        "plt.plot(epochs, loss,  '--')\n",
        "plt.plot(epochs, val_loss)\n",
        "plt.title('Training(--) and validation loss')"
      ],
      "execution_count": 17,
      "outputs": [
        {
          "output_type": "execute_result",
          "data": {
            "text/plain": [
              "Text(0.5, 1.0, 'Training(--) and validation loss')"
            ]
          },
          "metadata": {
            "tags": []
          },
          "execution_count": 17
        },
        {
          "output_type": "display_data",
          "data": {
            "image/png": "[encoded data removed]",
            "text/plain": [
              "<Figure size 432x288 with 1 Axes>"
            ]
          },
          "metadata": {
            "tags": [],
            "needs_background": "light"
          }
        },
        {
          "output_type": "display_data",
          "data": {
            "image/png": "[encoded data removed]",
            "text/plain": [
              "<Figure size 432x288 with 1 Axes>"
            ]
          },
          "metadata": {
            "tags": [],
            "needs_background": "light"
          }
        }
      ]
    },
    {
      "cell_type": "markdown",
      "metadata": {
        "id": "DgmSjUST4qoS"
      },
      "source": [
        "#### 약 90%의 검증 정확도에 도달했다. 이전에 처음부터 학습시킨 모델 ( 70% 정도)보다 좋지만 데이터 셋이 작기 때문에 과대적합이 발생한 것을 알 수 있다.\n",
        "- 훈련 데이터가 부족하다\n",
        "- 데이터 확장을 사용하여 개선할 수 있다."
      ]
    },
    {
      "cell_type": "markdown",
      "metadata": {
        "id": "zY8xC3RKIMjf"
      },
      "source": [
        "# 2) conv 모델에 Dense망을 추가하고 학습을 수행 (2)\n",
        "- 데이터 확장을 사용할 수 있다.\n",
        "- 비용이 많이 든다\n",
        "- 엔드-투-엔드로 실행한다"
      ]
    },
    {
      "cell_type": "code",
      "metadata": {
        "id": "dEPZtbjoYyko",
        "colab": {
          "base_uri": "https://localhost:8080/"
        },
        "outputId": "9fa8832d-9fed-4ac3-fc48-8f1e62a90ab0"
      },
      "source": [
        "# 모델\n",
        "\n",
        "model = models.Sequential()\n",
        "model.add(conv_base)\n",
        "model.add(layers.Flatten())\n",
        "model.add(layers.Dense(256, activation='relu'))\n",
        "model.add(layers.Dense(1, activation='sigmoid'))\n",
        "\n",
        "model.summary()"
      ],
      "execution_count": 18,
      "outputs": [
        {
          "output_type": "stream",
          "text": [
            "Model: \"sequential_1\"\n",
            "_________________________________________________________________\n",
            "Layer (type)                 Output Shape              Param #   \n",
            "=================================================================\n",
            "vgg16 (Functional)           (None, 4, 4, 512)         14714688  \n",
            "_________________________________________________________________\n",
            "flatten (Flatten)            (None, 8192)              0         \n",
            "_________________________________________________________________\n",
            "dense_2 (Dense)              (None, 256)               2097408   \n",
            "_________________________________________________________________\n",
            "dense_3 (Dense)              (None, 1)                 257       \n",
            "=================================================================\n",
            "Total params: 16,812,353\n",
            "Trainable params: 16,812,353\n",
            "Non-trainable params: 0\n",
            "_________________________________________________________________\n"
          ],
          "name": "stdout"
        }
      ]
    },
    {
      "cell_type": "markdown",
      "metadata": {
        "id": "cRwp7DKRZNey"
      },
      "source": [
        "## 학습을 동결하지 않으면 모두 재 학습된다!"
      ]
    },
    {
      "cell_type": "code",
      "metadata": {
        "id": "1I-bJVROjbEi"
      },
      "source": [
        "conv_base.trainable = False\n",
        "# for layer in conv_base.layers:\n",
        "#    layer.trainable = False"
      ],
      "execution_count": 19,
      "outputs": []
    },
    {
      "cell_type": "code",
      "metadata": {
        "id": "MN5_TfDJjisU",
        "colab": {
          "base_uri": "https://localhost:8080/"
        },
        "outputId": "e5640fdf-457d-4c74-b3b4-9b98582614a5"
      },
      "source": [
        "print(len(model.trainable_weights))   # 2개의 dense 층 (층마다 w 와 b 텐서)"
      ],
      "execution_count": 20,
      "outputs": [
        {
          "output_type": "stream",
          "text": [
            "4\n"
          ],
          "name": "stdout"
        }
      ]
    },
    {
      "cell_type": "markdown",
      "metadata": {
        "id": "E68OZRcKkQoU"
      },
      "source": [
        "### 컴파일을 수행해야 변경사항이 적용된다"
      ]
    },
    {
      "cell_type": "code",
      "metadata": {
        "id": "uG0pDWWMHKkk",
        "colab": {
          "base_uri": "https://localhost:8080/"
        },
        "outputId": "c4bdef04-1312-4efe-d6ee-879644f5f1c6"
      },
      "source": [
        "train_datagen = ImageDataGenerator(\n",
        "  rescale= 1./255,\n",
        "  rotation_range = 40,\n",
        "  width_shift_range = 0.2,\n",
        "  height_shift_range = 0.2,\n",
        "  shear_range=0.2,\n",
        "  zoom_range=0.2,\n",
        "  horizontal_flip = True,\n",
        "  fill_mode='nearest')\n",
        "\n",
        "# 검증 데이터는 증식되어서는 안 됩니다!\n",
        "validation_datagen = ImageDataGenerator(rescale = 1./255)\n",
        "\n",
        "train_generator = train_datagen.flow_from_directory(\n",
        "                                directory=train_dir,\n",
        "\t\t\t\t\t\t\t\ttarget_size=(img_width,img_height),\n",
        "\t\t\t\t\t\t\t\tclass_mode='binary', # 0 or 1로 labelling\n",
        "\t\t\t\t\t\t\t\tbatch_size=20)\n",
        "\n",
        "validation_generator = validation_datagen.flow_from_directory(\n",
        "                                directory=validation_dir,\n",
        "\t\t\t\t\t\t\t\ttarget_size=(img_width,img_height),\n",
        "\t\t\t\t\t\t\t\tclass_mode='binary',\n",
        "\t\t\t\t\t\t\t\tbatch_size=20)\n",
        "\n",
        "\n"
      ],
      "execution_count": 21,
      "outputs": [
        {
          "output_type": "stream",
          "text": [
            "Found 2000 images belonging to 2 classes.\n",
            "Found 1000 images belonging to 2 classes.\n"
          ],
          "name": "stdout"
        }
      ]
    },
    {
      "cell_type": "markdown",
      "metadata": {
        "id": "PNj36PXplaCx"
      },
      "source": [
        "### 과대적합이 줄어든 것을 볼 수 있다."
      ]
    },
    {
      "cell_type": "code",
      "metadata": {
        "id": "Cpgy1ZUjHKhU",
        "colab": {
          "base_uri": "https://localhost:8080/"
        },
        "outputId": "b3d393a5-bdb4-4303-96d6-77620cd56e02"
      },
      "source": [
        "model.compile(loss='binary_crossentropy',\n",
        "              optimizer=optimizers.RMSprop(lr=2e-5),\n",
        "              metrics=['acc'])\n",
        "\n",
        "\n",
        "history = model.fit_generator(\n",
        "    generator=train_generator, \n",
        "    steps_per_epoch=100,\n",
        "    epochs=30,\n",
        "    validation_data=validation_generator,\n",
        "    validation_steps=50)\n",
        "\n",
        "model.save('cats_and_dogs_1.h5')"
      ],
      "execution_count": 22,
      "outputs": [
        {
          "output_type": "stream",
          "text": [
            "/usr/local/lib/python3.7/dist-packages/tensorflow/python/keras/optimizer_v2/optimizer_v2.py:375: UserWarning: The `lr` argument is deprecated, use `learning_rate` instead.\n",
            "  \"The `lr` argument is deprecated, use `learning_rate` instead.\")\n",
            "/usr/local/lib/python3.7/dist-packages/tensorflow/python/keras/engine/training.py:1940: UserWarning: `Model.fit_generator` is deprecated and will be removed in a future version. Please use `Model.fit`, which supports generators.\n",
            "  warnings.warn('`Model.fit_generator` is deprecated and '\n"
          ],
          "name": "stderr"
        },
        {
          "output_type": "stream",
          "text": [
            "Epoch 1/30\n",
            "100/100 [==============================] - 28s 276ms/step - loss: 0.6004 - acc: 0.6740 - val_loss: 0.4594 - val_acc: 0.8080\n",
            "Epoch 2/30\n",
            "100/100 [==============================] - 27s 270ms/step - loss: 0.4859 - acc: 0.7820 - val_loss: 0.3695 - val_acc: 0.8500\n",
            "Epoch 3/30\n",
            "100/100 [==============================] - 27s 267ms/step - loss: 0.4243 - acc: 0.8125 - val_loss: 0.3369 - val_acc: 0.8590\n",
            "Epoch 4/30\n",
            "100/100 [==============================] - 27s 268ms/step - loss: 0.4008 - acc: 0.8345 - val_loss: 0.3277 - val_acc: 0.8550\n",
            "Epoch 5/30\n",
            "100/100 [==============================] - 27s 269ms/step - loss: 0.3918 - acc: 0.8310 - val_loss: 0.3048 - val_acc: 0.8640\n",
            "Epoch 6/30\n",
            "100/100 [==============================] - 27s 271ms/step - loss: 0.3682 - acc: 0.8370 - val_loss: 0.3011 - val_acc: 0.8660\n",
            "Epoch 7/30\n",
            "100/100 [==============================] - 27s 270ms/step - loss: 0.3598 - acc: 0.8485 - val_loss: 0.2860 - val_acc: 0.8710\n",
            "Epoch 8/30\n",
            "100/100 [==============================] - 27s 265ms/step - loss: 0.3539 - acc: 0.8395 - val_loss: 0.2988 - val_acc: 0.8710\n",
            "Epoch 9/30\n",
            "100/100 [==============================] - 27s 269ms/step - loss: 0.3415 - acc: 0.8515 - val_loss: 0.2730 - val_acc: 0.8760\n",
            "Epoch 10/30\n",
            "100/100 [==============================] - 27s 270ms/step - loss: 0.3397 - acc: 0.8525 - val_loss: 0.2779 - val_acc: 0.8820\n",
            "Epoch 11/30\n",
            "100/100 [==============================] - 27s 270ms/step - loss: 0.3140 - acc: 0.8670 - val_loss: 0.2661 - val_acc: 0.8830\n",
            "Epoch 12/30\n",
            "100/100 [==============================] - 27s 270ms/step - loss: 0.3148 - acc: 0.8690 - val_loss: 0.2718 - val_acc: 0.8830\n",
            "Epoch 13/30\n",
            "100/100 [==============================] - 27s 270ms/step - loss: 0.3177 - acc: 0.8620 - val_loss: 0.2607 - val_acc: 0.8860\n",
            "Epoch 14/30\n",
            "100/100 [==============================] - 27s 270ms/step - loss: 0.3176 - acc: 0.8610 - val_loss: 0.2628 - val_acc: 0.8860\n",
            "Epoch 15/30\n",
            "100/100 [==============================] - 27s 270ms/step - loss: 0.3244 - acc: 0.8560 - val_loss: 0.2584 - val_acc: 0.8870\n",
            "Epoch 16/30\n",
            "100/100 [==============================] - 27s 270ms/step - loss: 0.3311 - acc: 0.8540 - val_loss: 0.2639 - val_acc: 0.8800\n",
            "Epoch 17/30\n",
            "100/100 [==============================] - 27s 268ms/step - loss: 0.3139 - acc: 0.8680 - val_loss: 0.2575 - val_acc: 0.8860\n",
            "Epoch 18/30\n",
            "100/100 [==============================] - 27s 269ms/step - loss: 0.3094 - acc: 0.8665 - val_loss: 0.2659 - val_acc: 0.8900\n",
            "Epoch 19/30\n",
            "100/100 [==============================] - 27s 268ms/step - loss: 0.3014 - acc: 0.8725 - val_loss: 0.2709 - val_acc: 0.8900\n",
            "Epoch 20/30\n",
            "100/100 [==============================] - 27s 271ms/step - loss: 0.3092 - acc: 0.8660 - val_loss: 0.2706 - val_acc: 0.8890\n",
            "Epoch 21/30\n",
            "100/100 [==============================] - 27s 268ms/step - loss: 0.3069 - acc: 0.8660 - val_loss: 0.2657 - val_acc: 0.8900\n",
            "Epoch 22/30\n",
            "100/100 [==============================] - 27s 269ms/step - loss: 0.3017 - acc: 0.8690 - val_loss: 0.2505 - val_acc: 0.8920\n",
            "Epoch 23/30\n",
            "100/100 [==============================] - 27s 268ms/step - loss: 0.2987 - acc: 0.8785 - val_loss: 0.2504 - val_acc: 0.8940\n",
            "Epoch 24/30\n",
            "100/100 [==============================] - 27s 266ms/step - loss: 0.2900 - acc: 0.8750 - val_loss: 0.2567 - val_acc: 0.8920\n",
            "Epoch 25/30\n",
            "100/100 [==============================] - 27s 270ms/step - loss: 0.3045 - acc: 0.8645 - val_loss: 0.2492 - val_acc: 0.8900\n",
            "Epoch 26/30\n",
            "100/100 [==============================] - 27s 268ms/step - loss: 0.3067 - acc: 0.8635 - val_loss: 0.2496 - val_acc: 0.8950\n",
            "Epoch 27/30\n",
            "100/100 [==============================] - 27s 265ms/step - loss: 0.2790 - acc: 0.8780 - val_loss: 0.2502 - val_acc: 0.8890\n",
            "Epoch 28/30\n",
            "100/100 [==============================] - 27s 267ms/step - loss: 0.2888 - acc: 0.8700 - val_loss: 0.2523 - val_acc: 0.8870\n",
            "Epoch 29/30\n",
            "100/100 [==============================] - 27s 269ms/step - loss: 0.2908 - acc: 0.8730 - val_loss: 0.2541 - val_acc: 0.8890\n",
            "Epoch 30/30\n",
            "100/100 [==============================] - 27s 268ms/step - loss: 0.2724 - acc: 0.8810 - val_loss: 0.2475 - val_acc: 0.8920\n"
          ],
          "name": "stdout"
        }
      ]
    },
    {
      "cell_type": "code",
      "metadata": {
        "id": "5d1NMELUHKd-",
        "colab": {
          "base_uri": "https://localhost:8080/",
          "height": 562
        },
        "outputId": "77c9eb05-b235-4ce2-eeba-f477659b0b1d"
      },
      "source": [
        "acc = history.history['acc']\n",
        "val_acc = history.history['val_acc']\n",
        "\n",
        "loss = history.history['loss']\n",
        "val_loss = history.history['val_loss']\n",
        "\n",
        "epochs = range(len(acc))\n",
        "\n",
        "plt.plot(epochs, acc, '--')\n",
        "plt.plot(epochs, val_acc)\n",
        "plt.title('Training(--) and validation accuracy')\n",
        "\n",
        "plt.figure()\n",
        "plt.plot(epochs, loss,  '--')\n",
        "plt.plot(epochs, val_loss)\n",
        "plt.title('Training(--) and validation loss')"
      ],
      "execution_count": 23,
      "outputs": [
        {
          "output_type": "execute_result",
          "data": {
            "text/plain": [
              "Text(0.5, 1.0, 'Training(--) and validation loss')"
            ]
          },
          "metadata": {
            "tags": []
          },
          "execution_count": 23
        },
        {
          "output_type": "display_data",
          "data": {
            "image/png": "[encoded data removed]",
            "text/plain": [
              "<Figure size 432x288 with 1 Axes>"
            ]
          },
          "metadata": {
            "tags": [],
            "needs_background": "light"
          }
        },
        {
          "output_type": "display_data",
          "data": {
            "image/png": "[encoded data removed]",
            "text/plain": [
              "<Figure size 432x288 with 1 Axes>"
            ]
          },
          "metadata": {
            "tags": [],
            "needs_background": "light"
          }
        }
      ]
    },
    {
      "cell_type": "markdown",
      "metadata": {
        "id": "vFga4MAvrffG"
      },
      "source": [
        "- 검증 정확도가 이전과 비슷하지만 처음부터 훈련시킨 소규모 컨브넷보다 과대적합이 줄었다."
      ]
    },
    {
      "cell_type": "markdown",
      "metadata": {
        "id": "0qC0I1Xglvbp"
      },
      "source": [
        "# 미세조정\n",
        "- 모델을 재사용하는 데 널리 사용되는 또 하나의 기법은 특성 추출을 보완하는 미세 조정이다. 미세 조정은 특성 추출에 사용했던 동결 모델의 상위 층 몇 개를 동결에서 해제하고 모델에 새로 추가한 층(여기서는 완전 연결 분류기)과 함께 훈련하는 것이다.\n",
        "- 상위 계층 몇개를 재학습시킨다\n",
        "- 앞에서 소개한 절차, 즉, 전결합망(top)부분을 먼저 학습시킨 후에 상위계층의 미세조정을 해야 한다 (한번에 학습하면 안되고 두 단계로 나누어야 함)\n",
        " - (1)기존 네트워크 상단에 새로운 네트워크 추가한다.\n",
        " - (2) 기본 네트워크를 고정시킨다.\n",
        " - (3) 새로 추가한 부분을 훈련시킨다.\n",
        " - (4) 기본 계층 중에 학습할 상위 부분의 고정을 푼다.\n",
        " - (5) 고정을 푼 계층과 새로 추가한 계층을 함께 훈련시킨다.\n",
        "- 이미 (3) 까지는 전 단계 예제에서 특성 추출할 때 이미 수행이 되어 있기 떄문에 여기서는 (4) 번쨰 단계부터 실행하기만 하면 된다.\n",
        "\n",
        "         "
      ]
    },
    {
      "cell_type": "markdown",
      "metadata": {
        "id": "2DnOrFGBsJ1R"
      },
      "source": [
        "![image.png](data:image/png;base64,iVBORw0KGgoAAAANSUhEUgAAAQAAAAKPCAYAAACCfBT2AAAgAElEQVR4AezdB5gexZUv/O/e3bs5+t7dZ704wbLGAYPJJplgHAgGA8ZgbIOxTcaATY4SQUIBhCIChHIOowASGZRAGZCEEMnkLIKQCN7g3fM9v4JiX4YRmhmNZnqG6uept/vtrqquru7zP6HqnPr/omylB0oPfGJ74P/7xD55efDSA6UHogBA+QhKD3yCe6AAwCf45ZdHLz1QAKCBb+C///u/Qypb6YGO3gMFAOq9YYT/9ttvx3/8x3/Uu1L+lh7oeD1QAKDeO/33f//3GDZsWDz00EP1rpS/pQc6Xg8UAKj3TnH/Y489Nm699dZ6V8rf0gMdrwcKANR7pwDguOOOKwBQr1/K347ZAwUA6r3XAgD1OqT87dA9UACg3ustAFCvQ8rfDt0DBQDqvV4AcPzxx8dtt91W70r5W3qg4/VAswDgpZdeijFjxsa1114b/fv3jwEDOkoaEFdffXV8c4894te//nUMGDCg0s92zTXXhNSY/vee+vbtE3V1k+P111+PP/zhDx3vay5P1OQeaBYALFq0KHbdbbf42va7xVY77hlb7bhHB0l7xlY77RmbfnHL2OJrO8TWO1X72bRv60b2/9e2/2Zs9qWtY//9D4iVKx8q8xyaTCods0CzAGD+vHmx6+7fjGsmz4tp978SdYte6xBpypLXYsaDL8UJZ3ePq0bPiBuXvR51izvGs42f90Jcet1N8f2DD49ly5aG+Q5lKz3QLACYN29e7Lb7HnHN5MUx7f61MXnxmg6Rpt73Vsx48K048ZyecdXou2P68ndi8pKO8HxrY/y8V6PzwBlx4KE/jmVLHygAUGg/9cAGAUD/ukUxZcmamLTwzXafJs5/IyYueCOm3vd6HHvmFdF92K0xecnqmLTgjZi0YHW7f76x96yKTgOmFwAohP+hHigAsHBNIvARdz0TA6c8EP0nzo1DfnZynNFlYPSfOD+G3/FETJj3WgGAD3025U9H6YECAAvfjLpFa+OGGStivx8eE5ttsWX8v3/8dHzmC5vHl7feMTr1HR+TFxcJoKN88OU5PtwDBQAWvplE/wnzXo4Djzwh/s+f/En8r//1v+KP//j/xKb/+pW4btoDMWlhAYAPfzblX0fpgQIA79sv2DI6958Y//zZzeKP/viP42/+9lNx+C/PSKMbBQA6yudenqN+DxQAAACLjGKsjcG3PBr7fP/I+NM/+4v40lY7xFUjZ8WE+W9E3aL2b+gsRsD6n375rwfaDgAWEL2rlSbMezUuHzgt/u7v/18c/LNfx8T5L8fEBasr187mjEoUACgE31APtDoAJIKa/2oMv/2xuGH6irhh+kOVSUNufjiunbwkvr7DbvGbSwbEsNseixtmVKd9+mrwjJUxbs6LCZiaMvxaAKChz7+ca3UAqFv0RnS94Za46LIeMWLslBg9cXpl0phJ02PUhBvjyl59YtDQ0TG27uYYPak67dO2vgOHxuV9R8f4e1c1CQQKABRib6gHWh0AJi54Jc7oekPcMOi6eP65Z2P1G69XJr2R2vJGvPXWW7HmzTfjvf/Vad+qVa/EwvnzomvvwTF69oth8lJjpYACAA19/uVcmwDAWd2HxtAhg+PN1avjv/7rv0pqZB/827/9W6x4cHl06ze8AECh3RbpgTYCgGExbNjQWLNmTYs8xCelEpGKVz60Irr3HxGjZ79UJIBPyovfiM9ZAGAjdm5LV10AoKV7tNRXAKAdfQMFANrRy2onTa0kALAL+Nh///vfp0T3/c///M+NslqPe6mbf3xjouTIqz3KNWX1IHnd45133knP5l6SujynvfRxbSgA0E6oqh01s1IAgEgQGCu8hTkWLFiQ0n333RdPPfVUIhR9K1994svn8vn8vzZ/Q9cQ1RNPPBFz5syJN95444N6a8tnkLAXTuuOO+5I9oucJ+9r33s+l/eIe/ny5TFx4sRYunRpesYXXnghZs+eHeIrOHf//ffH888/H++++24CmNr6HBcAqN8j5f+G9kClAADxP/vss9G7d+/o1KlTIgiE0aNHjzj//PPjlVdeSRxS4E5cM3NhXBNxIBxcFtE5zhzVtXwsr7I4sfKOb7/99jjiiCNi2bJlH0gCyuR7rF69Oh588MF0/5dffjluvPHGePPNN1N5bdYe9Wdidw/nM7d3jLiHDh0affr0id133z3Gjh0bL774Yuy7775x3nnnpXur98ILL0wrE7mn9tVuBQBqe6Mct0QPVAoAEO11112XovKSABAQ4hKEdNasWfHkk0/GvffeGw888EDceeedITahkYSZM2fGjBkzUp7p06cnEMHRp02blso+88wzicvi8KQJkoXrd999dyJCxP3jH/845VF+4cKF8dhjj8WoUaPid7/7Xdx1111xzDHHpHKPPvpojBs3LgABAsbBtYdUAEBeffXVFFFY3TfddFM6XrVqVapPfumss85KwVRfe+21+OEPfxi9evVKz+lZPNf3vve9VNbz124FAGp7oxy3RA9UCgDWrl2bCPGCCy6IWg6Is+KiU6dOjXPPPTeee+65qKuri4MPPjiBQrdu3eLUU0+Ne+65J84444yYMmVKAgPn5s+fn4gUgBDBrfpD5H7kkUfi+9//fqoH2Bx55JGJ0EkaJI7FixentqgLkOy///7pXsDD8YoVK2LkyJEpr/bccMMNiZgBhjZqEzARXRj3JyF4BgDQtWvXWLJkSZIiSB6kAtc8J7D60Y9+FJdeemlSSWpfcgGA2t4oxy3RA5UCANwecZxyyimB0/rgEYU9uwCiOumkkxLhIOYDDzwwSQRCXnfu3DnZCbp06ZIIEycWthwxjh49OtUHQHBXxEuE/+UvfxkDBw5MYAAAcO2LL7443QeBHn300TF58uTEjQ899NDE3UkLjtVxySWXxJVXXpmkEGW/853vxMqVK1P5IUOGJMnA/UktwI16ow2kCwDHngAA+vbtm57RcwKnffbZJ6kIRQJoiU+81PFxPVApAEAADz/8cOJ+/fr1S1wYoSPGxx9/PBEocCByE73py4hKLH/EiHtmHZo6wX5goU9SAAJkSDzttNOShKC+iy666AMj3E9/+tN0zEiX8wAIujqVABiQMBwT2x2TDIjziB63v/zyy1N7tIVEACxOP/30pKI47tmzZ+L2Y8aMSfm1B7e/7LLLktGTpEAaAGjAgVRQu+mfMhGotkfK8Yb2QKUAwMMwfBGp6cL0ero1vZ1+jIhxXgQNBBCQcwACIBCvcVviO2MgiYKFHydVLwIiWSgPHNgUcGLqgNWA83/HVAYEiVvT95Uh/lMXGA2VYZR0b7YIBM6qj3DlBRQAae7cuakM+wAj36RJk2L8+PGpjOvOuR/Or5z2eab6BkB9UwBgQz/3Ur5+D1QOADQQ56MzSwjZh48gsnXdf0m+TNhZx3Y+jwTkMtQIW1Ynclnlc525vDL53rX58rG6c17lnc/Xcn3+5zyOlcnlSCaS//IbaZA353FOGxra1FUkgIZ6ppxrbg9UEgCa+zAdvVwBgI7+hlv/+QoAtH6fN/uOBQCa3XWl4Dp6oADAOjqmiqcLAFTxrbTvNhUAaEfvrwBAO3pZ7aSpbQQAQ1M8ADPzGL2qkv7jP/7HqIfYpKq0TTsYDx98cHmJB9BOiKs9NLPVAWDSwlVxZrchaQLNihUPxRNPPpmG6gzXtW16Mg35GdPP6eGVK9NU4LZt1//0y2OPPx533H57dO5xbYyZ81Ja0KSEBGsPZFbdNrYBALwe/Sctiot6Doleg6dF3+EzKpEGjLo1zurUM777vf1izz33im99a5847Mifp7b1G3FzJdrYZ9j06DpgXFw98q60XqEIywUAqktc7aFlbQAAVhJekxbcGHvPa1GVNGHBG3HpwKnxuc2+mJYF+9u//79x9KmXxOi5L8e4e1+vTDu1ZWIzVmNuT0FBzdfIczfaAxG15za2EQBYEMSCG9VJlv8aefczccjRp8Wf/flfxtd33COtFjx+3muVamdTuH6tdNAeAADRZ1sH+4uttcDAfUzAagh4nF/X5KzGEP/H1d1QeflNUGuNrQ0AYHVMWmQ5LsT/ekxc8Gpl0oT5r8SVI+6Mf9rkc/HTk86LiQteiAnzxd+vShtfi4kLGx8KvL0AAKLnMs1Fe8CAAcklnDMVd2rTr03p3hgbQksjKytXJtdv/h1mZubNMV8U/iDaJm9DAJHz198jYtPITR2fMGFCmpJeP0/tf/1gqjlPV56mtW2pzdeSx20CADht3/HzosfQ26LrdVMrk64cflv0G39P7P6t/eP4MzpHzyE3xRXXV6d9Xa6dElePnp1WLGqqJFBVCQBn5fsgCMzee++d4i7wleBktcsuuyQvT3ETbIgvp/pEkM/nfc6fuXo+n//n67xMuV5/8YtfTF6cfDnktfH14GW62WabJSczQJTrqd2nzO//OJ/vYXo3L1FBX7773e8mPxHX8vV8n1wewYsNsfPOO8duu+32IXfwfL+ct6X2rQ8Ai16N83uNjosu7hRTpk6JaVMnVyJNnVIXM2ZMj7tmzolbbrsjpkypq0S7avtnct3EGDx4SFzUbWCMnWvdwsZLA1UFAE5eOOwWW2wRV1xxRXK5RpSIj0eoaElcuxEAgnItO3dlIsBpcWcEhEhxUkTmGLgok1UL/x1n4rPnSPaNb3wjuaJzKFNOefWSTHbaaac4++yz03n5lc91Z1VFW/I1rubaktvAS3SvvfZKz6Ht2qB8fTHff/3BhXzbbbf9AADU69n5jNQvk/uguftWB4CJC1+JM64YHDcMuj5eefmlePvtt+Ltt6qR3nnn7TTWbrzdcVXalduxevUbcf99S6LL1R1nZSAendyrd9111+Q5iWhsPnjelTgoMBArUVwHxHTVVVclr0/c2hDtsGHDkvv1iBEjEsfOagOXbBz8mmuuSYQswpNQc7w+833ciwcpAPj5z38e4kmIO8GjFJHyFnUNACBO9xSBqnv37skFXXwHEasQ59NPPx3Dhw9P5wcPHpza5ltS3x577JGGmak22sArFBDUbggdcNQHACDDW9TzUSlaEgRaHwAWvBJndR8Ww4cNjbVlYZDa97/eYx9CR/MG5AKN+IVkQ0D1N8+MK4sSJRDL9ddfn4KoEKm5iyOkL3/5y0lkRnyCqfz2t79NgCG83Fe/+tUUlYnrtWAvBxxwQLpWS0QAYMcdd0wBXdggDjrooHQvLuMAIEsAiF/ch0MOOSQFcUHY3/72t5P6AqzEdSDuu69oVdoMNOT75je/mYjYc55wwgkJYEgmtRsAABjnnHPOhyQAoCD2hPqBFwmkpbY2A4CyMlDTX2FHBACGNzqvyEikgfoboiCiC6SK+EgDDGWbb7554tY4oqAvQq+JpSAMnPiNCEWwmOOPPz4RtngMOC8DGzFcvXkTs4G9AeECIVz9a1/7WorgXAsA7qXuM888M0kngOk3v/lNUl/ErRBiTkAZ8SyElRMMBpcnLajv8MMPTwFfqBUkhlopRFvWBQDyAQZA4BuobXt+hubuCwA0t+faoFxHBABEi+MCAYSIM/vAs87OAIj74dAAAEGZQo7Tsw8ABESO6yNee9GbAACiIRV86UtfStGfRIuiMtTnoCz8pBAqAnsD8f8rX/lKssTXAgBRXzxI6oB8iJjx8vOf/3y6DyOmaE9sAO4jUAw1Qti4z33uc7HVVlslFYa0UL8NPqcMAPVVgHytJQk/f76VBgAPvDEeOj98e9t3RABAYIMGDfrA0o474tDO48SIh87NiCaEG1sAzrvddtulUHAA4uSTT07cVkBWXJcujwD1F2mB2I+gqQ8NcVDAw+pOb8e9DT8CJMN36gcOiBIA4P5UEcODrrEZ7Lnnnin6MwD4wQ9+kCQRkg2LPsCiAqhD6DpxI4EGkKgPAji9/O4F8PQFQHQ+2yPYRlqSJioLAB7Sw3phOqAlH7o+4as7c5761+r/b0rejytbW4/nq9VJ65fL/zsiAHhuxICQfPRHHXVU0q9xckFfhWTHbYEEoiTqE/np2DlM27e+9a2klwsjRwxncBPMlchMB2d4c16It4a+I+qB6xKQQchEeGADBLbccstE2MK8CUVHlAcCDJKkF2P8gMPQ5Re+8IUEZgDFcCY7wmGHHRaf/vSn0ygHgNh0003TferbPLKuL3AtwKKSaIPz1pQQuJafiu+gpbZKAYCX4+E8NFT2wsQDdCz2HhS0NfQSP65DGsqfz7mfAKE333xzQtyG6vGRyodQcSbt0ZZcR943VNY55XyIngVXEwfQB4OTOcbhvFgfV15boCFA0IaOZgTUPzgh/fq2225LAVFFaia6Ix79TNTWf/pOBGVgIDakdwEEBFFFIN4hiz/CQbj6S8qjCfI3tKmbnYGEoH6GRdxd/ltuuSXV75pvEIf2XTIWygt05NVG3xEpAoenrpAYvE+jEYY0PZOkvUCpPgBoq/t5Bn1gMpC2O+/e7Bf6qaFvo6Hnasy5SgGADwFhmJhB9CO+ScJ7i9cPGHRGNoiQEBCXc1AySwz28tir08txnAk5l1eOJRYBQlcEmMuoT1KGzgn9cSIvgNXYR6O8RGStfw//Jdftfag4hZdKnPUR+0BwOdZp0ZB9TCIK+1h8+J6tdlNXRwSA2mds6nEt+K7ruKl15vzqy3XWHufrjdnn8vLW1lF7XFtPbf7a8xvruFIA4KMnehHzWHAzUSFYQAAxIbWxYShtbBRx0tmMEVuxhxGGNRm3yAhKN2SlhdQMM6LwWvDDOVwYN/nJT36S6lYGIOA+QnS7L+RldEKgEB16Zw6O02gPkROAqE/b1I8TOQ84PA/QMJREJ4Ty2sP6jWNkwGGA2m+//dKz1B8mKgCwscjgk1tvpQCAeEUHZN1FKFnUgYo4Mw7KCINzErEQD7HLMIvzuKw9UZCY5hhgZNBAoCzGQADRm4ACKIjfJACE795ACAAABRZoifWXYYkoRu9TnjhHUmGJJoL+7Gc/S/ED1GGyinYYllIXAgdorNOIXxhxum9eGCQbhFwnFdCJAUbtVgCgtjfKcUv0QKUAgASAOyJSXBzRIAwfPinAVFFLeyEcVliEaNYXfcwkCVzZykK4OAChe5144omJm5ICEDuLsJj+6jBchBjF/gc8hoOI4+4DLCwMogxCNoGDtIHwGXUQMFUlW3pJB4xR6gIgwEFek0GoDLg5KQAYARJgR8cEGtqf1QX2BfW4r/6o3QoA1PZGOW6JHqgUACB2ej49GPcmWiMeojou6vgXv/hFWpWH6M0uYKgEaOC6pAFjtAw2iAehI3IcH4AABSsLGe91zYwrwzUszWZ3uR/CM9kDAVu1h7hPsnBMdQASLLnykkIAEjBQDvgALsM4DD2MfsBMOW03RMVyjLtTD7SBuK/NgMxzskK7t/ZnCSi/6AIAuSfKvqV6oFIAQNQHAvRoHBW3RHw4KQ5KJHZMDEd0OCpCIe4jMLp2HqpBLLgsjoz4swGQJEDPRnyOSQL2QADxqs+9cWL5lKersze4D5CRl6hOItAWdgFqBNUEVwc4iJ8FVzl1uB8gYK+gUuTrpAuqhzpIHfKptz7xe+EFAJr22fueSJG+HX3X2ga2prW2bXJXCgDqdwEreH1LuDzObcjLVLaheuvfv7H/N7Q97tOY5ykA0Ng38t43ggGQ2Eh8QFj/le3DPVBpAPhwU8u/AgCN/wYMzVKz2IlM8KGKkcjK9uEeKADw4f6o9L8CAI17PUaMzNfgqWdGIbWQikiVo+KRDKgGWS2kIlDd8jkSnXzUQ+epZP7rf9eolK7lc6Q31xhyAY9r8jRGqmvcE228XAUANl7ftnjNBQAa16VsMUZWRPIxrVbAEfYjdhf2Fx57DK6AgNHZaJGRG7Yd5xCyGZqWczd/31CvmAMMzlmtMPTMP5+9CuBwalIn47C62K/aAwgUAGjcN1WJXAUAGvcacH+zR825N+yL4E0U45ADFAyzGqlhSDa6Yw7IaaedFl//+teT2sCYbDKaURsjUrz9+PCLKWCI+ac//WkarVEXF2OTxcz95zOQ/RTM5WA0Bg5V3lofABa+EmdeMSQGpYhALyeRSfSdNk9va8M78c47ogHZ16YKtO990fKB+5ZE195DYvTsl2Li/PYfEmxjEAeio+/zGDRUTPQ3emTOhWnYVALzSLInH25tRMmcEU5GhpyN1jhvqBhxG8Exz4SjEVDhWiwoCU9EIzf+y2do2IQ18QXMAiUFVHlrdQCYtOjVOO+qUXHe+efHlKnT4uZbb6tGuuW2uPmWW+PW225PYuKMGTfHzTffks5VpY3TZ9wc1w+6Pi684poYO/eVDhETcGMRhzkfO+ywQ+LgJCe6vLklQIA6QE0wR8QMTyMEAN+UbwBBFaDHI+RtttkmzQUx25PEQKpgV+C0Y7jYMDXwoEbg+oZ9zVEBBuZzqLfKW6sDgGi2o2c+G/3HzYn+Y+fEwAn3VCJdN2l+XHTlsNhltz1jk002ia9vu32ccs7lcc34uTFwwr2VaKO29BszK4bf9kiTiF948KoGBd1YxMFwx72YCF8LAGZ8AgAAccYZZyQpASEzBBLvjRiYlMVeQNQHEoifrm/OBwBwnhRhnogp36QDU8GNOGQAEMGIjaAAwDpWsSG+WnSjCmnCPOsTvBHX3bg89tz3sPizP/+L+NevbBPdh94R4+99NVyvRjtfiwnzrQzU+CXB8toAnyQAQPw4NAAwUzO7WgsUgkjNDaAWIGDiPH2fodB1U7txdDM2BQM1Ldw8AuqCiVpmnKqXD8evfvWrNAWdOkFVoB6QBMxElUdZkkeVRwNaXQLIHyQA8DFXKY2755W4qPf4+Ou//VTsd9gvY9zcFxLhV6mNCQCasCZg7u9PEgDwtWDBR5R8MejlrP+mWQvagUgZ+lj7TQUnJdD/+YXwOEW0LP+IXR3i/gEG19QtH9Bwjv7POEi9yEZDIwTUBAZCBsmWnHTW0hJTmwAA4h93z3MxdvZTMWbWk5VJY+c8EUNvvT+23mHXOKfbgJhw7xMxZrb2VaSds5+KsXOejPH3vtToRUE/iQBA5Cd6E/WJ9gxxkuPaOQAIM08VljeP65sf4Fhe5yX1qZeB0TU2AvX5b/p6zmufk+sNTeluaSLekPpaHQDqFq2J8XNfjNPPvyJ69Lk2Bg4ZEwMHj65MGnDDyLjk8q5xVd9r4tqhFWvboFFxzsVXRPfBt4Z+zMTdmP0nSQLYEIL4pJVtEwAYc/dTcfa558fSB5bEq6tejlWvvFSh9HK8uXp1vP7aq7Hq5Sq166V4/rlnYsyokdHp6lFpheXGEH7OUwDgk0bajXveNgGAsTOfjosv6RJPP/VkEpGISVVKRMP/qlibslhaN2lidO49ugBA477vkms9PdA2ADDr6eh0Wdd49tln1tO8crm2B+irk+vq4pLeY5ok/pMCigRQ25PlOPdAAYDcE+1gXwCgHbykdtbEAgDt6IUVAGhHL6udNLVyAED//riJE67ltL4+li/X19gyDdWZ63Gt9rihvB93rrZsPs577VzfVgBgfT1Urje1ByoFAIjBGKqJGMZd8xiq844RgGvyNIZg8hRQ47imfhqXVYdxW3U2dtMWrqDKOTaLrCnl5VXW2LGJIcak87PkttkbU9bmdbWvAEBj31jJ19geqBQAIGoEYraWKZwIDeEjCJ5YZmY5b+ZV5ux574ERWm1CULNmzUrTNq20Yt0As7PM6c5ElvPXdlhtnY7F7ePmCURMB+Ubrvy6NnXW1oGoTTs1Q0ykYbPTOKCYhWaJKQuBmE8ukKh1DcQbVKb+VgCgfo+U/xvaA5UCAMSOyBDK9ttvn7ywzOv24fOwEo1XrH5SgHyICEHy7JLH6jrmZQMRxwBEoAbru/PsMpUTIQMSU0FN6+Qmyp9bnSQEjh+ChKpHAFDTRTmLmENOClAG4crrOtdR5XmKaSvurg7nOIy4v/OcRJwTmYYbqXXjgJoVYwGKPKaVmnNuGqn2ZQkov+QCALknyr6leqBSAIBrIkS+2FblQSgcNxAaDi6kN08sxG8dOavvICSx3xCMaCyIB6cXBMI5RM832/xvhMvhg7OG6C1W5EGQACcv1mF+t4jA2iAIBKLkHopTuy9p4KSTTkp1ixZjnviMGTOS1MJ/3P20R6Rf6waYZ843HZCQGkSg8RzcSLVv2223Te3NL9QzWAQT6ChTuxUAqO2NctwSPVBJAMDtcWCBHLlsiu7CPdPiHyQA3JKYjPAQtrj61AJ6tFBQvLJ4dNHXESSC4twBAHB3CXGLEkNawMXF57coiBBSQAh3tj4AQHAfi4GQKACPKDIkAOv7cRZxb95jFoYEGM4hYGsKAJtszyBBACxSi/L+8zcHWDaqA1WAxEJ1qa8GFABoiU++1FHbA5UCACIvgkSYOCTOK1wTQsMtO3funPR5Ij9QwLVJAbgwwgMaCIyIDyyoCER8EoDznDhwYZycHzdCVQ648O7iD47TsxEQ3QGLdf5wfQuHAAWeZY6J+XR2dTiP2wMfgAMISDDUDm1itBT3X4AIUWI8FxAARKLWADFSArdVLqSek8GwqAC1n2o53hg9UDkAwNkRBKLDcfPCGgIyAAIiNcIRtBGxyOc8IxuxH/HKi5u7pjyjIqCgn+OyWRRXTj24Oh0e+BDBARAVgRoALIj27isPzu6YjQHnriV6BjzAQdoACFQLEoAFR+j53FHp+AyROD1Vg4QjD6lH+9UPXOoTv5dfJICNQQKf7DorBQCZOOm+PnaESgzOLpcIGDd1znVidB5Sy2VcUw63l8d/ZRyr35bvQzSXcv35XvLmehGiurP04Jrj3IbaY6qDsFKWCAMaVA7ggqDlk7RZUo/7altug3Pupf25rbWfp+tlKnBtj5TjDe2BSgHAhj5MW5dHuOwBuLu1Ahkwc9johgi6qe0tANDUHiv519cDBQDW10PNuE5qQKykhJYg/NyEAgC5J8q+pXqgAEBL9WS9ehB+SxK/6gsA1Ovk8lSlbmYAACAASURBVHeDe6AAwAZ3YetVUACg9fr6k3KntgGA9wOCPPXUk/Gf//neVF/6c0kf1wd/iLfeejsmlYAgnxTabJXnbAMAWBuj734yzjj7/Fi8aFE888zT8czTT1UmPf30U5HSU09Wpk25fwx/jhg+PC7uNSrqFpaYgK1CIR38Jq0OAJMEBb3n5bis7+joOXBM9Bs65f00OfoNbdvUf9jUGDB8Spx21oVxea/r45oR06J/al/btuu9fpkSfQbXRecrb4j+ExaUoKAdnDBb6/FaHwDeXygkLQxy76oYd0910oT5r8aUxavimNMviyuG3hKTF6+O8VVq472rYsK812JSWRikteijw9+nzQAgfcQLVoelwqqShNq+cemaOP6sbtFz5J0x7YG3Uuy9qrRPO5pD/CUmYIen42Y/4AYBwIC6xTH1vrVJHEU87T1NWfJWTF/2Vpxwds+4atRdcdOyd2Ly4o7xfOPufTU6XzMjDjz0x7Fs6QNpFmKzv5pSsMP0QLMAYP68ebHb7ntEn3H3xoR5r8SYOS93iGRpsMkLV8Wxv+0a3YbcEpMWvhpj51b32cbOeTmk9fW/PCPufi4u6jctDjzkiFi2bGkBgA5Dwhv2IM0CAA43e+65V2y+xddi03/9Wmz2xa06TNp08y3jM5//1/jcF7aIzbfYutLP9S9NaN8XNt8y/vmz/xIH/eDgeOSRh9MsxQ37dErpjtADzQIA7rhjx41LLrkDBvRPHnG84tp7umbAgOjTu3eKJ3Daaacld+MqP5MgKVLj2tg/+vfrl7wieTgKvlK20gPNAoCO3G089qwUy4uvbKUHOnoPFACo94YBgMCjPPrKVnqgo/dAswCAkwsRMvvP82vvKIlPPwAQBqzqz9ec9imzrngDHf1jL8/30R5oFgBwdxWiSyitB+5/IMXUE1evvadly5bH4sVLUsy/IUOGxooVD8XSpcsq+lzLYvnyB1NqUr8/sDQFJm0o4tBHP49ypqP3QLMAgJgs4OWXvrJlfHnLbWKr7b4RW23b/tPW2+0cW359x/j8Zl+ML355q/j69rt0mGd77/3sFFttvW2KlygKUdlKDzQLANaseTNZnrfefte4uN/EuHLk3dFzxF3Ro50nz9F3/Mw47JjT47ddBsbVY2dFzxF3t/vnyu/lqlF3xkFHHpdiJApLVrbSA80DgDffTMNPu37rgBh6+6Mx/cF306y5G5e9E+05zXjw3bj9kbfjlPN7Rd8JM+O2R/4tblrevp/pg/ex9O2Y8eDbccxpnRIAiEVYttIDGwQAu+y1f1w/fWWYQtvepwHXLV4bU+9/O25+8O048dye0WvMzARsk5d0jKnAkxa9GVOWrI2jT7moAECh+w96YIMAYOe99o/rblqZ5stzOGmviZPNuLmvxNg5L8aEe5+On5/aObpcPzXG3/tCjL/nlZg4//V2+2z/805Wp/d01MkFAD74+stBFABYyIlpbVw39YH41emXxGE/PzW+vuPu8Z0Dfxw/Oua06Dnklqhb+EZMamIAjv8hvKoAYwGAQu8f7YECAAvfTO7IY+c8E3sfcET85V//TfzJn/5Z/Plf/lX80yZfiC7X3RRTl1SFiDekHQUAPvr5lzMFAN4HAME/fn1R7/j7//uP8b//6I8SAOz+nYNj3NyXmu2DXy0poABAIfeP9kABgPdtFwxk/SYsiG122jP+5E/+NDb53L/EBb3GxIT5rzc5/Fa1CD9LDQUAPvr5lzMFALLxctGaGHfPy3HCOT3iL//qb2PPfQ+LEXc9FRMXdAT9HwgUACjk/tEeaHUAQFAT5r8WY2a9EKPufjZGzXyuMmn0zGdTwM1NN/9yHHtG1xg75/kYNbNabdRnApe8Fx4sc/fG7AsAfPTzL2daHQDqFq2OvhMWxm8v6hWdelwfl1w1uDLp0l5DolPP6+MHP/xxnHrOpXF572GVaZt+EhH43Mv7R7dB05NqMinFCGwM8RcJoJB6wz3QBgDwapxxxeAQSOT555+LVatWxapVr6QVdK2i25ZJO15+5eXk6KQdVWubQCz33nNPXHrV9TFmzkvvqycFABr+tMvZxvRAqwPAxAWvxFndh8awYUPizTdXx3//138l12LuxVVI2vPeun7VaE9tn1g6fMWDy6N7v+ExevaLIbR64w2ORQVoDEF80vK0EQAMi2HDhsaaNWs+af29Qc/Ll3/lQyuie/8RMXr2SwUANqg3S2E9UACgHX0HBQDa0ctqJ00tANBOXpRmFgBoRy+rnTS1kgCQQ47V6r/v6eX/vVG6Nd/Pfn1bU/LWr8vziMRjn5+n9hnz+frl8v8CALknyr6leqCSACC+IPuA8NVCj9mLQiSWXUtvCFJ0HLEAf//736+3+nfffTfeeOONxI0bAxgqlE/b3ePFF1/84F7q8nyvvfZaOqdebVlXvQUA1vt6SoYm9kClAAAxIoLZs2fH0KFDY86cOXHvvffGsGHDYtSoUfHmm29+EIwUQWWOae8/4FAHAkIsOY9zUua2zrsunzLucemll8YTTzzxQb6cRxlEaQgOCNmPGzcutTPXpw751SfVb497P/vssykm/9VXXx0XXHBB3H///fHcc8+lY7H9Fy5cGLfccktMmDAhxVoERuqp3QoA1PZGOW6JHqgUABjmEo77hBNOiOnTp3/AHa1ENGjQoHjmmWcSp3z44Yfj8ccfD2GtEMXLL7+cAl0++uij8fTTTwfO+sgjj8Rjjz2WiBaHffLJJxMhK/O73/0uVq5cGaLiIGrBTQ8//PBEhOrFlc0DeOihh1IexNqpU6dEtO61fPnydB7hmyugrqeeeirV7xmAhCTf888/nyQLBK6eBx54IH7xi19Er169Utkf/OAH0b179yQFaKPnPPTQQ1MgUvXXbgUAanujHLdED1QKABCnkNznnntuIg4fPO6JEHBhBIRTL1u2LK677rq46KKLkkh9ySWXxOmnnx7jx49P+3nz5sWNN94Yv/3tbxMRI0Sclfh91VVXxc033xw33XRTHH/88bF48eJ48MEH48c//nGSPNy7T58+CRSOPPLIxJUnTZoU++23XwAi0sIBBxyQytxzzz1xxRVXpHtceeWVqW5SxJlnnhmXX3559O/fPx0DI+3H1akzrmkfNQfwkAo8o+cFJAcddFCql8RTuxUAqO2NctwSPVA5ADj55JNTyKoXXnjhA7E6gwDCtGQXNQEhfuc730mEipsiOpz4/PPPT+oC7t+5c+cYPnx4TJ48OXHU22+/Pb7//e8n4iUV4L7XXnttKgcA7rrrrrjwwguja9euidh/8pOfBOInjRx88MFJKiAt7LvvvqkO+QCK9kydOjV23XXXIIVcfPHFCUQAkfbOnz8/SRryAQ11ZlsAAPBciJsaQbo58MADo2/fvknKqH3JBQBqe6Mct0QPVAoAcEhE+stf/jJxcxKBc8RpnFUo8h/+8IdJRMeNES1xHgclDVAR7EeMGJE4ruW9EBNuT3RXBvGyLRD/jz322Bg7dmwChx/96Ecxc+bMwMnPO++8RKjuNWbMmLRMGK6MO4vBr07SCCI99dRTU13aTWLQTsBDlCepkEzmzp2bCB7hT5w4MYGW8kDgkEMOSfckIVA9+vXrFz//+c+T+oLga7cCALW9UY5bogcqBQDZ4IZQu3TpkgiewQ0BIxZcG3EjIrYCHBZXHTx4cCJG+jYwUIZIjaCoBQDEf7YB5UaOHJlAwOo/6kT4RP9FixYlnR0Hv+GGG5IIT11grOvRo0eqyz3PPvvsuPvuu5NhjwGP8U6iSrgXjj569OgkDVARAADQASwASnmSCW7/m9/8Jon7pAySiuQ5tJdBsXYrAFDbG+W4JXqgUgCQHwjXR9iIHkHh1tkqj4gRrSE1x4iCIU9+/0kNdGdqgzLqcpyt8zmv/Ax2Eu6rPnv10dPdw33V6bx6/ae3q995SX05r3upT171ueY4l1EvScQzqUO9yjovf25DHlHI/ZH3BQByT5R9S/VAJQGgpR6uo9VTAKCjvdG2f54CAG3/DhrdggIAje6qkrGRPVAAoJEdVYVsBQCq8BY6VhsKALSj95kBoEdxB25Hb63aTW0zABg+fFisLfEAmvR1FABoUneVzI3ogVYHgEkLV6WQYH16Xx2PP/ZoCgsmNFg10vPJQs9KL5mM9Nxzz1akbc/F008/FbNm3h2XXHldCQnWiI+7ZFl/D7QBALwWlwycGseeeFp0u7JP9Op7bVzVZ2CbJ+3o0q1nGqM/66yz4syzzorzL7gwevUdGFdVoY19r40re18T5154SZzX9dpmRAaudkgwc0BIOHlo1jwIKQ/hrv9Tbl4Ow8Pu4d7175Wvace6hmbXd9fsGKb++vM66pd1vbYP3LO+Q1j9Mhv6v9UBwEIbkxe/EdOXvhk3LlkT0+9/K25q46QNtyx/K64edWtsuc1O8an/+//is5/fLE696OqY/sBrlWhj6qP71saNS96MqfetaWJA0GpHBUZ45kAsWLAgTZY65ZRT0nRsE8BMzzaPYmNsCA6Rmb1pYpZJYuZm5M08D9dMHHOtoclZOW9De89lnodJYGaGmhOyLhBw3v04jfFhOeecc2LFihWpTEN1t9S5VgcAQSwtJT558dqYvPityiRLnI+8+9k47Oe/ib/4y7+O7Xb5Vlw3bWmKv1+ldmqLxUwbHww0Rw2upgSAAM3Y5M9hirWPn/s3n4499tgjzZw0UWpjbJnoevfuHdtss03y66h1wHLMoevLX/5y8gYFDusi4Iba59nMajXd+3vf+16arLau8ohfXn0g//bbbx/f/va3Eyg2VHdLnWt9APgglv2a9z9i+2okaxb0Gz8v/vmzm8ZRJ18ckxdn4qlG+zZsheJqAgCuaHr3l770pTT92wxNYq9ZoPwiTJ3mcu0cDpxVhCwe5/Ou5ev5Wv5vL18Wrx3nDZc2jXu77bZLnqZmarqHOszs5NwFHKiFZnbK71puhzrVh7Bdq72nYxKAKeDAzLFz6s1tzO1gcwJ6119/fZICBgwYEJtssknqA3W7Ty6zLhDJdTVl3+oAQAUYPfOZ6DdmVvQZdVf0Hzsr+lUkDRg3O/qMvCO+uc9+cfZl/WPghHsq077UT2NmRu+Rd8bQm1e+tzDIwtVNkASqCQDiL3C02n333RO3Q0T5g8f5uWsjHOmaa65JzmDiRRCVSQ78Jpzv2bNnUhvEUuCnYdo2/w5enHwvOIrxy3CdezhisrkXX40ddtghDjvssPjpT38aRx111AcxH7Rhxx13TACgTunOO+9MDlu4NWcxbVMfozHQ4mXKRT3HrOA1CgD4fgA00kCOAZGJFRByHgMykrp222234GsCMPiIUAvEjMhtz2U3ZN/qAFC3+PW4sM/4OP+iTjF52oyYceud1Uq33BETJk2OKdOmx8233V2ptt0447YYNGR4XNxjUIy7Z1UTlwerJgDQ+7lR8+wUzKV2y1ybM5aALAiTSC6gyp577pm8NHl87rTTTomoxIggNnOwAgyIhyj9q1/9KnlycvXm4Sk6E6DJGxdtdRC9qQOAAHAACrYJ14AIMOAcBiQ4nXFYEyfCMYDp1q1bKqsOMSPEfQAYzgM4koa2s3HMmjXrQ/q9Z0XYAAkYeC5t5X5OamCDABr6orbt+Rmau291ALAwyJndhqSFQTaWcae5nVH1csTAh1Y82KEWBuFdufPOO6fAKNytazfEIOHou+yyS/IKpZeL9fDFL34xcVmqAvdpbtm4I/drRObYtV//+tcpboRYEQiSByiOWruRAIAQd3OiuDxf/epXk/dnLQC49rOf/SxJFqQPnF8ciq985SspZgRJhns5NQJQCf2mvTxJ//Vf/zWBBQlBuYaI2LM6L2rU0UcfncAGgAAHIMAG0VC52mdp6nGbAMBZ3cvCIE19UfIDgI62MAhiFqSFCI4Q85a5P244ZcqUdB0HRRDsBMRsIj6ixOFxfRKEPeIBAAida/gWW2wRJ510UhLjcf/6IjQrPQBg7UecCJBNgjGyFgAAyj777BNnnHFGyocoEfrnP//5ZOUnlRDVtVE5YjzjnqAx//AP/xCf+cxnEmhpc/02eG7nPIN4Eu4NPBC950D4GRBzH7XEvgBAS/RiK9XREQGAFMgIyAjHCCZ8Gu6KEMRyYBQTUWn//fdPxC3mgliNdGrcFLfF8UWSomMTr6kTjhGo+ojzCFrcCMY7hFS7UQEAgAAvjH5iORDZDUGKDQmcAAvwYNADPq5lYqXT+0/9oEaI7SBCFBUEWAlj5/moMUBC0Bl11Uoi3q1nYTvwDIBLPUBJXtKRZ9dfwLGltgIALdWTrVBPRwQAxIhI6M2IQxg2RjOiO06OO+O8CGKrrbZK50RyQvQMhIK5IFY6tzzf+ta3kvGMKI7YcWPHAEQUpoY2xjdETJ8Xwk1eoeJIEXV1dR+I79rC+MgGILIUUDjiiCMSsbM5CCTz6U9/Or72ta+l+hgI2TiAwmc/+9kEBO5BYgAk5hjkTTuB3aabbprUG7aLrbfeOuUDAOYpiGEJ2HwHLbUVAGipnmyFejoiAOg24i3OhiCmTZuWOD/CNvyHS+LkLOM4v2hQDHFEdeoBonaO3q4MglUHrk6klgDMx02qcQ8EbOIRqYPxT91EcHUS63F0HDhb6OVF4CQMebVRm4S0x7nZHJR3XQBYaow6tN1/x+6ZN/VSgVyT1GFPIgFkwAiYqLPDSwBemofWKTqXHqWDW/LBc8dnXdNH4L7r2xCh9mSdbH3583X3cQ9Ir7x6JM9Iz3Mun68vouY6OioA5OfT//rAO/f+a9+3Psl9L49r+d35n/vQPuvNubyy3lf+n+9Xu3ddPZJvLZfRjnzesfPa6V26jzblLbcnf0vyqivnzW3L9dWWdX9587W8dy/1yOu4qd9dbtu69pWSAHKn0wGJWxJUFHCTYUZH2uST8pb/531tnnyuofzy6VicBdriOLX5cxkvNn9A8uAwjDzO1+ZfV3vkQei4Ej2UMSuPYeMuhnjEI/Ss2uJDaehj1daOZgTMfVb2bdMDlQIAHzgxkLHE2CnDh3FP+hiLL4MMFERMGWUz6kLMzDkQa20eyA1dlZUyIsvnGrGN7kkX9F87ch75iXYMUay3AMDQlfqVlzffy/98TvncHnUoQ7xE8N/85jfTykdAxNDRZZddlp7V2LAZZ6zGRD111W4FAGp7oxy3RA9UCgBwPhZSQzaGhxARgqQfmhBBn6KTmTONayJc1xwjLDO06IOss4iJUYieBUjkNZGDEceaAsaW6WMMLLguyzEOjUjldS8TS+hyOLZJGYiYTsZq/Z6r8HPJ+qttdFA6Gs5OQjCRQ5tIFoBL+HLXHAM4dWsPI5Iowp4VkGiDoSYLmeiP2q0AQG1vlOOW6IFKAQBiRogspLXGDiI0bsiaa+IF4kNkxo8RKKuxYSAiNGcSIICQWGntAQTgIGabNAIEEDjLrzUHMwAYyiFpmDIqr0U7EDGDDSszIEHkLM2kBURskgcrtTDiLLwAwqwxbUL8hnRYq7NkAdjMHHNPz5sXBiEleE6ABGwMBzFe1W4FAGp7oxy3RA9UCgBwPMNBhjsQCK6IMIjvriGqE088MenfrLqGV3Bz47dmXVEfiNPGTnFXC4yqiyTAioqQv/vd76a6AQzQoF4YWsGJSQXmarsPADD1NHNx98K9LQxCbGcRxslJLAiZ1ABQtMuMM0M6JAPzt4EQcR/xWxyENECtIBEAAM8MIKgxQGzvvfdO4OF/7VYAoLY3Gnec7TfAtWwf7YFKAYAPHJfl2EEPNsSDoIj8iAexGx92noEQp6aTmxBiXjZ7AQAwkQN4kA4QufL0cTo8HRsQmLutDI5OtDeujPgM78iDe1NF8mq9xp4RMm5uOqgyVAMSibY5xtm1IS9qou2kgWzcY9cwOYQKoQ1UFWPKznMcARjqAFxGC4oN4KMfbGPPYBwm1jAg5/F4KlbZPtwDlQKA3DScEQeWEAUCy4Y2nBz3RTA4Mi6Jg+PMuLoxXOK9DwAIEKlx16xGIFCEiQtTJUgWzmUjn/+OifikEOVzvcR7ROu6Mji/ewEa0geRHeFqn3PASbuUcR2AAC6ShjyeEzh4TnV7Dnlze3N/5H2RAHJPrH/vPWIMAJaUxYPQO2to823UlxDyudp9bdn6+Rt7rTZfFY4rCQA4H7EfIdj78IlyEsL2X5IvjwLI67/zynhB9cU/53J5e/lzUsY5ZdQl5XvUlpFPyuVqr+VzuQ35Wv6vTqAEtHId/ud75Tas6+NSTxkGXD/ZeA9ULLYa9iRAD8T1dX5H3rN+lvR7vpbP6ev8rvL7UdZ179U5e/9t9vl7y+9x/S1t+xyVBIC275ZqtqAAQOPeC/sPNWuzzTZLfgCMwCSrrA5QCUhhJDYSGscbtiCz9YAFgDZCxI7DQ9AojdEhEhu14o477kj53YMkSRJkZFZeOTYpeYAOUKjyVgCgym+nXtsKANTrkHX8pRoiWABgRAVRsgtxIDIn34gOYy/Vi0HX/H/z+M3hZ38yqsN4LA/7zKc+9alkD2I3EqmH96F85uuLMUBVJG0IHcYtmfHYf+oraaDKWwGAKr+dem0rAFCvQ9bxl2iOU/PiQ6A4NAMwQucZSBpg2zHka1SIUdl1eYEDozFbjdmn4gvwFMThSQccdMQvMFz9jW98Iy0JDwBICxyESBYMyRyUgFD9kZx1NLnNTrcpAJSFQZr23gsANL6/qAFCeZlPod8MwxqxwZ0BAgOtkR9Dt4yvjIYIlkciIiZF8MBD5ER9+RluP/e5zyVQMIpjLoq8yov6S5owOkTVAADKqbfKW+sDwML3IgJZGYgOBq2rlHwsOVWpXdqCmzy4fHl06zssRs9+MSbOf6PdxwTcGMRB72YExKkF12DMAwiGd00EAwauE/tJCVQE+jqCJyEgYtwfQRP3if5Ge4j04goYWTAyZWTHRDDSAluBGIFGeswCBQAmmRUAWJgj6763n7z49Tj3ypHx61NOjjGjR8bE8eNiQkXSpInj08cA2U3tnTZlcowfN6Yy7Rs/bmz079snzr2sT4dbGKQlgYCxzmxQOjmOj5jN3xAQdK+99kpcGwDg3EACoZvV6Vq2AZg/wiZgXgkDoRmd5owADeG9SAIiDVEjAIH8X//611OEICHO3VuAE9JGHiloyWdsqbpaXwJY8EYMu/3x6DpwUlxx7aToecPU6NHGSRuuHDwtLug2IL793f3Si915l93i1HMui543TK5MG3sMmhJXXDc5Bt24tMNEBW6pD7m2Hv4fjHW4v0lZZmma5m3imNmbODMpgERlTgdDH2IFAsqSBljyEb+kHhO48nwOdbMnCNKZ54YwGAIHE9iECWNPcB0YFQD4iBSwNm5a9k7cuPTdyqTpy9+Nobc+HN/87qHxp3/2F7HFlttFr5GzYur9a+KmZdVppz6bct/bTRD9swRWzajAtYTbUsd5TJ4qkMfmjeHn//a1ROk/FSufs6+fX568NZS/Vl2kQvpvX1sul6/SvtUlgLyiTd3itVG1NHHB63HJgLr4u0/9Qxx45Ikxaf6qRGhVa6eVlXI/Nn7/yQGAtiAwoNFQaou2NOWebQIAE+e/HkNveSRumP5gDL1lZVrowmIXbZ2G3boyrpuyKHbYeY/4Tee+MeL2R6vTvltWxpCbH4pBNz0YY2Y9XwCgKV95ybvOHmh1ALCu3bg5z8fJZ1yUVt29bsjouHbwqEqk64a8147LunSL3gOuj+uHjolr3z9XhTYOHDwyzu/cLboNmpHWV2w896cGFAlgnVTwCb7QJgAwZubTcWHnLvHY44/HW2+/U7nEcrt27VvxdsXa9vrrq2Pq1GlxSZ+x76+nmPX7xuwLAHyC6Xydj94GALAmxs56Ojpd1jWeffaZdTasXPhoDxjPnjy5Li7pM6aoAB/tnnKmGT1QAKAZndZWRRIA1NXFJb0LALTVO+ho9y0A0I7eaAGAdvSy2klTCwC0kxelmQUA2tHLaidNrRwAGEs1eaKhCRT5mn1jt1wm1+l/U8q7T66j/nFj21BbLgeVyO3I7cr7j2tbAYCm9HjJ25geqBQAIAIhtThucBRCLDZE4dg1Xlr28q5v44ttWqfpmNw9zf8WWswMrcZu7i2eoLLKZddSM70au6lDBBkuqhxL1MdJxHTUHGRC/Z7Z9NR1gUABgMb2eMnX2B6oHAAgEh5Wouk6RnSIny+2udXmWDvOUy/zdUSD4P0HDvaISQhwjhxCiosMI+gmx5CcVz4pE10u65x7+G8uufYgWLH+rD/nunapp354KOdddy1PCRWrkLeZ+eLmnptDzrtMrDpuowKeqlfUYPdQvv5WAKB+j5T/G9oDlQMARAYAeFrxwsJxffjCLQnWIBCDc7ioAKGCd+KiCA3hSOpAcLiq4KE8voT3FhSSDzi/cJIEbszHm1dYjvumXsTpPKlBvXy+LQnNJ9w517RJUImcV1AIgIP4cXKBRwWacE/tQeDyCDZhZSBhqACcABPCmHsmdXE+4W5KCsqglF9yAYDcE2XfUj1QOQBAPFxxeVwJzsC/mrvlNddckzywMnEI251cdqdNS95XiBORccsU800i/gszLjAETy+c/Mgjj0y+23y4xfQnDVi/nfeX+HDWBHBNVJdjjjkmESX/busCIEpAIiy4Y5xc6HDtEAqKx5kYcYBLvTzMzjjjjA/izFE/hJviSSYclTZvs802STohaZAYrGgEIEgrCL52KwBQ2xvluCV6oHIAgLDE2OfDbQ0AcfUFW8A5uWUiYBzfdVKBFXkEeiANcOVEyFYMwqWBifMAgOgPINTjnBWEgAIXT37eODyCVlb9JAf3ElpaewCA85ZtlhdXB0pCRsnLzVRYKNIEQJFP27SdzYLOT3URawCRk05IIXzIqSckBwQuOIXYdcKFk0pqtwIAtb1RjluiByoFAIiAWEw8FpWF6C2oo5VzELPwToI6IHSRWgVesOoPri9iCw6Ortwz7wAAIABJREFUmAAFAkeMRHEAgHNnkRohC/zANkDsxq2PO+64RKxixLk3ora0GJAhbVA/iPyO999//wQG2uA+zvMH5weOyK0ArM0kA2oGzp6XEqPnW8OQ/k9a2HLLLdN9AQrQEmBCXf7n9uYXXQAg90TZt1QPVAoAiME4svhqxG7SAEJBYIABhwUCODgiYhS0t5IOiQCR5wCPdGmx2RAzokLICAhRMbDRuYEFUZ+4DQiI5PIzyqkXAOHeVAdcHYEKDmnpL/mtGiRQBLsAbi/yLNAhSYhHb7kyQKC99PwcoEJdpABcnoTjuUgZ2kgaIR2wPdTfCgDU75Hyf0N7oFIAgDiJvXRlxjhEUGtRdw5nxFHzMJq8jnOZbJGn/8uPaEgPrqsrc1Vgk+tTPt9L3c4rz6gnn73/uW0NHasDYIkHTzUAFFQOIEQq0AbXEbd9bdtyW51zj9zG+i+3AED9Hin/N7QHKgUAG/owbV0ewLD6I342ANycVLEugm5qewsANLXHSv719UABgPX1UBOuI3SSBEIlNeDmQKGltgIALdWTpZ7cAwUAck+0g30BgHbwktpZE9sGAGa+Hw/gmRIPoCnfSwGApvRWyduYHmgTABARqNOlXePZZ55uTBtLnvd7AABMnTI5Lk0RgRoTBag2T4kIVD6kj/ZAGwDA2gAAZ5xzUdxz7/x49PEn49HHn6hIejIeeex3seKhlfHwI4/FY7/Ttuq0b8XKR2PY8BFxWf8JJSTYR7/lcqYZPdAGALAmJtz7SnS+emRc1nt4dL9mbHSrSOo+cFz0GDg+jjn+9Djvsr7R87qJlWpftwFj4+Keg+OaSYtKUNBmfOylyEd7oNUBQCTbiQtWR92iN2PqkjUx9b61MfU++7ZPNz6wNm57+LX49QW9ove42+PmFW/FtPur0z59NHkxsX51iQn40W+5nGlGD7QJAAABi1tUbcGNKfe9FTOWvxUnntszrhp9d9y0/J2YvKR6C5iUhUGa8aWXIg32wAYCwH5x3U0PvS+Oro5JC9p3qlu8Jm5aujaOP7t7XDnyzpj2wFvvcdp2/lzeC6lr8uI1cdTJFyXnKVOcy1Z6oNkAYLrrznvtG8PvfCimP2j9vDfbffIcdzz2apx8fq/oO+HWuPWRtXHT8vb/XN7NjctWx4wVq+KY0y4sAFDo/oMeaBYAmLPO+WW7nXaNo0++ME48t0eceE6POKGdp5PO6xnSXvseGocdc3r8+sKr0rNV8bn0d06Na1/39CzfPfBHySmJ70LZSg80CwCMRwu1xbvtggvOT15vPN/ae7roogvT82y73XZxzC+Oic6dO8WFF1b3ubT3vTY3vo28JHlamqZcttIDzQIAHnI+IJ55PNs6SnrjjdeT594vf/nLFJsve/B1lOfzHDwPcX/vsGylB5oFAB2527gNH3/88YlLduTnLM9WekAPNAsAcA9ebwJrdLSEQ5544okpmk9HezbPk+MetJSLciGj9t0DzQIAIbnE0+vevVt07dKlw6QrrugaXS6/PHbccYc44YTj33u+rhV9vq5dokf3bk1+Bz17dE/BS4sNoH0Tbku1vlkAILDmXnvvHfsccFjse+hR8b1DOkba79CjY99Djoqttt81dtvn+3HAYcek/1V8Pu3cN7X36Eb3vzLf2G2vuOSSzvHOO2+31DdU6mnHPdAsAJg3797Ydfc9ov+kBVG3+PWYuOCNDpFMT77xgdfj+LO6R88Rd8TU+9emCTQd4fkmzH896hatiqNOLvMA2jG9tnjTmwkA894HgEUxZcmaZsxLr3VTrc7x5MVr00zAE8wEHHVX3Lj07eSzYOpye09lJmCL006HqLDZALAbCaCu4wCA+fVTlrzvC3DOe74A05e/E6YHt3fif6/9JR5Ah6DYFn6IAgDvc3cAMGP5O3H7w6vTDLu+4++M2x9+J6be974/QLuXAgoAtDDtdIjqCgAs5JX4VvQdvyAOPOK42GWv/eIL//Ll2HqH3eMbe+wb5/YYFhPnvx6TFrV3SaAAQIeg2BZ+iAIA78cnGHHnE7H3/ofHn//FX8Uf/5//E3/6p38e/7TJF+KSAXVRt+iNDqAGFABoYdrpENUVAHhftBds4/TO/ePvPvUP8b//9x/Fn/35X8Q3v3NITJz/cgexAxQA6BAU28IPUQDgfQDgK99/4uLYevvd40/+5E/jnz+3WXTqOzEmzCP+t/9RAFGEjHKUeAAtTEHtvLo2BICq6dRrYsycl+L4c3rGX//N38de+x0ew+94IibMr5r4r9+a03cFANo5rW6U5rc+ALwfmca49Nh7VlUqjZ/3Wlx/04rY/Mtbx0nn945Ji6rXxnH3vtaMgKAkmAIAG4WC2nmlrQ4ACH/glCVxXpd+cfnVg6N7/xHRvV9FUv+R0a3vsDj8J0fHOZ26R89rRlWnff1HxBV9h8VF3QbEVUNvjvH3vppmKTZ+jkIBgHZOqxul+a0OAHWLXo0zuw2Nnj16xrKly2Llww/HypVVSivj0UcfS22y1HeV2rZixYq4ecaMuOiKAUldMUW5AMBGoYtPTKWtDgATF7wSZ3UfGiNHjIi1a9d8Yjq6JR6UO+/DKx+KngNGxujZL8XEJtknigTQEu+go9XRRgAwLIYNGxpr1hQAaMoHBQBWPrQievQfUQCgKR1X8q6zBwoArLNrqnchAwC7SZEAqvd+2mOLCgC0o7dWAKAdvax20tQCAO3kRWlmAYB29LLaSVMrBwBi1Yla+8ILL4TQY88991zav/baa/Hv//7vLd6tYuSJ/vv000+HgKDr2rQrt01eIbUaG1dPPvlffPHFeOihhz64l9V5fve736X/L7/8cnpmbRF2vaGovQUA1vV2yvnm9kClAAChvPvuu3H77bfHlVdemSLzimHfs2fPsBKRsNbySAgkH+f/zuXztce1+WrzOgY2d911V5x99tnx6KOPflBnbfk//OEPCRwQ8TPPPBODBg2KVatWhfP1687/c3l7IPPkk0/GkCFD4vzzz4/jjjsu7rnnnlTXSSedFF27do277747Ro8enepevnx54vbqqt0KANT2RjluiR6oFADgfDfffHOIy//AAw8EDmkVoqeeeipGjRqVJAEg8OCDD4Yx+ldffTVxS9wTJ0U4TzzxRBpdUF4eIw35uvqUd14d1jVwDlf+2c9+lhY7AQKvvPJKIs5ly5alOPoLFiyI3/72t7Fo0aJ46aWXUntIC5L/S5cuTfdVXz5HSli8eHHi7kBNWW0k1fzmN7+Jq666KoHIkUceGX379k3tEJF47Nix8f3vfz89v/6o3QoA1PZGOW6JHqgUACD2k08+Oc4999wPcVicFnHdf//9cfXVVyfiGDlyZPTo0SMRd+/eveOSSy6JG2+8MTp16pSIjeRw3nnnhckzCHTatGmJGPv37x933HFHSq67BgAQ4ty5c8PKOTg84rc+AOmgrq4uvvOd76R677vvvvjVr36VpIX58+cnyUTea6+9NgYOHBjPPvtsqsN9hg8fntqF8D0bggZAV1xxRdx0003pmY444ogEAKQEHF/e/fffP0k9wKl2KwBQ2xvluCV6oFIA4IM/4YQTkjiOULKIncXoPn36xK9//evELXHlb3/72yFCMQAgWuO6lisbMWJE4tJdunRJxDxx4sQEHrfeemv84Ac/SBIAbuuYakEiAADE8AsvvDC6deuW8h999NExefLkmD59evzwhz8MdgjEfuCBByYJQj73RtzAZ7fddkt1XXrppQkQgMtZZ50V9957b1JtSCNAhopDhfD/xz/+cQIAxO05AcDBBx8cvXr1SgBR+5ILANT2RjluiR6oFADQsRHIYYcdlvRhojsxnwrw+OOPx+DBg+NHP/pREtFx30MOOSRxYvYCUgPiocvj4Aj8zjvvjO9973tJrfCfBPGtb30rcXXE/Itf/CKpFrg6MMDtEfXpp5+ejnFiXBxwHHTQQYm4AQ9pgHiP+E855ZTUxhkzZiSQoOsDEcACnCwyol6qibpILtqebQDuQeoACOwLCB/wUBUQfO1WAKC2N8pxS/RApQAAB8QVZ82alYyAuC+bAAIiWiMKhjTiPW6Nk7KaM55ZqMSIATGcyA5M6OeITjkjCAx+6pwwYUIizilTpqR6cWgqBD2dDYBRTp3EePcCLNQNkoBFUS+++OKYN29ePPbYYzFgwIAEWsAGUbP0X3/99eke6gIS8gIOoj+DpjRp0qRUHnCxAcyePTs9j7atXLmywRGPAgAt8cmXOmp7oFIAkBtGF2Y4Y4zDGRnWskU8D9tRF6gIQAOxy49A6NlSzp/3uW5llCUR5PLyAwfl1ZcNfI6dkw+AKCeve7lnPg+ElJHfudwGZXJe+3xf91Y+g1I+T5VQfl1bAYB19Uw539weqCQAeBiEixgkhJU35/2XMnHb1085f/19zpfL5/95L3++5jif/7h9Y/PLl1NtffXP1W9z/l8AIPdE2bdUD1QWAFrqATtSPQUAOtLbrMazFACoxntoVCsKADSqm0qmJvRAAYAmdFZbZy0A0NZvoOPdv40AYGgMHz401rz5ZqN07Fp9eWMf13/FG/t+Tamf0fChFQ+mMGWjZ7/YrgOCeG6AxiBqlMYIjqFZhlDnXd8Ym3rZlRh9TS7LE7DyvfzP1xhzm7qx5yjnObJheF11aIv7eW6jR4zJG/PZG2pH6wPAwlfijCsGxw2DrovXX1sV7777Trz7ztuVSP/2+9+nF+ClSP/xH/9eiXal/nn37Vi79s24/75F0eXqG6I9A0AmfnMmDN+edtppae6F4VHzJMyH+LjRkIY+5MaeQ6CGmg0vux+iqwUbQ8eumaptFmlTNwRsWPmGG25Iw8L+r2vzjEa6zP049dRTU3sA4cZ69oba0eoAULf4jbjihlvilN+cGz17Xxu9+g+OXv1vaOM0OHpfMyQ6XdYtjj/hxPjFL34Zxx57XPzmjHPiqn6D4uoB1Wijtlx8WY/o1GtYTJj3WrsNCoo7zpkzJ/baa6806cucDpOm+IBsu+22aXr2xxFOQx9yY88hLvMzzOb86le/mqaS1wIA4jU9e9ddd03zTxpbb85Herjgggtil112SSBg+Hddm4luJq6Z4GZ+i3sCJVJRa22tDgACWY675+UYdNOKGDD5gRg4dVkMnLK0bdPUZXHdjQ/GhVePi69svWP87d/+XWzy2S/EsWd0jYFTl1ajjVPe66drpjwQo2Y+F00LCFqtsOA4q5mVZmUCAoCAUMyu/PnPf55mbOb5FiaAmUVpRihQkBCZ+SEIiLTg2Dn1mDWqjKnkuDv1gniduao9CcDsy3/6p39KYKMMMTyL4yZjASIzQIED1cv9zUblpu5ezkvE/NxG9fpv0peZpSZ4ub/rpB3zPUggeVPf+PHj071NFtt9993TTFQAoC3u5Rlqy+SyLbVvdQAQxbZu0dqYct87lUpT7383Rs18Ng77xW/T+oDb7bpPXH/j8rBiUNXaOnlxc1Ysrk5QUJ6dX/ziFxOB1HI7RA8cEA1iIhmYSg0ULr/88kQQCJHfBUcuRMx5zNRrsycR3lFHHZWcuIjxM2fOTL4jZnHWcmLEZfr4P/7jPybV49hjj/3AsQyIIPwddtgh7eVFvGZxHnPMMak+oGUil/aaAcql2/TtcePGJe7tGUgR/fr1SzNPOY8pC+CASd6AkXrMKDUjdKeddkrg5xywOOecc9KMVP9rpZRcviX2bQMAi9fG5CXvpFV5gUE1EqJaHQPqlsSnP7tp/PzUzjFlyRtpVeBqtE8/vRWI32rGjQ8Hnpc1qwYAICj69Wc/+9m45ZZbEjfNHzJOl7k8IscRTevmybnPPvskMEBEXLM322yz5GhlqvZWW22VCAW35CzGnZpPiWnbnMtMGUdENoSU2/CZz3wmEa1p3xy5MsgADwBgD4g4bHHh5kLOXsEHhT8HIEDoCJ/vB4lGe7ii82fhvCZxNadaNGQU9LzuQyX5l3/5lzjjjDMS0Gmvae3ASJ6NtbU6ABBdLbnVb9zcuLZuYQyauqQy6YYb74vr6ubHAQcfERf3HBxDpy+tTNv00/VTFseA8ffGkJsfigmWLF+4uglAUB0AYPQCAFOnTk1ie/64EScQwFlx9W9+85tJ9Cbq49j0av4YfC4+//nPJwKhHnzhC19I3JZojuvzEuWjwe+Dezg1AdHbMgCob7vttktqBFGcB+ahhx6aiDwDgHtxFNt6662TbwcCRvjEe7o6z1POYI888kjyEsWxSS08RtXFEe2AAw5Ivi3a1pAoTwogBQEXIMMOwC8kqyokl43F/fVHqwPApIWvxvm9xsQll3WJO+6aGbPn3huzKpRm3zMv7rjz7pg5a27MnjuvUm27e/bcGDl6TFzc47oYO/flJtoBqgEAPuYxY8bEFltskZyqiPTOZcLExenjZ555ZiJ4/xEPhzB6OScqRLn55psnr0/E/bnPfS7FiSBeswfg0nvssUf89Kc/TfdCTHnL9yGF7LzzzslWAGBIDrgwj9EMAAAKoHzta19LAKB+9xMngshOtKc+cEPXxmyXEF8C4Wsj8OB0pqx7127+AwVJeU5wQM6z2pyvX6a2fEsctzoATFy4Kq0MNHTokHj11VXxbnKu4WBTgfRBW95NOmOl2vbu75NeuHTpA9Gt3/D3VgZqpwuD0KmJ1dtss02KgAQEGO2IyURnHF7gFyIxNYGOjGNTAxjLEOmmm26axG7cmzRB1CY2E5dFVWLhZ2jEnWuJyDFpoHv37un+iBegEN9xcP+J3cCGizcJY8stt0y2Al6hVAsu6cR+KoNrpBX2B20EUI4BANdy9gHtRtT0+lowMg/BszFS6hOSkbgT7uNZ2DUMC2pv7TO0BOHnOlofANLKQO8tDLK2LAyS30Oj9j7ujrAwCG5HTxaPATFxmSayE6cZ9oABMVrsxJ/85CfJVVvAFsZDBMm6vuOOO6a8LPZEebozTo5rIipGOcNrtUbG3MnysL6TErh+symoH+cGGNrgGoJEnNzCifQCzGgj13HAw8YAyNzfkOZFF12UyotHIWYE+4A6qCRUDNJErRHQvUgRpA/tYPBUJ0OkPjIsCtg2phrQpgDAwFK2xvdABoCOsDAIIiQyIwocm1ogHgP9H7fDKU2SYQDEbUkFiAeR082J1Ti08G50fZJCHu5ThyhP6q/luLU97Rqu7N4MjoAFpzUkqG6JhR8YIUiEqR3aY5TCpm73cY7agFvj3IyOjJciUZEmhH/TRnXUjkYAJxIFMNIGnD/bKtSjfYDQe++QEkABgNpPcv3HHQkAsiiOWBGY5KMHDLYMAjgh45t8riEQROSca/nY9UwoOZ/9ughHPfne6shl7WvvKR9C17Z8T3lyG4FSbofz7pnblPO7LslbC0i19Srjem6verSv9ly6aQv/FAmghTt0Y1bnA6MCdAQJYGP2U6m78T1QSQCAghAQQkqOpYyOjX+8xuXM92tM/fI0Jl/9O+d71H+m/Hz5+sc9ZwGA+r1a/m9oD1QKABABgqD70b/oT3Q7+pW54qyoLb0R7Rik6GF0yIa2TJz2nEVMHKEbItbGbPLR9+h0LMWGlzwjyy/nF/qisV/Pm9cr0A/1twIA9Xuk/N/QHqgUAPjAWXANn7B+IgaWWTH3DbkgGrqUsWGJjqUM/RFBMuwYWqE7OZYn627sDVlfc95YM71LWYYoVmBAoLx7yG94SnlEj0DNzTYOzOiT61ZeXQg863GAynXlnFeHEOEs1kOHDo399tsvEb7nMfbMeuw5GbRYg80Acy0bhPJLLgCQe6LsW6oHKgUACNpQi/ndHCgQAK6LsICBMVoWVhZhXBNHRbAsrMOGDUvnEJh8LMSGYxCtIRvlEDRCJl2wukqsysZbDTep15oCCNF8bpNFrDaEY++7774JKBCqqL/qZfV1H+PXxn9NU1UfCcF/bXHsvvICBoDBWwyoAY48ZzxzfGPIe+65ZwIIeWu3AgC1vdHwMWlLX0q+nbJ9fA9UCgAQiHFVEytw0EwUXiouSlzmPolwELE534ZvSAucQwzJKAscEK7xXbOr5EWkhpmMDwMThGqqprFlAEACkNfUUdM85eGEkod4zP+mIqjXmC4g4Mvu3qQPhK4+EoJxYuPaiNn4tIkmQIxkYpjJ2DBJh5QBAIxr52cFXsac1UF6qN0KANT2xkePfSOAm+OO9wJ460tRHy31yT5TKQAgevOgMiGCOI5ASAX2iMHsMNcQnOvmZBtbRUBi9SMehIPzevkAw/xqojfCo2MTv4njAMYkDNwcMR9++OGJw5sEog7EayqpsVxc3gwtXD/f1/gsaYW6QgohNZASgJDzAkK4D8AidWgP8NAWdQAKaoqJMCQN4OcZSTXAxli3Z6/dCgDU9saHjxE6KQuQH3XUUQlYqXb6rGzr7oFKAQAuaJKFaZqW1EJ4nCuI7wiLiC5yihfrGkLL+U3jxFWVw32BCYKjTiA4HBgHN8ecuoCALeFlaikJAYG7j3ozMJAW5JUHGFAZ5KW328trFhcQInXg7Ax7likzu43h0v3lAwKkAe3UbiBFygBI2uzZGDw9OzVE++tvBQDq98j//NdfjMXm0gNjgI9R6DPflUSSpBbk/7Xn6p/P19yhVq3IdXxc/v9pVfWPKgUAOtULw53p7QgXkSBy4h2OmHV6oj+uSqxmLzCLCicmBUheIKLHZZX1X91Ef3X7QBja6NnO5VWB3QOQ+A8w3EO9ODbiZthTXlkc2738d90Hpz7n8gdor4y6TP30PMRU56gypA/g5nmyVEDi0d76WwGA+j3y3n9EyQ2XSsgvgOoGUKl8JDwgzkHIrDvvjLrGTZhDD78C35v3ZEk4gA6oTfk1G9A35L0xzjpnVp935zsUxcd0YwZqkqbvVVva01YpAMgdBwh0JKt9RnDnbPbEPQTiOOeVvzbluurv5Vc2Gxhry+f6XFdX/p/3+Xy+Tz7fmPYoo3xOuf58vraO+m3O/wsA5J748F4fksJ46XEgQpDcdhE9bzy2GbYlKiG/fesxshVRv/bee+8kZTLg8ttH6N/97ndj++23T1IdMHfevHyqGR8ERmfE/6UvfSnN+VeGY5M6qXLa0162SgJAe+m81m5nAYB19zjJzchL9qcnieHgVALrQ5LYqJOCjFC/SGukMa6+DMjsByQzIz7KsO2Q7IwkCT6C+IGIQCFAxDURfEgLJFSOTVRHx8C8vWwFANrLm4pI0lCZCtzwCwMADKwZAIjubEWGVBG16wyrPPfYa6gCRH92HnYaKhpVDBFzIybiAw12ouyjT01gO5IPYAATaoSyJARhv6hxBQAW5jBUH91PrHEHpuuWrfE9UCSAdfcVYmY8xaEZaInijLpCfZEM/DcUzO+fapDtLohdZB8Eb5YmojY0jMMjdtyez79rhnPVxcDLRqRuEgDbEOKnKrBFeU/tZWtjCeDD49ztpdPaqp1sIg+tKM5A9fs/2wAMEQs2algVURrORbwMewx5ODqCJvYzAiJeQ7dUAwZDOj39H4EbrVGPkRxShahDwEGcABKEEQdRjQCIoWJBPyTGSEbn9rK1CQCcecXgtDKQiECs+FVJ//Zv77lfQnDE5kVaLKQK7dOOt9aujWVL749u/Ya164VBWpo4AABCNYWacY7fvlEV+rv5GOaW4NjeoxEdwTydM0JgxIc6gNvL75x6AAXDIluC4WR2AxO/5DN6g9AN+8oHAAQNMbuT2lFUgI9RAeoWvRYX9hkfnS/rGrfecXfcOeueuHPm3LZPs+bGbXfOjJtvviUh/I033RS33H5n3HH3nLhzVgXaN3Nu3H737Bgxemx0vnJwjLvnlXa7MEhLA4DRGMRNpSTqmxPgv2PnEDFQBxTyAnbnXM8jO66zE8gPEOzlkx9Bsym4Lr//tfXLK+V7l1GAjwEA4axH3f1s9BkzO/qMnhV9x8yuQJoT/cbOja4DJ8e+Bx0em2yySWy97Y5x9mUD32vj2DkVaON7/dR79KwYcvPKmLSgKRGBq7UwSEsDQKmv+T3Q6irAe6GsV6eFLSfMez0mzH+jMmn0rOfjJyecF3/9N38bu+x9QAy55eEYX6U2ztNXrzeR82dDbDWiAjf/Uy0lN0YPtDoATFyA+F+PMXNfTnrs6NkvRWXSrOfj6tFz4p8/u2kcdcrFMXbuC9Vr4+wXY/y9rxUJYGNQwyewzlYHgEmLVse105bH+T2Hx6V9x8dl/SfFZf0nViJ1uaYuteO7Bxwap5zbLa64dlql2qefLr56dPQePfv9NQGaogYUCeATSN/rfeRWB4C6Ra/GOT1HxpVXXR0PrlgZjzz6u3j40ccrkR7Rjkcei4dWPhwPrXykcm176OFH45Zbb4vOVw5qtwuDrPeLLBlatQdaHQBMBDqz29A0DLh69Xs+/3/4g7n9VUnv+QGkOfvJ56Aq7WJ5fjceXL4suvcfXoYBW5VMOu7N2gQAzur+3sIghk7K1vgeMFRVpgI3vr9KzvX3QAGA9fdRZXIUAKjMq+gwDSkA0I5eZQGAdvSy2klTCwC0kxelmQUA2tHLaidNrSQAmH7JCJfm4r+/4muextnS/ZrvZXpnY6Zwahc/gcbkrd9WBGwKqTqUt3df9Unra0MBgPo9Wv5vaA9UCgAQI0LgX80RQ5QWSYBOwRpynDz5pPpb7bnaPLXHytT+R1RcPzl3CP9Vu+X6ECYwsud2yuHDvO98vba+hsojdnPPBQkVTYa7qmfkgsqrTLxAwSmElBKhmLOJe9XfCgDU75Hyf0N7oFIA4KMX308QBv7XPK8QDS8sUX9FW0FMgABBOs7E5xiBqMMxTut/Pp+5dr7mumN1IWhRgd1LeXUqKzlGkDzIxA7kUip8uBEM5SVOIrn+2vY4lyUGIMZrTFgqLqc8zzyroKBCSQE4wSyFsxKWXMQadddu2lNGAWp7pBxvaA9UCgAQo6i4Aizy5+aBhVC5cArggGBwasSYl4xGKAiLu2ZeeUdQBlFgBGzYeLa6AAAgAElEQVQEGuoSEhwhCxbpWLioHOAR8QknrV5l3AP4ACGuoOoScJLfOJAQc15b1C1ScF7iWRmcHZFrC9dSy08DDnlJD6QMAMeNVHusC8D/PHubkXhEHRa4ktRQuxUAqO2NctwSPVApACBWC78trDbCxj1tmSMjdOCAcIR3wj2FabIQhIiuIrxaDARR8g+XF3dHoBJiFjEWNxYgAqEJ7iAyLwBA4EI8qQ+hiwEHKNQnkKQAkQJHAAOgAXTkRdTizgkySZ0QTKJHjx5J1BdJlmgPyEgtQkkBEG3hdlq7MIjn9Dziz5EEXK/dCgDU9kY5bokeqBQAEKVxXfHVEFIWwYnliAGxieFG/MZtRXNhKxDcQfQXxIW7IkbcVjAIdVn4U4AIHF+EWPo2sLEcGE4MDBwDC6qGKK/CPwnxRGcX19+6AQgd4VuQRB3uhVBxauL7XnvtldotoKRQ1PIAA1KHZxN8gs6PyD0DkMsA4BkBnoVBRKoFOsrUbgUAanujHLdED1QKABAB0RoIWCzDQhmI0h7h4b7HHnts4tTivVnFR4x2RGgFHkQuzJPILNQJUWAAAGnAfwRnYRCcGwe2KCcAUReujvgQOymEKkAqkJdYDgAQJYPdAQcckNQEqoJQ1K4DCisXkRK0HZfH+d2fygEEhKYi3QAZbdQ+9gBSi3h18nkm6gOAyBJQftEFAHJPlH1L9UClAIAI7KPHaenjCIxYjliJ0Lg2/Z4I7xzdGvcl+hPxgQGCxr0Ri2sAJRsMnSMlABLlXWNfQIgs82wFuK57MvTJ434WF0HkypEWgBJurp3yuMZ6z0BI8pBPUr9VhdgvSAOAjD0BWAAH10kE7u2ZtF1UWc9Zn/i98AIALfXZl3pyD1QKAHKjyr7hHigA0HC/lLPN74ECAM3vu1YvWQCg1bu8w9+wAEA7esUFANrRy2onTS0A0E5elGZmAOjRf0QKozZx/hshyGrjUokI1I5edas1tU0BYG2JB9CkF10AoEndVTI3ogdaHQAmLVwVZ3YbEoMGXR8vvPB8ssKzxFcpmXNQpfbkthh1WLxoQXTtPSTGzHkpRVZuHPcvYcEbQQufyCxtAACvRaf+dXHOeRfGqNHjYtzEyTFuQl010sTJMXbchDRPf8TIkTFuwqRqtOv9/hkzbmL07tMvLux2bYkJ+Ikk15Z/6FYHgLQOwLxXYsRtj8SQGSti2C0PVyINv+2R6DP67jjiZ7+KzTffPPbe5zvRpf/YGHrzQzH81mq0cdgtK1OfjZvzQlpLofHcv0gALU86HaPGVgcAH23dojUxecnblUpT7nsnRtz1dHz/iGPjL//qb2LLbXeOfhMWRt3itdVq55J3om7xWzFp4ZpGGv+ykbAYATsGybbsU7QJAACBKUvejqn3vVupNGXJmug57I74h3/aJI449qyYev/qAAxVa2fdorVNJP4iAbQs2XSc2toEACxvde3UpdFt8B3RbUi10qXX3Bhbb7dzHHdm1+g5/O5Kte+KwXdEj+EzY+RdzyQpqqgAHYcQ2+pJWh0AcK9xc56Pk8+4MHpc2TsGXjekOun6IXHNdYPToiV9+w+MawcNjYHXV6d9/QfeEGede2Fcfs2UaLoUUFSAtiKyKt+3DQBgTYyZ+VRcfEmXePaZZ6rcN5VrG4eom268MS7tO7aoAJV7O+2zQW0CAGNnPh2dLutaAKCJ3wwAmDy5Li7pM6YAQBP7rmRvuAfaBgBmvQ8AzxYJoOHX0vDZBAB1dXFJ7wIADfdQOdvUHigA0NQea8P8BQDasPM76K0LALSjF1sAoB29rHbS1EoBQA7+6UOXasNiOxbZR2gvTjHyrm9TRmhuZUT6UWcO1b2+srXXcx2i9OTj2rbV5m3oWFuFO9MOob7U4Rny82hbjoAs37q2AgDr6plyvrk9UCkAQFTCagmRJSQYQrEhIAQibJZowEJvNxQyq34nIDARf4XhEsZLXD7hwoTcauymTcKAiQeIgIUCE7sPATd2U4dIxkKCWQ9ACDNAoG2iDmubEGLiAgoJ5tkaArgCAI3t8ZKvsT1QOQAQuFNo7m984xsp3p6PPrnBrlyZwnQLssk7zjnXskSAyBzn/ADDf9GDv/3tb6e1A4T6FlXYQiPiBcorn6Q8okN8+RwAcl6wUAFCEbGYgmIAun+WBnJd8tpcUwfODoQkwDVt2rQEACITi3co3uDuu++eohg7Fh9QcFNBQZWvv2nv5GIErN8t5f8G9EDlAABxW1gDkYiiK3Am99whQ4akENoi9vovtPb8+fMTNxZgE7HjoJMmTUqcFZcmTYjSu+uuuyYAcKxOobpFEBZIlKSB8IQhF/xTkE/1CvMtOKh74dBi9XPHJQ0gZlKEwKGkC/msL5DbKgCoeseMGZOuaYeAowDEcmDqsmAIsNtmm23SMdAgFQgnvttuu6X89dWBAgAb8KWXog32QOUAQFRdYbolnBtBEN0RNslA/H6EQx1AuIChc+fOifhE5kXcFglxHWcGFDvssEOK9Y9Yr7rqqkTQAwcOjAEDBnywwMcJJ5yQCPa4445LUYLd86CDDkpcG5gceuihiYCJ7M4jZkt4CVMOeIQjt5oPKUN7gIt1A7QHAGTJQruEBNcugAMArHKUN/clFVjDAKjVbgUAanujHLdED1QKABAJwkLYRHei+sEHH5zi/tP7Lf5htR7hwInQYvbjsoiMCI27kh4AB307c17qBLEacEj0bCv29OrVKx2TBiz20alTp7S4B8JEoKeeempatktdAIAEgPvj4CQVIGINAHm7dOmS2ksKoOcDLguSCPWNcOUHDtSJHGpc+7beeusEHCQAUgVAszAIaaVIAC3xiZc6Pq4HKgcAiBhnRiji6Z933nnJAIf4rNhjaS96OOLFgXFk3Bf3ZzzEORGsVX1wW/o6dYKIngmKZICQETijIHFffTi5c+L2AyAcnHoBkAAPA6CFQxxb6087L7jggtQeC3pkzu681YGI+YieGkGKADAWHAEQ7uma1YSsIWhtAqoG6cE92ADqGwKLBPBxn3K51pweqBQAMKKRAFjEET8jG5WAMQ0RIWZEIg+d3TFuikhxdURrcRCEQi9nZcedEZuVhRjjMlEBA/o+InQv+jcujCu7fy7rnDro+6QQ97U6kPvQ9XF43B2QWIFIvr7/P3v3AeVXceSL/5wNz7v77I1ee9fPCSfABgwYmxyMAZOMMRhjDMbYmJzBZARKBAkJZaGcs2YkIXIUCISEJEACIQEiZxDKGGzve//6n0+Lxj8GhZnRaOb+Rvee0+emTre661vVfburevZMgEM7ocWYN+AgBDABAoDiGc3DUMecQ66LfPNkYt0GLQGgLkXK+42lQKEAIM/CY/w8A48ZBMMDzzCBa4zp2jPXOY134ud3GJ009T4zP6K59gwoSF+3HM+lFS+X5V4aede9FgdQ0TpoJnwOcmYKlGgc6iAY1wvyyXXLdfVM/dd1iFf+BVgXdcrnjaFAoQCgMR9QpDRABAiYozBcoDFg2krg2Zj6lgCwMdQr066NAiUArI0qBX1WAkBBG6aKq1UCQBU1XgkAVdRYVVLVFgSAa+OVcjtwg7oJAJhc2gNoEM3KyOunQMsAwLSXol3H6xIAGB+XoX40eP/9D+KWm2+ODj3HlQZB1t+vy7f1pEDzA8CcVTHmvhfjhN+dHOPHjYt7770n7rnn7sIEv+UenP5gWodQpHqpi7pde+210abrqNIoaD07eBlt/RRodgBgyXbiw+9Eh17jo0OPUdG5f0107lcTnQoQru9fG10GToxfn3R2XNKxZ3QdNCnVrwh1Q6PrbpwQbbuNiAFT55UAsP5+Xb6tJwVaBABqZq+Mm+d/EFPnfRA3PV6ccPP8P8cdC9+Lky/sHN3G3he3L/xz4eo4dd6fYvKjHINkhx/1PZdWgevJE5tVtJYBgA+9A/EQVKQwee7quGX+6jj1os7RddS9cfP8P8akOasKVUf0AqAlAGxWfLrJPrbRALD7HntF75qZMWnuuzFxVusItbOXxc3zlsYpF14XXUbeGTc9vjxqHlnaer5vzrtx/BmXpw1MDTGKssl6X5lxi1Og0QCw2x57Rvu+4+PGKTOjd+2sVhH6TpkVA295OI479dK47IYh0f/m2dFnUuv4tt61M6PvlIfi5yecERdddGFantziva+sQItToFEAMH/+vDj44INjj332i9332T923+eAVhH2+OEBseteP4pvbPmd+O73dom9fnRgeFbU71O3PRpE+/1jl932jE6dOqV9CS3e+8oKtDgFGgUAduat2Qk3K+1ys9OtNYRZs2bGjBkPxWGHHZZ28c2ZMztmzizut6mv0BDaz507J9kasHmpPEoKNAoAWjPZbOZhHYjBkfIoKdDaKVACQJ0WBgDMgtm3Xx4lBVo7BRoFANRHe9pXrVwZK1esaFWBQQ5Wh1gFWrlyxZpQxG9MdVvZ4Ppl2wS2LpdHSYFGAQCrOezdDRzQP/r17RP9bmw9oWePbrH33nvHOeecFf379S30tw3od2MI9aZ/3z4xaNDAZLSknAMomR8FGgUAjz/2WBx44EGx1/6HxT4HHRX7HPSLVhF+ePDRsfeBR8Y2O+4aO+2xf+x7yNHxw4OL+23qK9Sf/kfFLnv8MNlWrGtxuGSHzZMCjQIAs8677rZ7dB5+d4y477kYcucLrSIMu/vFGDt9cZxwVtto329ijJz2Ygy9q3V8mzYafu8zcfTv/5AWAhkKlEdJgUYDwB577h29a2fH5LmNWZZa3/XrzRvPst+b561KS4G7jLo3ps57L2pnN28dGr7Et771K/cClOz+SQqUAPDRppqVkfYCPLE6Tr34+ug6+r60FyCtvf8oTn2ZrYjxSgD4ZPcvn5QAkJh7eYx98K0Yce+LMeq+hXHCWVdGu77jY+R9z8fY6W/ExJlLG7H5pmggUAJAye6fpEAJAGl33Yq4cdKjcdQJZ8ee+/00tt5up/j+7vvFvgcfFe17T4yaWUui5pFqH+qUAPDJ7l8+KQGAgZJZy2PizNfj4KNOjE9/5l/iU//wj/FPn/5MfOXrW0WPsQ/FpDnVzvy0kRIASnb/JAVKAPhwfI/JL75uWHz28/8n/vZv/y7+96f/OQ484oSonf1OYp5NNznXXEOFEgA+2f3LJyUAfAQAq6LflMdj570Oiv/1qX+Ir3x962jfZ0pMmLmskQY4moux61tOCQAlu3+SAi0CAGbW/XIrVJi7KiY8/E5cdN2Q+Od//Y8k/cc99Fr6DVioen5ooajhGkkJAJ/s/uWTZgeAiTOXxcSZ78b4h16JsdNfifEPvlqYMOGhl2PY7Y/Fd777/bigfc+onVWs+o178NUQJj68JM1bNAwESgAo2f2TFGh2AKiZvTS6jLgvTjvvsrjqmm7RvlOvaN+pZyFCh85r6nLyqWfEJVd2jI7X9ylU/dpd1zMua9clru5bE+MbDAIlAHyy+5dPWgAAlsSFnYZFnz5949lnF8drr70erxYk5Lq88sor8cqrr8Zrr79RqPq99PLL8eCD06PDDYNizINvxcRZyxqwPqEEgJLdP0mBZgeAibPejgs7DY3hw4el7cSfrFL5ZF0UsINv4VMLonPvETH6AQuUSgBYF63K5/WjQAsBwLAYNmxorFy5sn61LGMlCmQA6JQA4M0SAMp+sdEUKAFgo0nYfBmUANB8tN5cSioBoIpaugSAKmqsKqlqCQBV0lCqWQJAFTVWlVS1kADwpz/9KZgeNxv/0ksvxbvvvpscWWCApj7+53/+J+XNzFl9rOSIw27gn//85+TWvD714f5cOUuXLo3nn38+fQ/jo8uXL4+33nor5efsvef/9//+37XmXQJAfahdxmkIBQoFADo+xmdx6MYbb4zbb789ucTu3bt3DB8+PL0TB/Nhhswo+RngwGjuXYvD+KVn+bl3nsvDO/Huu+++uPjii2Px4sUfxauMg+kx6Pvvvx+vvvpq9OnTJ955551UTt2y5JnLqKzPG2+8EWPHjo0rrrgiLrjggnj00UfjhRdeiPPOOy+6dOkS06ZNi4kTJ8a4ceNiwYIF8cEHH6T6VTamOvkLUE4CVlKlvN4YChQKAHT6W2+9NZnlnjJlSvpLQCLOnTs3BgwYEK+99losWbIkMcjChQuDfzuM/PLLLyfmfeKJJ+Lpp59OkhwTCZiXZMXcWeo+++yzMW/evCSJMTVmPProo5OxzKeeeipef/31JJWVu2zZspg9e3ZcdtllMWfOnAQEysllY2xOUp555plUlm/A2DQX6Ul8QPDII4/E448/nur3y1/+Mq6//vr0LZyQdO7cOeUHXADfz3/+81Q/31Z5lABQSY3yuikoUCgAYKeOU46LLrooMVqW2hgBI9IMOnToEC+++GKMGTMmSW2qOwbCoJx5XHrppYnZHnzwwWjTpk1gaGBxyy23hLjcYt1///0xffr0BDQzZ85MQHHMMcfEAw88EO3atYu+ffsmpj7ppJOSBnLTTTfFT37yk8D4wOA3v/lNylP8G264IQ1VpLnmmmtS3ZTbtWvXVMfLL788MT3NBhj5DmXcfPPNSaMBPD169EhaCQYHTj/96U8TQNT9TVoCQFN0+TKPSgoUDgDOOOOM+MMf/pCkcFahdXzXGP2cc85JY+dZs2bFvvvumxiyZ8+ecckllyRGu+qqq9Jw4bnnnkuMNnLkyKRak9JAgE9DoGBe4fDDD0/qPIAAAIYCbdu2TYxM2mP02tralO7II49Maj/NAYMCg/bt2yfmxdxTp06NnXfeORYtWhQdO3ZMIELqn3/++TFjxow0z2DMDzQmTJiQAA4YAIBu3bql7wN0NJhDDz00PSsBoLKrltebggKFAgBMToqfeOKJMXDgwCRNqdjUaFLfMAAjuqYNYFrMS6obw4tHAxCPtL3tttvigAMOCBKc9Ce9DznkkCTV3SvHuJyqDgyUbTx+9tlnJwmN0c09yAdTGlJgannQHLp37x5nnnlmYmZx1AcDk/o0AkMLgHb33XenIcioUaNi6NChce+996b0hgkHHnhgAirDG8MUYHDcccclIKEBVR6lBlBJjfK6KShQKAAwgUbqYZz+/funCTHMSzIb+5t9N1GG2UyaAQFS1bMRI0akOYJhw4YliU2aYnKSWVr3QOGee+6JyZMnp/H+XXfdFQAGM2N8Y3SMiAlNxmF+wwVj8379+qX5CXUTFxBgYEytLoL0ylQX9cbQvgPwCPI1ZBAMAQDW1VdfnfL2jeojSAcM/T2oPEoAqKRGed0UFCgUAOQPwqwm2ajp+RegmfU8407lNl+Qhwgm8gCHe0zuXeVsfGYkz0zSyTtP4mGq/MxZGfKXn7zkKSgj5y1tfi6N+CYY1TsDjTg5jXfqBKx8D0DKeXgmvfv8TD3XdpQAsDaqlM82hgKFBICN+aDWnLYEgNbcui3zbSUAtAzdG1VqCQCNIluZaD0UKAFgPcQp2qsSAIrWItVfnxIAqqgNSwCoosaqkqq2GAAkgyCrSnsADeknGQBKgyANoVoZd30UaHYAqJnNJNjwuLFfv3juuefj9TfeitffeLOFgzq8lUyAvfraa8H0VjIJ9trrH9arGHV85dXX4qGHHoqruw+NMdNLk2Dr69jlu/pRoPkB4JGlcf2I++KcS9rHtd36R+eeg6Nzz0EtHq7vNSTad+oeZ519bvzqV7+KU045Ndq0uybV6/qC1LFTj0HR5uobokOvcaVR0Pr17zLWBijQ7ADAjt2Eme/G2Omvxehpr8TYB14rRBj34OvRc9wDsdteB8R//Mdn41tbbRttu4+NsQ+8XIj6odOY+19NNBs/453SLPgGOnb5un4UaHYAYMs+OQaZuzomzX0vJs1ZXYww970YM/2NOP6MNvHpz/xr7PbDQ2PgrQuTV6Ci1bN2zqoGWAPOnoNKq8D1Y4nNK1aLAMCUR1fFLU/+KabO/1NMnVeccPMTH8TQOxbEV7+xdZxxeZe4Y9GfC1U/tLr5CfR6vxHeiksA2LxYu35f2+wAwJb9gJufiDbXD4kOPUbFtX3Hx7V9ihGu6zs+ru45Mn588E/j7Es6ROd+EwpVv6t7j402XYZEt1HTYsLD7zZwGFACQP1YYvOK1ewAUDvn3bjgmkFx4QXnx2233pp2yt19911RlGAzjpl2O/buvqs49UKfO++8IwYPHBAXXtUlxpaOQTYvTt1EX9vsAJAdg4weNbJ0DNLARrUOYNHCp+L6PqNi9AOlX4AGkq+MvhYKtBAADIvhw0rPQGtpj/U++vhCoBIA1kus8mW9KNBiAFB6BqpX+3wsUgaA0ijox8hS3mwEBUoA2AjiNXfSEgCam+Ktv7wSAKqojUsAqKLGqpKqFhIA2MJjaSdb0mFZh6Ud1nqa+mB9B2Ox9uO8oSPHVZdsaWhDabzP1ohY/1FWth7kGwXP8neWFoHqQ9EyTlNQoJAAwPYfG3vs8TlzEMIGHyZp6gMjshI8adKkZNxzQ/lzEMLOIFNe62LUunkACkzOVPngwYOTvUC+B9garKmpSbYGWTlmqnz+/PkJCNYGLqUGUJey5f3GUqBQAKCDc7DBtPegQYOSww9GOpnRZmqbwU0My5w2+3lZK2Cfz32Wru4xKKYTJ0tY196J5717mgbjoieccEJiviyd5ccuoDphVoZIMSybfpiUjT/v5MfxSL7P2ku2AUiqi8coKKvDLARzBgIIeBfiJIRVY9/52GOPxbXXXpvufWNpFXhju3eZfkMUKBQAYD4ec5jaZhkXg2IeDMwOP1v/tAKSlOcgWgFm5k2IJCWZmfnmUxCz8QmAeZkRt8CHMU6MyAIvq7zisApMA7AD0AKgbOWXufFevXols+Ms/B500EFJG2H2e/To0SlfaTG0+rA0zGcApqZNAAzle+6ZOmBqAMISMA9ArrNjkAxGNIEf/ehHySpxXY0HLUrXYBvq0uX7hlCgUABA4pKIbPuTwFnFpg4bc2NO4ICRMPuPf/zjxKC0A88xN0ccwICt/wsvvDAxrVV9gIOzj1//+tcpHk1j//33T3kCADb9xeNfgIcf6T3DzACAjwDAAnSUi9mZCsfMtAkaC5AAHMqVh6ELvwDS0BQwMBDjW1CZvtH38gxE2vtOWgbXYByU0CwqjxIAKqlRXjcFBQoFANRlUve3v/1tUrMxiGckIXDAVNx1AQDqMi8/JKY03HFhLq7D2OUndanZnH8YQmBemgJHHLQJeSiHJAYGNAAgIR+uu/gKOPbYYz/SLI466qiUJ9v/nIjIA5PyVkQLoQnwVMQzkHoCBD4EAIqxPWnP7Re/BNKaS8hDAABAyzFsoKnss88+CTx8e+XRWgDAtxry0MCANYCkIZn7yaBf+d1NdQ2EtTsvUcqvPACw9tAX+JqsO/yqjLu2a+Ctj/qO7J9ybfHqPqP5EQY03oZOLNfNqzH3hQIAHZyzjeuuuy75+qOSk9rcafHKgykBgDM1HqNS6znqwIyIz/su7zvG9qQx9140A50OE3I7xq8gZuRPEIDIHwCYcKRZnHbaaUnNP/744xOYqANvPZhc2TQDYKEDn3766akBpVMPnQeI8E6E0c8666ykWQAD5fEZyJWZ4YFG/9nPfhZXXnllAgtAwd0Y5ybAr+5fj2oHAN+DAbloo4nRdH7/+98nGgBVzljqfnNjOvW60phDMt+y2267JWcylfGAr7kn8zOGkfpPQw6AYVhJU+T9GZhs6NCehpFoQWgoc22TvxvKZ2PeFwoAfEhGUgxjbI1BSVXEQTCSnBTGwDqT5xAXqlPFnb3TkaCrRs9SxVnDiCONd9JjWiDhXhmYPJdBJQceUBoIiQsQPCehaR0YnZcfnUhc8UgS4GTCUJ15DMbghhmkvDjeK0t+7gWSKQ8H6jZstQMAegFfGg4fj2iHXmhgWEUb25QAQOvinemrX/1q0g4zffU5fcfQbI899khDO/Wq7yG9NiOUzN8Y9mHsDR0EEkD693//9+RODn02ewBAtMy8mDMzPsJg4PwOM7j2DPExu7Pngvg5TSaqc44rft307sWhKuYxu2dCzlu6nDY/d6/MXL9chnNlOt+ikfOfBulzWZX55vrW7UDKqNZJQLTR4TH/EUcckUAYPdAAPWhXhkeeiUfDAgieAUr0Ad7mZgCmyVUTrRgNY5unofnR5oC79+ZvTALnQzm0vK985SuJ4QwR77jjjpS/djEU4fdRuQAAoANy8WgFQF49tCl1X17eEVLypoHSGs1HATVDT9qc69wn1UX7uvfNhrE77LBD0hpzvyCMzB/pG5v6KJwGsKk/uJrzr2YAwDTmbT73uc8lT86YCyg4nDEgpjOfwrHqL37xi/jd734Xe++9d/KlSDPiZxGAkLKYzJyLPzI0CXM93/rWt9KkLPDAyIZ1wCAfGIpW+YUvfCHlY/hB4nNEa8KV1skNvPJpl8DEvbyd/So2bFMXIKEMKv9+++2XNEhanjobFgIM9TOk4GEacGRgRwtgYjjK/6S8DRsBALoYJqobmmzqowSATU3hJsy/mgEA82HM//zP/0xj7UqGyCTyjITfcccd03yAeRCOVPfaa68k4Y2xeWk+5ZRT0rDQGRCIR2J+73vfS39USFDMarhVyUQZAL7xjW8kpgc25miAjWEcDQAz9u7dOzG6uSBlkPbUe2DhLxOpr47mgACKiWVzN4ZwAEB+3NWblzL8o+VUHhjdfJFf3rQGIGL+QV2Bg3kwQ8666SrzaKrrEgCaipLNkE81A4CObT6E9CUhqfW5g2eVmPSjtn//+9//aDiAKTGI8Tkm9efGRK95HgxKOgMAQwFg4NeuP0HKINVzGZoHAJiH2WabbdLfBxqHydr8NykDgL9KtAFDFS7g1YvUl6e4QIC2QeL7DnHVh1Q/9dRTA8DsvvvuaYgibZb86qA+5rRoNsDHRPa3v/3tpNXQRDIIrA0gN0UXa1EAWLWydAzSkEbNALDGMUh12QPABCbaMBXVmER1n9V+zCcY8zfyJ1cAACAASURBVG+//fZpfYa5AKs0/YL1a5eEBQCXX355YqKTTz453cuHVBV3q622SszHZbz5hMqjEgCo6JiXtLcWAzhJj8H9pQE2/vwAGb8nSeqzzz471QUAff3rX0/qO6Y3zFB3QxEz+oYoJjWp//5E+cY83AGEgMMww/oVqv+WW26ZAAHIATMah2+vBK/K72jK6xYBgD9cNyRGjhgRq0rPQA1qywwAnXoNj9EPvBFMrLOyXL/Q8jYBMaCJM0xGrbewy0SesT1mMWlGklOpjzzyyPTH4Nxzz/2IQU2a0Qao9yS5OFR20hdjGbdbWWnsj8k8qzxIVUzuL4DxtzUI0lt+7Q+Q8qn5FnJheCr6d77znVQ/oEBqG88bivzgBz+Ib37zm6lufuWaiwBq5gPMDZDs0vq9aaIRGFVqAq4FwxDDGqAGKACZ36G0GGCwqY9mB4DaOcuibZ/JccZZ50XPPv3ixgFDixP6D4qBgwanxT19+vSN/gMHRd/+gwtTP3W5pvMNcVXXoTF+xpKqMwpKClKJTQZa/GTFZ14bYSYdAwMJqyxNhGFEY2Oz/hjFLP9FF12UgskzTJPXWQDHDDAYrlLqZiZSvjJIfQBgnD5kyJD0S1f+xuWen3feeUnbMH4HUsq0oMufBdoGzcGvXM8EQOIPBXAwPBDfnIDvsyaAtJeuEgBynQADWhj6qL975Rh61NVgcpqmPDc7AEyYuSzGPPB6dB/zUHQedk90GTGtEKHryPujfe+aOPLoX6ffRPvsu39c3mlgIer2MRqNfCCG3fVcA6U/LaHlNYDccUlmDIppSF5MmaU1JqH6UoO9wzgYw7PMfBiQipzPpKb0GBzTAIO1MZvy5QOEpJV/Tiu9OQPP5K1M+chPPb0TVxny9k59AEfOQ77Si5/r5tq3rGtMn7/V2F/egvzk692mPpodANY4BlkVkx/9Y6HClMf+GMPveT4OOerE+Id//KfYZsfdoteEWTFpzspC1RPdJrUSxyAYaV2MquOv7V1OU3luDJPk9JVp8zPnyiM/r3y2rusct/K8rrhFeN5CALAyJvMKVLBASl4//N74z//6YvzypAujdvaSqOW5qED1BAClZ6AisE7rqEOzA4AhwIQZ78TIu56J4bcvjJF3Pl2YMOruZ2PILfNiz30PSo5Lxt73fIy8qzj1G3Hnohh221MxfvprMXHm0qTW128CsFhDgNbBOq3jK5odAGoeeTeu6lUTF118WYwYNSbGjJ8YY8YVKwweMjRGjB4bY8bXFKpuo8aOjxu694grrruxdAzSOvivxb+iBQDgnfjDtUNi4IABaXGFCaCiBRMwy5YvL1y9TCjNfmRWXNN9SIyZXl3rAFq8p5cVWCsFmh0A1ngGGhb8ApQLgdbaJut8aObZZqBqXAi0zo9qghdmzs2050U5ZvHrTuQ1QTGtMosWBQCNVh71p0AJAJ+kFUb3q87iGQuDdt5557RRZ12/3T6Zw+b9pASAKmr/DAClZ6C/Npr/95bgWh1owQ2rTzYD5XUFf41ZXq2NAiUArI0qBX1WAsDHG4b0p0XaCWh/AQCwhNdiHEuBAYP9/Nl4izkU6/atz7fk2OIbi268F0+wUUceaG1hj2tprApUlmdsDMjbrj3LkN1XK+AUGgDyyqiPN3vruWvoOLUEgI+3PabDsIxwMPJhJyADHHb4MdDKdoAhgSXDmNjZngPP7dpj9clzm4ps/LHpyPp9u/7MIzAyYrchE3D2GNj+a1myZ/YF2H2YbRM0x7r9j39909wVCgAwhEaFzohtc4U93Vmt2xRENla0E8zuMbu+1naol2WZAIl0sfZ7XWu715ZeOvFthLEO3VpvZTEvZhOJjmaTis0u6uKvyNqWgZYA8HHqahd9wtp/GgArzaS5/rLLLruknYI2G7ExYH0+RmedB53NF7hn4EPbz5gxI4HCAQcckNrJfgU7F+0UtAtQfvYdkPxsBLAHIF97Fezmy0Y9P17D4t8VCgAwP9WNgUSGQW3JtAXUxgjojWmobdQwDZ/XYFtXjsEwjnfWcbsXB4NLI2AgZ8+FnBeQ0dAaXXqTSvL0O1B60sB2T6anqIJ2gylLOeogL+nkJ35Oa/14ro/OgtlJJxKIUVDrxe2MsyHGd+qsDIRmCzV11coSAD7JUOit3ewSxMjag81HktnmHm2gL+y0005p8482FWzDtacfYGhfbbrtttsmENEujLza029uwQYfjM4QiHfS7rnnnikfuwS/9KUvJW1C+1TbUSgAwCyYn3qG0TAA6Ymx7BAzHsOsrAVzDEJDwIiu7Re3GwtjGZuRAnaM0Sags7gajwUXebBMa+wIVIwJmQD3Lm/r1Ins0sKY8s+OQVhqsYNMvupI+uT6UA/lN378+LS7y+411zqYuL5P0IFIK88Bj07kW0k0koh6ab+6uJVHCQCV1FhzvTYAoEXZlgsAML9AgpPcNDjAbbchdR+oM+hhSy9rPvqCZ7Q8TI7pATqgAMzG+8DAtmFAou2++MUvJhAqAaAee9Mr1wHU/Q1IkmJEEhFyZzUYCJDKmNMWTkxmiGBcZhKGpVdpgARNAcO6tp3UvnFGJpxJcbbWMphkU9QaPfsFIIF1DtoH9CcJgIm4mFhanUUaHQJI6DC2jXpOrWcKinEHJrBsByWhgJiOR8PRaYw9daAMAPlbgZyyGIvwvvIoAaCSGmtsCeoztuayL8AXA1AFosb++gpLPoAUGDAHbqLQMMC8gbbWXuJR4wkFedkSnIcAW2+9dQIOhki0pbUGtgsbArjmGObzn/98auu6gP3x2hbzrlAaAPUN8zGrjMEQFONA4NyI2dQTlMdwGtO4mgEGjYlxSH4dwYSQxiKFNVa2KUeqkwrGgCSxiSQAwAikfdzy8CtJo9unTTUHNqSHco0fAQSjDToWRqVVMGSh3oYvpL849oTTLAAasAJOygdi6miCyRAnfyNtgjornmeVRwkAldT4q3kt7YT2+oO5FKBsTkA7MUOOjrRC7UUz8Bzzm/XXJnxHiM/6TzZGSrPU9iQ9W4O0A5OG2lJ6YCI/E4JMmOl//jJU21EoACAFqdZQFSqT3BgCc2EsEhU4eEZ9p4pRyVhuEV9jMtCQzTpjQICRJbC4JnJIa/mR1BrU8MAMsPJIfKoiBiYlgAmJYpZYmeqCQU3oiSs/HUNnYeOdhGcySic0JDBTDECUo27Uf/GAEyBgDUbdAY7ygQdJBvjqHiUAfJwihkyYG7jTnAz1AK12du85pqRBikvAaB/aF+3Tc+lpCQBCekEf9A69AbU0QF7/JDhMBOpr8nctKI+WWm1HoQBAIyE6SYtpjc1IXITOk20aSANqAA3tuWfG7FCbNPfOmDojP2bSePLW0MbxGpXGoCPoAMqTH5XStXLzP2SdCrPme++l8RyQKE8nMBSQnzqoo+9QlqGDskwE0lgE8b03LJGfPHyH+ulkeUhQ2aFKAKikxpprjKqt0cYZ3YT8rJKOOa53rh3OlfHl415fFPI78SrvxasMlXl+spbFfVIoAMhkQmgEzwTODeK9d7mhXa8r5LzqnnPeOc+cPjewe+8q7yvjrO15bvwcr+5ZmhzkXTf/us/q1jnfo0e1OgbJ31Cei0WBQgJAsUhUnNqUAFCctmgtNSkBoIpasgSAKmqsKqlqCQBV0lCqWQJAFTVWlVS1BIAqaagSAKqooaqoqi0DANcNjeHDhsXy5WvWvOdJsCKc10zyrZm0K0J9KuvgN9OCJ+fHmu3A1ecYpIr4YrOparMDAEu7F18/Mrrc0C2eWLAwFj37XCx6RljcgmFNHRYsXBRPPPFkWu03f/4T8eSChbHw6WcLUD+0eS6eWvRM3H7HXdGu66DSJuBmw6Kb9kObHQCY3u530/y47PoR0a7XhOjQp6YAoTY69p0UF7TvE7vuuW98bYuvxXbf/V6cdF67D+tYW4A61iTHJVd2GxPdRj3woWOQ5fV0C1ZaBd60bFS9uTc7AEyctTyZtB4z/a3k3270A29Gi4fpb4b6DLljcRx5/Nnx6c/8S3xvt32j98TZMfr+N2L09ALU8SM6vRHjZ7wbNbMawvwlAFQvi27amjc7AKyxY788Js5aFhNmLi1QWBbjZ7wT3UbdH//5+f8Tx5xycdTMejvGP/xugeq4dI3kbzDzlwCwadmoenNvAQBYGTWzlkbfibOix+hp0XPMA4UJvcc9GN1H3hu77fPjOOeKG+LGiQ8Xpm5r6DQ9eo6ZHiPufiFqZ69sgPpfAkD1suimrXmzA0Dt7FUx9oFX46wLLo+JtVPi3vsfjHumCdMLEB6Mu+97IG6+5ba4/c574t77HypU3e6694Ho2r13XH3j5Kh9pASATcsam0fuLQAAK2PMfS9Gm6s6xnOLn40/ffBBfPDB+4UJ6sPIhL37RaqXX4ArViyPm6ZMiXbdR0dNCQCbB4du4q9sEQAYO+2luKrDNfHKyy9t4s9rXdnb1VhbWxPtuo9poPpfDgFaV09ouq9pGQC4/0MAeOXlpvuSzSAnWsCk2toSADaDtm6uTywBoLko3QTllADQBEQss/gYBUoA+Bg5in1TAkCx26caa1coAGBIg3GNSoMflUS1Lt6OOGdxN3RY1y+vPKnnvGat/4bTVuad88j5mSCsT/mVeUirfON41zkvz3JQjufrOkoAWBdlyueNpUChAEDnZyaLySxmsnT4zCxMfzGvxS5gttlWaXkHAfJ9vpaeaS5pcp7MerHvJt8cvy4zVz53zSQZe33qwDy0vIBQPnL8uvc5X2UxV8ZgJTuC6sAgqDN7hPJj0sz3+TZmySrzz/mWAJApUZ6bigKFAgCdHgAwtMnsMqOeJD4JyZ4ec9m8tYiDqbxj9y9rBBgkX5PS3s2aNSs5hejfv38CAtZdGd3EzDm9/DOzOpPS3mfwydaElQsMGASVNjO+ct3nQx1YMc6agvyZFmcIlNFP3mcYCmV3kDMKZs0BHuvFjIY6y7PuUQJAXYqU9xtLgUIBQJaUnHuw0suiLiOZmJGVXj4DWOclTUlMLp4wEuu7GI6UlpZRzux+i/FPTiEmTJiQpDcA4CaKpOVbQBqupRn9xOCs89IYMD1pLV9SmslpjkW85xiE4U525JUnLuvBylI3zCwN0GEtWFmMiErPQCiz0rzYsFi7/fbbJyvFmFta+fAWRDuoBBUNXQLAxnb3Mn1dChQSAJjfxtycPWAwEhcDs+UOBDASjzwCBmOGm2pOhT7nnHOSLX6Sn6oPQAAAycvbC1Pg7P8z282cOImOUQEDW/xszLPQy1ov898kN2cRmJYVYKAAnFxLz4Q4Sc59FMkNfNRHGSS7OlP3je9pFiwd830ACADADjvskABIwwBAJs+5pOIvkAZReZQAUEmN8ropKFBIAMBwzG3zrkPl56iDFOU2jAMPkhooYGgAwZNLtt1Oved7z3vSm732XXfdNXkVwnCYCvNhXA5FgAmT3YccckjyKiSt/JVnKIJZSXpMj5FpDZxHyFtZPBGJe+211yYgkRfvMyQ88DC+J8kxb9ZalMl8eCUA5KEHnwb82tEAgEblUQJAJTXK66agQKEAwNgZc5KsmMcEHu8rnHFgSu6/SGJxeOThGIQPPYxKCpOaJDTNAFBwxmHijRcXQ4g8rjc3QPU/99xzUxwqPMYzz6AMoIJxAQ+tAgBw4AGUaAk/+clPEuAAB5JffQABic+2P22DFtCrV69UDkanHfBSBMSAhTKVwauMb6FxqL+0wAuz53mJ3NAlAGRKlOemokDhAIAnFuo7bzsY1ow4VZ70xSSGBsbTJLvxP5WbZCUxs3NOqjbmzw43pJFfZiqqtmvMDSCclQMYlKN8eSmHxmBIgClJdyBgjgDTAx0quzrLn3qvTJoLEDG0MNQwzOCbEKhhcgG4qbu6ydu3ASBAlycP6zZyCQB1KVLebywFCgUAPibPrK/rjHnzu8rr/MzZUfkuX9clVmWadV3nOuU8xFvXNcYFDnz9GQJgbiCR/1RIl0Mur+695+s6SgBYF2XK542lQOEAoLEfUoR0mJkmQXMwJ0EzyAt/mqJ+JQA0BRXLPCopUAJAJTUKfl0CQMEbqAqrVwJAFTVaCQBV1FhVUtUWBIBr45VyO3CDukkCgEm10a5HaQ+gQYQrI6+TAi0DANNeijZtr47Fi59NM/1m+8uwYRpYKcgeQNtkEKQ0CbbOXl2+qDcFWgAAVsXY+1+Osy+4NMaPnxB33rlmRV9e2dfy59vj1ltuidtvu+2j1YYtX6c1NPIbsXOXG6JdzwmlUdB6d/Ey4voo0OwAwCz4xJlL48ba2dFj1H3Rc+Q90WNUMUKv0fdG33HT4vhTzo/LOw+OPuPuj54FqRsadRt+V3Qf/UAMv+v50ibg+np1+a7eFGgZAHhkRdTOWZ1CDfPWBQmT5q6OW55YHidf2CmuH3VXTJ3/x6ids6ow9auZveqvNHuEnb+GhOUxac6qOP6MNnHhhRem35X17iVlxFZLgRYBgIZ13IZ08o2Li0FunrcqTrmoU3QZdW9Mnfde1M7euDyL860lALRaLt6ID9soAOg7aU7c9PiqJFkwT7WHKY+tjlufXB2nXXJ93DDmvrjlyT/G5LnV/11r2mVl+L7fnHVlqQFsBMO0tqSNAoCZMx+O3ffYM7qMuCNG3f90DLt7casII+5bHOMeWhi/Pfuq6NB/XIyZ/lwMv6eY3zb87sWpbvWv37Mx8r6n4lcnXRAXX3RR2s3Y2jpz+T0Np0CjAMBGmb323ju23nbH2PI7rShss2Nsuc2O8YUvbhFbfPM7sdU23yv092297U6x1TY7NaiOW31722jXrl0JAA3nlVaZolEAwBqOHXOs3thW25qCX22HHfbT6NSpc9xzz72F/jbbpBtax2nT7l+rrYFW2bvLj9ogBRoFABvMtYoj2Ll38sknJ8MfVfwZZdVLCtSLAiUA1CFTBgCLf8qjpEBrp0CjACDviWfBp7UF23mZC2OX0Pbe1vZ9vsd3lUdJARRoFACwZ8cKz2OPzY1HH53TasLjjz8ac+bMjiOPPCIGDx4Y8+ez8lPcb0T/hrbBY489mgyl1rU3WLLD5kmBRgHArFmPxC677Bx77LFd7L33drHXXtu2muB7tt76K7HTTt+KffZpfd+2/fZbxmWXXV7+Bdg8+f0TX90oAGBHb/fdd42amqtj9uyBMXduv1YRHn10QDzyyLC47LLjYsiQK+KxxwbH3Ln9W8W3zZnTL2bNGhBnnnlUXHhhuQ7gE5ywmT5oNADsvfceMWfOjbF69dRYtWpyqwjvvTc13nvv9ujS5fSYNq1bvP/+bbF69ZRW8W0rV06O1atviiuvPKFcCbiZMvvaPnsjAaB36FgrVtRUfVi1qjbefx8A3Bk33HBGTJvWPf70p9tj9erW8X3aaNWqSdGmzfElAKyNEzbTZxsFALNnVz8ArFxZE8uXT4wXXxwec+f2jhkzesVZZx0ZgwZdEL7v+eeHxbvvTqh6gFu+vASAzZTH1/vZJQCsrInVqyfF7Nl94pBDdo0vf/lz8dnP/kt84Qv/Ed/5zldj0KALY8WKSQEoqlnTKQFgvXyw2b7c7AEAU9MA3nmnNk477afxqU/9ffzN3/xN/P3f/1184xtfjNmz+yYAqGbmX/ONpQaw2XL5ej68BIAP5y9WrpwUI0ZcFl/+8ufj7/7ub+Nf//XTceaZR8SSJROrWvJn4Co1gPVwwWb8qkUBgFpdjFCbJsgWLRoUP/vZXvFP//Sp+O53vx733dclli6dECtX1hakno0fhpQAsBlz+Xo+vUUAANO/996kwoXly2ujtrZtfO5z/xann354LFmyZn6gaHX1xyJL9vqeSwBYDxdsxq+aHQCWLZsYS5ZMiMWLR8TChUNi0aKhBQrDYvbsG2OPPXaIXr3Oi2eeGVGguq2hE5q98ca4QMf6Mr94JQBsxly+nk9vdgAgZe+8s1NcccU5MWBA1xg6tEcMGVKMMHRozxg8uHtceeUl0a3b1TF8eK/C1A2N1K1Ll7YxfHjb9GvS5GV9QaAEgPVwwWb8qtkB4O23a2LgwAuid+9+8frrb8Xy5SsLFFakuvDAs2rV6gLVaw2NlixZGjNmPBL9+3eIN94Y3SAtoASAzZjL1/PpLQAAE2Po0Atj6NBhsXz5io/cZWc32UU413XdXYQ6qQP34088sSCGD+9UAsB6OnX5qv4UaBEAGDZsDQDYVlwe9afAX/7yl1iwYGGMGNEp3nyz1ADqT7ky5rooUALAuihTwOclABSwUaq8SiUAVFEDlgBQRY1VJVUtJABkk2Os1gjZjJXnTX3ksnIZG8rfWFzcxtRFOkwsj8py8zduKN8SADbUOuX7hlKgkACAQVasWBGvvPJKvPrqq/HOO+8kCzYYpKmPXNZrr70WZv83dHBj/uKLL6YJuYaAgLjvvvtuPP3007F06dIEBOwPvv766ym8+eabsWTJkvXWoQSADbVO+b6hFCgUAGBwPgfuvvvu6NWrV0yfPj0eeuih6Nu3b/Tr1y+WLVuWJGeWmJUfi8Gkz9K18tqz/DzHk4drM+v3339/XHzxxbF48eKP4okvD3EAA6bF/G+99VaMGTMm1SXnKS/XlUcuJ+cDNMaOHRudOnWK008/PVhVAnBnnXVW3HDDDTFz5sy46aabYtCgQcHxijLlUXmUAFBJjfK6KShQKADAjJyN/PrXv05MCQwwPQOkQAATYUTnl156KUnUP//5z+nZG2+8ES+//HKSpv4uPPfcc+l+9erVKR5Ji4HlJ608SGRlzJs3L44++uh45JFHElN6htGff/75YCb8iSeeSN50nN9+++149tlnk3dd72gnyqKpyBvjylc8gCIf8R588MFYsGBBKvfEE0+M6667LsX52c9+Fp07d071kGbgwIFx2GGHxVNPPRW+rfIoAaCSGuV1U1CgUABAJeaU45JLLkkMkSUwKYqJHn300bj++utj7ty5MXjw4LjiiisS42EmLq/Hjx+fJPkDDzwQNTU16RmmE3/q1KmJ8bt06RK8/zD7ff755yemF+dXv/pVTJs2Ldq0aRN9+vRJz3/zm98kByETJkyI/fbbL2bPnp00EnEXLlwYyunevXs89thj0bt371Q3YKBe6kRrueyyy5Innvfffz/NZwCXa665JtXHMOeXv/xl9OjR46O5AeB05JFHJk0BoFQeJQBUUqO8bgoKFAoASGsqMXXcmDir6QCAdoBRzj333CRpuSY78MADk7qMCS+99NLEaFdeeWVStUnv9u3bx9ChQ2PSpElJynP2cfjhhydJTHJjZCq3cblr2gcAoKZjagAwZcqUuOWWW4KkJqFpC65JaEzerVu3VB9x9t9//1i0aFF06NAhbrzxxgQYf/jDHxKYAAAAZ1hz1113Jc0BGBxzzDHRs2fP9K2+85lnnomDDz445St+5VECQCU1yuumoEChAID6zM+gIQC/dyQgJqBSU9mpx8cff3yaLMOg1HYMZ3hw9dVXJ22gY8eOaYxOYzCXQHKT+IYOVHzqtfG2vGkbo0ePTnlg9hkzZsS1114bV111VYpz7LHHJk1CPhjVMMJwhISeP39+kv6AR96Y+he/+EWYTAQMo0aNSiDhvXyBh3zMNxiqGEYYHhx33HFpvsN3AoT+/fsnMKIJAL3KowSASmqU101BgUIBQJ6UM16m6mPO2trapK5jGloBxsLQACKDhGckrjjUbmkwD+CYOHHiR9qEZzfffHNQ6YGAfDCsiUZMb6hAhSfB5QlYMC1tgqQ3jJBOXGkwMVDKTlJpJeYiBgwYkMqgWdBOfI/hAo2E+i+9b/PecMck4J133pnqpu4vvPDCR9pPZSOXAFBJjfK6KShQKADwQUCAukxikriYnmQ0HDApRlL6XUaCm9TDFN5T6fMkH4ls/sA7zyrnErJGkdMDBUMP6b1TBsksGKPTJCrzVZbypVFP94BGXPfyy8/EUY57Z99istDsvzrKG2AoSx6CNOpQ9w8A2pQA0BRdvsyjkgKFA4DKypXXH6dACQAfp0d5t/EUKAFg42nYbDmUANBspN5sCioBoIqaugSAKmqsKqlqCQBV0lCq+VcA6FxuB66idityVVsEABgEGTZseKxc+fH/3EUmVBHqlgFg5MgSAIrQHq2hDs0OAEuW1AaDIF27domnnloQzz23OJ577tmCBHVZHIsXP5tCser2bDzzzNNx5513xY03XhVvvjm2NAnWGjiwhb+h2QGAbbpHHukd3bpdGAMHtothw64uTBg4sGO0bXtJHHTQQXHqqSdF795WEnYsTP2GDOkYvXpdFrfe2iWWLBmfPBqVRkFbmIOqvPhmBwAdlqMNFm2XLh0XS5eOL0RYvnxCzJ/fL4455uD4t3/7t9httx3jjjs6x5IlJG0x6php1Rg/haVR0Crn1E1U/RYCAH7qeOMpVnjrrXHRtevp8e///s9x9NH7xgsvjEpmt4tWTwBaX8mf45UAsIk4qMqzbXYA4NBijT37SR863ZwcK1YUIyxdOiUWLhwR2233rejRw6ajW1LdVq4sRv3QafnyScnJR0N8AgCBEgCqnFM3UfVbAABq4tFHb4wBA9rEqFHXxdixnQsTxo2z/6BT/P73v4pu3S6LCRO6FKZu6DRmTKcYMqR93HVXtw8dg9TfV2AJAJuIg6o822YHAH8BRoy4OLp3vyGeemp+vPDCs4UKzz//TCxatCCefXZRvPji4kLVbfHiRXHPPXelydO33ir/AlQ57xWi+s0OAG+/nR2DWAdQ+gVoSC/I6wBGjOhcOgZpCOHKuOukQIsAQOkYZJ3tsd4XfwWA0jHIeglVvqw3BUoAqDepWj5iCQAt3watrQYlAFRRi5YAUEWNVSVVLQGgShpKNUsAqKLGqpKqFhIA2AZkRYeJL7bxWM8xYVjXTHZT0JilIZaAWOZhoWdDB+tALBWty2rP2tKz7oN5fQdT4SwKKcs3KldgLShbCcrGUOvm1VoAIJt+no3LHAAAIABJREFUQwfWkFhj8u2V9+iMDqwksQ7lvfv6HKwysdAkX2d5OetX5fFxChQKALL5b44x2ODjKIPdPnbzmQHXiNnUF2ZwLY0zhhR0Es8qr72vjCttTq9TsMd3wQUXJOaUXlxnceQlTgYgoMS0uE6Z860sK9dHWh0x56czslB83nnnJcvHjz/+eLI1yAoyQ6TqMHLkyGSLkAFUaeVVecizNXgH9l3sHp522mnJyOs555wTI0aMiDPOOCPdc5zC5iLzaGwmMs7KIjQ6r+8ALOjNsjK7jieccEIy6soOJLozx9ZUh2/I7dtUebZEPoUCgMyMp5xySjKQSUp6xh8AY58kL0Zik59BTRJUI2BKkpWpbmfpWAsWXJMiOpzrLIVZ95UXO34sDLPPz2qwzkMak0xMgCtD+W3btk1njC9fWoOySe/KcuWHgQXpnX2DvDkWYWCUheGuXbsmicfEOAOopJRyGTf1nq+Cuh2+NQEA2gO+HXbYITEqg6pMun/ta19LlpLRFI0ZUdU2DMDWpUddhgHI2hpoMPPuzMMUQ6vaT1s0xQFo9CUm3n1HNR+FAgCITwpw8oEZsvTU8AjNIi9mYbmXExCN6jnpAPF1Es+yAw9WeIGFzsQRiDxZ6WWhV+ORCuJmxyCe63As/QIIdZEna8A/+clPkilwYEBCAQrWfjkRAS78C7DuC4yYKPecRWJ1EBfwYHKAoq7ydM20eXYM4nsB209/+tOkAdVdJ9FaAAADaVPtCOz22GOPZCgVCLjmXwF4YjLtgbZoRQMEwEAXLTF8PuQJfAHtAQcckJyzyAPganeCgWFWNJQXoMhDDv3OQaoDHfEJAOWv7ZB++PDh8fOf/zz1H/mqk7M0ruWvPsBfnu7lKY7nytLeOb66+CbPm/MoHACw1X/RRRelRtBJEElwzWEHxyA6gs6yzz77pAbHQJyJYDRSZNiwYanBmd+G/syAs+NvSHHIIYckUMCQnITw6AMkspSRRqczDOErQHrDEI0NbKjuhx56aJLmwIZTD4yKoX/wgx+kvDB99i4EZLI6qyMAFL4FdeQMAIY7tAmdU4cFNr7Vd1YerQUAfBOGxRx8KHzpS19KgExD4uzl29/+dkyePDnR9Xe/+10yzY5JOXjRJhynaJdK+siPiXe+GbbccsvUFvqKdgfEHL7Q3PQR7SPoZ/qD4Ze6aBOMTXvQBkzCe16XKQkife/rX/96nHTSSSkN0PYt+qU8DW+YjQdC2pK/issvvzx+//vfJ01SewMDQx99i78LPjGU51ua6ygUACAKSc13Hrv8JgChqTNT2tRjjOoeoV2T1LQC6h7m4ZaLxNBheOvRoTAnhCUdNCw7/tBY47HPT6ofccQRqcHNN2BaTM8BiHG5aw5FdCAaAwBQPsY1d0Bi3HbbbUmaZxBSV/meffbZH/kW0GkxP02DDwLagrx0DsMbmgRfBLQCoIThK4/WBAC+S0fneWm77bZLDDpu3Lj40Y9+FF/4whcSgwJhAICJ0He33XZLGh4GBRLS5kNeABbI77333kkgSIfWQOGHP/xh0iC933rrrePHP/5x8iClPxA6NATCAO31Hwyu7wAQwqfyMJQwL7HLLrukoaq2Ugamlw9nMBzS0BD5iNh5551TnbirU3d9ggBSjno5A7Vtttkm9eFKzaay3E1xXSgA8OGkIonJQ47Ggs7UdehsEgfDQkrPMLL4EB5ykwDOGFajYUydCogAFyqWd/I17gcQmBBTAxHPgAjG1lgahr9AgGMsqS7iiCuNxqZt8PzD4w+Pv4AFqivDe3MXOjIwoC3oZIKyMTzm10l8s7I8JwnXJnlaGwDo0AATCO61115JIptgxZwA2VDQXIk4gBZjYx7u1kh3NKuUltoYrRl0kS4PGQz7MLQ204+8x6zy5R+SJyqMbj5GIKkN/2iDpLj+A/wJG30BAJx66qmJeYEMSU6ye6bN9RXfoF9IYzLSO+WpP8Fl+HPmmWemutBafZMgPY23uY5CAUD+aMxLgkPJPK4CDoJGpnIbO4mHWMZU0N87195R28T3PncSZ3HkLWAowbOcXhr5C/JSRs4XgOS0nnmHUcX1LucnnXjOuT7ugVUee7qXh04qKD8/y/XN9Mjn1ggA2rddu3bxuc99LoEAYCdBv/zlL8f3vve9xLSYBRMZslG/MQmpi6G0QaaXawBNBQfi+oG2AcIkLRBGa9ocAAH+QAYASAdg/JEAwBhfULa/CMo3X2HooGzzQLSVDAC0SUwuDQAwj0EDAPKe+9ujPNollV8ev/3tbxMAAQnfZK4qf1Nu8019LiQAaFABE+frTIh8n8+e5+vKc45f91wZx3Xd9HXv68Zf330ua31xfFPld60tbs6n7rk1AgAQJMk/+9nPJrWaBsbP4ve///2kFgNNgsDE6Ve+8pXEQLQ6f4oMlwAsGjrkhcmp0zQJAIDhxcPcNAD3NA4MSZLTLKjl0mFyoGMOaMiQIUlam2xWB5pdntxzll6eHM4CCfUxXMHM5hvUP89FeUejUB6AMbSkzZL4W2yxRZo8pm0q3zCRMGmuo5AA0FwfX23ltEYAAIbmZ0hFqjqJTRpiGn9VMAPGpoJjnB133DFJc27XgYX0DiBgktbz3XffPanyhlTAhaQ1DqcVGAK6piUYesnTeN2wzaQfLUMZJLjJZYyP7sqhHTrT1sSXDzUe05vbyZqFbzHkMAwBVgBHeWPHjo2jjjoqvTOcBHTAyuQxDcVvUbTY7IcA1caYzVXf1ggAaEd1p/6aCMVgpDrVmcqcmUEczzCNPym0As/yIR3pjsFN+pogBBrylUYABlT27PLdXJL4Jp4NLYCP37BUfuo7ZszaRS7HWZ2URfqbczCMAT7yl58ygII5KZPFysHw5gSAkrqol2/wTYDHpLA88vdWlrcpr0sNYFNSt4nzbq0AgMmydEUy9xhayEeOg0EE7+oyp3vv0CnHyfNA7l1X3nuWg+drKyOXX/ecy5Iu17Uyb9c5VJaRr9eWpvJ765a3qe5bBAA4Bhk6dFhC3E31Ya0x378CQGkQpDW2b0t8U7MDwDvv1AQAsLb/rbfejPfeW1WYsHLliqSWUc2E5cuXxerV/jgUo44rVixLs9XDhl0Xb745pnQM0hIc08rKbHYAWLrUyrqro02b82PYsD4xenS/GDWq5YN6dO16bZoV9qvG/+GrrroiRozoW4g6qt/IkTdGjx7XxNChV8Y775SOQVoZL7bI5zQ7ADAL/sYbY+OppwansGjR0Gj5MCyeeWZEDB58eWy77bfSL6kttvhynH/+r2LBAvUbVoA6Do2FC4fGk08OipdeGtUg6V+aBW8R3qqKQpsdAHRGnm04tyhK4Phj9erJ8eSTA+LQQ3eNf/zHT8W3v/3VuPPO62LZsgnJgUmR6toaPAPlCTcz/mbU/Wv3e81vP7P7JtA21WGyTRnKMimnLvlQrt+OeaFZfl7fs7zk7buEDU3seS+ePxCZBpV/N+pbbmPjtQgA/BUEMhgU4/zuuxNi5MhL4z/+45/jxBMPjjffHJecmKwBrGLUsTHMX0QNQMfH+H6BWXhjoY//8pZQ+12GKTbFgUGt3sybhPyGM7maD0zol5y9KFbrNfQAKH4/+pXod+WGmNl7vxwtXLKL1DJxqwGb62h2ADAEWLJkQrz44qh47rnh8fzzIwoURsacOTfGD36wTfIM9NJLYwpUtzV0QrMMTBi7vqFIjkF0eivhbOCyicYeCf/ibeSyKMcCHBJxUxwAAPBYrWfVn6XHJH4+LEKys9RiIusJGnr4NkuPfYe9BOtb1QcEAY5lxOhgybAdiurQXEezA8Dy5bVx772d46KLrPRqG7168XjboSChY/Ts2SHOPff06NDhkujT55oC1W9N3Tp0uDBGjmwbS5dO+NDFWv1AoEgAkNf/27Zr1ySGxDh2fFpjb7MVxiCZAYH44uT/++IaLngnuPaM+u5eWmeS3v4KaUlmR1bRLdNlfMQCHRuEcv7Sksh2DFoGLL60hgTq4X1W7XNeyvdOWeKxL2FZr2W/FhPlOgGayiGBe9oOsKH5kPxWHq4PNJoaGJodAN5+uyYGD74g+vbtF2+8gfCrYsWKlYUKGmDVKpt3ilWvd99dFjNnzg5uzN94Y3SDJgKLBAC2ZTP8YXksdRlTYCYMYSOOlXKYykpA2oCNO/bU22iDmWzcoTXYMWr4YIkvqWmjld2VNvjYkCNvYOKZVXaZ+ZRl6a79/Hb+0TzkI38MbHhga65lvEAFE4vvz5Cde7YY592amFYd7fJj8s1qRvW221C9rRS0gcieAysFpcuHX802Qn31q1+NXXfd9SObFsCsuY4WAIDsGWhYLF++Iv7f//vrqi8N1PJhzUYknaTl61JJj8wgC2L48E5VDQCW4m677bZpYw/pmw/01vlJWONvG2gwnTX0DGYImIixlW9961tJZbZ5hirPihPpbP39TjvtlMbUlvViPPsDSHhtmg95ygPz2/iz7777pv0HGBoIZQAACFR5NgNsEVefbDtCXDsX1dOGI3sBzGPYo0CdBwqM0dhFaLNP5dJm9fCdymJzQnzfIS9bjpvraBEAKD0DNa55/7oSsLo9A2Gk73znO2k3HMlceWBSgfTFyCwwkcBsP5CUJDpJ/cUvfjFpAd7ZeJOZ3Bp7Rj1sJqJp2HFnPX7lOF957EpstdVWyYaDoQctwg4+a/mp8AAASNj5x2AJjYJWoj7ypzl4j+mt76dtYF7aht2BAINpMpaCTAhKu7Y/Gxn0aA4sCqmDidHmOkoAaC5KN0E5rQUAGE9hTcfOO1I0Hxg/j+/NDWBCzIh5aQrmDMyUk6S2BpsxJ/XtyzdxZwxOqmKkb37zm0lyGzoYGtRlPgBgnG8TEFUck9oFyBRZBgBxgI28aB3mAtTDQjHMbtjAgIhtxoaNwMjkpk1AtgazbKTO8qH6V2og+Zud83crlxbQmMnHyvwacl0CQEOo1cJxWwsAYCK//Zj1sgWY9MPIfsm5J/0xQd7Cax+9sfR3v/vdtIQcADAYkrfrUt9JenlgUpN40ppcI9E9q8t8xvQ0ADv1zB8ADVZ8AALbAN75FUgDsF3X/n/xaACs/xhqmCQksYGBoYl7fwAMPdgutPVXOpqAnYOVk5G6kvkMAON7BBOTNAo7CZvrKCQAaCyIreFyoCrVbcSmIJI85a085w0d4qytQ20onXKky7PV8sl55W/cUB1aCwD4Dqo/RqIJ+B3IlJvfYfbnk4QYwoQboxvG4Mb/pCrmMoQglf0yy5LbONvYGQ1JYgZb7csHKms72Bg08WY/v0k6wwgMSH2n7tMOaBUkun0re+65Zxrvm1NQbxOF1H7WhGgjwIkNQROYjJcCJROdAIG5M99pPoCGko88XFFPk4HS+x0KGJrrKCQA5A6S7a9pBL9ZMEpTHzoMFZCUqc/vF2om1F6fSre2OiqHNLFX3BkQaGjl+k5qI0lorLguoGstAOD70MP3G9uT5CQqxs574rU1Wvg9Znxuok47YW4TfybdGOWgLVDPTbKZOMwga2hBWlfOule2i7xJbcMIDJ9n9rWFsvxhAAjaSj1pFeqpXCCkHN8AMMz+Y3QLiEwaqp8hjHqpo/fy8320gHzo02xAiie9vmG4Ux9BlPPY2HOhACAzI7XNbx5GNk3kZGIimM6DETRAZhTnLE2d3XsvuJev4DrHk4d4GNFiENIEY4vnuXMuAzD4P4v5nbOZqJyfvMTPR936eKej6Kys3Jgg0qEwPAnkGRVXZ9BRdEySQv6VR2sBgPxNvs93YgrqOzpnmovjPYbCgHkSDQ3E8yw/d9Y2mD23SWX75/Iqz9oEs+V8Mr31B3l5ruyssclbPdWjckIxx8/P5ZvTV9bP+/x9uR7qmL/f+1z//L45zoUCAISlmh133HGJ8REQ0UlJaEydAwJUL8zqWocgGUhQTGZGFzFJA3HkYczp14wG1dE8h+LSy5/KSYU0W5z/J8uPiiYvkzxUP2NDEkoZ8tKg8pZeHeXtG9THc+kxubiYmlQiYfweMuYUxzgRAKindCaMrCIjvSo7ms7Q2gCgOTp4Wcb6KVAoAMBsfAL4t4qZoClEd4aOtAEzr1Ql4zJS2/DAzLBFF8yDY1Rqpdlcs7XGatJRJQEIu2smZPxq8asIY5p0YRjS7xy/d6h60gAigCRfEzkAQHwzv5jbWm+qq3+50hjHASFjR3Wi1qkjMFJ/iE+F9Q15rOeXkokvzO1bjX2Ng8UBUJVHCQCV1Civm4IChQIAkhLTWslFcmZ1EGNQtTAKRgcOpDKDilRnzzEdCWviiBTF7JjI8MHYCxBgOv9lSWy/hjC9hRs0ChoA4LAwhHTG7CZ4TOiYaML0JDbJzJmEPICJ8an6GLaQ3JgdEBjXARGARLOgLZDwQEOQFwZnIx54YG5Apy5WyBmbUiUrjxIAKqlRXjcFBQoFAFReY2PMaLUYjcAYidpNNTcMIDExHAYVD6ObL/BbiTYAAPy+wXD+N2NKUhyz0RyAhjKo/sbixvM0AJ5ePOcZiAaCaannZm79KnJNOpP2ftXIC5MDJHmZ/QUo6mAxiLrKFwBY781JCSCifRiOSO8ZAABgmN13ARSz3eYagF7lUQJAJTXK66agQKEAIE/Kke6Y2r9aqjx1nUZAgpphxdDUdYyFaajoGM643QwuiQ1MML1r0pY24Rlmlof/va69w+ykPqbE5FabAQazt0DEmJ86b5JO3Uh+E5TG85Zx0hwE6TGuX1oAzHBAOvmLD1yM96VXZ6AGuACJutBQaBJmnrP2U9nIJQBUUqO8bgoKFAoAfBAQMF7G7CQkBjVBhiEwAMmOsTE+7cAz0tMz97QGEpk6nZnedZ6ZN8zI6ZUDFHKe3smv0nuPPCvzVRdlS5Ofq6ty5Udqu85xXEujTsb/AMJ3eSa9Z8oTv/Kb1LfuUQJAXYqU9xtLgcIBwMZ+UGtOXwJAa27dlvm2EgBahu6NKrUEgEaRrUy0HgqUALAe4hTtVQkARWuR6q9PCQBV1IZ/BYDO8eab1WsQpIpI3uqr2iIAwDHIsGEjYuXKVa2ewE35gRkARo4sAaAp6bo559XsALBkyRqTYFdffV089tj8WLjw6YKERbFo0TPxwgsvprUF1hc8+yyf7YsKUr+n48knn4qpU2+L3r3bxJtvjq1ak2CbM8MV7dubHQCWLauJ6dNviMsvZ/zRstt20aNH2xYPPXu2i+uuuzzOO+/stBT3pJN+H23aXBjdu7d83TJ9unW7Ktq1Oy/GjesYS5aUnoGKxkzVWJ9mB4DlyyfGypWT449/vDlWr74p3nuvCGFqqs/cuf3ixz/eLT7zmU/Hdtt9KyZN6hgrVkyJ996bWpB63vQhzaYEI5/1NQleRL8A1cgsrbHOzQ4AazptbfK2wyNPUcLq1ZPijTfGRMeOJ8a//uun4/DD94hnnx2amKwodcz14KWoIcxfAkBrZN2m+aYWAQBaAC88wtKlEwsT3n13YvJXuM0234jOnU+JZcsmFaqOa2g2PvkEKAGgaRhgc8+l2QGA9Hr77QkxfnyHGDeuU0ye3C0mTbqhEGHKlG4xcWKX+NWvDo/u3S+NqVN7xOTJxahbptGYMR3j8cf7Jb+KDQGBIvkF2NyZrkjf3+wAQI19+eWxccUV58a0affEwoXz46mnihHUZcGCefHoo3Ni/vxHY+HCJwpVv/nz58agQf1iwoT2ycFqCQBFYqXqrEuzAwAN4KWXxsY111wVL730SnVSrYVqbbMR+wRjxrQr5wBaqA1aW7EtCgAvv1wCQEM6FACorS0BoCE0K+OunwIlAKyfPoV6WwJAoZqjVVSmBIAqasYSAKqosaqkqiUAVElDqWYJAFXUWFVS1UIBQDYJpqMLjIHmw7tsvcemmLVZzMlx85kloJyGtR8WeKStzDfHXd+ZlR8WgCrza0ge6iqtPFgGkp96qJt6ZetCvpkVo3UdJQCsizLl88ZSoFAAgKnYw2PCm+VcDOuZwOwXk9xs9bHB7xnGymcEyHHzcwzDeCgvruwIsi3IewszXTluPlcSMD/L+bAozNCoOrDay05httmX4zjnIz+TT75mhsx3MSPOriAzYOrGgrG6+TYOStgkVI60dY8SAOpSpLzfWAoUDgAwBlv6/MdjFJ2exGRYk0lvftTY08MgJKf4JKl7NvUwj/j5mhlvftkY6pQH67/Z1bO8MaY0mYFzPp5nbSGbE89OQZj7zjYKgRSpXpmH8tVLPbNdQgZFWQVmJJSfOWDAjDmfckyXc1TiGT95fB7It+5RAkBdipT3G0uBwgEAxuNCiwNGHlYxCWYeOHBguuesQxyMzWIv6ckiL2YjQVnYBRyYicFN2gIAkCcrvExuMx3umgdaaUh3EphVYZqHa/ny66Ysz/gFwNSs+wIQTO+fPFdeTH07Y2IgIU8mxvmRY9mYIVB5S8+6sW9QP3G33377pAUADZoJDWf//fdP5sc9qzxKAKikRnndFBQoJABgKEzIpj/Gp7pjNoxLgmMk0lw8ZsBJTaozl18chJx66qmJGTEpAODembMOIMDhBtWbOW6MzHQ3JmWfn5bAC61hCBPfHIBIc+edd8YRRxyRymVmnF97wMChh7LY/1cuwOAw5LLLLkvOJrO3IFaDaRM0Fv4DfBNQAAA77LBDKoMGYp4AwPAm63sxfOVRAkAlNcrrpqBA4QAAc5PMxt3s8mM2zEoL4HADo2IeEhojscvPNzxGZm4bE2Jctv+ZFPecr3j3JCpGZOefU052+klmcQwvuIkGOsBEnPPPPz8BBvUdAMiP3X7aAI2D6s6LUXYG4l5+1HxqPNv/5hyUCQT4MVBvectLfbfbbrukAYjjG4ESz0B8DgCEyqMEgEpqlNdNQYFCAYAOjzkwAUmJMTkIoVKTlgCA70DMgdn43+OAgz8/HnswF2ltaGAIQQ3nACRLcnMFJC1JTMNo06ZNyls60p/U5xSERkASK5tWQdMwHDEBKO4JJ5yQNAuMznc9tV7d1EmdOf/wnAYAPDC7iUNuxzwTaDWGKnzC00pcK8cQRr0xe56XyA1dAkCmRHluKgoUCgBMwFHbqeCYCsOaDMOwfpd5xq0WSWl8b8wtLo0gj7ONo6UjxUnmPA8gHimLqQTagPzkQRIrB4OZzDNswPhZdZeH/JSrHCBlCICx83MApTxgRSvhs5C3H5qAvNTbme9AQKJMaZTlnXxoD3nisC7za/ASAJqq25f5ZAoUCgBUSscHBEJm1nymIeTfb9679izHd10ZN78TL+eXP1w873OcnM5Z3Mrn+b7uu/zcWcCgNA6+/jC++QLM7rk6VIacf+U35GfKWdtRAsDaqFI+2xgKFA4ANuZjWjotEKCp0DYMBZxpFuti6IbWtwSAhlKsjL8hCpQAsCEKFeh9CQAFaoxWUpUSAKqoIUsAqKLGqpKqlgBQJQ2lmmsAYHJpEKSK2qzoVW12AGAS7MUXx0T79pfHM888G++9t7pwwZ+E1atXFa5eS5e+m357jhnTtjQJVnTOqpL6tQgAvPLK2LjkktPihhs6x4ABfaJ//+KEfv36RJcunaNXr+4FrFvvuPTS86Ompl0yp17aBKwSLitwNZsdAHRapsCffHJIzJzZL2bPHhiPPFKMMHv2oJg5c3hceukJMXRou5gzZ2hh6reGTgNi5sy+8fLLo0oNoMBMVU1V2ygAmDOnd/Ly0xBJJC7DoKtXT/4wTInVq4sR1ngAuj26dDk97ruvW7z//m2FqdsaGq2h2apVkxpsFBTdpWvT5jdp+bJhTnmUFNgoAJg7t29yVcWrTsNDBoDinP/4R27Kbovrrz8tAcAHH9wa770HnIpTxzV1aTi9MT9XbFdeeUIJACXff0SBRgPA7rvvElOndoj58/vF44/3aRVh/vy+sWDB4LjkkmNjzJjL48knB8S8eX1bxbdpo3nz+sXZZ/88AYAlz+VRUqBRAGA77Y9+9MPYeeftYrfdvttqwu67bx+77LJtfPvbW8SOO24Ve+yxQ+y+e+v5Pm21447bpl2P9leUR0mBRgFA3rLLeMXYsePSfnb75qs9+B4beX784x/HlVdeFRMmTCz0N9lu3Jg6MqZiD0J5lBRoFADoPNa4r179Xto9R51sLcEOPVuObTNujd9nr0LeFl12/5ICjQKA1kw2DHLyySenvfmt+TvLbyspgAIlANTpByUA1CFIeduqKdBgALC1lfrPIAaDGa0tvPba63Hi705MFnyXLS32N66pX/3raO7GUM0Qrqm2KLdq7tgMPq7BAKDzMGd15ZVtom3bq6Jd+3bRrn3bVhHad2iXzITtssvOaR6gY8cOBf6+dtHx6o4p1If+bdu1TabT+vfvlywRMT5SHiUFGgQApIYJpKvaXhlbbvf1OPTY/eLQX+8Xhxz3o1YRfMtPfr1/7LT3d2OfQ3eNw44/IA49rnV830HH/DB22X/H+MnhhybLxcyjlUdJgQYDgC2pba66Io486cC4e/GouPX5oXHz4sGtIviWu18YHadf+ZvoVdsu7nxxRNzy3JDq/7bnBsfkRQPiunEXxWE/Pzjmz5ufbCKW3b+kQKMAoG37K+OYsw6LuctujpmrJseMlbWtIsxaPSUeXX1rXNj5tBh+X9d49I+3xMOrJrWKb5u2ZFz0vPWqOOKYw2Le4yUAlKy/hgIbBQBzlk2NmasmxUMraqo+YPRH378lFrx3d1za7cwYM61nPPnBnQEUZqys/u+b9s7Y6HlLCQAl43+cAo0CgKs+1AAAwMMrqx8AMPjUZwZHj5q20aH3hXHgz38Yp/zh2LhmwEUxYXbfmP7uhKoHuBIAPt7xy7s1FCgBYGVNkvC18wbEPofsGv/22X+Jf/zf/xCf+ddPxxe3+O9o3//CeHhp9YNcCQAly6+NAiUArKiJB5fXxMylk+J3Fx4d//hP/xB/87d/E5/6h/8V23xvq7j16WHx8KraUgNYW+8pn1U9BUoA+HD+wlDmxltdqpEWAAAgAElEQVSujq9t9ZX4u7//u/iPz/9bnN3xxHjw3YlVz/zmaEoNoOp5dZN8QAkAHwKAPxm3vzgijjrp0PinT/9j7LTndjFubp+YvnRCOQm4SbpemWkRKFD1ADDzvcnx8OpJSU2nqm9MAALDpnWN//rS5+KkS4+JWSsnx4xVNRuVZ67PzPfW/E5sqT8mpQZQBHYrXh2qGgCmL5sQEx7tF8On9YhR0/usCQ/0iVGNDKOn942hd3aPPfbdNS7rem6Mm9GvCfJUn94x6qFecfero9OagpYAgRIAisd8RahR9QLAypqknp947rHRpVvnGDthdIweN2qjw6ixI2P4yGExYvTwNXmO37g8x4wfFTWTJ8Rp55wUI6Z3T9pKCQBF6PplHVCgegFgRU3cv2R8nHfF6ckV91/+5y/RJOEvf0nLZP/8lz83TX7/85dYtXpVdO52bQx/oASAku2KRYGqB4CzLz0lZs+ZXSyq1qnN+x+8H526XhPD7u8WM1e3zJqCcghQp1HK20SBqgeAs6oFALpcE8OmlQCQ+c52ZIZJ2SdghMUms3zv2Z///Ofgbp3tCe+d3dfnsGVdfjlfOx/tYvW8PD5OgRIAPk6PTXKXNIASAD6irW3ly5cvD0ZNGWEdM2ZMTJ8+PSZNmhQjRoxIz1ieBgi33XZbjBo1Km655ZYEAh9lsp6Lt956K+68886Uz6xZs+LJJ59M90uWLFlPqs3zVQkAzdDuJQB8nMgAYOXKlXHdddfFD37wgzj88MPjnnvuiWuuuSZ22GGH+OlPfxrTpk1LANCnT590P3z48A0CAA1BvgMGDIhTTjklTj311OjatWuMHTs2Tj/99HjxxRc/XpFG3imHRrF48eJYsWJFI3MpRrJWCQA6GBVTI5Ei1EnXQlYHqYj1VSk3tqlKAPgkBbUDBjruuOPi+9//fpDajz32WOy9996x1157xbx58xLD33zzzXH99dfH66+/ntoyDxPyEKEyZ88WLlwYRx11VFx99dXB/Plzzz0Xb7zxRjrTOvQLbW9IkfPSL/QZQR7ZwrVrz+oe0qrraaedloyrSC+NfH1XHrK4Nuzw3rP8POer/+Xycj9dW3l1y2/K+1YJAAjLvPcdd9wRbP0//PDD8dBDD8XUqVNTg911113JrJmGWdshfW6Iyuu1xa3PsxIAPkkl9MUwtIAvfvGLoU2ef/75JKm33nrrZJMRw1x66aVJlcd0mHvo0KHRvXv3mD17dlT6N8xt3qlTp/j2t78dRxxxRAwbNiylmTt3bhpKvPbaa8mW5f333x+A5aabbopu3bqlvDAqZjT06NWrV/Tu3TsBCCbOfSF/xVNPPRU///nPY6uttkp1eeSRR6Jnz55x++23xyuvvBJ9+/ZNQ5mXX345gc99990XEyZMiNra2qDJLFq06COgULcbbrghfePTTz+dnudymuPcKgFAg+k81157bfzqV7+KZ599NgWAMGfOnKQWduzYMXUgndDYkJFT19LxCbBgwYKkTtbU1CTpkTUKRlCpfTqGTuk6B/c6Yt2jBIC6FFlzr52M7bfffvu45JJL4oEHHojDDjsstthii2jXrl1int/85jdpePDCCy8kO41/+MMf4ve//30ccMABCTQyczprQ0MGw4rf/e53ceutt6ahxEknnRQ/+9nPEkObEzjooIPiwAMPjH79+sWxxx6bXKVhXO/OOOOM0DdoEbQTzK6tKw+MCmDUe9CgQamvqNOZZ56ZmLtDhw6pfoQO+5nKptWY3/j1r3+dyjNUMexRBhA68sgj45hjjkmakL7WXEerBADEQ0TjP+PJN998MzWSzkZqQPg2bdqk58aaNASSBTLPnz8/9txzz4TI3u2zzz5psoqKR6UkqYwxSSsTV/IyUUUCUAvrdhZ1KQFg3d0ZHTHID3/4w6Tqc8pyyCGHBMbnaQpjaRcSecstt0ySF9N+/etfT5Izq9NKoNFpg0MPPTR69OiR1HJDB1qGoQWtwVDjnHPOiV/84hfp3juMR/Kff/75KR7w4B3K0MREJYAnGPQdIC9PQPGjH/0oTTB6fuWVVwagAQ60C+8wP63F81/+8pfx6quvJmDbZZddgnZwwQUXxPe+970EHPvvv3984xvfSCC0tj60bgpu3JtWDQBdunRJDKwhBg8enDqCxiIlAIAGobZpfOgNoQ0dDj744PRc45EUgIB0uOiii5J2YHxJDTU7ve+++8YzzzyT8rzwwgtTR6nbJCUA1KXIX++Ny7XTl7/85cAE/giQ/tttt11qu/79+6fJu8suuyx23333GD16dNIUgC9mo7VlLQAYAAAAQqpiWvnfeOONqZ20s/bX9ieccEJiXkICc1LjSX3P/UHIgkEfoJmYoMTkVHhagUnF/fbbL+VBOFx11VUfAYChJgC49957Ux8799xzk6Rnlt0Q5bvf/W4SSIABkPiWmTNnJu3UMKUEgHqaGLMScG3rAHQInUGj/eQnP0moj7FNCJls0Tkwq99DVDiqmEYi2TUS9ZJU18EwuDGcX1SkhvGjdIL5BZ1AGh2DtNLB6h4lANSlyF/vSW3g+vnPfz7R2hCNlrXTTjulsTw6G6JhHGNuZ1qadqMVkM4ZAIABKQ+0tbG2MCyg6lPBjbep3hiZhvHEE08krUO7YkB/Dmgi5g6Ahfz1CRoIQUGyi+dvAgCgHarv22+/HW3btk3gIR0Q23nnnWPy5MlJ0p933nlx/PHHp36oTwI3QsMkouGKfAEQweJa322uo1VqADoE5MfkGNgssGcCtCZhNKDO4qzBLr744tQAhgvGaToNDcFYb8iQIakhzSecffbZ6d5wgHpIahk/klTSKTd3yNyIJQBkSnzyjFaYFFBrCxIQUGMY8wEYNjO2yT0gsNtuuyVtwFxNHgLIR1xtgom1k3kDzHr55ZcnhjQJJ3/DDJN4mFe7AwzzBRgWQxpqUNPFwfB1J4u1cfv27VMc6Q0hgQapbyhIi9h2223TNwAZ5fkWmgNN81vf+lbMmDEj9TFqv2GActHA0KAEgCbQADA66YHJSZA8m68xSXa/maiIOgnUxvgmC6UzLpXWtbgmBGkOgIS6Jr5GAhCuTQzqtPIUrwSATzL6+p5oE2ozKYvZ0ZAajikzg3tOUyO9TRhqh0paa1+SGLMbqhnnZ1Ween7FFVekYSDGw7SemfcxYSdPgK+fABXpvc9zOnXbk4pOK/CHwhyQvmNewFCD0DHcJBCUZfipDPWy6Mm1dNYmEByEj3eGQbSC/L3ro1dTvmu1GoAOoaEQ1IRgbkTP8y+ffK0DeiaeIF2+l951ZVzx3Yub86/Ms24DlRpAXYp8/B4tgS0mdy24BtCuHc4YHtgacuU2yDlpX+2GiU30GfJJTysQ33OSWznus0u7fE0LkV4aab1Xh7UdytLu8pS/a2kNOTwzLFFOLl/eynHO5XpnQjF/k3x8U+6nayt3UzxrlQCwKQi1MXmWALAx1CvTbkoKlACwKan7Yd4lADQDkcsiGkWBEgAaRbaGJSoBoGH0KmM3HwVKAGgGWhvrdSp3AzYDpcsiGkqBqgeAsy89Nf3OaeiHN2f899//Y1wHAO4r7QE0J93LsjZMgeoFgJU18cDS8XHqRb+NISMGxbQH741pD96zEeHeuO2OW6J2Um3U1takjRuTp0yOe+6/ayPyVJ97Y9pD98QFl50bI6f3KC0CbbhPljGakQLVCwAr1hgFHXTP9XHDxKui1+QO0bORQdo+U6+O0y87Ibb+zpbx5a98Ob729S1ij/12id43dYxeUzYu715T2qc8bn9hRMxoIS9DpUmwZuSqKiqqqgHgoeU1yXvv7D/eFBsT5vxxajz2/i0xclr3+O4u30nuwf77S/8VV/Y9P2Yvuym835j8U9r3booZK1rOxVgJAFXElc1Y1eoGgBXZacekNc5BOAhpZJi5enLc89roOO3K4+PT//y/Y+9DdombnhoUM1bUJLW9sfl+lG5VbYv5BGhNrsHyIiGLdSyuseDGgiznuot/LPyx0MZCHYtzxBdMykpTeVjIZZGO1YTiWNgjyNczC3ws5LHISDzPneWrDPcWArnP9WjuRT2V31Pf66oGgAeXTwyBpd2PGG0jrmcunxRTnhgUW3zzy/GH606NOSumxsOrmiZv9VPXlvAJ0FoAAENhMkuCbaRh8otRD6vobKKxV8PyXhu2bMBhO8DyWku0bfu1DNe6fEuErbrLh2tM7739HJYaWyKO4eVnr77lw3aRurZt2Bp/G47sUnStHnaIDhw4MO38yzYM80rGXFbRztULACvXePWd9OSAGHjH9THkrm4x5K4bYvBGhKF3d4tBd3SNw485NNr1uSiG39cj5bsxeUo76M6uMeju6+Pu10aXcwCN5IC8/NYWbLvwrKvHqDYI2bFnx6admTYB2fVnLb+NWrb1Wmv/X//1X7HrrrsmQyE2DNEC8mHLr92BJ598clrPbwOYLeHW8ttA9NWvfjVt2wUyX/nKVxLQ2AsAMJSnDFuVbSCyN4A9AUBhDwnto8hH1QIAP35C59FXRP9hfWL+U4/FvAWPbmRYk8dDMx+M2Y/O+jDPjcz3qUdjxuzpceK5x0Xtk/3CUKMltIBqnwMgSanhNvlgOmq53XWMeTAqigkZArHbjtQHCoDCpiEawJe+9KWkEWSzYFT+fAATQPLggw+mTT0sRzFLxqiIctgJYIQEINiNCBzsEgQYtoEbFtAKaCA2h7ErwQAJi0CVmkYur0jnqgaAh1bUxlX9LoiayRMj2G5sqqCFmiiv/+//2Zq8LH535rExdm7PmPXelDSv0NwgUO0AYMxuxx0jGlR7Y22AgElJfjsHAQEAsKuTKs6yk626ttgyM8bU19pUcvv+SXa7/2zSwdD289MiDC/Y82NPwLDDXn7bd+3oI+lpD8b/4maLQDQM4GMosq4NRUUBgdYBAFMmFoWen6gH1XXpsnfjt2ccG+MeBQClBvAJItXjAcbF9Lbbkq6kPKvCmJLtAEZFSGpMyVaD8TijIsb7xvMYnMped/JP0dT8bbbZJtmDYD/AEEJae/xNBHp29NFHJ6MlxvYMh/z3f/93sgthTiIDAIMwto8DjBIA6rmnv7GSkPr/kQZQDQBwZgkA9eDzdUYBpNR2ajhDHRifaS9jd+o/Ww0kOXCw9x8QGJOb/AMGVHqmv6jlleq/Ag0LGJBlLNS8AgaXN8YHPOYLTAACATP89vAzO2Y/PxWfLQjqP6Mf9vlLS4NQbuVcwzo/rgVflBrAJib+RxpACQBNQmm/3BhsYRvQ+JvaTs0mqQ0JmG5jqs2kIGDw3hifVSfDAgBQd2KOVmDGnykyIEKFl5c888H4i7w8AxjG+q6BCQ3D5CQjpgybOKuf6xIANpEmUGoANQ2aTKz2OYDMiCQypiN5BUwIZAXv8nNMXhmARGX8nJ9zTit+jgcUPM9HLjfHVQfX+b6y3MrryjxyXkU6t2oNIHeIvEjDBI+goZurYZST5gBKDaBI/b6sy4cUaNUAAMWpZ2y0UcuohGaLGYOk8mUUBxRCBoV8n8/5uXN+hn753jnHqduzPC8BoC5VyvuiUKBVAwAi+41jUYbFIH4H+X/rl417v3uoa2ZyrQRzDTRoDHlJp3NWB7P9Nu8BAXVROlqF+7UdJQCsjSrls6JQYLMAAItF/APGsCZl/Oax2sukEEAwMeSXj99BFn6w7mqCibbAjrtVX2Z6+QowCy2YAZbOv1626lkRXttRAsDaqFI+KwoFNgsA8PsHI5swIs0xr1Vc2U8bU9AcOgIJ/3Gt++bowWyz30xWdjEvbjWYGWIr0MwW+81j5ph3F2vB16YFlADw16FS1qTW1fnRKoccB00929yPunRpKnpsFgBAA+DIIav2fhVZPYbpMa+ln37zCGy8W+XFZRT13uKOvNyT4wj/iHlw4UnIZhCr0/wvds5zCpWNo+E25zkA3w94/T+nXeVZ+0oa5WsAUTlJK60hHM1tcz7QIWuvrpvyaNUAQHpgastDrQKj7psItE7cxg7/c/0fNh/gvy33TLaQUuk5ijBHYNkpwPDf1wovzisAB9WfhyF5kf60ilID+HjX1FkNuSyOsYbfennr7c21VB7/f3v3HmN3UcUB/F+jf4KJSQkFAgFDMKWmGkl9EKLlIdSaKKAltEVjooKaIiEKCIlGpLV0d0thSyHQLX3tA4yGiIk8+7BPKJBgoEQSTSQ0lbS0tEaSYz6zHbzc3EXuY7n37p1f8tu7d36/38zvzsz5nsecc0a/Mcpar3cf910qF8lLtB3pa6ocQM4qFGZRa75U/059pT84N2FAnmvlMaUBQGcjaJOJ2yiR/rXXXktx3JkTmXj0d/vNie/W4e5B/LiPVQSci6EQkfM4UydE9t2Kgs+JHD4QQa9KAPqYSiVSjkqFmNlR9KXJbzI7EQQJinffSSedlNQsrr2krbPPPjtNfPerz+kZY5ufn4grKndPHutMOJXllUSo3Hd1e8ZnPnJ5bruyzfxurlWW+z+/r3t899tJnPrF73a4Vus9lTNCW8XieowxVbeR36/RzykNADpFp+s0pwF15sGo7HzXc3nlffk59eRnK+/LE8X1WofyXgUA6hRDqwAam3kKnHFSmahjwBU4A179aBste+QxxvLEI7F5lt0FUDPGIhxg4TtAJ+EZl+pDvwNpYC44CLAry+XaVl9ewcnl6tW2a1TA/AxmgBGQGgG+ul0zF/wWdiHllT4mfhPG4zdqxzsgfoFFpEr15efdV/2emIrfyGhtP0Huyu5v5THlAaCVndVIXSZJrwIAAmY4Pe2001LYLpGeKkYVECvPkMrGQoVCHLbT5r8PABAi6cpW2lx7icGWc+fPn5/UN0k4qAvsMJ6tPIA2ULFRJyli4cKFyZffMjDJbtmyZcmGI6EIe49wYaDCCCzUmMFYOzguAKEauo8qKfqQ3Yg6mAmUvYjhmARDpbRcrD6cW32iBP1WbbtPaDIjtNUkIMOYfO2116b3lIAEcJIy5RbQpjqmTZsWd9xxRwGAHDxUXIE73xWYusReQoxnSBXBZ4Lbfl2cPn/9efPmJULFIScCAMSGKOwebLdnkgKiRHDAAwfGbQEBDkxs1g7Vg42GjUeQEN98xD979uwEKiMjI3HyySenzUBJBHbnFRXI/rNkyZK0C7F3shysXeCEaIGKe0kKgoRcY7+wtAywcHy/lzSD4+PcM2fOTLYMEhFA9C64OyL3PtqzTbkoQnYm76YcaNL9TzzxxBTYVCSA47EFBQA6HwDou4hX/HzW/Ym+OduOsF1RdDj1+wEAiYDIDTSs3uC4CARhUydwe3YcoKBORkPRemwOxHIcnsEWMVvWxVWJ8p5zj+VgEgUuLakIQyUjMQIU+acNXFiEISAixQgXJvaTYObMmZNSkJFs7CysLsZj0g8Oz75EglAPoBCZ6F29sxwGtjMnEZBoSAja9p7+J0mQHM4444wkmRQA6EoAOBALUyzAQE/lA0DUCHXWrFmJExKZcWzEyYkKYSAShIeLI1Bpu4BEVgFmzJiRvtPzcVwEizAt7bIrELcROU5KhAcOfDNIGe5BjOpCrAibaK+cOqBN98snQCXhAIYgGSBxfe1YHWJnkGNQPkEEbRn43HPPTXV6NicGYd/QtpyFgAE31w5JyHtQJ0gGJCJ6PWACaCQHKg4bgNUlqoP3t205wAFUAIAkQb2hVrbq6GobACngtnuvj42j6+Posbfj6NHmTjv4HD5yOE0Mk/fI20fCvn7N1Ov5/QfeiO/+5OrYsLu3AIAoTn8HAAiDREASMLkl6jDpcVyck58AlYCYbdnQxEeIGQCykZbojIOqE4jgiEAAkSEwnJ1BjX4vzZfYfG3y2wA+JAGETczGWakVuDUVAACI6QcUnmGsI8Go1z10fxwZABDvifrKTz/99KTHkxbYKagolu3o+tzOcXRSx1NPPZUkgHPOOSdJKUAhr3RYJfEcQBwcHEw2AZKFPtL+mWeemcqAWSulgK4HgDuHb43bl/8yNo2tj/UjDzV1Dq1bE/fdtzpxpMFVg7Fm6IFYP7y2qTo3jq6LB9fdHwt/dGWMvTjYUzkBcTNemPRf+joujDgREsLHOU1yCT6IxLg7wiKSI/TFixcnUdv9uDwQ8MmoR2QGEg4ckYTguk/qAlWAnk79kBqMmoF7e4bBDadXD4lA295r7ty5KZGHdp2SegASUgAuLcko7ux/EoD/ARmi994XXHBBkkQwD2qI3w6olDMeAip94rezfVAHSA35PQHO0qVL0zvKPSBBCUAiZahff5ES/M5WHV0LAIyB0mz/8W9rYmTPqhjdvTpGdt3b8Dm2574YGP5VfOkrn49TTpkeM2fNiFv6rk/1NVv38M5VMbb33nj89fVt2xugHfkA6LyMYLg/7m7ZCxFYysOBrRKw9OOkiJOBjRqASIjkOLHvPnE+Iju1QWYe9SK0WgcOCQQQFwLFeT3PQMhYSCzXhndgmFSv9n13vzY9gyN7b6I6+4PvRHdl/qfDE88BG7GfxEKSQaB+p7rd53f67cq9B8DRBmnCe6pHu9pQH2OmchKC36k90g6joXqLBFCRZOTdvP3y9zd6vjUW2w4/HI/ueyAuu+rL8dGPfSQ+9ZlPxprNy1LSjbTnQKN1H99XwN4F44bL+ox3edWj2c92AEAt4mykDIdH7GI25ATEEVstCjfyXlPhma6WABDFtkMPx47DzW0NZuuunUd+F9sPPhL3P/bb+MS0j8d3fnpl7Hrz97Hjrebr9n7bZQNOeQwLANRLODgeHZ3YTl3AvavX/uuts9w/3gNdDQBUgEf3PRgPPdMfQ0/0HT+Xpz3+7PNX77n28b5Y/Ycl8dnZn44bfv2DWPfkiqbrXPPE8lj7TH8M714Zf/7nuraBQLdLAFYQxGMQl3OOhkLEzfdA1wIAbupcuuHmuOGmxbFi5UD0r+hr+uwbWB4DK/oifd7V33R9A3f1R99dy+LK782LsbIxSPMzttTQ0h7oegC4ddXi2Di6IY79+9j4eTxZJBGx7lMdx44mA8zRY0dbUqd69h/YH9dcd1XPLQO2dKaWyialB7oaALpnX4DedASalBnbpkoZIiut7610xmnTT0rNFgCY5N43UXo1GGgyu1a/WipjDxCpZ3mvFYc6BeJYMkTwTktvlvH4EPhfe+6pFYXYinf4MOsoADDJvV0AoPUdrE8RqGVBATS8/LJTULOtWW/nqchrkOERIHBK4qF33nnnJX983n18EfgPdPtRAGCSR7AAQGs6WD/iuE5cGcfnZMPLjscd5x6HaxxunJ7Jh3LPVpa7rh5lrju4Ess/wOMO8XMQ4q3IMxAocPjhmGSPQNcd6slt5npyuWvKKsvTQx3yZ0oDQO58g5wH2kCZCK59GId2igrQXE8bM6I3N2DecbztSAA86TgF8Q3gdWiMESxvQQTsmTzuAol49AEK5QzEnIt4HPIYzHUqI+5TLZw89oQMCwbyLKlATIN28rwiCXAltkSpHe+mDbEG6hJM5NO867RjSgOADucxxvWUW6YB5FCS3TU/DBAoAND8lCfeC5C58MILU1w/33sEZzz58tsV2HcgIIxWtKH4f/73ngUUovP4+vOv55psHoiu44fPN1/orecljxWAJA6fP74Q3RNOOCHFE8gTwF1XVKB2AIR3EIW4YMGCJI0o9y4Cg0gnAo+8izgHoNBpx5QGAMQHhQ2ibCoGlG+1JBXCPQ0I7gLJobb/PeN7XkL0P/FNuevuU1b5XflEIp77igTQ+LQH4kKKBfT4FF2IoIjpCDYDAD95QI+Q6ewiDIXaGnO+9IJyhOJKEMJnn08/QBG1py7XcG9ELlrPd3MHVz/11FNTaK7r2hDZJ6cBQ6Adp6QtQ+CCdSQU8axoQqHNQMfGofz/zZtOO6Y0AOhsFls6ojDQLLqJN2foEXxiUHOseLbyEhUNPLQ3cEQ8hG/CifLySVTEWVwnRhINax0FAGr1ygcr03f6VTIN3JQYTQ1AsHL24eKVAGCcjKU0YUBCRiBGPcFG9Hh1IHBjrkyUofBjRkRjDvSF34rKIwGYO2wCYvGlB3MAJLkH1KceEoNIPVF8mAypA+hQQxC/5CHUhU49egYAKjcGoZPlDCxES2htH3ncwMQQI46TiNAS+uk6sGD9ZXiiFwIHSE+cFNop5tuErT4KAFT3yAf/ngHAWEyfPj31OaLD7RGsTzYAFnk6vzIhu8RxEgCpAUFT+YQHG1/EilsDcQBiDEkCkneYFwCjGgAk5KwGAM94F3PirLPOSlKFnAQIXw4BEoZ5QT0Q4depR08AgLRTkjhksR5CQ2eRZWLDETWCJipKvmCCAAQSgYSOtg2j6ym78cYb0/KTT/ngcH/LUSZYLSNPAYDGp76+06fEbKI1okPY9HlWeH1O35eTD6GLr5eTT349KbxyMhHjK1UXvVxAkSQc1ADjTKUADLL0GEtqhlh/EiNx35yQw89cIQ0gcs9pRygz8Z4K4N0kB5FtiPQgnBiQaItU4nf4PZ12TGkA0OHEOBzCIBPZGQOhNrGP+M4+IFEk7kG8R/RyzRHnIDdugkuYbOwHwID0II0V8DCRSAcmC1tA9VEAoLpH6v9uTIjd9HgJPnBVhCjxJ6MecVw2H8AugYbxZrUHDDLuIkaEz+BHZch5CEh6GIFr5gApgn5PPbTur34EnNN2kQSBiVUH0oX3ABqelTzESVKgplBDvBeAImVSZQoAVMTxNxvfPh5aOxq/uGdxjDwyXHNWQV1iHr0P4Ro8RIxgc+IFy0oGjWGQ3m+giHCSQ5hk0jzjLggcp8/6HbHSfbgN8X8iMa8AQM2hqavQOBoXIreT/QXY+szLdfR/RjafTgZe16zVexYjcHrGfcrYhKwSMea5X3mu0zWnulz3rHvUp1zdvpMq1UXPNweq68n3TWQkrqsjJuHmKS0B6HQDZPDyRPG/sjwgBtTAGUD/m1gGOA9uHvg8uUyQvGJgcjBM+azF/Vjm+1cAAAKXSURBVI1XAYDWzVp9WclF8/fKsolaq3XPRM9Xlv+//3N7+b7q79Xl+XqnfE5pAOiETjYByjJgJ4xEeYdaPVAAoFavtLCsAEALO7NU1fIeKADQ8i59b4UFAN7bH+VbZ/VAAYBJHo/3AkBv7QswyV1bqm9BDxQAaEEnvl8VAOBfbx6IRT+cXzICvV9HlWtt6YGuBgBLgbcP/SwGhwbi+Vd2x3Mv72zq3PvKrnjh1T2prhf2jX82XefLu2L785tj0Y+/HSPPr+ypjUHaMqNLo3X1QBcDwPjGIA+/uCrWbu2L4T13x6bdK2PTrsZPdYw8NxjDewZj5NnBGH72nqbr9E4bdq6I1Y//Jh77+1BsOTSa9hpo1g+i3ue7OStwXTO63FxXD3QtACAAacF9jm8IMhpbD7XiHIsth/53tqTOg2NhY5DNb7ZnTwB9VACgLrromZu7GgASFzw4EltadG4+OBLVZ6vqHvdcLADQM5TVJT+0MQC47ea4/Ptfja2vj8XT+zfFE29sKGeH98Gf/jEUdz5yU8y7/NLY+9ze5M3YJXO0vOYk9kBDAHDzLT+PS751fow9eU9s/MtArN/WX84O74Ohp++MW+6+Li79+sUFACaRoLqt6roBgB98/0BfzP7i52LuNy6KeVdcEl+74uJydngfXPbNi+L8OV+IBYuujlf3vTph7EK3TeDyvs31QF0AoClBNBIn7Ni+I7Zt3VbOLuqDrVu2xksv/TVFvOVgqOamT3m623ugbgDwg9/5zzvvJtfISTbKZwNbkTWyfVmTz4hqLMTf7WTbuvdvCABa13ypqfRA6YF29kABgHb2fmm79ECbe6AAQJsHoDRfeqCdPVAAoJ29X9ouPdDmHigA0OYBKM2XHmhnD/wXiPHHjBbEdioAAAAASUVORK5CYII=)"
      ]
    },
    {
      "cell_type": "code",
      "metadata": {
        "id": "t5XAI5qT2M8W",
        "colab": {
          "base_uri": "https://localhost:8080/"
        },
        "outputId": "c996fe0a-9c00-4bad-d7d0-08cd019b1525"
      },
      "source": [
        "conv_base.summary()"
      ],
      "execution_count": 24,
      "outputs": [
        {
          "output_type": "stream",
          "text": [
            "Model: \"vgg16\"\n",
            "_________________________________________________________________\n",
            "Layer (type)                 Output Shape              Param #   \n",
            "=================================================================\n",
            "input_1 (InputLayer)         [(None, 150, 150, 3)]     0         \n",
            "_________________________________________________________________\n",
            "block1_conv1 (Conv2D)        (None, 150, 150, 64)      1792      \n",
            "_________________________________________________________________\n",
            "block1_conv2 (Conv2D)        (None, 150, 150, 64)      36928     \n",
            "_________________________________________________________________\n",
            "block1_pool (MaxPooling2D)   (None, 75, 75, 64)        0         \n",
            "_________________________________________________________________\n",
            "block2_conv1 (Conv2D)        (None, 75, 75, 128)       73856     \n",
            "_________________________________________________________________\n",
            "block2_conv2 (Conv2D)        (None, 75, 75, 128)       147584    \n",
            "_________________________________________________________________\n",
            "block2_pool (MaxPooling2D)   (None, 37, 37, 128)       0         \n",
            "_________________________________________________________________\n",
            "block3_conv1 (Conv2D)        (None, 37, 37, 256)       295168    \n",
            "_________________________________________________________________\n",
            "block3_conv2 (Conv2D)        (None, 37, 37, 256)       590080    \n",
            "_________________________________________________________________\n",
            "block3_conv3 (Conv2D)        (None, 37, 37, 256)       590080    \n",
            "_________________________________________________________________\n",
            "block3_pool (MaxPooling2D)   (None, 18, 18, 256)       0         \n",
            "_________________________________________________________________\n",
            "block4_conv1 (Conv2D)        (None, 18, 18, 512)       1180160   \n",
            "_________________________________________________________________\n",
            "block4_conv2 (Conv2D)        (None, 18, 18, 512)       2359808   \n",
            "_________________________________________________________________\n",
            "block4_conv3 (Conv2D)        (None, 18, 18, 512)       2359808   \n",
            "_________________________________________________________________\n",
            "block4_pool (MaxPooling2D)   (None, 9, 9, 512)         0         \n",
            "_________________________________________________________________\n",
            "block5_conv1 (Conv2D)        (None, 9, 9, 512)         2359808   \n",
            "_________________________________________________________________\n",
            "block5_conv2 (Conv2D)        (None, 9, 9, 512)         2359808   \n",
            "_________________________________________________________________\n",
            "block5_conv3 (Conv2D)        (None, 9, 9, 512)         2359808   \n",
            "_________________________________________________________________\n",
            "block5_pool (MaxPooling2D)   (None, 4, 4, 512)         0         \n",
            "=================================================================\n",
            "Total params: 14,714,688\n",
            "Trainable params: 0\n",
            "Non-trainable params: 14,714,688\n",
            "_________________________________________________________________\n"
          ],
          "name": "stdout"
        }
      ]
    },
    {
      "cell_type": "markdown",
      "metadata": {
        "id": "RAUd8YyW2blO"
      },
      "source": [
        "### 위에서 block 5 부분만 미세조정 하겠다"
      ]
    },
    {
      "cell_type": "code",
      "metadata": {
        "id": "pEVEbvcW2TBl"
      },
      "source": [
        "conv_base.trainable = True\n",
        "\n",
        "set_trainable = False\n",
        "for layer in conv_base.layers:\n",
        "  if layer.name == 'block5_conv1':\n",
        "    set_trainable = True\n",
        "  if set_trainable:\n",
        "    layer.trainable = True\n",
        "  else:\n",
        "    layer.trainable = False"
      ],
      "execution_count": 25,
      "outputs": []
    },
    {
      "cell_type": "code",
      "metadata": {
        "id": "YLJg1C3hV6sV",
        "colab": {
          "base_uri": "https://localhost:8080/"
        },
        "outputId": "c890c09c-f340-41f5-f916-274459426b35"
      },
      "source": [
        "for layer in conv_base.layers:\n",
        "    print(layer.name, layer.trainable)"
      ],
      "execution_count": 26,
      "outputs": [
        {
          "output_type": "stream",
          "text": [
            "input_1 False\n",
            "block1_conv1 False\n",
            "block1_conv2 False\n",
            "block1_pool False\n",
            "block2_conv1 False\n",
            "block2_conv2 False\n",
            "block2_pool False\n",
            "block3_conv1 False\n",
            "block3_conv2 False\n",
            "block3_conv3 False\n",
            "block3_pool False\n",
            "block4_conv1 False\n",
            "block4_conv2 False\n",
            "block4_conv3 False\n",
            "block4_pool False\n",
            "block5_conv1 True\n",
            "block5_conv2 True\n",
            "block5_conv3 True\n",
            "block5_pool True\n"
          ],
          "name": "stdout"
        }
      ]
    },
    {
      "cell_type": "markdown",
      "metadata": {
        "id": "7uCc31nj3lJq"
      },
      "source": [
        "### 학습률을 작게 조정한다 (천천히 학습하도록)\n",
        "- 미세 조정하는 층에서 학습된 표현을 조금씩 수정하기 위해"
      ]
    },
    {
      "cell_type": "code",
      "metadata": {
        "id": "oEZvEBLt3fZl",
        "colab": {
          "base_uri": "https://localhost:8080/"
        },
        "outputId": "c258c871-764b-44c1-bbbd-b78c46964750"
      },
      "source": [
        "model.compile(loss='binary_crossentropy',\n",
        "              optimizer=optimizers.RMSprop(lr=1e-5),\n",
        "              metrics=['acc'])\n",
        "\n",
        "\n",
        "history = model.fit_generator(\n",
        "    generator=train_generator, \n",
        "    steps_per_epoch=100,\n",
        "    epochs=30,\n",
        "    validation_data=validation_generator,\n",
        "    validation_steps=50)"
      ],
      "execution_count": 27,
      "outputs": [
        {
          "output_type": "stream",
          "text": [
            "/usr/local/lib/python3.7/dist-packages/tensorflow/python/keras/optimizer_v2/optimizer_v2.py:375: UserWarning: The `lr` argument is deprecated, use `learning_rate` instead.\n",
            "  \"The `lr` argument is deprecated, use `learning_rate` instead.\")\n",
            "/usr/local/lib/python3.7/dist-packages/tensorflow/python/keras/engine/training.py:1940: UserWarning: `Model.fit_generator` is deprecated and will be removed in a future version. Please use `Model.fit`, which supports generators.\n",
            "  warnings.warn('`Model.fit_generator` is deprecated and '\n"
          ],
          "name": "stderr"
        },
        {
          "output_type": "stream",
          "text": [
            "Epoch 1/30\n",
            "100/100 [==============================] - 31s 284ms/step - loss: 0.2966 - acc: 0.8700 - val_loss: 0.2212 - val_acc: 0.9170\n",
            "Epoch 2/30\n",
            "100/100 [==============================] - 28s 279ms/step - loss: 0.2634 - acc: 0.8885 - val_loss: 0.2172 - val_acc: 0.9110\n",
            "Epoch 3/30\n",
            "100/100 [==============================] - 28s 280ms/step - loss: 0.2512 - acc: 0.8975 - val_loss: 0.3309 - val_acc: 0.8820\n",
            "Epoch 4/30\n",
            "100/100 [==============================] - 28s 276ms/step - loss: 0.2259 - acc: 0.9020 - val_loss: 0.2320 - val_acc: 0.9230\n",
            "Epoch 5/30\n",
            "100/100 [==============================] - 28s 280ms/step - loss: 0.2358 - acc: 0.8995 - val_loss: 0.1870 - val_acc: 0.9340\n",
            "Epoch 6/30\n",
            "100/100 [==============================] - 28s 278ms/step - loss: 0.1989 - acc: 0.9185 - val_loss: 0.2098 - val_acc: 0.9320\n",
            "Epoch 7/30\n",
            "100/100 [==============================] - 28s 280ms/step - loss: 0.1825 - acc: 0.9220 - val_loss: 0.2000 - val_acc: 0.9310\n",
            "Epoch 8/30\n",
            "100/100 [==============================] - 28s 279ms/step - loss: 0.1656 - acc: 0.9320 - val_loss: 0.1962 - val_acc: 0.9320\n",
            "Epoch 9/30\n",
            "100/100 [==============================] - 28s 280ms/step - loss: 0.1634 - acc: 0.9305 - val_loss: 0.1912 - val_acc: 0.9370\n",
            "Epoch 10/30\n",
            "100/100 [==============================] - 28s 277ms/step - loss: 0.1531 - acc: 0.9400 - val_loss: 0.2332 - val_acc: 0.9250\n",
            "Epoch 11/30\n",
            "100/100 [==============================] - 28s 280ms/step - loss: 0.1423 - acc: 0.9450 - val_loss: 0.2448 - val_acc: 0.9270\n",
            "Epoch 12/30\n",
            "100/100 [==============================] - 28s 277ms/step - loss: 0.1372 - acc: 0.9445 - val_loss: 0.1915 - val_acc: 0.9330\n",
            "Epoch 13/30\n",
            "100/100 [==============================] - 28s 277ms/step - loss: 0.1330 - acc: 0.9515 - val_loss: 0.2191 - val_acc: 0.9340\n",
            "Epoch 14/30\n",
            "100/100 [==============================] - 27s 274ms/step - loss: 0.1300 - acc: 0.9480 - val_loss: 0.2062 - val_acc: 0.9390\n",
            "Epoch 15/30\n",
            "100/100 [==============================] - 27s 274ms/step - loss: 0.1193 - acc: 0.9500 - val_loss: 0.1844 - val_acc: 0.9410\n",
            "Epoch 16/30\n",
            "100/100 [==============================] - 28s 281ms/step - loss: 0.1263 - acc: 0.9535 - val_loss: 0.2110 - val_acc: 0.9310\n",
            "Epoch 17/30\n",
            "100/100 [==============================] - 28s 280ms/step - loss: 0.1079 - acc: 0.9520 - val_loss: 0.2012 - val_acc: 0.9400\n",
            "Epoch 18/30\n",
            "100/100 [==============================] - 28s 278ms/step - loss: 0.1082 - acc: 0.9585 - val_loss: 0.2153 - val_acc: 0.9280\n",
            "Epoch 19/30\n",
            "100/100 [==============================] - 28s 279ms/step - loss: 0.1112 - acc: 0.9585 - val_loss: 0.2313 - val_acc: 0.9310\n",
            "Epoch 20/30\n",
            "100/100 [==============================] - 27s 274ms/step - loss: 0.1017 - acc: 0.9645 - val_loss: 0.2252 - val_acc: 0.9340\n",
            "Epoch 21/30\n",
            "100/100 [==============================] - 28s 276ms/step - loss: 0.0855 - acc: 0.9670 - val_loss: 0.1883 - val_acc: 0.9480\n",
            "Epoch 22/30\n",
            "100/100 [==============================] - 27s 272ms/step - loss: 0.0786 - acc: 0.9740 - val_loss: 0.2107 - val_acc: 0.9370\n",
            "Epoch 23/30\n",
            "100/100 [==============================] - 27s 273ms/step - loss: 0.0941 - acc: 0.9545 - val_loss: 0.3159 - val_acc: 0.9210\n",
            "Epoch 24/30\n",
            "100/100 [==============================] - 28s 277ms/step - loss: 0.0905 - acc: 0.9620 - val_loss: 0.2830 - val_acc: 0.9240\n",
            "Epoch 25/30\n",
            "100/100 [==============================] - 27s 274ms/step - loss: 0.0781 - acc: 0.9745 - val_loss: 0.1943 - val_acc: 0.9450\n",
            "Epoch 26/30\n",
            "100/100 [==============================] - 28s 276ms/step - loss: 0.0741 - acc: 0.9735 - val_loss: 0.1933 - val_acc: 0.9400\n",
            "Epoch 27/30\n",
            "100/100 [==============================] - 27s 272ms/step - loss: 0.0781 - acc: 0.9690 - val_loss: 0.1789 - val_acc: 0.9440\n",
            "Epoch 28/30\n",
            "100/100 [==============================] - 27s 272ms/step - loss: 0.0716 - acc: 0.9730 - val_loss: 0.2385 - val_acc: 0.9400\n",
            "Epoch 29/30\n",
            "100/100 [==============================] - 27s 271ms/step - loss: 0.0813 - acc: 0.9675 - val_loss: 0.2684 - val_acc: 0.9270\n",
            "Epoch 30/30\n",
            "100/100 [==============================] - 27s 272ms/step - loss: 0.0644 - acc: 0.9735 - val_loss: 0.1821 - val_acc: 0.9440\n"
          ],
          "name": "stdout"
        }
      ]
    },
    {
      "cell_type": "code",
      "metadata": {
        "id": "kib3w3KOtI34",
        "colab": {
          "base_uri": "https://localhost:8080/",
          "height": 562
        },
        "outputId": "8707d1dd-17b5-43f6-92f7-cb7e5cad7806"
      },
      "source": [
        "acc = history.history['acc']\n",
        "val_acc = history.history['val_acc']\n",
        "\n",
        "loss = history.history['loss']\n",
        "val_loss = history.history['val_loss']\n",
        "\n",
        "epochs = range(len(acc))\n",
        "\n",
        "plt.plot(epochs, acc, '--')\n",
        "plt.plot(epochs, val_acc)\n",
        "plt.title('Training(--) and validation accuracy')\n",
        "\n",
        "plt.figure()\n",
        "plt.plot(epochs, loss,  '--')\n",
        "plt.plot(epochs, val_loss)\n",
        "plt.title('Training(--) and validation loss')"
      ],
      "execution_count": 28,
      "outputs": [
        {
          "output_type": "execute_result",
          "data": {
            "text/plain": [
              "Text(0.5, 1.0, 'Training(--) and validation loss')"
            ]
          },
          "metadata": {
            "tags": []
          },
          "execution_count": 28
        },
        {
          "output_type": "display_data",
          "data": {
            "image/png": "[encoded data removed]",
            "text/plain": [
              "<Figure size 432x288 with 1 Axes>"
            ]
          },
          "metadata": {
            "tags": [],
            "needs_background": "light"
          }
        },
        {
          "output_type": "display_data",
          "data": {
            "image/png": "[encoded data removed]",
            "text/plain": [
              "<Figure size 432x288 with 1 Axes>"
            ]
          },
          "metadata": {
            "tags": [],
            "needs_background": "light"
          }
        }
      ]
    },
    {
      "cell_type": "markdown",
      "metadata": {
        "id": "QCbU7FQU47OP"
      },
      "source": [
        "## 성능이 92-94%로 1% 정도 향상되었다.\n",
        "- 주의 할 것은 손실함수는 향상되지 않는 것으로 나타나도, 성능이 향상될 수 있다는 것이다. (분류 성능은 어떤 임계값만 넘으면 활률적으로 개선될 수 있다)\n",
        "- 정확도에 영향을 미치는 것은 손실값의 분포이지 평균이 아님.\n",
        "- 지금까지 전체 캐글 경연 데이터의 10%인 2000 개만 사용해서도 높은 성능 결과 없음.\n",
        "\n",
        "## 요약\n",
        "- 과대적합을 줄이기 위해서 데이터 확장을 사용\n",
        "- 전이학습 중 특성 추출방식 소개\n",
        "- 전이학습 중 미세조정 방식 소개"
      ]
    },
    {
      "cell_type": "markdown",
      "metadata": {
        "id": "PBbNhWfE5gBp"
      },
      "source": [
        "# Exercise (연습)"
      ]
    },
    {
      "cell_type": "markdown",
      "metadata": {
        "id": "SNs2bRLBSnEm"
      },
      "source": [
        "## How to Visualize Filters\n",
        "- https://machinelearningmastery.com/how-to-visualize-filters-and-feature-maps-in-convolutional-neural-networks/"
      ]
    },
    {
      "cell_type": "code",
      "metadata": {
        "id": "lHncrtgV5iky",
        "colab": {
          "base_uri": "https://localhost:8080/"
        },
        "outputId": "520fcb38-6eff-4cd5-f4d8-5103741ac498"
      },
      "source": [
        "# load vgg model\n",
        "from keras.applications.vgg16 import VGG16\n",
        "model = VGG16()\n",
        "model.summary()"
      ],
      "execution_count": 29,
      "outputs": [
        {
          "output_type": "stream",
          "text": [
            "Downloading data from https://storage.googleapis.com/tensorflow/keras-applications/vgg16/vgg16_weights_tf_dim_ordering_tf_kernels.h5\n",
            "553467904/553467096 [==============================] - 9s 0us/step\n",
            "553476096/553467096 [==============================] - 9s 0us/step\n",
            "Model: \"vgg16\"\n",
            "_________________________________________________________________\n",
            "Layer (type)                 Output Shape              Param #   \n",
            "=================================================================\n",
            "input_1 (InputLayer)         [(None, 224, 224, 3)]     0         \n",
            "_________________________________________________________________\n",
            "block1_conv1 (Conv2D)        (None, 224, 224, 64)      1792      \n",
            "_________________________________________________________________\n",
            "block1_conv2 (Conv2D)        (None, 224, 224, 64)      36928     \n",
            "_________________________________________________________________\n",
            "block1_pool (MaxPooling2D)   (None, 112, 112, 64)      0         \n",
            "_________________________________________________________________\n",
            "block2_conv1 (Conv2D)        (None, 112, 112, 128)     73856     \n",
            "_________________________________________________________________\n",
            "block2_conv2 (Conv2D)        (None, 112, 112, 128)     147584    \n",
            "_________________________________________________________________\n",
            "block2_pool (MaxPooling2D)   (None, 56, 56, 128)       0         \n",
            "_________________________________________________________________\n",
            "block3_conv1 (Conv2D)        (None, 56, 56, 256)       295168    \n",
            "_________________________________________________________________\n",
            "block3_conv2 (Conv2D)        (None, 56, 56, 256)       590080    \n",
            "_________________________________________________________________\n",
            "block3_conv3 (Conv2D)        (None, 56, 56, 256)       590080    \n",
            "_________________________________________________________________\n",
            "block3_pool (MaxPooling2D)   (None, 28, 28, 256)       0         \n",
            "_________________________________________________________________\n",
            "block4_conv1 (Conv2D)        (None, 28, 28, 512)       1180160   \n",
            "_________________________________________________________________\n",
            "block4_conv2 (Conv2D)        (None, 28, 28, 512)       2359808   \n",
            "_________________________________________________________________\n",
            "block4_conv3 (Conv2D)        (None, 28, 28, 512)       2359808   \n",
            "_________________________________________________________________\n",
            "block4_pool (MaxPooling2D)   (None, 14, 14, 512)       0         \n",
            "_________________________________________________________________\n",
            "block5_conv1 (Conv2D)        (None, 14, 14, 512)       2359808   \n",
            "_________________________________________________________________\n",
            "block5_conv2 (Conv2D)        (None, 14, 14, 512)       2359808   \n",
            "_________________________________________________________________\n",
            "block5_conv3 (Conv2D)        (None, 14, 14, 512)       2359808   \n",
            "_________________________________________________________________\n",
            "block5_pool (MaxPooling2D)   (None, 7, 7, 512)         0         \n",
            "_________________________________________________________________\n",
            "flatten (Flatten)            (None, 25088)             0         \n",
            "_________________________________________________________________\n",
            "fc1 (Dense)                  (None, 4096)              102764544 \n",
            "_________________________________________________________________\n",
            "fc2 (Dense)                  (None, 4096)              16781312  \n",
            "_________________________________________________________________\n",
            "predictions (Dense)          (None, 1000)              4097000   \n",
            "=================================================================\n",
            "Total params: 138,357,544\n",
            "Trainable params: 138,357,544\n",
            "Non-trainable params: 0\n",
            "_________________________________________________________________\n"
          ],
          "name": "stdout"
        }
      ]
    },
    {
      "cell_type": "code",
      "metadata": {
        "colab": {
          "base_uri": "https://localhost:8080/"
        },
        "id": "AsnTYuPKRgNI",
        "outputId": "237e8313-e819-4b3b-cc54-3216ee6b856f"
      },
      "source": [
        "# summarize filters in each convolutional layer\n",
        "from tensorflow.keras.applications.vgg16 import VGG16\n",
        "from matplotlib import pyplot\n",
        "# load the model\n",
        "model = VGG16()\n",
        "\n",
        "for layer in model.layers:\n",
        "\t# check for convolutional layer\n",
        "\tif 'conv' not in layer.name:\n",
        "\t\tcontinue\n",
        "\t# get filter weights\n",
        "\tfilters, biases = layer.get_weights()\n",
        "\tprint(layer.name, filters.shape)"
      ],
      "execution_count": 30,
      "outputs": [
        {
          "output_type": "stream",
          "text": [
            "block1_conv1 (3, 3, 3, 64)\n",
            "block1_conv2 (3, 3, 64, 64)\n",
            "block2_conv1 (3, 3, 64, 128)\n",
            "block2_conv2 (3, 3, 128, 128)\n",
            "block3_conv1 (3, 3, 128, 256)\n",
            "block3_conv2 (3, 3, 256, 256)\n",
            "block3_conv3 (3, 3, 256, 256)\n",
            "block4_conv1 (3, 3, 256, 512)\n",
            "block4_conv2 (3, 3, 512, 512)\n",
            "block4_conv3 (3, 3, 512, 512)\n",
            "block5_conv1 (3, 3, 512, 512)\n",
            "block5_conv2 (3, 3, 512, 512)\n",
            "block5_conv3 (3, 3, 512, 512)\n"
          ],
          "name": "stdout"
        }
      ]
    },
    {
      "cell_type": "code",
      "metadata": {
        "id": "Nd0qBiMuZvpQ",
        "colab": {
          "base_uri": "https://localhost:8080/"
        },
        "outputId": "cb0606a4-ebc2-4ac4-b444-607ddd362c6e"
      },
      "source": [
        "model.layers[0].get_weights(), model.layers[1].get_weights()"
      ],
      "execution_count": 31,
      "outputs": [
        {
          "output_type": "execute_result",
          "data": {
            "text/plain": [
              "([], [array([[[[ 4.29470569e-01,  1.17273867e-01,  3.40129584e-02, ...,\n",
              "            -1.32241577e-01, -5.33475243e-02,  7.57738389e-03],\n",
              "           [ 5.50379455e-01,  2.08774377e-02,  9.88311544e-02, ...,\n",
              "            -8.48205537e-02, -5.11389151e-02,  3.74943428e-02],\n",
              "           [ 4.80015397e-01, -1.72696680e-01,  3.75577137e-02, ...,\n",
              "            -1.27135560e-01, -5.02991639e-02,  3.48965675e-02]],\n",
              "  \n",
              "          [[ 3.73466998e-01,  1.62062630e-01,  1.70863140e-03, ...,\n",
              "            -1.48207128e-01, -2.35300660e-01, -6.30356818e-02],\n",
              "           [ 4.40074533e-01,  4.73412387e-02,  5.13819456e-02, ...,\n",
              "            -9.88498852e-02, -2.96195745e-01, -7.04357103e-02],\n",
              "           [ 4.08547401e-01, -1.70375049e-01, -4.96297423e-03, ...,\n",
              "            -1.22360572e-01, -2.76450396e-01, -3.90796512e-02]],\n",
              "  \n",
              "          [[-6.13601133e-02,  1.35693997e-01, -1.15694344e-01, ...,\n",
              "            -1.40158370e-01, -3.77666801e-01, -3.00509870e-01],\n",
              "           [-8.13870355e-02,  4.18543853e-02, -1.01763301e-01, ...,\n",
              "            -9.43124294e-02, -5.05662560e-01, -3.83694321e-01],\n",
              "           [-6.51455522e-02, -1.54351532e-01, -1.38038069e-01, ...,\n",
              "            -1.29404560e-01, -4.62243795e-01, -3.23985279e-01]]],\n",
              "  \n",
              "  \n",
              "         [[[ 2.74769872e-01,  1.48350164e-01,  1.61559835e-01, ...,\n",
              "            -1.14316158e-01,  3.65494519e-01,  3.39938998e-01],\n",
              "           [ 3.45739067e-01,  3.10493708e-02,  2.40750551e-01, ...,\n",
              "            -6.93419054e-02,  4.37116861e-01,  4.13171440e-01],\n",
              "           [ 3.10477257e-01, -1.87601492e-01,  1.66595340e-01, ...,\n",
              "            -9.88388434e-02,  4.04058546e-01,  3.92561197e-01]],\n",
              "  \n",
              "          [[ 3.86807770e-02,  2.02298447e-01,  1.56414255e-01, ...,\n",
              "            -5.20089604e-02,  2.57149011e-01,  3.71682674e-01],\n",
              "           [ 4.06322069e-02,  6.58102185e-02,  2.20311403e-01, ...,\n",
              "            -3.78979952e-03,  2.69412428e-01,  4.09505904e-01],\n",
              "           [ 5.02023660e-02, -1.77571565e-01,  1.51188180e-01, ...,\n",
              "            -1.40649760e-02,  2.59300828e-01,  4.23764467e-01]],\n",
              "  \n",
              "          [[-3.67223352e-01,  1.61688417e-01, -8.99365395e-02, ...,\n",
              "            -1.45945460e-01, -2.71823555e-01, -2.39718184e-01],\n",
              "           [-4.53501314e-01,  4.62574959e-02, -6.67438358e-02, ...,\n",
              "            -1.03502415e-01, -3.45792353e-01, -2.92486250e-01],\n",
              "           [-4.03383434e-01, -1.74399972e-01, -1.09849639e-01, ...,\n",
              "            -1.25688612e-01, -3.14026326e-01, -2.32839763e-01]]],\n",
              "  \n",
              "  \n",
              "         [[[-5.74681684e-02,  1.29344285e-01,  1.29030216e-02, ...,\n",
              "            -1.41449392e-01,  2.41099641e-01,  4.55602147e-02],\n",
              "           [-5.86349145e-02,  3.16787697e-02,  7.59588331e-02, ...,\n",
              "            -1.05017252e-01,  3.39550197e-01,  9.86374393e-02],\n",
              "           [-5.08716851e-02, -1.66002661e-01,  1.56279504e-02, ...,\n",
              "            -1.49742723e-01,  3.06801915e-01,  8.82701725e-02]],\n",
              "  \n",
              "          [[-2.62249678e-01,  1.71572417e-01,  5.44555223e-05, ...,\n",
              "            -1.22728683e-01,  2.44687453e-01,  5.32913655e-02],\n",
              "           [-3.30669671e-01,  5.47101051e-02,  4.86797579e-02, ...,\n",
              "            -8.29023942e-02,  2.95466095e-01,  7.44469985e-02],\n",
              "           [-2.85227507e-01, -1.66666731e-01, -7.96697661e-03, ...,\n",
              "            -1.09780088e-01,  2.79203743e-01,  9.46525261e-02]],\n",
              "  \n",
              "          [[-3.50096762e-01,  1.38710454e-01, -1.25339806e-01, ...,\n",
              "            -1.53092295e-01, -1.39917329e-01, -2.65075237e-01],\n",
              "           [-4.85030204e-01,  4.23195846e-02, -1.12076312e-01, ...,\n",
              "            -1.18306056e-01, -1.67058021e-01, -3.22241962e-01],\n",
              "           [-4.18516338e-01, -1.57048807e-01, -1.49133086e-01, ...,\n",
              "            -1.56839803e-01, -1.42874300e-01, -2.69694626e-01]]]],\n",
              "        dtype=float32),\n",
              "  array([ 0.73429835,  0.09340367,  0.06775674,  0.8862966 ,  0.25994542,\n",
              "          0.66426694, -0.01582893,  0.3249065 ,  0.68600726,  0.06247932,\n",
              "          0.58156496,  0.2361475 ,  0.69694996,  0.19451167,  0.4858922 ,\n",
              "          0.44571847,  0.5113422 ,  0.208576  ,  0.57557714,  0.33199573,\n",
              "          0.4997983 ,  0.7117759 ,  0.30284074,  0.7082712 ,  0.04548979,\n",
              "          0.7446502 ,  0.29845494,  0.48211655,  0.81658626,  0.62603897,\n",
              "          0.3768093 ,  2.064037  ,  0.77311045,  0.3459577 ,  0.6130958 ,\n",
              "          0.65459156,  0.39045632,  0.50869167,  0.2625384 ,  0.23669638,\n",
              "          0.07971057,  1.1179353 ,  0.26129362,  0.8697589 ,  0.21543622,\n",
              "          0.78007823,  0.37015367,  0.47993386,  0.4313978 ,  0.5084194 ,\n",
              "          0.23049663,  0.7636527 ,  0.35419866,  0.45794216,  0.4662595 ,\n",
              "          0.09850298,  0.3803252 ,  0.66880196,  0.4015123 ,  0.90510356,\n",
              "          0.43166816,  1.302014  ,  0.5306885 ,  0.48993504], dtype=float32)])"
            ]
          },
          "metadata": {
            "tags": []
          },
          "execution_count": 31
        }
      ]
    },
    {
      "cell_type": "code",
      "metadata": {
        "id": "keHyirLuSNzL"
      },
      "source": [
        "# retrieve weights from the second hidden layer\n",
        "filters, biases = model.layers[1].get_weights()"
      ],
      "execution_count": 32,
      "outputs": []
    },
    {
      "cell_type": "code",
      "metadata": {
        "colab": {
          "base_uri": "https://localhost:8080/"
        },
        "id": "lM8kQnx2aaqr",
        "outputId": "bf897036-5b5e-4c05-9375-13f5ca28a038"
      },
      "source": [
        "filters.shape"
      ],
      "execution_count": 33,
      "outputs": [
        {
          "output_type": "execute_result",
          "data": {
            "text/plain": [
              "(3, 3, 3, 64)"
            ]
          },
          "metadata": {
            "tags": []
          },
          "execution_count": 33
        }
      ]
    },
    {
      "cell_type": "code",
      "metadata": {
        "id": "4LAu9F9XST7W"
      },
      "source": [
        "# normalize filter values to 0-1 so we can visualize them\n",
        "f_min, f_max = filters.min(), filters.max()\n",
        "filters = (filters - f_min) / (f_max - f_min)"
      ],
      "execution_count": 34,
      "outputs": []
    },
    {
      "cell_type": "code",
      "metadata": {
        "colab": {
          "base_uri": "https://localhost:8080/",
          "height": 578
        },
        "id": "ZM_pLCLHScha",
        "outputId": "0d49eb8f-1001-422f-828b-032d694c777a"
      },
      "source": [
        "# plot first few filters\n",
        "plt.figure(figsize=(10,10))\n",
        "n_filters, ix = 6, 1\n",
        "for i in range(n_filters):\n",
        "\t# get the filter\n",
        "\tf = filters[:, :, :, i]\n",
        "\t# plot each channel separately\n",
        "\tfor j in range(3):\n",
        "\t\t# specify subplot and turn of axis\n",
        "\t\tax = pyplot.subplot(n_filters, 3, ix)\n",
        "\t\tax.set_xticks([])\n",
        "\t\tax.set_yticks([])\n",
        "\t\t# plot filter channel in grayscale\n",
        "\t\tpyplot.imshow(f[:, :, j], cmap='gray')\n",
        "\t\tix += 1\n",
        "# show the figure\n",
        "pyplot.show()"
      ],
      "execution_count": 35,
      "outputs": [
        {
          "output_type": "display_data",
          "data": {
            "image/png": "[encoded data removed]",
            "text/plain": [
              "<Figure size 720x720 with 18 Axes>"
            ]
          },
          "metadata": {
            "tags": []
          }
        }
      ]
    },
    {
      "cell_type": "code",
      "metadata": {
        "colab": {
          "base_uri": "https://localhost:8080/",
          "height": 578
        },
        "id": "cTrQGsK5lzR2",
        "outputId": "995987b6-906d-43bd-8d84-06bd305499d8"
      },
      "source": [
        "# 10-th layer filters\n",
        "filters, biases = model.layers[9].get_weights()\n",
        "f_min, f_max = filters.min(), filters.max()\n",
        "filters = (filters - f_min) / (f_max - f_min)\n",
        "# plot first few filters\n",
        "plt.figure(figsize=(10,10))\n",
        "n_filters, ix = 6, 1\n",
        "for i in range(n_filters):\n",
        "\t# get the filter\n",
        "\tf = filters[:, :, :, i]\n",
        "\t# plot each channel separately\n",
        "\tfor j in range(3):\n",
        "\t\t# specify subplot and turn of axis\n",
        "\t\tax = pyplot.subplot(n_filters, 3, ix)\n",
        "\t\tax.set_xticks([])\n",
        "\t\tax.set_yticks([])\n",
        "\t\t# plot filter channel in grayscale\n",
        "\t\tpyplot.imshow(f[:, :, j], cmap='gray')\n",
        "\t\tix += 1\n",
        "# show the figure\n",
        "pyplot.show()"
      ],
      "execution_count": 36,
      "outputs": [
        {
          "output_type": "display_data",
          "data": {
            "image/png": "[encoded data removed]",
            "text/plain": [
              "<Figure size 720x720 with 18 Axes>"
            ]
          },
          "metadata": {
            "tags": []
          }
        }
      ]
    },
    {
      "cell_type": "markdown",
      "metadata": {
        "id": "vSwdRh1BSrbv"
      },
      "source": [
        "## How to Visualize Feature maps\n",
        "- refer to lab60 for feature maps of the cats_and_dogs example code\n",
        "- here we have another example"
      ]
    },
    {
      "cell_type": "code",
      "metadata": {
        "colab": {
          "base_uri": "https://localhost:8080/"
        },
        "id": "Vr_Bw8m4SuE8",
        "outputId": "014a0e27-8f13-419c-dc83-d46a397dfae7"
      },
      "source": [
        "# summarize feature map size for each conv layer\n",
        "from tensorflow.keras.applications.vgg16 import VGG16\n",
        "from matplotlib import pyplot\n",
        "# load the model\n",
        "model = VGG16()\n",
        "# summarize feature map shapes\n",
        "for i in range(len(model.layers)):\n",
        "\tlayer = model.layers[i]\n",
        "\t# check for convolutional layer\n",
        "\tif 'conv' not in layer.name:\n",
        "\t\tcontinue\n",
        "\t# summarize output shape\n",
        "\tprint(i, layer.name, layer.output.shape)"
      ],
      "execution_count": 37,
      "outputs": [
        {
          "output_type": "stream",
          "text": [
            "1 block1_conv1 (None, 224, 224, 64)\n",
            "2 block1_conv2 (None, 224, 224, 64)\n",
            "4 block2_conv1 (None, 112, 112, 128)\n",
            "5 block2_conv2 (None, 112, 112, 128)\n",
            "7 block3_conv1 (None, 56, 56, 256)\n",
            "8 block3_conv2 (None, 56, 56, 256)\n",
            "9 block3_conv3 (None, 56, 56, 256)\n",
            "11 block4_conv1 (None, 28, 28, 512)\n",
            "12 block4_conv2 (None, 28, 28, 512)\n",
            "13 block4_conv3 (None, 28, 28, 512)\n",
            "15 block5_conv1 (None, 14, 14, 512)\n",
            "16 block5_conv2 (None, 14, 14, 512)\n",
            "17 block5_conv3 (None, 14, 14, 512)\n"
          ],
          "name": "stdout"
        }
      ]
    },
    {
      "cell_type": "code",
      "metadata": {
        "id": "Ur-jbAGUS9mJ"
      },
      "source": [
        "# redefine model to output right after the first hidden layer\n",
        "model = models.Model(inputs=model.inputs, outputs=model.layers[1].output)"
      ],
      "execution_count": 38,
      "outputs": []
    },
    {
      "cell_type": "code",
      "metadata": {
        "id": "8yJw1RBGTRMv",
        "colab": {
          "base_uri": "https://localhost:8080/",
          "height": 358
        },
        "outputId": "397abb9b-606d-4bce-8943-f17906ed4712"
      },
      "source": [
        "# load the image with the required shape\n",
        "from keras.preprocessing.image import load_img\n",
        "img = load_img('eagle.jpg', target_size=(224, 224))"
      ],
      "execution_count": 40,
      "outputs": [
        {
          "output_type": "error",
          "ename": "FileNotFoundError",
          "evalue": "ignored",
          "traceback": [
            "\u001b[0;31m---------------------------------------------------------------------------\u001b[0m",
            "\u001b[0;31mFileNotFoundError\u001b[0m                         Traceback (most recent call last)",
            "\u001b[0;32m<ipython-input-40-d58e5350b07c>\u001b[0m in \u001b[0;36m<module>\u001b[0;34m()\u001b[0m\n\u001b[1;32m      1\u001b[0m \u001b[0;31m# load the image with the required shape\u001b[0m\u001b[0;34m\u001b[0m\u001b[0;34m\u001b[0m\u001b[0;34m\u001b[0m\u001b[0m\n\u001b[1;32m      2\u001b[0m \u001b[0;32mfrom\u001b[0m \u001b[0mkeras\u001b[0m\u001b[0;34m.\u001b[0m\u001b[0mpreprocessing\u001b[0m\u001b[0;34m.\u001b[0m\u001b[0mimage\u001b[0m \u001b[0;32mimport\u001b[0m \u001b[0mload_img\u001b[0m\u001b[0;34m\u001b[0m\u001b[0;34m\u001b[0m\u001b[0m\n\u001b[0;32m----> 3\u001b[0;31m \u001b[0mimg\u001b[0m \u001b[0;34m=\u001b[0m \u001b[0mload_img\u001b[0m\u001b[0;34m(\u001b[0m\u001b[0;34m'eagle.jpg'\u001b[0m\u001b[0;34m,\u001b[0m \u001b[0mtarget_size\u001b[0m\u001b[0;34m=\u001b[0m\u001b[0;34m(\u001b[0m\u001b[0;36m224\u001b[0m\u001b[0;34m,\u001b[0m \u001b[0;36m224\u001b[0m\u001b[0;34m)\u001b[0m\u001b[0;34m)\u001b[0m\u001b[0;34m\u001b[0m\u001b[0;34m\u001b[0m\u001b[0m\n\u001b[0m",
            "\u001b[0;32m/usr/local/lib/python3.7/dist-packages/keras/preprocessing/image.py\u001b[0m in \u001b[0;36mload_img\u001b[0;34m(path, grayscale, color_mode, target_size, interpolation)\u001b[0m\n\u001b[1;32m    291\u001b[0m   \"\"\"\n\u001b[1;32m    292\u001b[0m   return image.load_img(path, grayscale=grayscale, color_mode=color_mode,\n\u001b[0;32m--> 293\u001b[0;31m                         target_size=target_size, interpolation=interpolation)\n\u001b[0m\u001b[1;32m    294\u001b[0m \u001b[0;34m\u001b[0m\u001b[0m\n\u001b[1;32m    295\u001b[0m \u001b[0;34m\u001b[0m\u001b[0m\n",
            "\u001b[0;32m/usr/local/lib/python3.7/dist-packages/keras_preprocessing/image/utils.py\u001b[0m in \u001b[0;36mload_img\u001b[0;34m(path, grayscale, color_mode, target_size, interpolation)\u001b[0m\n\u001b[1;32m    111\u001b[0m         raise ImportError('Could not import PIL.Image. '\n\u001b[1;32m    112\u001b[0m                           'The use of `load_img` requires PIL.')\n\u001b[0;32m--> 113\u001b[0;31m     \u001b[0;32mwith\u001b[0m \u001b[0mopen\u001b[0m\u001b[0;34m(\u001b[0m\u001b[0mpath\u001b[0m\u001b[0;34m,\u001b[0m \u001b[0;34m'rb'\u001b[0m\u001b[0;34m)\u001b[0m \u001b[0;32mas\u001b[0m \u001b[0mf\u001b[0m\u001b[0;34m:\u001b[0m\u001b[0;34m\u001b[0m\u001b[0;34m\u001b[0m\u001b[0m\n\u001b[0m\u001b[1;32m    114\u001b[0m         \u001b[0mimg\u001b[0m \u001b[0;34m=\u001b[0m \u001b[0mpil_image\u001b[0m\u001b[0;34m.\u001b[0m\u001b[0mopen\u001b[0m\u001b[0;34m(\u001b[0m\u001b[0mio\u001b[0m\u001b[0;34m.\u001b[0m\u001b[0mBytesIO\u001b[0m\u001b[0;34m(\u001b[0m\u001b[0mf\u001b[0m\u001b[0;34m.\u001b[0m\u001b[0mread\u001b[0m\u001b[0;34m(\u001b[0m\u001b[0;34m)\u001b[0m\u001b[0;34m)\u001b[0m\u001b[0;34m)\u001b[0m\u001b[0;34m\u001b[0m\u001b[0;34m\u001b[0m\u001b[0m\n\u001b[1;32m    115\u001b[0m         \u001b[0;32mif\u001b[0m \u001b[0mcolor_mode\u001b[0m \u001b[0;34m==\u001b[0m \u001b[0;34m'grayscale'\u001b[0m\u001b[0;34m:\u001b[0m\u001b[0;34m\u001b[0m\u001b[0;34m\u001b[0m\u001b[0m\n",
            "\u001b[0;31mFileNotFoundError\u001b[0m: [Errno 2] No such file or directory: 'eagle.jpg'"
          ]
        }
      ]
    },
    {
      "cell_type": "code",
      "metadata": {
        "id": "enXz04BETsnf"
      },
      "source": [
        "plt.imshow(img)"
      ],
      "execution_count": null,
      "outputs": []
    },
    {
      "cell_type": "code",
      "metadata": {
        "id": "xb1qKTenU-GH"
      },
      "source": [
        "# convert the image to an array\n",
        "img = image.img_to_array(img)\n",
        "# expand dimensions so that it represents a single 'sample'\n",
        "img = np.expand_dims(img, axis=0)"
      ],
      "execution_count": null,
      "outputs": []
    },
    {
      "cell_type": "code",
      "metadata": {
        "id": "9ufMJ1akVUz4"
      },
      "source": [
        "# prepare the image (e.g. scale pixel values for the vgg)\n",
        "from keras.applications.vgg16 import preprocess_input\n",
        "img = preprocess_input(img)"
      ],
      "execution_count": null,
      "outputs": []
    },
    {
      "cell_type": "code",
      "metadata": {
        "id": "s_iRa0YSWJkF"
      },
      "source": [
        "# get feature map for first hidden layer\n",
        "feature_maps = model.predict(img)"
      ],
      "execution_count": null,
      "outputs": []
    },
    {
      "cell_type": "code",
      "metadata": {
        "id": "sfhku7IlbzvR"
      },
      "source": [
        "feature_maps.shape"
      ],
      "execution_count": null,
      "outputs": []
    },
    {
      "cell_type": "code",
      "metadata": {
        "id": "VwKiOBwmWP8a"
      },
      "source": [
        "# plot all 64 maps in an 8x8 squares\n",
        "plt.figure(figsize=(10,10))\n",
        "square = 8\n",
        "ix = 1\n",
        "for _ in range(square):\n",
        "\tfor _ in range(square):\n",
        "\t\t# specify subplot and turn of axis\n",
        "\t\tax = pyplot.subplot(square, square, ix)\n",
        "\t\tax.set_xticks([])\n",
        "\t\tax.set_yticks([])\n",
        "\t\t# plot filter channel in grayscale\n",
        "\t\tpyplot.imshow(feature_maps[0, :, :, ix-1], cmap='gray')\n",
        "\t\tix += 1\n",
        "# show the figure\n",
        "pyplot.show()"
      ],
      "execution_count": null,
      "outputs": []
    },
    {
      "cell_type": "code",
      "metadata": {
        "id": "Jyoby8V2Wccv"
      },
      "source": [
        "# All together \n",
        "# plot feature map of third conv layer for given image\n",
        "from keras.applications.vgg16 import VGG16\n",
        "from keras.applications.vgg16 import preprocess_input\n",
        "from keras.preprocessing.image import load_img\n",
        "from keras.preprocessing.image import img_to_array\n",
        "from keras.models import Model\n",
        "from matplotlib import pyplot\n",
        "from numpy import expand_dims\n",
        "# load the model\n",
        "model = VGG16()\n",
        "# redefine model to output right after the first hidden layer\n",
        "model = Model(inputs=model.inputs, outputs=model.layers[3].output)\n",
        "model.summary()\n",
        "# load the image with the required shape\n",
        "img = load_img('bird.jpg', target_size=(224, 224))\n",
        "# convert the image to an array\n",
        "img = img_to_array(img)\n",
        "# expand dimensions so that it represents a single 'sample'\n",
        "img = expand_dims(img, axis=0)\n",
        "# prepare the image (e.g. scale pixel values for the vgg)\n",
        "img = preprocess_input(img)\n",
        "# get feature map for first hidden layer\n",
        "feature_maps = model.predict(img)\n",
        "# plot all 64 maps in an 8x8 squares\n",
        "square = 8\n",
        "ix = 1\n",
        "plt.figure(figsize=(10,10))\n",
        "for _ in range(square):\n",
        "\tfor _ in range(square):\n",
        "\t\t# specify subplot and turn of axis\n",
        "\t\tax = pyplot.subplot(square, square, ix)\n",
        "\t\tax.set_xticks([])\n",
        "\t\tax.set_yticks([])\n",
        "\t\t# plot filter channel in grayscale\n",
        "\t\tpyplot.imshow(feature_maps[0, :, :, ix-1], cmap='gray')\n",
        "\t\tix += 1\n",
        "# show the figure\n",
        "pyplot.show()"
      ],
      "execution_count": null,
      "outputs": []
    },
    {
      "cell_type": "code",
      "metadata": {
        "id": "tX_VfwqUoXiQ"
      },
      "source": [
        "# after 10-th layer\n",
        "model = VGG16()\n",
        "model = Model(inputs=model.inputs, outputs=model.layers[9].output)\n",
        "model.summary()\n",
        "# load the image with the required shape\n",
        "img = load_img('bird.jpg', target_size=(224, 224))\n",
        "# convert the image to an array\n",
        "img = img_to_array(img)\n",
        "# expand dimensions so that it represents a single 'sample'\n",
        "img = expand_dims(img, axis=0)\n",
        "# prepare the image (e.g. scale pixel values for the vgg)\n",
        "img = preprocess_input(img)\n",
        "# get feature map for first hidden layer\n",
        "feature_maps = model.predict(img)\n",
        "# plot all 64 maps in an 8x8 squares\n",
        "square = 8\n",
        "ix = 1\n",
        "plt.figure(figsize=(10,10))\n",
        "for _ in range(square):\n",
        "\tfor _ in range(square):\n",
        "\t\t# specify subplot and turn of axis\n",
        "\t\tax = pyplot.subplot(square, square, ix)\n",
        "\t\tax.set_xticks([])\n",
        "\t\tax.set_yticks([])\n",
        "\t\t# plot filter channel in grayscale\n",
        "\t\tpyplot.imshow(feature_maps[0, :, :, ix-1], cmap='gray')\n",
        "\t\tix += 1\n",
        "# show the figure\n",
        "pyplot.show()"
      ],
      "execution_count": null,
      "outputs": []
    },
    {
      "cell_type": "code",
      "metadata": {
        "id": "nBgl-Hnxo90d"
      },
      "source": [
        "VGG16().layers"
      ],
      "execution_count": null,
      "outputs": []
    },
    {
      "cell_type": "code",
      "metadata": {
        "id": "S1cc9sePo5Av"
      },
      "source": [
        "# after 17-th layer\n",
        "model = VGG16()\n",
        "model = Model(inputs=model.inputs, outputs=model.layers[17].output)\n",
        "model.summary()\n",
        "# load the image with the required shape\n",
        "img = load_img('bird.jpg', target_size=(224, 224))\n",
        "# convert the image to an array\n",
        "img = img_to_array(img)\n",
        "# expand dimensions so that it represents a single 'sample'\n",
        "img = expand_dims(img, axis=0)\n",
        "# prepare the image (e.g. scale pixel values for the vgg)\n",
        "img = preprocess_input(img)\n",
        "# get feature map for first hidden layer\n",
        "feature_maps = model.predict(img)\n",
        "# plot all 64 maps in an 8x8 squares\n",
        "square = 8\n",
        "ix = 1\n",
        "plt.figure(figsize=(10,10))\n",
        "for _ in range(square):\n",
        "\tfor _ in range(square):\n",
        "\t\t# specify subplot and turn of axis\n",
        "\t\tax = pyplot.subplot(square, square, ix)\n",
        "\t\tax.set_xticks([])\n",
        "\t\tax.set_yticks([])\n",
        "\t\t# plot filter channel in grayscale\n",
        "\t\tpyplot.imshow(feature_maps[0, :, :, ix-1], cmap='gray')\n",
        "\t\tix += 1\n",
        "# show the figure\n",
        "pyplot.show()"
      ],
      "execution_count": null,
      "outputs": []
    },
    {
      "cell_type": "markdown",
      "metadata": {
        "id": "ru01-vPXW9UP"
      },
      "source": [
        "- We can see that the result of applying the filters in the first convolutional layer is a lot of versions of the bird image with different features highlighted.\n",
        "- For example, some highlight lines, other focus on the background or the foreground."
      ]
    },
    {
      "cell_type": "markdown",
      "metadata": {
        "id": "wsFJ0pEIXp_y"
      },
      "source": [
        "## another approach\n",
        "- collect feature maps output from each block of the model in a single pass, then create an image of each.\n",
        "- There are five main blocks in the image (e.g. block1, block2, etc.) that end in a pooling layer. The layer indexes of the last convolutional layer in each block are [2, 5, 9, 13, 17].\n",
        "- We can define a new model that has multiple outputs, one feature map output for each of the last convolutional layer in each block.\n",
        "- we can now create five separate plots for each of the five blocks in the VGG16 model for our bird photograph."
      ]
    },
    {
      "cell_type": "code",
      "metadata": {
        "id": "XwA7Twe2YXo7"
      },
      "source": [
        "model = VGG16()\n",
        "model.summary()"
      ],
      "execution_count": null,
      "outputs": []
    },
    {
      "cell_type": "code",
      "metadata": {
        "id": "hSxHv9wldCPT"
      },
      "source": [
        "# visualize feature maps output from each block in the vgg model\n",
        "from keras.applications.vgg16 import VGG16\n",
        "from keras.applications.vgg16 import preprocess_input\n",
        "from keras.preprocessing.image import load_img\n",
        "from keras.preprocessing.image import img_to_array\n",
        "from keras.models import Model\n",
        "from matplotlib import pyplot\n",
        "from numpy import expand_dims\n",
        "# load the model\n",
        "model = VGG16()\n",
        "# redefine model to output right after the first hidden layer\n",
        "ixs = [2, 5, 9, 13, 17]\n",
        "outputs = [model.layers[i].output for i in ixs]\n",
        "model = Model(inputs=model.inputs, outputs=outputs)\n",
        "# load the image with the required shape\n",
        "img = load_img('bird.jpg', target_size=(224, 224))\n",
        "# convert the image to an array\n",
        "img = img_to_array(img)\n",
        "# expand dimensions so that it represents a single 'sample'\n",
        "img = expand_dims(img, axis=0)\n",
        "# prepare the image (e.g. scale pixel values for the vgg)\n",
        "img = preprocess_input(img)\n",
        "# get feature map for first hidden layer\n",
        "feature_maps = model.predict(img)\n",
        "# plot the output from each block"
      ],
      "execution_count": null,
      "outputs": []
    },
    {
      "cell_type": "code",
      "metadata": {
        "id": "RmE_RB00g3Wa"
      },
      "source": [
        "len(feature_maps)"
      ],
      "execution_count": null,
      "outputs": []
    },
    {
      "cell_type": "code",
      "metadata": {
        "id": "h4RDJ9ZkhA4J"
      },
      "source": [
        "[i.shape for i in feature_maps]"
      ],
      "execution_count": null,
      "outputs": []
    },
    {
      "cell_type": "code",
      "metadata": {
        "id": "DWA68uT-g0gk"
      },
      "source": [
        "square = 8\n",
        "for num, fmap in enumerate(feature_maps, 1):\n",
        "\t# plot all 64 maps in an 8x8 squares\n",
        "    ix = 1\n",
        "    plt.figure(figsize=(10,10))\n",
        "    for _ in range(square):\n",
        "        for _ in range(square):\n",
        "            # specify subplot and turn of axis\n",
        "            ax = pyplot.subplot(square, square, ix)\n",
        "            ax.set_xticks([])\n",
        "            ax.set_yticks([])\n",
        "            # plot filter channel in grayscale\n",
        "            pyplot.imshow(fmap[0, :, :, ix-1], cmap='gray')\n",
        "            ix += 1\n",
        "    # show the figure\n",
        "    \n",
        "    pyplot.show()\n",
        "    print(\"Visualization of the Feature Maps Extracted From Block {} in the VGG16 Model\".format(num))\n",
        "    print(\"\\n\\n\\n\")"
      ],
      "execution_count": null,
      "outputs": []
    },
    {
      "cell_type": "markdown",
      "metadata": {
        "id": "stbhaxlQiD4q"
      },
      "source": [
        "- 모델 입력에 더 가까운 피처 맵이 이미지의 많은 세부 사항을 캡처하고 모델을 더 깊게 진행할수록 피처 맵이 점점 덜 세부적으로 표시됨을 알 수 있다.\n",
        "- 모델이 이미지의 특징을 분류에 사용할 수 있는 보다 일반적인 개념으로 추상화하므로 이 패턴이 예상된다. \n",
        "- 모델이 새를 본 것이 최종 이미지에서 명확하지 않지만 일반적으로 이러한 더 깊은 특징 맵을 해석하기는 어려워진다."
      ]
    },
    {
      "cell_type": "code",
      "metadata": {
        "id": "WEVJS7SSfk2S"
      },
      "source": [
        ""
      ],
      "execution_count": null,
      "outputs": []
    }
  ]
}